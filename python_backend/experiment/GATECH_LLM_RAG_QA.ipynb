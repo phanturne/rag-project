{
  "nbformat": 4,
  "nbformat_minor": 0,
  "metadata": {
    "colab": {
      "provenance": [],
      "machine_shape": "hm",
      "gpuType": "L4"
    },
    "kernelspec": {
      "name": "python3",
      "display_name": "Python 3"
    },
    "language_info": {
      "name": "python"
    },
    "accelerator": "GPU",
    "widgets": {
      "application/vnd.jupyter.widget-state+json": {
        "44bcf04ee6084bdb96ab7f2dfefc1e2f": {
          "model_module": "@jupyter-widgets/controls",
          "model_name": "HBoxModel",
          "model_module_version": "1.5.0",
          "state": {
            "_dom_classes": [],
            "_model_module": "@jupyter-widgets/controls",
            "_model_module_version": "1.5.0",
            "_model_name": "HBoxModel",
            "_view_count": null,
            "_view_module": "@jupyter-widgets/controls",
            "_view_module_version": "1.5.0",
            "_view_name": "HBoxView",
            "box_style": "",
            "children": [
              "IPY_MODEL_06fb89a280864c7bbbfaf3aeb459bcc6",
              "IPY_MODEL_71a529013b9c49738794bb89107d0f8e",
              "IPY_MODEL_6cbe6bb550b0472cbd1f39ca118fa12b"
            ],
            "layout": "IPY_MODEL_c8654ece4f1144f7afc5b69419d10b8f"
          }
        },
        "06fb89a280864c7bbbfaf3aeb459bcc6": {
          "model_module": "@jupyter-widgets/controls",
          "model_name": "HTMLModel",
          "model_module_version": "1.5.0",
          "state": {
            "_dom_classes": [],
            "_model_module": "@jupyter-widgets/controls",
            "_model_module_version": "1.5.0",
            "_model_name": "HTMLModel",
            "_view_count": null,
            "_view_module": "@jupyter-widgets/controls",
            "_view_module_version": "1.5.0",
            "_view_name": "HTMLView",
            "description": "",
            "description_tooltip": null,
            "layout": "IPY_MODEL_d2f25d870f8f40b8884010bc1243c270",
            "placeholder": "​",
            "style": "IPY_MODEL_a81d6e135dd7459291aecd85ac63aa73",
            "value": "Extracting entities: 100%"
          }
        },
        "71a529013b9c49738794bb89107d0f8e": {
          "model_module": "@jupyter-widgets/controls",
          "model_name": "FloatProgressModel",
          "model_module_version": "1.5.0",
          "state": {
            "_dom_classes": [],
            "_model_module": "@jupyter-widgets/controls",
            "_model_module_version": "1.5.0",
            "_model_name": "FloatProgressModel",
            "_view_count": null,
            "_view_module": "@jupyter-widgets/controls",
            "_view_module_version": "1.5.0",
            "_view_name": "ProgressView",
            "bar_style": "success",
            "description": "",
            "description_tooltip": null,
            "layout": "IPY_MODEL_f957901ebf084e95a0c032139b3afc3d",
            "max": 222,
            "min": 0,
            "orientation": "horizontal",
            "style": "IPY_MODEL_1ad39d771dd84eec8b367da9c67578c5",
            "value": 222
          }
        },
        "6cbe6bb550b0472cbd1f39ca118fa12b": {
          "model_module": "@jupyter-widgets/controls",
          "model_name": "HTMLModel",
          "model_module_version": "1.5.0",
          "state": {
            "_dom_classes": [],
            "_model_module": "@jupyter-widgets/controls",
            "_model_module_version": "1.5.0",
            "_model_name": "HTMLModel",
            "_view_count": null,
            "_view_module": "@jupyter-widgets/controls",
            "_view_module_version": "1.5.0",
            "_view_name": "HTMLView",
            "description": "",
            "description_tooltip": null,
            "layout": "IPY_MODEL_e3b4551e4ab1492dad2a02107c56bb1f",
            "placeholder": "​",
            "style": "IPY_MODEL_ab1fd78e85954b5ab947eb2bb79e9a62",
            "value": " 222/222 [00:52&lt;00:00,  4.74it/s]"
          }
        },
        "c8654ece4f1144f7afc5b69419d10b8f": {
          "model_module": "@jupyter-widgets/base",
          "model_name": "LayoutModel",
          "model_module_version": "1.2.0",
          "state": {
            "_model_module": "@jupyter-widgets/base",
            "_model_module_version": "1.2.0",
            "_model_name": "LayoutModel",
            "_view_count": null,
            "_view_module": "@jupyter-widgets/base",
            "_view_module_version": "1.2.0",
            "_view_name": "LayoutView",
            "align_content": null,
            "align_items": null,
            "align_self": null,
            "border": null,
            "bottom": null,
            "display": null,
            "flex": null,
            "flex_flow": null,
            "grid_area": null,
            "grid_auto_columns": null,
            "grid_auto_flow": null,
            "grid_auto_rows": null,
            "grid_column": null,
            "grid_gap": null,
            "grid_row": null,
            "grid_template_areas": null,
            "grid_template_columns": null,
            "grid_template_rows": null,
            "height": null,
            "justify_content": null,
            "justify_items": null,
            "left": null,
            "margin": null,
            "max_height": null,
            "max_width": null,
            "min_height": null,
            "min_width": null,
            "object_fit": null,
            "object_position": null,
            "order": null,
            "overflow": null,
            "overflow_x": null,
            "overflow_y": null,
            "padding": null,
            "right": null,
            "top": null,
            "visibility": null,
            "width": null
          }
        },
        "d2f25d870f8f40b8884010bc1243c270": {
          "model_module": "@jupyter-widgets/base",
          "model_name": "LayoutModel",
          "model_module_version": "1.2.0",
          "state": {
            "_model_module": "@jupyter-widgets/base",
            "_model_module_version": "1.2.0",
            "_model_name": "LayoutModel",
            "_view_count": null,
            "_view_module": "@jupyter-widgets/base",
            "_view_module_version": "1.2.0",
            "_view_name": "LayoutView",
            "align_content": null,
            "align_items": null,
            "align_self": null,
            "border": null,
            "bottom": null,
            "display": null,
            "flex": null,
            "flex_flow": null,
            "grid_area": null,
            "grid_auto_columns": null,
            "grid_auto_flow": null,
            "grid_auto_rows": null,
            "grid_column": null,
            "grid_gap": null,
            "grid_row": null,
            "grid_template_areas": null,
            "grid_template_columns": null,
            "grid_template_rows": null,
            "height": null,
            "justify_content": null,
            "justify_items": null,
            "left": null,
            "margin": null,
            "max_height": null,
            "max_width": null,
            "min_height": null,
            "min_width": null,
            "object_fit": null,
            "object_position": null,
            "order": null,
            "overflow": null,
            "overflow_x": null,
            "overflow_y": null,
            "padding": null,
            "right": null,
            "top": null,
            "visibility": null,
            "width": null
          }
        },
        "a81d6e135dd7459291aecd85ac63aa73": {
          "model_module": "@jupyter-widgets/controls",
          "model_name": "DescriptionStyleModel",
          "model_module_version": "1.5.0",
          "state": {
            "_model_module": "@jupyter-widgets/controls",
            "_model_module_version": "1.5.0",
            "_model_name": "DescriptionStyleModel",
            "_view_count": null,
            "_view_module": "@jupyter-widgets/base",
            "_view_module_version": "1.2.0",
            "_view_name": "StyleView",
            "description_width": ""
          }
        },
        "f957901ebf084e95a0c032139b3afc3d": {
          "model_module": "@jupyter-widgets/base",
          "model_name": "LayoutModel",
          "model_module_version": "1.2.0",
          "state": {
            "_model_module": "@jupyter-widgets/base",
            "_model_module_version": "1.2.0",
            "_model_name": "LayoutModel",
            "_view_count": null,
            "_view_module": "@jupyter-widgets/base",
            "_view_module_version": "1.2.0",
            "_view_name": "LayoutView",
            "align_content": null,
            "align_items": null,
            "align_self": null,
            "border": null,
            "bottom": null,
            "display": null,
            "flex": null,
            "flex_flow": null,
            "grid_area": null,
            "grid_auto_columns": null,
            "grid_auto_flow": null,
            "grid_auto_rows": null,
            "grid_column": null,
            "grid_gap": null,
            "grid_row": null,
            "grid_template_areas": null,
            "grid_template_columns": null,
            "grid_template_rows": null,
            "height": null,
            "justify_content": null,
            "justify_items": null,
            "left": null,
            "margin": null,
            "max_height": null,
            "max_width": null,
            "min_height": null,
            "min_width": null,
            "object_fit": null,
            "object_position": null,
            "order": null,
            "overflow": null,
            "overflow_x": null,
            "overflow_y": null,
            "padding": null,
            "right": null,
            "top": null,
            "visibility": null,
            "width": null
          }
        },
        "1ad39d771dd84eec8b367da9c67578c5": {
          "model_module": "@jupyter-widgets/controls",
          "model_name": "ProgressStyleModel",
          "model_module_version": "1.5.0",
          "state": {
            "_model_module": "@jupyter-widgets/controls",
            "_model_module_version": "1.5.0",
            "_model_name": "ProgressStyleModel",
            "_view_count": null,
            "_view_module": "@jupyter-widgets/base",
            "_view_module_version": "1.2.0",
            "_view_name": "StyleView",
            "bar_color": null,
            "description_width": ""
          }
        },
        "e3b4551e4ab1492dad2a02107c56bb1f": {
          "model_module": "@jupyter-widgets/base",
          "model_name": "LayoutModel",
          "model_module_version": "1.2.0",
          "state": {
            "_model_module": "@jupyter-widgets/base",
            "_model_module_version": "1.2.0",
            "_model_name": "LayoutModel",
            "_view_count": null,
            "_view_module": "@jupyter-widgets/base",
            "_view_module_version": "1.2.0",
            "_view_name": "LayoutView",
            "align_content": null,
            "align_items": null,
            "align_self": null,
            "border": null,
            "bottom": null,
            "display": null,
            "flex": null,
            "flex_flow": null,
            "grid_area": null,
            "grid_auto_columns": null,
            "grid_auto_flow": null,
            "grid_auto_rows": null,
            "grid_column": null,
            "grid_gap": null,
            "grid_row": null,
            "grid_template_areas": null,
            "grid_template_columns": null,
            "grid_template_rows": null,
            "height": null,
            "justify_content": null,
            "justify_items": null,
            "left": null,
            "margin": null,
            "max_height": null,
            "max_width": null,
            "min_height": null,
            "min_width": null,
            "object_fit": null,
            "object_position": null,
            "order": null,
            "overflow": null,
            "overflow_x": null,
            "overflow_y": null,
            "padding": null,
            "right": null,
            "top": null,
            "visibility": null,
            "width": null
          }
        },
        "ab1fd78e85954b5ab947eb2bb79e9a62": {
          "model_module": "@jupyter-widgets/controls",
          "model_name": "DescriptionStyleModel",
          "model_module_version": "1.5.0",
          "state": {
            "_model_module": "@jupyter-widgets/controls",
            "_model_module_version": "1.5.0",
            "_model_name": "DescriptionStyleModel",
            "_view_count": null,
            "_view_module": "@jupyter-widgets/base",
            "_view_module_version": "1.2.0",
            "_view_name": "StyleView",
            "description_width": ""
          }
        },
        "dac79ee6b0894c598da5a8f59959a697": {
          "model_module": "@jupyter-widgets/controls",
          "model_name": "HBoxModel",
          "model_module_version": "1.5.0",
          "state": {
            "_dom_classes": [],
            "_model_module": "@jupyter-widgets/controls",
            "_model_module_version": "1.5.0",
            "_model_name": "HBoxModel",
            "_view_count": null,
            "_view_module": "@jupyter-widgets/controls",
            "_view_module_version": "1.5.0",
            "_view_name": "HBoxView",
            "box_style": "",
            "children": [
              "IPY_MODEL_6b1ec839da8243da8f1550eb3fdb8654",
              "IPY_MODEL_a1dd3d2088f14bc99b0803b678af24b5",
              "IPY_MODEL_36ff77749a584cfba298f19b39e0d677"
            ],
            "layout": "IPY_MODEL_eeee0260a75b4809be71cc08c6dd24c1"
          }
        },
        "6b1ec839da8243da8f1550eb3fdb8654": {
          "model_module": "@jupyter-widgets/controls",
          "model_name": "HTMLModel",
          "model_module_version": "1.5.0",
          "state": {
            "_dom_classes": [],
            "_model_module": "@jupyter-widgets/controls",
            "_model_module_version": "1.5.0",
            "_model_name": "HTMLModel",
            "_view_count": null,
            "_view_module": "@jupyter-widgets/controls",
            "_view_module_version": "1.5.0",
            "_view_name": "HTMLView",
            "description": "",
            "description_tooltip": null,
            "layout": "IPY_MODEL_dbedb42df0d74f3483b8c30145a9b592",
            "placeholder": "​",
            "style": "IPY_MODEL_70e9a558aafc4217bf2de884f82cf0d1",
            "value": "Loading checkpoint shards: 100%"
          }
        },
        "a1dd3d2088f14bc99b0803b678af24b5": {
          "model_module": "@jupyter-widgets/controls",
          "model_name": "FloatProgressModel",
          "model_module_version": "1.5.0",
          "state": {
            "_dom_classes": [],
            "_model_module": "@jupyter-widgets/controls",
            "_model_module_version": "1.5.0",
            "_model_name": "FloatProgressModel",
            "_view_count": null,
            "_view_module": "@jupyter-widgets/controls",
            "_view_module_version": "1.5.0",
            "_view_name": "ProgressView",
            "bar_style": "success",
            "description": "",
            "description_tooltip": null,
            "layout": "IPY_MODEL_7274af6f16684b859a1cd38c10d8e381",
            "max": 4,
            "min": 0,
            "orientation": "horizontal",
            "style": "IPY_MODEL_a6ac079e39544623827669bd80ef6f5d",
            "value": 4
          }
        },
        "36ff77749a584cfba298f19b39e0d677": {
          "model_module": "@jupyter-widgets/controls",
          "model_name": "HTMLModel",
          "model_module_version": "1.5.0",
          "state": {
            "_dom_classes": [],
            "_model_module": "@jupyter-widgets/controls",
            "_model_module_version": "1.5.0",
            "_model_name": "HTMLModel",
            "_view_count": null,
            "_view_module": "@jupyter-widgets/controls",
            "_view_module_version": "1.5.0",
            "_view_name": "HTMLView",
            "description": "",
            "description_tooltip": null,
            "layout": "IPY_MODEL_4edb22ae799d42ce9f7143f7c1f7f49e",
            "placeholder": "​",
            "style": "IPY_MODEL_71dbdf2ce791402da6b874d65467501d",
            "value": " 4/4 [01:12&lt;00:00, 15.62s/it]"
          }
        },
        "eeee0260a75b4809be71cc08c6dd24c1": {
          "model_module": "@jupyter-widgets/base",
          "model_name": "LayoutModel",
          "model_module_version": "1.2.0",
          "state": {
            "_model_module": "@jupyter-widgets/base",
            "_model_module_version": "1.2.0",
            "_model_name": "LayoutModel",
            "_view_count": null,
            "_view_module": "@jupyter-widgets/base",
            "_view_module_version": "1.2.0",
            "_view_name": "LayoutView",
            "align_content": null,
            "align_items": null,
            "align_self": null,
            "border": null,
            "bottom": null,
            "display": null,
            "flex": null,
            "flex_flow": null,
            "grid_area": null,
            "grid_auto_columns": null,
            "grid_auto_flow": null,
            "grid_auto_rows": null,
            "grid_column": null,
            "grid_gap": null,
            "grid_row": null,
            "grid_template_areas": null,
            "grid_template_columns": null,
            "grid_template_rows": null,
            "height": null,
            "justify_content": null,
            "justify_items": null,
            "left": null,
            "margin": null,
            "max_height": null,
            "max_width": null,
            "min_height": null,
            "min_width": null,
            "object_fit": null,
            "object_position": null,
            "order": null,
            "overflow": null,
            "overflow_x": null,
            "overflow_y": null,
            "padding": null,
            "right": null,
            "top": null,
            "visibility": null,
            "width": null
          }
        },
        "dbedb42df0d74f3483b8c30145a9b592": {
          "model_module": "@jupyter-widgets/base",
          "model_name": "LayoutModel",
          "model_module_version": "1.2.0",
          "state": {
            "_model_module": "@jupyter-widgets/base",
            "_model_module_version": "1.2.0",
            "_model_name": "LayoutModel",
            "_view_count": null,
            "_view_module": "@jupyter-widgets/base",
            "_view_module_version": "1.2.0",
            "_view_name": "LayoutView",
            "align_content": null,
            "align_items": null,
            "align_self": null,
            "border": null,
            "bottom": null,
            "display": null,
            "flex": null,
            "flex_flow": null,
            "grid_area": null,
            "grid_auto_columns": null,
            "grid_auto_flow": null,
            "grid_auto_rows": null,
            "grid_column": null,
            "grid_gap": null,
            "grid_row": null,
            "grid_template_areas": null,
            "grid_template_columns": null,
            "grid_template_rows": null,
            "height": null,
            "justify_content": null,
            "justify_items": null,
            "left": null,
            "margin": null,
            "max_height": null,
            "max_width": null,
            "min_height": null,
            "min_width": null,
            "object_fit": null,
            "object_position": null,
            "order": null,
            "overflow": null,
            "overflow_x": null,
            "overflow_y": null,
            "padding": null,
            "right": null,
            "top": null,
            "visibility": null,
            "width": null
          }
        },
        "70e9a558aafc4217bf2de884f82cf0d1": {
          "model_module": "@jupyter-widgets/controls",
          "model_name": "DescriptionStyleModel",
          "model_module_version": "1.5.0",
          "state": {
            "_model_module": "@jupyter-widgets/controls",
            "_model_module_version": "1.5.0",
            "_model_name": "DescriptionStyleModel",
            "_view_count": null,
            "_view_module": "@jupyter-widgets/base",
            "_view_module_version": "1.2.0",
            "_view_name": "StyleView",
            "description_width": ""
          }
        },
        "7274af6f16684b859a1cd38c10d8e381": {
          "model_module": "@jupyter-widgets/base",
          "model_name": "LayoutModel",
          "model_module_version": "1.2.0",
          "state": {
            "_model_module": "@jupyter-widgets/base",
            "_model_module_version": "1.2.0",
            "_model_name": "LayoutModel",
            "_view_count": null,
            "_view_module": "@jupyter-widgets/base",
            "_view_module_version": "1.2.0",
            "_view_name": "LayoutView",
            "align_content": null,
            "align_items": null,
            "align_self": null,
            "border": null,
            "bottom": null,
            "display": null,
            "flex": null,
            "flex_flow": null,
            "grid_area": null,
            "grid_auto_columns": null,
            "grid_auto_flow": null,
            "grid_auto_rows": null,
            "grid_column": null,
            "grid_gap": null,
            "grid_row": null,
            "grid_template_areas": null,
            "grid_template_columns": null,
            "grid_template_rows": null,
            "height": null,
            "justify_content": null,
            "justify_items": null,
            "left": null,
            "margin": null,
            "max_height": null,
            "max_width": null,
            "min_height": null,
            "min_width": null,
            "object_fit": null,
            "object_position": null,
            "order": null,
            "overflow": null,
            "overflow_x": null,
            "overflow_y": null,
            "padding": null,
            "right": null,
            "top": null,
            "visibility": null,
            "width": null
          }
        },
        "a6ac079e39544623827669bd80ef6f5d": {
          "model_module": "@jupyter-widgets/controls",
          "model_name": "ProgressStyleModel",
          "model_module_version": "1.5.0",
          "state": {
            "_model_module": "@jupyter-widgets/controls",
            "_model_module_version": "1.5.0",
            "_model_name": "ProgressStyleModel",
            "_view_count": null,
            "_view_module": "@jupyter-widgets/base",
            "_view_module_version": "1.2.0",
            "_view_name": "StyleView",
            "bar_color": null,
            "description_width": ""
          }
        },
        "4edb22ae799d42ce9f7143f7c1f7f49e": {
          "model_module": "@jupyter-widgets/base",
          "model_name": "LayoutModel",
          "model_module_version": "1.2.0",
          "state": {
            "_model_module": "@jupyter-widgets/base",
            "_model_module_version": "1.2.0",
            "_model_name": "LayoutModel",
            "_view_count": null,
            "_view_module": "@jupyter-widgets/base",
            "_view_module_version": "1.2.0",
            "_view_name": "LayoutView",
            "align_content": null,
            "align_items": null,
            "align_self": null,
            "border": null,
            "bottom": null,
            "display": null,
            "flex": null,
            "flex_flow": null,
            "grid_area": null,
            "grid_auto_columns": null,
            "grid_auto_flow": null,
            "grid_auto_rows": null,
            "grid_column": null,
            "grid_gap": null,
            "grid_row": null,
            "grid_template_areas": null,
            "grid_template_columns": null,
            "grid_template_rows": null,
            "height": null,
            "justify_content": null,
            "justify_items": null,
            "left": null,
            "margin": null,
            "max_height": null,
            "max_width": null,
            "min_height": null,
            "min_width": null,
            "object_fit": null,
            "object_position": null,
            "order": null,
            "overflow": null,
            "overflow_x": null,
            "overflow_y": null,
            "padding": null,
            "right": null,
            "top": null,
            "visibility": null,
            "width": null
          }
        },
        "71dbdf2ce791402da6b874d65467501d": {
          "model_module": "@jupyter-widgets/controls",
          "model_name": "DescriptionStyleModel",
          "model_module_version": "1.5.0",
          "state": {
            "_model_module": "@jupyter-widgets/controls",
            "_model_module_version": "1.5.0",
            "_model_name": "DescriptionStyleModel",
            "_view_count": null,
            "_view_module": "@jupyter-widgets/base",
            "_view_module_version": "1.2.0",
            "_view_name": "StyleView",
            "description_width": ""
          }
        }
      }
    }
  },
  "cells": [
    {
      "cell_type": "code",
      "execution_count": 1,
      "metadata": {
        "colab": {
          "base_uri": "https://localhost:8080/"
        },
        "id": "ju05dGyviZVS",
        "outputId": "053684c1-5b4d-4165-c7bf-d572721ac249"
      },
      "outputs": [
        {
          "output_type": "stream",
          "name": "stdout",
          "text": [
            "Requirement already satisfied: llama_index in /usr/local/lib/python3.10/dist-packages (0.10.50)\n",
            "Requirement already satisfied: llama-index-agent-openai<0.3.0,>=0.1.4 in /usr/local/lib/python3.10/dist-packages (from llama_index) (0.2.7)\n",
            "Requirement already satisfied: llama-index-cli<0.2.0,>=0.1.2 in /usr/local/lib/python3.10/dist-packages (from llama_index) (0.1.12)\n",
            "Requirement already satisfied: llama-index-core==0.10.50 in /usr/local/lib/python3.10/dist-packages (from llama_index) (0.10.50)\n",
            "Requirement already satisfied: llama-index-embeddings-openai<0.2.0,>=0.1.5 in /usr/local/lib/python3.10/dist-packages (from llama_index) (0.1.10)\n",
            "Requirement already satisfied: llama-index-indices-managed-llama-cloud>=0.2.0 in /usr/local/lib/python3.10/dist-packages (from llama_index) (0.2.1)\n",
            "Requirement already satisfied: llama-index-legacy<0.10.0,>=0.9.48 in /usr/local/lib/python3.10/dist-packages (from llama_index) (0.9.48)\n",
            "Requirement already satisfied: llama-index-llms-openai<0.2.0,>=0.1.13 in /usr/local/lib/python3.10/dist-packages (from llama_index) (0.1.23)\n",
            "Requirement already satisfied: llama-index-multi-modal-llms-openai<0.2.0,>=0.1.3 in /usr/local/lib/python3.10/dist-packages (from llama_index) (0.1.6)\n",
            "Requirement already satisfied: llama-index-program-openai<0.2.0,>=0.1.3 in /usr/local/lib/python3.10/dist-packages (from llama_index) (0.1.6)\n",
            "Requirement already satisfied: llama-index-question-gen-openai<0.2.0,>=0.1.2 in /usr/local/lib/python3.10/dist-packages (from llama_index) (0.1.3)\n",
            "Requirement already satisfied: llama-index-readers-file<0.2.0,>=0.1.4 in /usr/local/lib/python3.10/dist-packages (from llama_index) (0.1.25)\n",
            "Requirement already satisfied: llama-index-readers-llama-parse<0.2.0,>=0.1.2 in /usr/local/lib/python3.10/dist-packages (from llama_index) (0.1.4)\n",
            "Requirement already satisfied: PyYAML>=6.0.1 in /usr/local/lib/python3.10/dist-packages (from llama-index-core==0.10.50->llama_index) (6.0.1)\n",
            "Requirement already satisfied: SQLAlchemy[asyncio]>=1.4.49 in /usr/local/lib/python3.10/dist-packages (from llama-index-core==0.10.50->llama_index) (2.0.31)\n",
            "Requirement already satisfied: aiohttp<4.0.0,>=3.8.6 in /usr/local/lib/python3.10/dist-packages (from llama-index-core==0.10.50->llama_index) (3.9.5)\n",
            "Requirement already satisfied: dataclasses-json in /usr/local/lib/python3.10/dist-packages (from llama-index-core==0.10.50->llama_index) (0.6.7)\n",
            "Requirement already satisfied: deprecated>=1.2.9.3 in /usr/local/lib/python3.10/dist-packages (from llama-index-core==0.10.50->llama_index) (1.2.14)\n",
            "Requirement already satisfied: dirtyjson<2.0.0,>=1.0.8 in /usr/local/lib/python3.10/dist-packages (from llama-index-core==0.10.50->llama_index) (1.0.8)\n",
            "Requirement already satisfied: fsspec>=2023.5.0 in /usr/local/lib/python3.10/dist-packages (from llama-index-core==0.10.50->llama_index) (2023.6.0)\n",
            "Requirement already satisfied: httpx in /usr/local/lib/python3.10/dist-packages (from llama-index-core==0.10.50->llama_index) (0.27.0)\n",
            "Requirement already satisfied: llama-cloud<0.0.7,>=0.0.6 in /usr/local/lib/python3.10/dist-packages (from llama-index-core==0.10.50->llama_index) (0.0.6)\n",
            "Requirement already satisfied: nest-asyncio<2.0.0,>=1.5.8 in /usr/local/lib/python3.10/dist-packages (from llama-index-core==0.10.50->llama_index) (1.6.0)\n",
            "Requirement already satisfied: networkx>=3.0 in /usr/local/lib/python3.10/dist-packages (from llama-index-core==0.10.50->llama_index) (3.3)\n",
            "Requirement already satisfied: nltk<4.0.0,>=3.8.1 in /usr/local/lib/python3.10/dist-packages (from llama-index-core==0.10.50->llama_index) (3.8.1)\n",
            "Requirement already satisfied: numpy<2.0.0 in /usr/local/lib/python3.10/dist-packages (from llama-index-core==0.10.50->llama_index) (1.25.2)\n",
            "Requirement already satisfied: openai>=1.1.0 in /usr/local/lib/python3.10/dist-packages (from llama-index-core==0.10.50->llama_index) (1.35.6)\n",
            "Requirement already satisfied: pandas in /usr/local/lib/python3.10/dist-packages (from llama-index-core==0.10.50->llama_index) (2.0.3)\n",
            "Requirement already satisfied: pillow>=9.0.0 in /usr/local/lib/python3.10/dist-packages (from llama-index-core==0.10.50->llama_index) (9.4.0)\n",
            "Requirement already satisfied: requests>=2.31.0 in /usr/local/lib/python3.10/dist-packages (from llama-index-core==0.10.50->llama_index) (2.32.3)\n",
            "Requirement already satisfied: tenacity!=8.4.0,<9.0.0,>=8.2.0 in /usr/local/lib/python3.10/dist-packages (from llama-index-core==0.10.50->llama_index) (8.4.1)\n",
            "Requirement already satisfied: tiktoken>=0.3.3 in /usr/local/lib/python3.10/dist-packages (from llama-index-core==0.10.50->llama_index) (0.7.0)\n",
            "Requirement already satisfied: tqdm<5.0.0,>=4.66.1 in /usr/local/lib/python3.10/dist-packages (from llama-index-core==0.10.50->llama_index) (4.66.4)\n",
            "Requirement already satisfied: typing-extensions>=4.5.0 in /usr/local/lib/python3.10/dist-packages (from llama-index-core==0.10.50->llama_index) (4.12.2)\n",
            "Requirement already satisfied: typing-inspect>=0.8.0 in /usr/local/lib/python3.10/dist-packages (from llama-index-core==0.10.50->llama_index) (0.9.0)\n",
            "Requirement already satisfied: wrapt in /usr/local/lib/python3.10/dist-packages (from llama-index-core==0.10.50->llama_index) (1.14.1)\n",
            "Requirement already satisfied: beautifulsoup4<5.0.0,>=4.12.3 in /usr/local/lib/python3.10/dist-packages (from llama-index-readers-file<0.2.0,>=0.1.4->llama_index) (4.12.3)\n",
            "Requirement already satisfied: pypdf<5.0.0,>=4.0.1 in /usr/local/lib/python3.10/dist-packages (from llama-index-readers-file<0.2.0,>=0.1.4->llama_index) (4.2.0)\n",
            "Requirement already satisfied: striprtf<0.0.27,>=0.0.26 in /usr/local/lib/python3.10/dist-packages (from llama-index-readers-file<0.2.0,>=0.1.4->llama_index) (0.0.26)\n",
            "Requirement already satisfied: llama-parse<0.5.0,>=0.4.0 in /usr/local/lib/python3.10/dist-packages (from llama-index-readers-llama-parse<0.2.0,>=0.1.2->llama_index) (0.4.4)\n",
            "Requirement already satisfied: aiosignal>=1.1.2 in /usr/local/lib/python3.10/dist-packages (from aiohttp<4.0.0,>=3.8.6->llama-index-core==0.10.50->llama_index) (1.3.1)\n",
            "Requirement already satisfied: attrs>=17.3.0 in /usr/local/lib/python3.10/dist-packages (from aiohttp<4.0.0,>=3.8.6->llama-index-core==0.10.50->llama_index) (23.2.0)\n",
            "Requirement already satisfied: frozenlist>=1.1.1 in /usr/local/lib/python3.10/dist-packages (from aiohttp<4.0.0,>=3.8.6->llama-index-core==0.10.50->llama_index) (1.4.1)\n",
            "Requirement already satisfied: multidict<7.0,>=4.5 in /usr/local/lib/python3.10/dist-packages (from aiohttp<4.0.0,>=3.8.6->llama-index-core==0.10.50->llama_index) (6.0.5)\n",
            "Requirement already satisfied: yarl<2.0,>=1.0 in /usr/local/lib/python3.10/dist-packages (from aiohttp<4.0.0,>=3.8.6->llama-index-core==0.10.50->llama_index) (1.9.4)\n",
            "Requirement already satisfied: async-timeout<5.0,>=4.0 in /usr/local/lib/python3.10/dist-packages (from aiohttp<4.0.0,>=3.8.6->llama-index-core==0.10.50->llama_index) (4.0.3)\n",
            "Requirement already satisfied: soupsieve>1.2 in /usr/local/lib/python3.10/dist-packages (from beautifulsoup4<5.0.0,>=4.12.3->llama-index-readers-file<0.2.0,>=0.1.4->llama_index) (2.5)\n",
            "Requirement already satisfied: pydantic>=1.10 in /usr/local/lib/python3.10/dist-packages (from llama-cloud<0.0.7,>=0.0.6->llama-index-core==0.10.50->llama_index) (2.7.4)\n",
            "Requirement already satisfied: anyio in /usr/local/lib/python3.10/dist-packages (from httpx->llama-index-core==0.10.50->llama_index) (3.7.1)\n",
            "Requirement already satisfied: certifi in /usr/local/lib/python3.10/dist-packages (from httpx->llama-index-core==0.10.50->llama_index) (2024.6.2)\n",
            "Requirement already satisfied: httpcore==1.* in /usr/local/lib/python3.10/dist-packages (from httpx->llama-index-core==0.10.50->llama_index) (1.0.5)\n",
            "Requirement already satisfied: idna in /usr/local/lib/python3.10/dist-packages (from httpx->llama-index-core==0.10.50->llama_index) (3.7)\n",
            "Requirement already satisfied: sniffio in /usr/local/lib/python3.10/dist-packages (from httpx->llama-index-core==0.10.50->llama_index) (1.3.1)\n",
            "Requirement already satisfied: h11<0.15,>=0.13 in /usr/local/lib/python3.10/dist-packages (from httpcore==1.*->httpx->llama-index-core==0.10.50->llama_index) (0.14.0)\n",
            "Requirement already satisfied: click in /usr/local/lib/python3.10/dist-packages (from nltk<4.0.0,>=3.8.1->llama-index-core==0.10.50->llama_index) (8.1.7)\n",
            "Requirement already satisfied: joblib in /usr/local/lib/python3.10/dist-packages (from nltk<4.0.0,>=3.8.1->llama-index-core==0.10.50->llama_index) (1.4.2)\n",
            "Requirement already satisfied: regex>=2021.8.3 in /usr/local/lib/python3.10/dist-packages (from nltk<4.0.0,>=3.8.1->llama-index-core==0.10.50->llama_index) (2024.5.15)\n",
            "Requirement already satisfied: distro<2,>=1.7.0 in /usr/lib/python3/dist-packages (from openai>=1.1.0->llama-index-core==0.10.50->llama_index) (1.7.0)\n",
            "Requirement already satisfied: charset-normalizer<4,>=2 in /usr/local/lib/python3.10/dist-packages (from requests>=2.31.0->llama-index-core==0.10.50->llama_index) (3.3.2)\n",
            "Requirement already satisfied: urllib3<3,>=1.21.1 in /usr/local/lib/python3.10/dist-packages (from requests>=2.31.0->llama-index-core==0.10.50->llama_index) (2.0.7)\n",
            "Requirement already satisfied: greenlet!=0.4.17 in /usr/local/lib/python3.10/dist-packages (from SQLAlchemy[asyncio]>=1.4.49->llama-index-core==0.10.50->llama_index) (3.0.3)\n",
            "Requirement already satisfied: mypy-extensions>=0.3.0 in /usr/local/lib/python3.10/dist-packages (from typing-inspect>=0.8.0->llama-index-core==0.10.50->llama_index) (1.0.0)\n",
            "Requirement already satisfied: marshmallow<4.0.0,>=3.18.0 in /usr/local/lib/python3.10/dist-packages (from dataclasses-json->llama-index-core==0.10.50->llama_index) (3.21.3)\n",
            "Requirement already satisfied: python-dateutil>=2.8.2 in /usr/local/lib/python3.10/dist-packages (from pandas->llama-index-core==0.10.50->llama_index) (2.8.2)\n",
            "Requirement already satisfied: pytz>=2020.1 in /usr/local/lib/python3.10/dist-packages (from pandas->llama-index-core==0.10.50->llama_index) (2023.4)\n",
            "Requirement already satisfied: tzdata>=2022.1 in /usr/local/lib/python3.10/dist-packages (from pandas->llama-index-core==0.10.50->llama_index) (2024.1)\n",
            "Requirement already satisfied: exceptiongroup in /usr/local/lib/python3.10/dist-packages (from anyio->httpx->llama-index-core==0.10.50->llama_index) (1.2.1)\n",
            "Requirement already satisfied: packaging>=17.0 in /usr/local/lib/python3.10/dist-packages (from marshmallow<4.0.0,>=3.18.0->dataclasses-json->llama-index-core==0.10.50->llama_index) (24.1)\n",
            "Requirement already satisfied: annotated-types>=0.4.0 in /usr/local/lib/python3.10/dist-packages (from pydantic>=1.10->llama-cloud<0.0.7,>=0.0.6->llama-index-core==0.10.50->llama_index) (0.7.0)\n",
            "Requirement already satisfied: pydantic-core==2.18.4 in /usr/local/lib/python3.10/dist-packages (from pydantic>=1.10->llama-cloud<0.0.7,>=0.0.6->llama-index-core==0.10.50->llama_index) (2.18.4)\n",
            "Requirement already satisfied: six>=1.5 in /usr/local/lib/python3.10/dist-packages (from python-dateutil>=2.8.2->pandas->llama-index-core==0.10.50->llama_index) (1.16.0)\n"
          ]
        }
      ],
      "source": [
        "!pip install llama_index"
      ]
    },
    {
      "cell_type": "code",
      "source": [
        "!pip install PyPDF2"
      ],
      "metadata": {
        "colab": {
          "base_uri": "https://localhost:8080/"
        },
        "id": "XRl4HbM1ipkS",
        "outputId": "aabe4f6a-c41d-4f18-c571-da9c7b10074e"
      },
      "execution_count": 2,
      "outputs": [
        {
          "output_type": "stream",
          "name": "stdout",
          "text": [
            "Requirement already satisfied: PyPDF2 in /usr/local/lib/python3.10/dist-packages (3.0.1)\n"
          ]
        }
      ]
    },
    {
      "cell_type": "code",
      "source": [
        "!pip install llama-index-embeddings-huggingface"
      ],
      "metadata": {
        "colab": {
          "base_uri": "https://localhost:8080/"
        },
        "id": "aP9wRvnnixBC",
        "outputId": "ba3f515a-654d-43b7-ec9a-2b8f8bd16871"
      },
      "execution_count": 3,
      "outputs": [
        {
          "output_type": "stream",
          "name": "stdout",
          "text": [
            "Requirement already satisfied: llama-index-embeddings-huggingface in /usr/local/lib/python3.10/dist-packages (0.2.2)\n",
            "Requirement already satisfied: huggingface-hub[inference]>=0.19.0 in /usr/local/lib/python3.10/dist-packages (from llama-index-embeddings-huggingface) (0.23.4)\n",
            "Requirement already satisfied: llama-index-core<0.11.0,>=0.10.1 in /usr/local/lib/python3.10/dist-packages (from llama-index-embeddings-huggingface) (0.10.50)\n",
            "Requirement already satisfied: sentence-transformers>=2.6.1 in /usr/local/lib/python3.10/dist-packages (from llama-index-embeddings-huggingface) (3.0.1)\n",
            "Requirement already satisfied: filelock in /usr/local/lib/python3.10/dist-packages (from huggingface-hub[inference]>=0.19.0->llama-index-embeddings-huggingface) (3.15.3)\n",
            "Requirement already satisfied: fsspec>=2023.5.0 in /usr/local/lib/python3.10/dist-packages (from huggingface-hub[inference]>=0.19.0->llama-index-embeddings-huggingface) (2023.6.0)\n",
            "Requirement already satisfied: packaging>=20.9 in /usr/local/lib/python3.10/dist-packages (from huggingface-hub[inference]>=0.19.0->llama-index-embeddings-huggingface) (24.1)\n",
            "Requirement already satisfied: pyyaml>=5.1 in /usr/local/lib/python3.10/dist-packages (from huggingface-hub[inference]>=0.19.0->llama-index-embeddings-huggingface) (6.0.1)\n",
            "Requirement already satisfied: requests in /usr/local/lib/python3.10/dist-packages (from huggingface-hub[inference]>=0.19.0->llama-index-embeddings-huggingface) (2.32.3)\n",
            "Requirement already satisfied: tqdm>=4.42.1 in /usr/local/lib/python3.10/dist-packages (from huggingface-hub[inference]>=0.19.0->llama-index-embeddings-huggingface) (4.66.4)\n",
            "Requirement already satisfied: typing-extensions>=3.7.4.3 in /usr/local/lib/python3.10/dist-packages (from huggingface-hub[inference]>=0.19.0->llama-index-embeddings-huggingface) (4.12.2)\n",
            "Requirement already satisfied: aiohttp in /usr/local/lib/python3.10/dist-packages (from huggingface-hub[inference]>=0.19.0->llama-index-embeddings-huggingface) (3.9.5)\n",
            "Requirement already satisfied: minijinja>=1.0 in /usr/local/lib/python3.10/dist-packages (from huggingface-hub[inference]>=0.19.0->llama-index-embeddings-huggingface) (2.0.1)\n",
            "Requirement already satisfied: SQLAlchemy[asyncio]>=1.4.49 in /usr/local/lib/python3.10/dist-packages (from llama-index-core<0.11.0,>=0.10.1->llama-index-embeddings-huggingface) (2.0.31)\n",
            "Requirement already satisfied: dataclasses-json in /usr/local/lib/python3.10/dist-packages (from llama-index-core<0.11.0,>=0.10.1->llama-index-embeddings-huggingface) (0.6.7)\n",
            "Requirement already satisfied: deprecated>=1.2.9.3 in /usr/local/lib/python3.10/dist-packages (from llama-index-core<0.11.0,>=0.10.1->llama-index-embeddings-huggingface) (1.2.14)\n",
            "Requirement already satisfied: dirtyjson<2.0.0,>=1.0.8 in /usr/local/lib/python3.10/dist-packages (from llama-index-core<0.11.0,>=0.10.1->llama-index-embeddings-huggingface) (1.0.8)\n",
            "Requirement already satisfied: httpx in /usr/local/lib/python3.10/dist-packages (from llama-index-core<0.11.0,>=0.10.1->llama-index-embeddings-huggingface) (0.27.0)\n",
            "Requirement already satisfied: llama-cloud<0.0.7,>=0.0.6 in /usr/local/lib/python3.10/dist-packages (from llama-index-core<0.11.0,>=0.10.1->llama-index-embeddings-huggingface) (0.0.6)\n",
            "Requirement already satisfied: nest-asyncio<2.0.0,>=1.5.8 in /usr/local/lib/python3.10/dist-packages (from llama-index-core<0.11.0,>=0.10.1->llama-index-embeddings-huggingface) (1.6.0)\n",
            "Requirement already satisfied: networkx>=3.0 in /usr/local/lib/python3.10/dist-packages (from llama-index-core<0.11.0,>=0.10.1->llama-index-embeddings-huggingface) (3.3)\n",
            "Requirement already satisfied: nltk<4.0.0,>=3.8.1 in /usr/local/lib/python3.10/dist-packages (from llama-index-core<0.11.0,>=0.10.1->llama-index-embeddings-huggingface) (3.8.1)\n",
            "Requirement already satisfied: numpy<2.0.0 in /usr/local/lib/python3.10/dist-packages (from llama-index-core<0.11.0,>=0.10.1->llama-index-embeddings-huggingface) (1.25.2)\n",
            "Requirement already satisfied: openai>=1.1.0 in /usr/local/lib/python3.10/dist-packages (from llama-index-core<0.11.0,>=0.10.1->llama-index-embeddings-huggingface) (1.35.6)\n",
            "Requirement already satisfied: pandas in /usr/local/lib/python3.10/dist-packages (from llama-index-core<0.11.0,>=0.10.1->llama-index-embeddings-huggingface) (2.0.3)\n",
            "Requirement already satisfied: pillow>=9.0.0 in /usr/local/lib/python3.10/dist-packages (from llama-index-core<0.11.0,>=0.10.1->llama-index-embeddings-huggingface) (9.4.0)\n",
            "Requirement already satisfied: tenacity!=8.4.0,<9.0.0,>=8.2.0 in /usr/local/lib/python3.10/dist-packages (from llama-index-core<0.11.0,>=0.10.1->llama-index-embeddings-huggingface) (8.4.1)\n",
            "Requirement already satisfied: tiktoken>=0.3.3 in /usr/local/lib/python3.10/dist-packages (from llama-index-core<0.11.0,>=0.10.1->llama-index-embeddings-huggingface) (0.7.0)\n",
            "Requirement already satisfied: typing-inspect>=0.8.0 in /usr/local/lib/python3.10/dist-packages (from llama-index-core<0.11.0,>=0.10.1->llama-index-embeddings-huggingface) (0.9.0)\n",
            "Requirement already satisfied: wrapt in /usr/local/lib/python3.10/dist-packages (from llama-index-core<0.11.0,>=0.10.1->llama-index-embeddings-huggingface) (1.14.1)\n",
            "Requirement already satisfied: transformers<5.0.0,>=4.34.0 in /usr/local/lib/python3.10/dist-packages (from sentence-transformers>=2.6.1->llama-index-embeddings-huggingface) (4.39.0)\n",
            "Requirement already satisfied: torch>=1.11.0 in /usr/local/lib/python3.10/dist-packages (from sentence-transformers>=2.6.1->llama-index-embeddings-huggingface) (2.3.0+cu121)\n",
            "Requirement already satisfied: scikit-learn in /usr/local/lib/python3.10/dist-packages (from sentence-transformers>=2.6.1->llama-index-embeddings-huggingface) (1.2.2)\n",
            "Requirement already satisfied: scipy in /usr/local/lib/python3.10/dist-packages (from sentence-transformers>=2.6.1->llama-index-embeddings-huggingface) (1.11.4)\n",
            "Requirement already satisfied: aiosignal>=1.1.2 in /usr/local/lib/python3.10/dist-packages (from aiohttp->huggingface-hub[inference]>=0.19.0->llama-index-embeddings-huggingface) (1.3.1)\n",
            "Requirement already satisfied: attrs>=17.3.0 in /usr/local/lib/python3.10/dist-packages (from aiohttp->huggingface-hub[inference]>=0.19.0->llama-index-embeddings-huggingface) (23.2.0)\n",
            "Requirement already satisfied: frozenlist>=1.1.1 in /usr/local/lib/python3.10/dist-packages (from aiohttp->huggingface-hub[inference]>=0.19.0->llama-index-embeddings-huggingface) (1.4.1)\n",
            "Requirement already satisfied: multidict<7.0,>=4.5 in /usr/local/lib/python3.10/dist-packages (from aiohttp->huggingface-hub[inference]>=0.19.0->llama-index-embeddings-huggingface) (6.0.5)\n",
            "Requirement already satisfied: yarl<2.0,>=1.0 in /usr/local/lib/python3.10/dist-packages (from aiohttp->huggingface-hub[inference]>=0.19.0->llama-index-embeddings-huggingface) (1.9.4)\n",
            "Requirement already satisfied: async-timeout<5.0,>=4.0 in /usr/local/lib/python3.10/dist-packages (from aiohttp->huggingface-hub[inference]>=0.19.0->llama-index-embeddings-huggingface) (4.0.3)\n",
            "Requirement already satisfied: pydantic>=1.10 in /usr/local/lib/python3.10/dist-packages (from llama-cloud<0.0.7,>=0.0.6->llama-index-core<0.11.0,>=0.10.1->llama-index-embeddings-huggingface) (2.7.4)\n",
            "Requirement already satisfied: anyio in /usr/local/lib/python3.10/dist-packages (from httpx->llama-index-core<0.11.0,>=0.10.1->llama-index-embeddings-huggingface) (3.7.1)\n",
            "Requirement already satisfied: certifi in /usr/local/lib/python3.10/dist-packages (from httpx->llama-index-core<0.11.0,>=0.10.1->llama-index-embeddings-huggingface) (2024.6.2)\n",
            "Requirement already satisfied: httpcore==1.* in /usr/local/lib/python3.10/dist-packages (from httpx->llama-index-core<0.11.0,>=0.10.1->llama-index-embeddings-huggingface) (1.0.5)\n",
            "Requirement already satisfied: idna in /usr/local/lib/python3.10/dist-packages (from httpx->llama-index-core<0.11.0,>=0.10.1->llama-index-embeddings-huggingface) (3.7)\n",
            "Requirement already satisfied: sniffio in /usr/local/lib/python3.10/dist-packages (from httpx->llama-index-core<0.11.0,>=0.10.1->llama-index-embeddings-huggingface) (1.3.1)\n",
            "Requirement already satisfied: h11<0.15,>=0.13 in /usr/local/lib/python3.10/dist-packages (from httpcore==1.*->httpx->llama-index-core<0.11.0,>=0.10.1->llama-index-embeddings-huggingface) (0.14.0)\n",
            "Requirement already satisfied: click in /usr/local/lib/python3.10/dist-packages (from nltk<4.0.0,>=3.8.1->llama-index-core<0.11.0,>=0.10.1->llama-index-embeddings-huggingface) (8.1.7)\n",
            "Requirement already satisfied: joblib in /usr/local/lib/python3.10/dist-packages (from nltk<4.0.0,>=3.8.1->llama-index-core<0.11.0,>=0.10.1->llama-index-embeddings-huggingface) (1.4.2)\n",
            "Requirement already satisfied: regex>=2021.8.3 in /usr/local/lib/python3.10/dist-packages (from nltk<4.0.0,>=3.8.1->llama-index-core<0.11.0,>=0.10.1->llama-index-embeddings-huggingface) (2024.5.15)\n",
            "Requirement already satisfied: distro<2,>=1.7.0 in /usr/lib/python3/dist-packages (from openai>=1.1.0->llama-index-core<0.11.0,>=0.10.1->llama-index-embeddings-huggingface) (1.7.0)\n",
            "Requirement already satisfied: charset-normalizer<4,>=2 in /usr/local/lib/python3.10/dist-packages (from requests->huggingface-hub[inference]>=0.19.0->llama-index-embeddings-huggingface) (3.3.2)\n",
            "Requirement already satisfied: urllib3<3,>=1.21.1 in /usr/local/lib/python3.10/dist-packages (from requests->huggingface-hub[inference]>=0.19.0->llama-index-embeddings-huggingface) (2.0.7)\n",
            "Requirement already satisfied: greenlet!=0.4.17 in /usr/local/lib/python3.10/dist-packages (from SQLAlchemy[asyncio]>=1.4.49->llama-index-core<0.11.0,>=0.10.1->llama-index-embeddings-huggingface) (3.0.3)\n",
            "Requirement already satisfied: sympy in /usr/local/lib/python3.10/dist-packages (from torch>=1.11.0->sentence-transformers>=2.6.1->llama-index-embeddings-huggingface) (1.12.1)\n",
            "Requirement already satisfied: jinja2 in /usr/local/lib/python3.10/dist-packages (from torch>=1.11.0->sentence-transformers>=2.6.1->llama-index-embeddings-huggingface) (3.1.4)\n",
            "Requirement already satisfied: nvidia-cuda-nvrtc-cu12==12.1.105 in /usr/local/lib/python3.10/dist-packages (from torch>=1.11.0->sentence-transformers>=2.6.1->llama-index-embeddings-huggingface) (12.1.105)\n",
            "Requirement already satisfied: nvidia-cuda-runtime-cu12==12.1.105 in /usr/local/lib/python3.10/dist-packages (from torch>=1.11.0->sentence-transformers>=2.6.1->llama-index-embeddings-huggingface) (12.1.105)\n",
            "Requirement already satisfied: nvidia-cuda-cupti-cu12==12.1.105 in /usr/local/lib/python3.10/dist-packages (from torch>=1.11.0->sentence-transformers>=2.6.1->llama-index-embeddings-huggingface) (12.1.105)\n",
            "Requirement already satisfied: nvidia-cudnn-cu12==8.9.2.26 in /usr/local/lib/python3.10/dist-packages (from torch>=1.11.0->sentence-transformers>=2.6.1->llama-index-embeddings-huggingface) (8.9.2.26)\n",
            "Requirement already satisfied: nvidia-cublas-cu12==12.1.3.1 in /usr/local/lib/python3.10/dist-packages (from torch>=1.11.0->sentence-transformers>=2.6.1->llama-index-embeddings-huggingface) (12.1.3.1)\n",
            "Requirement already satisfied: nvidia-cufft-cu12==11.0.2.54 in /usr/local/lib/python3.10/dist-packages (from torch>=1.11.0->sentence-transformers>=2.6.1->llama-index-embeddings-huggingface) (11.0.2.54)\n",
            "Requirement already satisfied: nvidia-curand-cu12==10.3.2.106 in /usr/local/lib/python3.10/dist-packages (from torch>=1.11.0->sentence-transformers>=2.6.1->llama-index-embeddings-huggingface) (10.3.2.106)\n",
            "Requirement already satisfied: nvidia-cusolver-cu12==11.4.5.107 in /usr/local/lib/python3.10/dist-packages (from torch>=1.11.0->sentence-transformers>=2.6.1->llama-index-embeddings-huggingface) (11.4.5.107)\n",
            "Requirement already satisfied: nvidia-cusparse-cu12==12.1.0.106 in /usr/local/lib/python3.10/dist-packages (from torch>=1.11.0->sentence-transformers>=2.6.1->llama-index-embeddings-huggingface) (12.1.0.106)\n",
            "Requirement already satisfied: nvidia-nccl-cu12==2.20.5 in /usr/local/lib/python3.10/dist-packages (from torch>=1.11.0->sentence-transformers>=2.6.1->llama-index-embeddings-huggingface) (2.20.5)\n",
            "Requirement already satisfied: nvidia-nvtx-cu12==12.1.105 in /usr/local/lib/python3.10/dist-packages (from torch>=1.11.0->sentence-transformers>=2.6.1->llama-index-embeddings-huggingface) (12.1.105)\n",
            "Requirement already satisfied: triton==2.3.0 in /usr/local/lib/python3.10/dist-packages (from torch>=1.11.0->sentence-transformers>=2.6.1->llama-index-embeddings-huggingface) (2.3.0)\n",
            "Requirement already satisfied: nvidia-nvjitlink-cu12 in /usr/local/lib/python3.10/dist-packages (from nvidia-cusolver-cu12==11.4.5.107->torch>=1.11.0->sentence-transformers>=2.6.1->llama-index-embeddings-huggingface) (12.5.40)\n",
            "Requirement already satisfied: tokenizers<0.19,>=0.14 in /usr/local/lib/python3.10/dist-packages (from transformers<5.0.0,>=4.34.0->sentence-transformers>=2.6.1->llama-index-embeddings-huggingface) (0.15.2)\n",
            "Requirement already satisfied: safetensors>=0.4.1 in /usr/local/lib/python3.10/dist-packages (from transformers<5.0.0,>=4.34.0->sentence-transformers>=2.6.1->llama-index-embeddings-huggingface) (0.4.3)\n",
            "Requirement already satisfied: mypy-extensions>=0.3.0 in /usr/local/lib/python3.10/dist-packages (from typing-inspect>=0.8.0->llama-index-core<0.11.0,>=0.10.1->llama-index-embeddings-huggingface) (1.0.0)\n",
            "Requirement already satisfied: marshmallow<4.0.0,>=3.18.0 in /usr/local/lib/python3.10/dist-packages (from dataclasses-json->llama-index-core<0.11.0,>=0.10.1->llama-index-embeddings-huggingface) (3.21.3)\n",
            "Requirement already satisfied: python-dateutil>=2.8.2 in /usr/local/lib/python3.10/dist-packages (from pandas->llama-index-core<0.11.0,>=0.10.1->llama-index-embeddings-huggingface) (2.8.2)\n",
            "Requirement already satisfied: pytz>=2020.1 in /usr/local/lib/python3.10/dist-packages (from pandas->llama-index-core<0.11.0,>=0.10.1->llama-index-embeddings-huggingface) (2023.4)\n",
            "Requirement already satisfied: tzdata>=2022.1 in /usr/local/lib/python3.10/dist-packages (from pandas->llama-index-core<0.11.0,>=0.10.1->llama-index-embeddings-huggingface) (2024.1)\n",
            "Requirement already satisfied: threadpoolctl>=2.0.0 in /usr/local/lib/python3.10/dist-packages (from scikit-learn->sentence-transformers>=2.6.1->llama-index-embeddings-huggingface) (3.5.0)\n",
            "Requirement already satisfied: exceptiongroup in /usr/local/lib/python3.10/dist-packages (from anyio->httpx->llama-index-core<0.11.0,>=0.10.1->llama-index-embeddings-huggingface) (1.2.1)\n",
            "Requirement already satisfied: annotated-types>=0.4.0 in /usr/local/lib/python3.10/dist-packages (from pydantic>=1.10->llama-cloud<0.0.7,>=0.0.6->llama-index-core<0.11.0,>=0.10.1->llama-index-embeddings-huggingface) (0.7.0)\n",
            "Requirement already satisfied: pydantic-core==2.18.4 in /usr/local/lib/python3.10/dist-packages (from pydantic>=1.10->llama-cloud<0.0.7,>=0.0.6->llama-index-core<0.11.0,>=0.10.1->llama-index-embeddings-huggingface) (2.18.4)\n",
            "Requirement already satisfied: six>=1.5 in /usr/local/lib/python3.10/dist-packages (from python-dateutil>=2.8.2->pandas->llama-index-core<0.11.0,>=0.10.1->llama-index-embeddings-huggingface) (1.16.0)\n",
            "Requirement already satisfied: MarkupSafe>=2.0 in /usr/local/lib/python3.10/dist-packages (from jinja2->torch>=1.11.0->sentence-transformers>=2.6.1->llama-index-embeddings-huggingface) (2.1.5)\n",
            "Requirement already satisfied: mpmath<1.4.0,>=1.1.0 in /usr/local/lib/python3.10/dist-packages (from sympy->torch>=1.11.0->sentence-transformers>=2.6.1->llama-index-embeddings-huggingface) (1.3.0)\n"
          ]
        }
      ]
    },
    {
      "cell_type": "code",
      "source": [
        "!pip install llama-index-embeddings-huggingface-api"
      ],
      "metadata": {
        "colab": {
          "base_uri": "https://localhost:8080/"
        },
        "id": "a3EOuePXxsWu",
        "outputId": "8bba3de7-3f65-468a-c0df-59ee23e53260"
      },
      "execution_count": 4,
      "outputs": [
        {
          "output_type": "stream",
          "name": "stdout",
          "text": [
            "Requirement already satisfied: llama-index-embeddings-huggingface-api in /usr/local/lib/python3.10/dist-packages (0.1.1)\n",
            "Requirement already satisfied: huggingface-hub[inference]>=0.19.0 in /usr/local/lib/python3.10/dist-packages (from llama-index-embeddings-huggingface-api) (0.23.4)\n",
            "Requirement already satisfied: llama-index-core<0.11.0,>=0.10.1 in /usr/local/lib/python3.10/dist-packages (from llama-index-embeddings-huggingface-api) (0.10.50)\n",
            "Requirement already satisfied: llama-index-utils-huggingface<0.2.0,>=0.1.1 in /usr/local/lib/python3.10/dist-packages (from llama-index-embeddings-huggingface-api) (0.1.1)\n",
            "Requirement already satisfied: filelock in /usr/local/lib/python3.10/dist-packages (from huggingface-hub[inference]>=0.19.0->llama-index-embeddings-huggingface-api) (3.15.3)\n",
            "Requirement already satisfied: fsspec>=2023.5.0 in /usr/local/lib/python3.10/dist-packages (from huggingface-hub[inference]>=0.19.0->llama-index-embeddings-huggingface-api) (2023.6.0)\n",
            "Requirement already satisfied: packaging>=20.9 in /usr/local/lib/python3.10/dist-packages (from huggingface-hub[inference]>=0.19.0->llama-index-embeddings-huggingface-api) (24.1)\n",
            "Requirement already satisfied: pyyaml>=5.1 in /usr/local/lib/python3.10/dist-packages (from huggingface-hub[inference]>=0.19.0->llama-index-embeddings-huggingface-api) (6.0.1)\n",
            "Requirement already satisfied: requests in /usr/local/lib/python3.10/dist-packages (from huggingface-hub[inference]>=0.19.0->llama-index-embeddings-huggingface-api) (2.32.3)\n",
            "Requirement already satisfied: tqdm>=4.42.1 in /usr/local/lib/python3.10/dist-packages (from huggingface-hub[inference]>=0.19.0->llama-index-embeddings-huggingface-api) (4.66.4)\n",
            "Requirement already satisfied: typing-extensions>=3.7.4.3 in /usr/local/lib/python3.10/dist-packages (from huggingface-hub[inference]>=0.19.0->llama-index-embeddings-huggingface-api) (4.12.2)\n",
            "Requirement already satisfied: aiohttp in /usr/local/lib/python3.10/dist-packages (from huggingface-hub[inference]>=0.19.0->llama-index-embeddings-huggingface-api) (3.9.5)\n",
            "Requirement already satisfied: minijinja>=1.0 in /usr/local/lib/python3.10/dist-packages (from huggingface-hub[inference]>=0.19.0->llama-index-embeddings-huggingface-api) (2.0.1)\n",
            "Requirement already satisfied: SQLAlchemy[asyncio]>=1.4.49 in /usr/local/lib/python3.10/dist-packages (from llama-index-core<0.11.0,>=0.10.1->llama-index-embeddings-huggingface-api) (2.0.31)\n",
            "Requirement already satisfied: dataclasses-json in /usr/local/lib/python3.10/dist-packages (from llama-index-core<0.11.0,>=0.10.1->llama-index-embeddings-huggingface-api) (0.6.7)\n",
            "Requirement already satisfied: deprecated>=1.2.9.3 in /usr/local/lib/python3.10/dist-packages (from llama-index-core<0.11.0,>=0.10.1->llama-index-embeddings-huggingface-api) (1.2.14)\n",
            "Requirement already satisfied: dirtyjson<2.0.0,>=1.0.8 in /usr/local/lib/python3.10/dist-packages (from llama-index-core<0.11.0,>=0.10.1->llama-index-embeddings-huggingface-api) (1.0.8)\n",
            "Requirement already satisfied: httpx in /usr/local/lib/python3.10/dist-packages (from llama-index-core<0.11.0,>=0.10.1->llama-index-embeddings-huggingface-api) (0.27.0)\n",
            "Requirement already satisfied: llama-cloud<0.0.7,>=0.0.6 in /usr/local/lib/python3.10/dist-packages (from llama-index-core<0.11.0,>=0.10.1->llama-index-embeddings-huggingface-api) (0.0.6)\n",
            "Requirement already satisfied: nest-asyncio<2.0.0,>=1.5.8 in /usr/local/lib/python3.10/dist-packages (from llama-index-core<0.11.0,>=0.10.1->llama-index-embeddings-huggingface-api) (1.6.0)\n",
            "Requirement already satisfied: networkx>=3.0 in /usr/local/lib/python3.10/dist-packages (from llama-index-core<0.11.0,>=0.10.1->llama-index-embeddings-huggingface-api) (3.3)\n",
            "Requirement already satisfied: nltk<4.0.0,>=3.8.1 in /usr/local/lib/python3.10/dist-packages (from llama-index-core<0.11.0,>=0.10.1->llama-index-embeddings-huggingface-api) (3.8.1)\n",
            "Requirement already satisfied: numpy<2.0.0 in /usr/local/lib/python3.10/dist-packages (from llama-index-core<0.11.0,>=0.10.1->llama-index-embeddings-huggingface-api) (1.25.2)\n",
            "Requirement already satisfied: openai>=1.1.0 in /usr/local/lib/python3.10/dist-packages (from llama-index-core<0.11.0,>=0.10.1->llama-index-embeddings-huggingface-api) (1.35.6)\n",
            "Requirement already satisfied: pandas in /usr/local/lib/python3.10/dist-packages (from llama-index-core<0.11.0,>=0.10.1->llama-index-embeddings-huggingface-api) (2.0.3)\n",
            "Requirement already satisfied: pillow>=9.0.0 in /usr/local/lib/python3.10/dist-packages (from llama-index-core<0.11.0,>=0.10.1->llama-index-embeddings-huggingface-api) (9.4.0)\n",
            "Requirement already satisfied: tenacity!=8.4.0,<9.0.0,>=8.2.0 in /usr/local/lib/python3.10/dist-packages (from llama-index-core<0.11.0,>=0.10.1->llama-index-embeddings-huggingface-api) (8.4.1)\n",
            "Requirement already satisfied: tiktoken>=0.3.3 in /usr/local/lib/python3.10/dist-packages (from llama-index-core<0.11.0,>=0.10.1->llama-index-embeddings-huggingface-api) (0.7.0)\n",
            "Requirement already satisfied: typing-inspect>=0.8.0 in /usr/local/lib/python3.10/dist-packages (from llama-index-core<0.11.0,>=0.10.1->llama-index-embeddings-huggingface-api) (0.9.0)\n",
            "Requirement already satisfied: wrapt in /usr/local/lib/python3.10/dist-packages (from llama-index-core<0.11.0,>=0.10.1->llama-index-embeddings-huggingface-api) (1.14.1)\n",
            "Requirement already satisfied: aiosignal>=1.1.2 in /usr/local/lib/python3.10/dist-packages (from aiohttp->huggingface-hub[inference]>=0.19.0->llama-index-embeddings-huggingface-api) (1.3.1)\n",
            "Requirement already satisfied: attrs>=17.3.0 in /usr/local/lib/python3.10/dist-packages (from aiohttp->huggingface-hub[inference]>=0.19.0->llama-index-embeddings-huggingface-api) (23.2.0)\n",
            "Requirement already satisfied: frozenlist>=1.1.1 in /usr/local/lib/python3.10/dist-packages (from aiohttp->huggingface-hub[inference]>=0.19.0->llama-index-embeddings-huggingface-api) (1.4.1)\n",
            "Requirement already satisfied: multidict<7.0,>=4.5 in /usr/local/lib/python3.10/dist-packages (from aiohttp->huggingface-hub[inference]>=0.19.0->llama-index-embeddings-huggingface-api) (6.0.5)\n",
            "Requirement already satisfied: yarl<2.0,>=1.0 in /usr/local/lib/python3.10/dist-packages (from aiohttp->huggingface-hub[inference]>=0.19.0->llama-index-embeddings-huggingface-api) (1.9.4)\n",
            "Requirement already satisfied: async-timeout<5.0,>=4.0 in /usr/local/lib/python3.10/dist-packages (from aiohttp->huggingface-hub[inference]>=0.19.0->llama-index-embeddings-huggingface-api) (4.0.3)\n",
            "Requirement already satisfied: pydantic>=1.10 in /usr/local/lib/python3.10/dist-packages (from llama-cloud<0.0.7,>=0.0.6->llama-index-core<0.11.0,>=0.10.1->llama-index-embeddings-huggingface-api) (2.7.4)\n",
            "Requirement already satisfied: anyio in /usr/local/lib/python3.10/dist-packages (from httpx->llama-index-core<0.11.0,>=0.10.1->llama-index-embeddings-huggingface-api) (3.7.1)\n",
            "Requirement already satisfied: certifi in /usr/local/lib/python3.10/dist-packages (from httpx->llama-index-core<0.11.0,>=0.10.1->llama-index-embeddings-huggingface-api) (2024.6.2)\n",
            "Requirement already satisfied: httpcore==1.* in /usr/local/lib/python3.10/dist-packages (from httpx->llama-index-core<0.11.0,>=0.10.1->llama-index-embeddings-huggingface-api) (1.0.5)\n",
            "Requirement already satisfied: idna in /usr/local/lib/python3.10/dist-packages (from httpx->llama-index-core<0.11.0,>=0.10.1->llama-index-embeddings-huggingface-api) (3.7)\n",
            "Requirement already satisfied: sniffio in /usr/local/lib/python3.10/dist-packages (from httpx->llama-index-core<0.11.0,>=0.10.1->llama-index-embeddings-huggingface-api) (1.3.1)\n",
            "Requirement already satisfied: h11<0.15,>=0.13 in /usr/local/lib/python3.10/dist-packages (from httpcore==1.*->httpx->llama-index-core<0.11.0,>=0.10.1->llama-index-embeddings-huggingface-api) (0.14.0)\n",
            "Requirement already satisfied: click in /usr/local/lib/python3.10/dist-packages (from nltk<4.0.0,>=3.8.1->llama-index-core<0.11.0,>=0.10.1->llama-index-embeddings-huggingface-api) (8.1.7)\n",
            "Requirement already satisfied: joblib in /usr/local/lib/python3.10/dist-packages (from nltk<4.0.0,>=3.8.1->llama-index-core<0.11.0,>=0.10.1->llama-index-embeddings-huggingface-api) (1.4.2)\n",
            "Requirement already satisfied: regex>=2021.8.3 in /usr/local/lib/python3.10/dist-packages (from nltk<4.0.0,>=3.8.1->llama-index-core<0.11.0,>=0.10.1->llama-index-embeddings-huggingface-api) (2024.5.15)\n",
            "Requirement already satisfied: distro<2,>=1.7.0 in /usr/lib/python3/dist-packages (from openai>=1.1.0->llama-index-core<0.11.0,>=0.10.1->llama-index-embeddings-huggingface-api) (1.7.0)\n",
            "Requirement already satisfied: charset-normalizer<4,>=2 in /usr/local/lib/python3.10/dist-packages (from requests->huggingface-hub[inference]>=0.19.0->llama-index-embeddings-huggingface-api) (3.3.2)\n",
            "Requirement already satisfied: urllib3<3,>=1.21.1 in /usr/local/lib/python3.10/dist-packages (from requests->huggingface-hub[inference]>=0.19.0->llama-index-embeddings-huggingface-api) (2.0.7)\n",
            "Requirement already satisfied: greenlet!=0.4.17 in /usr/local/lib/python3.10/dist-packages (from SQLAlchemy[asyncio]>=1.4.49->llama-index-core<0.11.0,>=0.10.1->llama-index-embeddings-huggingface-api) (3.0.3)\n",
            "Requirement already satisfied: mypy-extensions>=0.3.0 in /usr/local/lib/python3.10/dist-packages (from typing-inspect>=0.8.0->llama-index-core<0.11.0,>=0.10.1->llama-index-embeddings-huggingface-api) (1.0.0)\n",
            "Requirement already satisfied: marshmallow<4.0.0,>=3.18.0 in /usr/local/lib/python3.10/dist-packages (from dataclasses-json->llama-index-core<0.11.0,>=0.10.1->llama-index-embeddings-huggingface-api) (3.21.3)\n",
            "Requirement already satisfied: python-dateutil>=2.8.2 in /usr/local/lib/python3.10/dist-packages (from pandas->llama-index-core<0.11.0,>=0.10.1->llama-index-embeddings-huggingface-api) (2.8.2)\n",
            "Requirement already satisfied: pytz>=2020.1 in /usr/local/lib/python3.10/dist-packages (from pandas->llama-index-core<0.11.0,>=0.10.1->llama-index-embeddings-huggingface-api) (2023.4)\n",
            "Requirement already satisfied: tzdata>=2022.1 in /usr/local/lib/python3.10/dist-packages (from pandas->llama-index-core<0.11.0,>=0.10.1->llama-index-embeddings-huggingface-api) (2024.1)\n",
            "Requirement already satisfied: exceptiongroup in /usr/local/lib/python3.10/dist-packages (from anyio->httpx->llama-index-core<0.11.0,>=0.10.1->llama-index-embeddings-huggingface-api) (1.2.1)\n",
            "Requirement already satisfied: annotated-types>=0.4.0 in /usr/local/lib/python3.10/dist-packages (from pydantic>=1.10->llama-cloud<0.0.7,>=0.0.6->llama-index-core<0.11.0,>=0.10.1->llama-index-embeddings-huggingface-api) (0.7.0)\n",
            "Requirement already satisfied: pydantic-core==2.18.4 in /usr/local/lib/python3.10/dist-packages (from pydantic>=1.10->llama-cloud<0.0.7,>=0.0.6->llama-index-core<0.11.0,>=0.10.1->llama-index-embeddings-huggingface-api) (2.18.4)\n",
            "Requirement already satisfied: six>=1.5 in /usr/local/lib/python3.10/dist-packages (from python-dateutil>=2.8.2->pandas->llama-index-core<0.11.0,>=0.10.1->llama-index-embeddings-huggingface-api) (1.16.0)\n"
          ]
        }
      ]
    },
    {
      "cell_type": "code",
      "source": [
        "!pip install llama-index-llms-huggingface"
      ],
      "metadata": {
        "colab": {
          "base_uri": "https://localhost:8080/"
        },
        "id": "GtG7IwwCi63Z",
        "outputId": "ff50dae4-1182-4884-cb23-930a598d9297"
      },
      "execution_count": 5,
      "outputs": [
        {
          "output_type": "stream",
          "name": "stdout",
          "text": [
            "Requirement already satisfied: llama-index-llms-huggingface in /usr/local/lib/python3.10/dist-packages (0.2.3)\n",
            "Requirement already satisfied: huggingface-hub<0.24.0,>=0.23.0 in /usr/local/lib/python3.10/dist-packages (from llama-index-llms-huggingface) (0.23.4)\n",
            "Requirement already satisfied: llama-index-core<0.11.0,>=0.10.41 in /usr/local/lib/python3.10/dist-packages (from llama-index-llms-huggingface) (0.10.50)\n",
            "Requirement already satisfied: text-generation<0.8.0,>=0.7.0 in /usr/local/lib/python3.10/dist-packages (from llama-index-llms-huggingface) (0.7.0)\n",
            "Requirement already satisfied: torch<3.0.0,>=2.1.2 in /usr/local/lib/python3.10/dist-packages (from llama-index-llms-huggingface) (2.3.0+cu121)\n",
            "Requirement already satisfied: transformers[torch]<5.0.0,>=4.37.0 in /usr/local/lib/python3.10/dist-packages (from llama-index-llms-huggingface) (4.39.0)\n",
            "Requirement already satisfied: filelock in /usr/local/lib/python3.10/dist-packages (from huggingface-hub<0.24.0,>=0.23.0->llama-index-llms-huggingface) (3.15.3)\n",
            "Requirement already satisfied: fsspec>=2023.5.0 in /usr/local/lib/python3.10/dist-packages (from huggingface-hub<0.24.0,>=0.23.0->llama-index-llms-huggingface) (2023.6.0)\n",
            "Requirement already satisfied: packaging>=20.9 in /usr/local/lib/python3.10/dist-packages (from huggingface-hub<0.24.0,>=0.23.0->llama-index-llms-huggingface) (24.1)\n",
            "Requirement already satisfied: pyyaml>=5.1 in /usr/local/lib/python3.10/dist-packages (from huggingface-hub<0.24.0,>=0.23.0->llama-index-llms-huggingface) (6.0.1)\n",
            "Requirement already satisfied: requests in /usr/local/lib/python3.10/dist-packages (from huggingface-hub<0.24.0,>=0.23.0->llama-index-llms-huggingface) (2.32.3)\n",
            "Requirement already satisfied: tqdm>=4.42.1 in /usr/local/lib/python3.10/dist-packages (from huggingface-hub<0.24.0,>=0.23.0->llama-index-llms-huggingface) (4.66.4)\n",
            "Requirement already satisfied: typing-extensions>=3.7.4.3 in /usr/local/lib/python3.10/dist-packages (from huggingface-hub<0.24.0,>=0.23.0->llama-index-llms-huggingface) (4.12.2)\n",
            "Requirement already satisfied: SQLAlchemy[asyncio]>=1.4.49 in /usr/local/lib/python3.10/dist-packages (from llama-index-core<0.11.0,>=0.10.41->llama-index-llms-huggingface) (2.0.31)\n",
            "Requirement already satisfied: aiohttp<4.0.0,>=3.8.6 in /usr/local/lib/python3.10/dist-packages (from llama-index-core<0.11.0,>=0.10.41->llama-index-llms-huggingface) (3.9.5)\n",
            "Requirement already satisfied: dataclasses-json in /usr/local/lib/python3.10/dist-packages (from llama-index-core<0.11.0,>=0.10.41->llama-index-llms-huggingface) (0.6.7)\n",
            "Requirement already satisfied: deprecated>=1.2.9.3 in /usr/local/lib/python3.10/dist-packages (from llama-index-core<0.11.0,>=0.10.41->llama-index-llms-huggingface) (1.2.14)\n",
            "Requirement already satisfied: dirtyjson<2.0.0,>=1.0.8 in /usr/local/lib/python3.10/dist-packages (from llama-index-core<0.11.0,>=0.10.41->llama-index-llms-huggingface) (1.0.8)\n",
            "Requirement already satisfied: httpx in /usr/local/lib/python3.10/dist-packages (from llama-index-core<0.11.0,>=0.10.41->llama-index-llms-huggingface) (0.27.0)\n",
            "Requirement already satisfied: llama-cloud<0.0.7,>=0.0.6 in /usr/local/lib/python3.10/dist-packages (from llama-index-core<0.11.0,>=0.10.41->llama-index-llms-huggingface) (0.0.6)\n",
            "Requirement already satisfied: nest-asyncio<2.0.0,>=1.5.8 in /usr/local/lib/python3.10/dist-packages (from llama-index-core<0.11.0,>=0.10.41->llama-index-llms-huggingface) (1.6.0)\n",
            "Requirement already satisfied: networkx>=3.0 in /usr/local/lib/python3.10/dist-packages (from llama-index-core<0.11.0,>=0.10.41->llama-index-llms-huggingface) (3.3)\n",
            "Requirement already satisfied: nltk<4.0.0,>=3.8.1 in /usr/local/lib/python3.10/dist-packages (from llama-index-core<0.11.0,>=0.10.41->llama-index-llms-huggingface) (3.8.1)\n",
            "Requirement already satisfied: numpy<2.0.0 in /usr/local/lib/python3.10/dist-packages (from llama-index-core<0.11.0,>=0.10.41->llama-index-llms-huggingface) (1.25.2)\n",
            "Requirement already satisfied: openai>=1.1.0 in /usr/local/lib/python3.10/dist-packages (from llama-index-core<0.11.0,>=0.10.41->llama-index-llms-huggingface) (1.35.6)\n",
            "Requirement already satisfied: pandas in /usr/local/lib/python3.10/dist-packages (from llama-index-core<0.11.0,>=0.10.41->llama-index-llms-huggingface) (2.0.3)\n",
            "Requirement already satisfied: pillow>=9.0.0 in /usr/local/lib/python3.10/dist-packages (from llama-index-core<0.11.0,>=0.10.41->llama-index-llms-huggingface) (9.4.0)\n",
            "Requirement already satisfied: tenacity!=8.4.0,<9.0.0,>=8.2.0 in /usr/local/lib/python3.10/dist-packages (from llama-index-core<0.11.0,>=0.10.41->llama-index-llms-huggingface) (8.4.1)\n",
            "Requirement already satisfied: tiktoken>=0.3.3 in /usr/local/lib/python3.10/dist-packages (from llama-index-core<0.11.0,>=0.10.41->llama-index-llms-huggingface) (0.7.0)\n",
            "Requirement already satisfied: typing-inspect>=0.8.0 in /usr/local/lib/python3.10/dist-packages (from llama-index-core<0.11.0,>=0.10.41->llama-index-llms-huggingface) (0.9.0)\n",
            "Requirement already satisfied: wrapt in /usr/local/lib/python3.10/dist-packages (from llama-index-core<0.11.0,>=0.10.41->llama-index-llms-huggingface) (1.14.1)\n",
            "Requirement already satisfied: pydantic<3,>2 in /usr/local/lib/python3.10/dist-packages (from text-generation<0.8.0,>=0.7.0->llama-index-llms-huggingface) (2.7.4)\n",
            "Requirement already satisfied: sympy in /usr/local/lib/python3.10/dist-packages (from torch<3.0.0,>=2.1.2->llama-index-llms-huggingface) (1.12.1)\n",
            "Requirement already satisfied: jinja2 in /usr/local/lib/python3.10/dist-packages (from torch<3.0.0,>=2.1.2->llama-index-llms-huggingface) (3.1.4)\n",
            "Requirement already satisfied: nvidia-cuda-nvrtc-cu12==12.1.105 in /usr/local/lib/python3.10/dist-packages (from torch<3.0.0,>=2.1.2->llama-index-llms-huggingface) (12.1.105)\n",
            "Requirement already satisfied: nvidia-cuda-runtime-cu12==12.1.105 in /usr/local/lib/python3.10/dist-packages (from torch<3.0.0,>=2.1.2->llama-index-llms-huggingface) (12.1.105)\n",
            "Requirement already satisfied: nvidia-cuda-cupti-cu12==12.1.105 in /usr/local/lib/python3.10/dist-packages (from torch<3.0.0,>=2.1.2->llama-index-llms-huggingface) (12.1.105)\n",
            "Requirement already satisfied: nvidia-cudnn-cu12==8.9.2.26 in /usr/local/lib/python3.10/dist-packages (from torch<3.0.0,>=2.1.2->llama-index-llms-huggingface) (8.9.2.26)\n",
            "Requirement already satisfied: nvidia-cublas-cu12==12.1.3.1 in /usr/local/lib/python3.10/dist-packages (from torch<3.0.0,>=2.1.2->llama-index-llms-huggingface) (12.1.3.1)\n",
            "Requirement already satisfied: nvidia-cufft-cu12==11.0.2.54 in /usr/local/lib/python3.10/dist-packages (from torch<3.0.0,>=2.1.2->llama-index-llms-huggingface) (11.0.2.54)\n",
            "Requirement already satisfied: nvidia-curand-cu12==10.3.2.106 in /usr/local/lib/python3.10/dist-packages (from torch<3.0.0,>=2.1.2->llama-index-llms-huggingface) (10.3.2.106)\n",
            "Requirement already satisfied: nvidia-cusolver-cu12==11.4.5.107 in /usr/local/lib/python3.10/dist-packages (from torch<3.0.0,>=2.1.2->llama-index-llms-huggingface) (11.4.5.107)\n",
            "Requirement already satisfied: nvidia-cusparse-cu12==12.1.0.106 in /usr/local/lib/python3.10/dist-packages (from torch<3.0.0,>=2.1.2->llama-index-llms-huggingface) (12.1.0.106)\n",
            "Requirement already satisfied: nvidia-nccl-cu12==2.20.5 in /usr/local/lib/python3.10/dist-packages (from torch<3.0.0,>=2.1.2->llama-index-llms-huggingface) (2.20.5)\n",
            "Requirement already satisfied: nvidia-nvtx-cu12==12.1.105 in /usr/local/lib/python3.10/dist-packages (from torch<3.0.0,>=2.1.2->llama-index-llms-huggingface) (12.1.105)\n",
            "Requirement already satisfied: triton==2.3.0 in /usr/local/lib/python3.10/dist-packages (from torch<3.0.0,>=2.1.2->llama-index-llms-huggingface) (2.3.0)\n",
            "Requirement already satisfied: nvidia-nvjitlink-cu12 in /usr/local/lib/python3.10/dist-packages (from nvidia-cusolver-cu12==11.4.5.107->torch<3.0.0,>=2.1.2->llama-index-llms-huggingface) (12.5.40)\n",
            "Requirement already satisfied: regex!=2019.12.17 in /usr/local/lib/python3.10/dist-packages (from transformers[torch]<5.0.0,>=4.37.0->llama-index-llms-huggingface) (2024.5.15)\n",
            "Requirement already satisfied: tokenizers<0.19,>=0.14 in /usr/local/lib/python3.10/dist-packages (from transformers[torch]<5.0.0,>=4.37.0->llama-index-llms-huggingface) (0.15.2)\n",
            "Requirement already satisfied: safetensors>=0.4.1 in /usr/local/lib/python3.10/dist-packages (from transformers[torch]<5.0.0,>=4.37.0->llama-index-llms-huggingface) (0.4.3)\n",
            "Requirement already satisfied: accelerate>=0.21.0 in /usr/local/lib/python3.10/dist-packages (from transformers[torch]<5.0.0,>=4.37.0->llama-index-llms-huggingface) (0.31.0)\n",
            "Requirement already satisfied: psutil in /usr/local/lib/python3.10/dist-packages (from accelerate>=0.21.0->transformers[torch]<5.0.0,>=4.37.0->llama-index-llms-huggingface) (5.9.5)\n",
            "Requirement already satisfied: aiosignal>=1.1.2 in /usr/local/lib/python3.10/dist-packages (from aiohttp<4.0.0,>=3.8.6->llama-index-core<0.11.0,>=0.10.41->llama-index-llms-huggingface) (1.3.1)\n",
            "Requirement already satisfied: attrs>=17.3.0 in /usr/local/lib/python3.10/dist-packages (from aiohttp<4.0.0,>=3.8.6->llama-index-core<0.11.0,>=0.10.41->llama-index-llms-huggingface) (23.2.0)\n",
            "Requirement already satisfied: frozenlist>=1.1.1 in /usr/local/lib/python3.10/dist-packages (from aiohttp<4.0.0,>=3.8.6->llama-index-core<0.11.0,>=0.10.41->llama-index-llms-huggingface) (1.4.1)\n",
            "Requirement already satisfied: multidict<7.0,>=4.5 in /usr/local/lib/python3.10/dist-packages (from aiohttp<4.0.0,>=3.8.6->llama-index-core<0.11.0,>=0.10.41->llama-index-llms-huggingface) (6.0.5)\n",
            "Requirement already satisfied: yarl<2.0,>=1.0 in /usr/local/lib/python3.10/dist-packages (from aiohttp<4.0.0,>=3.8.6->llama-index-core<0.11.0,>=0.10.41->llama-index-llms-huggingface) (1.9.4)\n",
            "Requirement already satisfied: async-timeout<5.0,>=4.0 in /usr/local/lib/python3.10/dist-packages (from aiohttp<4.0.0,>=3.8.6->llama-index-core<0.11.0,>=0.10.41->llama-index-llms-huggingface) (4.0.3)\n",
            "Requirement already satisfied: anyio in /usr/local/lib/python3.10/dist-packages (from httpx->llama-index-core<0.11.0,>=0.10.41->llama-index-llms-huggingface) (3.7.1)\n",
            "Requirement already satisfied: certifi in /usr/local/lib/python3.10/dist-packages (from httpx->llama-index-core<0.11.0,>=0.10.41->llama-index-llms-huggingface) (2024.6.2)\n",
            "Requirement already satisfied: httpcore==1.* in /usr/local/lib/python3.10/dist-packages (from httpx->llama-index-core<0.11.0,>=0.10.41->llama-index-llms-huggingface) (1.0.5)\n",
            "Requirement already satisfied: idna in /usr/local/lib/python3.10/dist-packages (from httpx->llama-index-core<0.11.0,>=0.10.41->llama-index-llms-huggingface) (3.7)\n",
            "Requirement already satisfied: sniffio in /usr/local/lib/python3.10/dist-packages (from httpx->llama-index-core<0.11.0,>=0.10.41->llama-index-llms-huggingface) (1.3.1)\n",
            "Requirement already satisfied: h11<0.15,>=0.13 in /usr/local/lib/python3.10/dist-packages (from httpcore==1.*->httpx->llama-index-core<0.11.0,>=0.10.41->llama-index-llms-huggingface) (0.14.0)\n",
            "Requirement already satisfied: click in /usr/local/lib/python3.10/dist-packages (from nltk<4.0.0,>=3.8.1->llama-index-core<0.11.0,>=0.10.41->llama-index-llms-huggingface) (8.1.7)\n",
            "Requirement already satisfied: joblib in /usr/local/lib/python3.10/dist-packages (from nltk<4.0.0,>=3.8.1->llama-index-core<0.11.0,>=0.10.41->llama-index-llms-huggingface) (1.4.2)\n",
            "Requirement already satisfied: distro<2,>=1.7.0 in /usr/lib/python3/dist-packages (from openai>=1.1.0->llama-index-core<0.11.0,>=0.10.41->llama-index-llms-huggingface) (1.7.0)\n",
            "Requirement already satisfied: annotated-types>=0.4.0 in /usr/local/lib/python3.10/dist-packages (from pydantic<3,>2->text-generation<0.8.0,>=0.7.0->llama-index-llms-huggingface) (0.7.0)\n",
            "Requirement already satisfied: pydantic-core==2.18.4 in /usr/local/lib/python3.10/dist-packages (from pydantic<3,>2->text-generation<0.8.0,>=0.7.0->llama-index-llms-huggingface) (2.18.4)\n",
            "Requirement already satisfied: charset-normalizer<4,>=2 in /usr/local/lib/python3.10/dist-packages (from requests->huggingface-hub<0.24.0,>=0.23.0->llama-index-llms-huggingface) (3.3.2)\n",
            "Requirement already satisfied: urllib3<3,>=1.21.1 in /usr/local/lib/python3.10/dist-packages (from requests->huggingface-hub<0.24.0,>=0.23.0->llama-index-llms-huggingface) (2.0.7)\n",
            "Requirement already satisfied: greenlet!=0.4.17 in /usr/local/lib/python3.10/dist-packages (from SQLAlchemy[asyncio]>=1.4.49->llama-index-core<0.11.0,>=0.10.41->llama-index-llms-huggingface) (3.0.3)\n",
            "Requirement already satisfied: mypy-extensions>=0.3.0 in /usr/local/lib/python3.10/dist-packages (from typing-inspect>=0.8.0->llama-index-core<0.11.0,>=0.10.41->llama-index-llms-huggingface) (1.0.0)\n",
            "Requirement already satisfied: marshmallow<4.0.0,>=3.18.0 in /usr/local/lib/python3.10/dist-packages (from dataclasses-json->llama-index-core<0.11.0,>=0.10.41->llama-index-llms-huggingface) (3.21.3)\n",
            "Requirement already satisfied: MarkupSafe>=2.0 in /usr/local/lib/python3.10/dist-packages (from jinja2->torch<3.0.0,>=2.1.2->llama-index-llms-huggingface) (2.1.5)\n",
            "Requirement already satisfied: python-dateutil>=2.8.2 in /usr/local/lib/python3.10/dist-packages (from pandas->llama-index-core<0.11.0,>=0.10.41->llama-index-llms-huggingface) (2.8.2)\n",
            "Requirement already satisfied: pytz>=2020.1 in /usr/local/lib/python3.10/dist-packages (from pandas->llama-index-core<0.11.0,>=0.10.41->llama-index-llms-huggingface) (2023.4)\n",
            "Requirement already satisfied: tzdata>=2022.1 in /usr/local/lib/python3.10/dist-packages (from pandas->llama-index-core<0.11.0,>=0.10.41->llama-index-llms-huggingface) (2024.1)\n",
            "Requirement already satisfied: mpmath<1.4.0,>=1.1.0 in /usr/local/lib/python3.10/dist-packages (from sympy->torch<3.0.0,>=2.1.2->llama-index-llms-huggingface) (1.3.0)\n",
            "Requirement already satisfied: exceptiongroup in /usr/local/lib/python3.10/dist-packages (from anyio->httpx->llama-index-core<0.11.0,>=0.10.41->llama-index-llms-huggingface) (1.2.1)\n",
            "Requirement already satisfied: six>=1.5 in /usr/local/lib/python3.10/dist-packages (from python-dateutil>=2.8.2->pandas->llama-index-core<0.11.0,>=0.10.41->llama-index-llms-huggingface) (1.16.0)\n"
          ]
        }
      ]
    },
    {
      "cell_type": "code",
      "source": [
        "!pip install llama-index-extractors-entity"
      ],
      "metadata": {
        "colab": {
          "base_uri": "https://localhost:8080/"
        },
        "id": "dc8IMJNapXCx",
        "outputId": "e04e15ac-33a7-409e-a26a-79735962481b"
      },
      "execution_count": 6,
      "outputs": [
        {
          "output_type": "stream",
          "name": "stdout",
          "text": [
            "Requirement already satisfied: llama-index-extractors-entity in /usr/local/lib/python3.10/dist-packages (0.1.2)\n",
            "Requirement already satisfied: llama-index-core<0.11.0,>=0.10.1 in /usr/local/lib/python3.10/dist-packages (from llama-index-extractors-entity) (0.10.50)\n",
            "Requirement already satisfied: span-marker<2.0.0,>=1.5.0 in /usr/local/lib/python3.10/dist-packages (from llama-index-extractors-entity) (1.5.0)\n",
            "Requirement already satisfied: PyYAML>=6.0.1 in /usr/local/lib/python3.10/dist-packages (from llama-index-core<0.11.0,>=0.10.1->llama-index-extractors-entity) (6.0.1)\n",
            "Requirement already satisfied: SQLAlchemy[asyncio]>=1.4.49 in /usr/local/lib/python3.10/dist-packages (from llama-index-core<0.11.0,>=0.10.1->llama-index-extractors-entity) (2.0.31)\n",
            "Requirement already satisfied: aiohttp<4.0.0,>=3.8.6 in /usr/local/lib/python3.10/dist-packages (from llama-index-core<0.11.0,>=0.10.1->llama-index-extractors-entity) (3.9.5)\n",
            "Requirement already satisfied: dataclasses-json in /usr/local/lib/python3.10/dist-packages (from llama-index-core<0.11.0,>=0.10.1->llama-index-extractors-entity) (0.6.7)\n",
            "Requirement already satisfied: deprecated>=1.2.9.3 in /usr/local/lib/python3.10/dist-packages (from llama-index-core<0.11.0,>=0.10.1->llama-index-extractors-entity) (1.2.14)\n",
            "Requirement already satisfied: dirtyjson<2.0.0,>=1.0.8 in /usr/local/lib/python3.10/dist-packages (from llama-index-core<0.11.0,>=0.10.1->llama-index-extractors-entity) (1.0.8)\n",
            "Requirement already satisfied: fsspec>=2023.5.0 in /usr/local/lib/python3.10/dist-packages (from llama-index-core<0.11.0,>=0.10.1->llama-index-extractors-entity) (2023.6.0)\n",
            "Requirement already satisfied: httpx in /usr/local/lib/python3.10/dist-packages (from llama-index-core<0.11.0,>=0.10.1->llama-index-extractors-entity) (0.27.0)\n",
            "Requirement already satisfied: llama-cloud<0.0.7,>=0.0.6 in /usr/local/lib/python3.10/dist-packages (from llama-index-core<0.11.0,>=0.10.1->llama-index-extractors-entity) (0.0.6)\n",
            "Requirement already satisfied: nest-asyncio<2.0.0,>=1.5.8 in /usr/local/lib/python3.10/dist-packages (from llama-index-core<0.11.0,>=0.10.1->llama-index-extractors-entity) (1.6.0)\n",
            "Requirement already satisfied: networkx>=3.0 in /usr/local/lib/python3.10/dist-packages (from llama-index-core<0.11.0,>=0.10.1->llama-index-extractors-entity) (3.3)\n",
            "Requirement already satisfied: nltk<4.0.0,>=3.8.1 in /usr/local/lib/python3.10/dist-packages (from llama-index-core<0.11.0,>=0.10.1->llama-index-extractors-entity) (3.8.1)\n",
            "Requirement already satisfied: numpy<2.0.0 in /usr/local/lib/python3.10/dist-packages (from llama-index-core<0.11.0,>=0.10.1->llama-index-extractors-entity) (1.25.2)\n",
            "Requirement already satisfied: openai>=1.1.0 in /usr/local/lib/python3.10/dist-packages (from llama-index-core<0.11.0,>=0.10.1->llama-index-extractors-entity) (1.35.6)\n",
            "Requirement already satisfied: pandas in /usr/local/lib/python3.10/dist-packages (from llama-index-core<0.11.0,>=0.10.1->llama-index-extractors-entity) (2.0.3)\n",
            "Requirement already satisfied: pillow>=9.0.0 in /usr/local/lib/python3.10/dist-packages (from llama-index-core<0.11.0,>=0.10.1->llama-index-extractors-entity) (9.4.0)\n",
            "Requirement already satisfied: requests>=2.31.0 in /usr/local/lib/python3.10/dist-packages (from llama-index-core<0.11.0,>=0.10.1->llama-index-extractors-entity) (2.32.3)\n",
            "Requirement already satisfied: tenacity!=8.4.0,<9.0.0,>=8.2.0 in /usr/local/lib/python3.10/dist-packages (from llama-index-core<0.11.0,>=0.10.1->llama-index-extractors-entity) (8.4.1)\n",
            "Requirement already satisfied: tiktoken>=0.3.3 in /usr/local/lib/python3.10/dist-packages (from llama-index-core<0.11.0,>=0.10.1->llama-index-extractors-entity) (0.7.0)\n",
            "Requirement already satisfied: tqdm<5.0.0,>=4.66.1 in /usr/local/lib/python3.10/dist-packages (from llama-index-core<0.11.0,>=0.10.1->llama-index-extractors-entity) (4.66.4)\n",
            "Requirement already satisfied: typing-extensions>=4.5.0 in /usr/local/lib/python3.10/dist-packages (from llama-index-core<0.11.0,>=0.10.1->llama-index-extractors-entity) (4.12.2)\n",
            "Requirement already satisfied: typing-inspect>=0.8.0 in /usr/local/lib/python3.10/dist-packages (from llama-index-core<0.11.0,>=0.10.1->llama-index-extractors-entity) (0.9.0)\n",
            "Requirement already satisfied: wrapt in /usr/local/lib/python3.10/dist-packages (from llama-index-core<0.11.0,>=0.10.1->llama-index-extractors-entity) (1.14.1)\n",
            "Requirement already satisfied: torch in /usr/local/lib/python3.10/dist-packages (from span-marker<2.0.0,>=1.5.0->llama-index-extractors-entity) (2.3.0+cu121)\n",
            "Requirement already satisfied: accelerate in /usr/local/lib/python3.10/dist-packages (from span-marker<2.0.0,>=1.5.0->llama-index-extractors-entity) (0.31.0)\n",
            "Requirement already satisfied: transformers>=4.19.0 in /usr/local/lib/python3.10/dist-packages (from span-marker<2.0.0,>=1.5.0->llama-index-extractors-entity) (4.39.0)\n",
            "Requirement already satisfied: datasets>=2.14.0 in /usr/local/lib/python3.10/dist-packages (from span-marker<2.0.0,>=1.5.0->llama-index-extractors-entity) (2.20.0)\n",
            "Requirement already satisfied: packaging>=20.0 in /usr/local/lib/python3.10/dist-packages (from span-marker<2.0.0,>=1.5.0->llama-index-extractors-entity) (24.1)\n",
            "Requirement already satisfied: evaluate in /usr/local/lib/python3.10/dist-packages (from span-marker<2.0.0,>=1.5.0->llama-index-extractors-entity) (0.4.2)\n",
            "Requirement already satisfied: seqeval in /usr/local/lib/python3.10/dist-packages (from span-marker<2.0.0,>=1.5.0->llama-index-extractors-entity) (1.2.2)\n",
            "Requirement already satisfied: jinja2 in /usr/local/lib/python3.10/dist-packages (from span-marker<2.0.0,>=1.5.0->llama-index-extractors-entity) (3.1.4)\n",
            "Requirement already satisfied: huggingface-hub in /usr/local/lib/python3.10/dist-packages (from span-marker<2.0.0,>=1.5.0->llama-index-extractors-entity) (0.23.4)\n",
            "Requirement already satisfied: aiosignal>=1.1.2 in /usr/local/lib/python3.10/dist-packages (from aiohttp<4.0.0,>=3.8.6->llama-index-core<0.11.0,>=0.10.1->llama-index-extractors-entity) (1.3.1)\n",
            "Requirement already satisfied: attrs>=17.3.0 in /usr/local/lib/python3.10/dist-packages (from aiohttp<4.0.0,>=3.8.6->llama-index-core<0.11.0,>=0.10.1->llama-index-extractors-entity) (23.2.0)\n",
            "Requirement already satisfied: frozenlist>=1.1.1 in /usr/local/lib/python3.10/dist-packages (from aiohttp<4.0.0,>=3.8.6->llama-index-core<0.11.0,>=0.10.1->llama-index-extractors-entity) (1.4.1)\n",
            "Requirement already satisfied: multidict<7.0,>=4.5 in /usr/local/lib/python3.10/dist-packages (from aiohttp<4.0.0,>=3.8.6->llama-index-core<0.11.0,>=0.10.1->llama-index-extractors-entity) (6.0.5)\n",
            "Requirement already satisfied: yarl<2.0,>=1.0 in /usr/local/lib/python3.10/dist-packages (from aiohttp<4.0.0,>=3.8.6->llama-index-core<0.11.0,>=0.10.1->llama-index-extractors-entity) (1.9.4)\n",
            "Requirement already satisfied: async-timeout<5.0,>=4.0 in /usr/local/lib/python3.10/dist-packages (from aiohttp<4.0.0,>=3.8.6->llama-index-core<0.11.0,>=0.10.1->llama-index-extractors-entity) (4.0.3)\n",
            "Requirement already satisfied: filelock in /usr/local/lib/python3.10/dist-packages (from datasets>=2.14.0->span-marker<2.0.0,>=1.5.0->llama-index-extractors-entity) (3.15.3)\n",
            "Requirement already satisfied: pyarrow>=15.0.0 in /usr/local/lib/python3.10/dist-packages (from datasets>=2.14.0->span-marker<2.0.0,>=1.5.0->llama-index-extractors-entity) (16.1.0)\n",
            "Requirement already satisfied: pyarrow-hotfix in /usr/local/lib/python3.10/dist-packages (from datasets>=2.14.0->span-marker<2.0.0,>=1.5.0->llama-index-extractors-entity) (0.6)\n",
            "Requirement already satisfied: dill<0.3.9,>=0.3.0 in /usr/local/lib/python3.10/dist-packages (from datasets>=2.14.0->span-marker<2.0.0,>=1.5.0->llama-index-extractors-entity) (0.3.8)\n",
            "Requirement already satisfied: xxhash in /usr/local/lib/python3.10/dist-packages (from datasets>=2.14.0->span-marker<2.0.0,>=1.5.0->llama-index-extractors-entity) (3.4.1)\n",
            "Requirement already satisfied: multiprocess in /usr/local/lib/python3.10/dist-packages (from datasets>=2.14.0->span-marker<2.0.0,>=1.5.0->llama-index-extractors-entity) (0.70.16)\n",
            "Requirement already satisfied: pydantic>=1.10 in /usr/local/lib/python3.10/dist-packages (from llama-cloud<0.0.7,>=0.0.6->llama-index-core<0.11.0,>=0.10.1->llama-index-extractors-entity) (2.7.4)\n",
            "Requirement already satisfied: anyio in /usr/local/lib/python3.10/dist-packages (from httpx->llama-index-core<0.11.0,>=0.10.1->llama-index-extractors-entity) (3.7.1)\n",
            "Requirement already satisfied: certifi in /usr/local/lib/python3.10/dist-packages (from httpx->llama-index-core<0.11.0,>=0.10.1->llama-index-extractors-entity) (2024.6.2)\n",
            "Requirement already satisfied: httpcore==1.* in /usr/local/lib/python3.10/dist-packages (from httpx->llama-index-core<0.11.0,>=0.10.1->llama-index-extractors-entity) (1.0.5)\n",
            "Requirement already satisfied: idna in /usr/local/lib/python3.10/dist-packages (from httpx->llama-index-core<0.11.0,>=0.10.1->llama-index-extractors-entity) (3.7)\n",
            "Requirement already satisfied: sniffio in /usr/local/lib/python3.10/dist-packages (from httpx->llama-index-core<0.11.0,>=0.10.1->llama-index-extractors-entity) (1.3.1)\n",
            "Requirement already satisfied: h11<0.15,>=0.13 in /usr/local/lib/python3.10/dist-packages (from httpcore==1.*->httpx->llama-index-core<0.11.0,>=0.10.1->llama-index-extractors-entity) (0.14.0)\n",
            "Requirement already satisfied: click in /usr/local/lib/python3.10/dist-packages (from nltk<4.0.0,>=3.8.1->llama-index-core<0.11.0,>=0.10.1->llama-index-extractors-entity) (8.1.7)\n",
            "Requirement already satisfied: joblib in /usr/local/lib/python3.10/dist-packages (from nltk<4.0.0,>=3.8.1->llama-index-core<0.11.0,>=0.10.1->llama-index-extractors-entity) (1.4.2)\n",
            "Requirement already satisfied: regex>=2021.8.3 in /usr/local/lib/python3.10/dist-packages (from nltk<4.0.0,>=3.8.1->llama-index-core<0.11.0,>=0.10.1->llama-index-extractors-entity) (2024.5.15)\n",
            "Requirement already satisfied: distro<2,>=1.7.0 in /usr/lib/python3/dist-packages (from openai>=1.1.0->llama-index-core<0.11.0,>=0.10.1->llama-index-extractors-entity) (1.7.0)\n",
            "Requirement already satisfied: charset-normalizer<4,>=2 in /usr/local/lib/python3.10/dist-packages (from requests>=2.31.0->llama-index-core<0.11.0,>=0.10.1->llama-index-extractors-entity) (3.3.2)\n",
            "Requirement already satisfied: urllib3<3,>=1.21.1 in /usr/local/lib/python3.10/dist-packages (from requests>=2.31.0->llama-index-core<0.11.0,>=0.10.1->llama-index-extractors-entity) (2.0.7)\n",
            "Requirement already satisfied: greenlet!=0.4.17 in /usr/local/lib/python3.10/dist-packages (from SQLAlchemy[asyncio]>=1.4.49->llama-index-core<0.11.0,>=0.10.1->llama-index-extractors-entity) (3.0.3)\n",
            "Requirement already satisfied: tokenizers<0.19,>=0.14 in /usr/local/lib/python3.10/dist-packages (from transformers>=4.19.0->span-marker<2.0.0,>=1.5.0->llama-index-extractors-entity) (0.15.2)\n",
            "Requirement already satisfied: safetensors>=0.4.1 in /usr/local/lib/python3.10/dist-packages (from transformers>=4.19.0->span-marker<2.0.0,>=1.5.0->llama-index-extractors-entity) (0.4.3)\n",
            "Requirement already satisfied: mypy-extensions>=0.3.0 in /usr/local/lib/python3.10/dist-packages (from typing-inspect>=0.8.0->llama-index-core<0.11.0,>=0.10.1->llama-index-extractors-entity) (1.0.0)\n",
            "Requirement already satisfied: psutil in /usr/local/lib/python3.10/dist-packages (from accelerate->span-marker<2.0.0,>=1.5.0->llama-index-extractors-entity) (5.9.5)\n",
            "Requirement already satisfied: sympy in /usr/local/lib/python3.10/dist-packages (from torch->span-marker<2.0.0,>=1.5.0->llama-index-extractors-entity) (1.12.1)\n",
            "Requirement already satisfied: nvidia-cuda-nvrtc-cu12==12.1.105 in /usr/local/lib/python3.10/dist-packages (from torch->span-marker<2.0.0,>=1.5.0->llama-index-extractors-entity) (12.1.105)\n",
            "Requirement already satisfied: nvidia-cuda-runtime-cu12==12.1.105 in /usr/local/lib/python3.10/dist-packages (from torch->span-marker<2.0.0,>=1.5.0->llama-index-extractors-entity) (12.1.105)\n",
            "Requirement already satisfied: nvidia-cuda-cupti-cu12==12.1.105 in /usr/local/lib/python3.10/dist-packages (from torch->span-marker<2.0.0,>=1.5.0->llama-index-extractors-entity) (12.1.105)\n",
            "Requirement already satisfied: nvidia-cudnn-cu12==8.9.2.26 in /usr/local/lib/python3.10/dist-packages (from torch->span-marker<2.0.0,>=1.5.0->llama-index-extractors-entity) (8.9.2.26)\n",
            "Requirement already satisfied: nvidia-cublas-cu12==12.1.3.1 in /usr/local/lib/python3.10/dist-packages (from torch->span-marker<2.0.0,>=1.5.0->llama-index-extractors-entity) (12.1.3.1)\n",
            "Requirement already satisfied: nvidia-cufft-cu12==11.0.2.54 in /usr/local/lib/python3.10/dist-packages (from torch->span-marker<2.0.0,>=1.5.0->llama-index-extractors-entity) (11.0.2.54)\n",
            "Requirement already satisfied: nvidia-curand-cu12==10.3.2.106 in /usr/local/lib/python3.10/dist-packages (from torch->span-marker<2.0.0,>=1.5.0->llama-index-extractors-entity) (10.3.2.106)\n",
            "Requirement already satisfied: nvidia-cusolver-cu12==11.4.5.107 in /usr/local/lib/python3.10/dist-packages (from torch->span-marker<2.0.0,>=1.5.0->llama-index-extractors-entity) (11.4.5.107)\n",
            "Requirement already satisfied: nvidia-cusparse-cu12==12.1.0.106 in /usr/local/lib/python3.10/dist-packages (from torch->span-marker<2.0.0,>=1.5.0->llama-index-extractors-entity) (12.1.0.106)\n",
            "Requirement already satisfied: nvidia-nccl-cu12==2.20.5 in /usr/local/lib/python3.10/dist-packages (from torch->span-marker<2.0.0,>=1.5.0->llama-index-extractors-entity) (2.20.5)\n",
            "Requirement already satisfied: nvidia-nvtx-cu12==12.1.105 in /usr/local/lib/python3.10/dist-packages (from torch->span-marker<2.0.0,>=1.5.0->llama-index-extractors-entity) (12.1.105)\n",
            "Requirement already satisfied: triton==2.3.0 in /usr/local/lib/python3.10/dist-packages (from torch->span-marker<2.0.0,>=1.5.0->llama-index-extractors-entity) (2.3.0)\n",
            "Requirement already satisfied: nvidia-nvjitlink-cu12 in /usr/local/lib/python3.10/dist-packages (from nvidia-cusolver-cu12==11.4.5.107->torch->span-marker<2.0.0,>=1.5.0->llama-index-extractors-entity) (12.5.40)\n",
            "Requirement already satisfied: marshmallow<4.0.0,>=3.18.0 in /usr/local/lib/python3.10/dist-packages (from dataclasses-json->llama-index-core<0.11.0,>=0.10.1->llama-index-extractors-entity) (3.21.3)\n",
            "Requirement already satisfied: MarkupSafe>=2.0 in /usr/local/lib/python3.10/dist-packages (from jinja2->span-marker<2.0.0,>=1.5.0->llama-index-extractors-entity) (2.1.5)\n",
            "Requirement already satisfied: python-dateutil>=2.8.2 in /usr/local/lib/python3.10/dist-packages (from pandas->llama-index-core<0.11.0,>=0.10.1->llama-index-extractors-entity) (2.8.2)\n",
            "Requirement already satisfied: pytz>=2020.1 in /usr/local/lib/python3.10/dist-packages (from pandas->llama-index-core<0.11.0,>=0.10.1->llama-index-extractors-entity) (2023.4)\n",
            "Requirement already satisfied: tzdata>=2022.1 in /usr/local/lib/python3.10/dist-packages (from pandas->llama-index-core<0.11.0,>=0.10.1->llama-index-extractors-entity) (2024.1)\n",
            "Requirement already satisfied: scikit-learn>=0.21.3 in /usr/local/lib/python3.10/dist-packages (from seqeval->span-marker<2.0.0,>=1.5.0->llama-index-extractors-entity) (1.2.2)\n",
            "Requirement already satisfied: exceptiongroup in /usr/local/lib/python3.10/dist-packages (from anyio->httpx->llama-index-core<0.11.0,>=0.10.1->llama-index-extractors-entity) (1.2.1)\n",
            "Requirement already satisfied: annotated-types>=0.4.0 in /usr/local/lib/python3.10/dist-packages (from pydantic>=1.10->llama-cloud<0.0.7,>=0.0.6->llama-index-core<0.11.0,>=0.10.1->llama-index-extractors-entity) (0.7.0)\n",
            "Requirement already satisfied: pydantic-core==2.18.4 in /usr/local/lib/python3.10/dist-packages (from pydantic>=1.10->llama-cloud<0.0.7,>=0.0.6->llama-index-core<0.11.0,>=0.10.1->llama-index-extractors-entity) (2.18.4)\n",
            "Requirement already satisfied: six>=1.5 in /usr/local/lib/python3.10/dist-packages (from python-dateutil>=2.8.2->pandas->llama-index-core<0.11.0,>=0.10.1->llama-index-extractors-entity) (1.16.0)\n",
            "Requirement already satisfied: scipy>=1.3.2 in /usr/local/lib/python3.10/dist-packages (from scikit-learn>=0.21.3->seqeval->span-marker<2.0.0,>=1.5.0->llama-index-extractors-entity) (1.11.4)\n",
            "Requirement already satisfied: threadpoolctl>=2.0.0 in /usr/local/lib/python3.10/dist-packages (from scikit-learn>=0.21.3->seqeval->span-marker<2.0.0,>=1.5.0->llama-index-extractors-entity) (3.5.0)\n",
            "Requirement already satisfied: mpmath<1.4.0,>=1.1.0 in /usr/local/lib/python3.10/dist-packages (from sympy->torch->span-marker<2.0.0,>=1.5.0->llama-index-extractors-entity) (1.3.0)\n"
          ]
        }
      ]
    },
    {
      "cell_type": "code",
      "source": [
        "!pip install nest_asyncio"
      ],
      "metadata": {
        "colab": {
          "base_uri": "https://localhost:8080/"
        },
        "id": "Al4fWCXdxDwk",
        "outputId": "7f6c18a3-fce7-4d9c-eef1-f2508dd5a94a"
      },
      "execution_count": 7,
      "outputs": [
        {
          "output_type": "stream",
          "name": "stdout",
          "text": [
            "Requirement already satisfied: nest_asyncio in /usr/local/lib/python3.10/dist-packages (1.6.0)\n"
          ]
        }
      ]
    },
    {
      "cell_type": "code",
      "source": [
        "!pip install -U span-marker"
      ],
      "metadata": {
        "colab": {
          "base_uri": "https://localhost:8080/"
        },
        "id": "qT9hz7aK-tnm",
        "outputId": "68b5774b-7985-4219-95c4-0da0268a0541"
      },
      "execution_count": 8,
      "outputs": [
        {
          "output_type": "stream",
          "name": "stdout",
          "text": [
            "Requirement already satisfied: span-marker in /usr/local/lib/python3.10/dist-packages (1.5.0)\n",
            "Requirement already satisfied: torch in /usr/local/lib/python3.10/dist-packages (from span-marker) (2.3.0+cu121)\n",
            "Requirement already satisfied: accelerate in /usr/local/lib/python3.10/dist-packages (from span-marker) (0.31.0)\n",
            "Requirement already satisfied: transformers>=4.19.0 in /usr/local/lib/python3.10/dist-packages (from span-marker) (4.39.0)\n",
            "Requirement already satisfied: datasets>=2.14.0 in /usr/local/lib/python3.10/dist-packages (from span-marker) (2.20.0)\n",
            "Requirement already satisfied: packaging>=20.0 in /usr/local/lib/python3.10/dist-packages (from span-marker) (24.1)\n",
            "Requirement already satisfied: evaluate in /usr/local/lib/python3.10/dist-packages (from span-marker) (0.4.2)\n",
            "Requirement already satisfied: seqeval in /usr/local/lib/python3.10/dist-packages (from span-marker) (1.2.2)\n",
            "Requirement already satisfied: jinja2 in /usr/local/lib/python3.10/dist-packages (from span-marker) (3.1.4)\n",
            "Requirement already satisfied: huggingface-hub in /usr/local/lib/python3.10/dist-packages (from span-marker) (0.23.4)\n",
            "Requirement already satisfied: filelock in /usr/local/lib/python3.10/dist-packages (from datasets>=2.14.0->span-marker) (3.15.3)\n",
            "Requirement already satisfied: numpy>=1.17 in /usr/local/lib/python3.10/dist-packages (from datasets>=2.14.0->span-marker) (1.25.2)\n",
            "Requirement already satisfied: pyarrow>=15.0.0 in /usr/local/lib/python3.10/dist-packages (from datasets>=2.14.0->span-marker) (16.1.0)\n",
            "Requirement already satisfied: pyarrow-hotfix in /usr/local/lib/python3.10/dist-packages (from datasets>=2.14.0->span-marker) (0.6)\n",
            "Requirement already satisfied: dill<0.3.9,>=0.3.0 in /usr/local/lib/python3.10/dist-packages (from datasets>=2.14.0->span-marker) (0.3.8)\n",
            "Requirement already satisfied: pandas in /usr/local/lib/python3.10/dist-packages (from datasets>=2.14.0->span-marker) (2.0.3)\n",
            "Requirement already satisfied: requests>=2.32.2 in /usr/local/lib/python3.10/dist-packages (from datasets>=2.14.0->span-marker) (2.32.3)\n",
            "Requirement already satisfied: tqdm>=4.66.3 in /usr/local/lib/python3.10/dist-packages (from datasets>=2.14.0->span-marker) (4.66.4)\n",
            "Requirement already satisfied: xxhash in /usr/local/lib/python3.10/dist-packages (from datasets>=2.14.0->span-marker) (3.4.1)\n",
            "Requirement already satisfied: multiprocess in /usr/local/lib/python3.10/dist-packages (from datasets>=2.14.0->span-marker) (0.70.16)\n",
            "Requirement already satisfied: fsspec[http]<=2024.5.0,>=2023.1.0 in /usr/local/lib/python3.10/dist-packages (from datasets>=2.14.0->span-marker) (2023.6.0)\n",
            "Requirement already satisfied: aiohttp in /usr/local/lib/python3.10/dist-packages (from datasets>=2.14.0->span-marker) (3.9.5)\n",
            "Requirement already satisfied: pyyaml>=5.1 in /usr/local/lib/python3.10/dist-packages (from datasets>=2.14.0->span-marker) (6.0.1)\n",
            "Requirement already satisfied: typing-extensions>=3.7.4.3 in /usr/local/lib/python3.10/dist-packages (from huggingface-hub->span-marker) (4.12.2)\n",
            "Requirement already satisfied: regex!=2019.12.17 in /usr/local/lib/python3.10/dist-packages (from transformers>=4.19.0->span-marker) (2024.5.15)\n",
            "Requirement already satisfied: tokenizers<0.19,>=0.14 in /usr/local/lib/python3.10/dist-packages (from transformers>=4.19.0->span-marker) (0.15.2)\n",
            "Requirement already satisfied: safetensors>=0.4.1 in /usr/local/lib/python3.10/dist-packages (from transformers>=4.19.0->span-marker) (0.4.3)\n",
            "Requirement already satisfied: psutil in /usr/local/lib/python3.10/dist-packages (from accelerate->span-marker) (5.9.5)\n",
            "Requirement already satisfied: sympy in /usr/local/lib/python3.10/dist-packages (from torch->span-marker) (1.12.1)\n",
            "Requirement already satisfied: networkx in /usr/local/lib/python3.10/dist-packages (from torch->span-marker) (3.3)\n",
            "Requirement already satisfied: nvidia-cuda-nvrtc-cu12==12.1.105 in /usr/local/lib/python3.10/dist-packages (from torch->span-marker) (12.1.105)\n",
            "Requirement already satisfied: nvidia-cuda-runtime-cu12==12.1.105 in /usr/local/lib/python3.10/dist-packages (from torch->span-marker) (12.1.105)\n",
            "Requirement already satisfied: nvidia-cuda-cupti-cu12==12.1.105 in /usr/local/lib/python3.10/dist-packages (from torch->span-marker) (12.1.105)\n",
            "Requirement already satisfied: nvidia-cudnn-cu12==8.9.2.26 in /usr/local/lib/python3.10/dist-packages (from torch->span-marker) (8.9.2.26)\n",
            "Requirement already satisfied: nvidia-cublas-cu12==12.1.3.1 in /usr/local/lib/python3.10/dist-packages (from torch->span-marker) (12.1.3.1)\n",
            "Requirement already satisfied: nvidia-cufft-cu12==11.0.2.54 in /usr/local/lib/python3.10/dist-packages (from torch->span-marker) (11.0.2.54)\n",
            "Requirement already satisfied: nvidia-curand-cu12==10.3.2.106 in /usr/local/lib/python3.10/dist-packages (from torch->span-marker) (10.3.2.106)\n",
            "Requirement already satisfied: nvidia-cusolver-cu12==11.4.5.107 in /usr/local/lib/python3.10/dist-packages (from torch->span-marker) (11.4.5.107)\n",
            "Requirement already satisfied: nvidia-cusparse-cu12==12.1.0.106 in /usr/local/lib/python3.10/dist-packages (from torch->span-marker) (12.1.0.106)\n",
            "Requirement already satisfied: nvidia-nccl-cu12==2.20.5 in /usr/local/lib/python3.10/dist-packages (from torch->span-marker) (2.20.5)\n",
            "Requirement already satisfied: nvidia-nvtx-cu12==12.1.105 in /usr/local/lib/python3.10/dist-packages (from torch->span-marker) (12.1.105)\n",
            "Requirement already satisfied: triton==2.3.0 in /usr/local/lib/python3.10/dist-packages (from torch->span-marker) (2.3.0)\n",
            "Requirement already satisfied: nvidia-nvjitlink-cu12 in /usr/local/lib/python3.10/dist-packages (from nvidia-cusolver-cu12==11.4.5.107->torch->span-marker) (12.5.40)\n",
            "Requirement already satisfied: MarkupSafe>=2.0 in /usr/local/lib/python3.10/dist-packages (from jinja2->span-marker) (2.1.5)\n",
            "Requirement already satisfied: scikit-learn>=0.21.3 in /usr/local/lib/python3.10/dist-packages (from seqeval->span-marker) (1.2.2)\n",
            "Requirement already satisfied: aiosignal>=1.1.2 in /usr/local/lib/python3.10/dist-packages (from aiohttp->datasets>=2.14.0->span-marker) (1.3.1)\n",
            "Requirement already satisfied: attrs>=17.3.0 in /usr/local/lib/python3.10/dist-packages (from aiohttp->datasets>=2.14.0->span-marker) (23.2.0)\n",
            "Requirement already satisfied: frozenlist>=1.1.1 in /usr/local/lib/python3.10/dist-packages (from aiohttp->datasets>=2.14.0->span-marker) (1.4.1)\n",
            "Requirement already satisfied: multidict<7.0,>=4.5 in /usr/local/lib/python3.10/dist-packages (from aiohttp->datasets>=2.14.0->span-marker) (6.0.5)\n",
            "Requirement already satisfied: yarl<2.0,>=1.0 in /usr/local/lib/python3.10/dist-packages (from aiohttp->datasets>=2.14.0->span-marker) (1.9.4)\n",
            "Requirement already satisfied: async-timeout<5.0,>=4.0 in /usr/local/lib/python3.10/dist-packages (from aiohttp->datasets>=2.14.0->span-marker) (4.0.3)\n",
            "Requirement already satisfied: charset-normalizer<4,>=2 in /usr/local/lib/python3.10/dist-packages (from requests>=2.32.2->datasets>=2.14.0->span-marker) (3.3.2)\n",
            "Requirement already satisfied: idna<4,>=2.5 in /usr/local/lib/python3.10/dist-packages (from requests>=2.32.2->datasets>=2.14.0->span-marker) (3.7)\n",
            "Requirement already satisfied: urllib3<3,>=1.21.1 in /usr/local/lib/python3.10/dist-packages (from requests>=2.32.2->datasets>=2.14.0->span-marker) (2.0.7)\n",
            "Requirement already satisfied: certifi>=2017.4.17 in /usr/local/lib/python3.10/dist-packages (from requests>=2.32.2->datasets>=2.14.0->span-marker) (2024.6.2)\n",
            "Requirement already satisfied: scipy>=1.3.2 in /usr/local/lib/python3.10/dist-packages (from scikit-learn>=0.21.3->seqeval->span-marker) (1.11.4)\n",
            "Requirement already satisfied: joblib>=1.1.1 in /usr/local/lib/python3.10/dist-packages (from scikit-learn>=0.21.3->seqeval->span-marker) (1.4.2)\n",
            "Requirement already satisfied: threadpoolctl>=2.0.0 in /usr/local/lib/python3.10/dist-packages (from scikit-learn>=0.21.3->seqeval->span-marker) (3.5.0)\n",
            "Requirement already satisfied: python-dateutil>=2.8.2 in /usr/local/lib/python3.10/dist-packages (from pandas->datasets>=2.14.0->span-marker) (2.8.2)\n",
            "Requirement already satisfied: pytz>=2020.1 in /usr/local/lib/python3.10/dist-packages (from pandas->datasets>=2.14.0->span-marker) (2023.4)\n",
            "Requirement already satisfied: tzdata>=2022.1 in /usr/local/lib/python3.10/dist-packages (from pandas->datasets>=2.14.0->span-marker) (2024.1)\n",
            "Requirement already satisfied: mpmath<1.4.0,>=1.1.0 in /usr/local/lib/python3.10/dist-packages (from sympy->torch->span-marker) (1.3.0)\n",
            "Requirement already satisfied: six>=1.5 in /usr/local/lib/python3.10/dist-packages (from python-dateutil>=2.8.2->pandas->datasets>=2.14.0->span-marker) (1.16.0)\n"
          ]
        }
      ]
    },
    {
      "cell_type": "code",
      "source": [
        "!pip install transformers==4.39"
      ],
      "metadata": {
        "colab": {
          "base_uri": "https://localhost:8080/"
        },
        "id": "bBrazRmazGP8",
        "outputId": "cc0f981e-60bc-4feb-bedf-363f7c4143ae"
      },
      "execution_count": 9,
      "outputs": [
        {
          "output_type": "stream",
          "name": "stdout",
          "text": [
            "Requirement already satisfied: transformers==4.39 in /usr/local/lib/python3.10/dist-packages (4.39.0)\n",
            "Requirement already satisfied: filelock in /usr/local/lib/python3.10/dist-packages (from transformers==4.39) (3.15.3)\n",
            "Requirement already satisfied: huggingface-hub<1.0,>=0.19.3 in /usr/local/lib/python3.10/dist-packages (from transformers==4.39) (0.23.4)\n",
            "Requirement already satisfied: numpy>=1.17 in /usr/local/lib/python3.10/dist-packages (from transformers==4.39) (1.25.2)\n",
            "Requirement already satisfied: packaging>=20.0 in /usr/local/lib/python3.10/dist-packages (from transformers==4.39) (24.1)\n",
            "Requirement already satisfied: pyyaml>=5.1 in /usr/local/lib/python3.10/dist-packages (from transformers==4.39) (6.0.1)\n",
            "Requirement already satisfied: regex!=2019.12.17 in /usr/local/lib/python3.10/dist-packages (from transformers==4.39) (2024.5.15)\n",
            "Requirement already satisfied: requests in /usr/local/lib/python3.10/dist-packages (from transformers==4.39) (2.32.3)\n",
            "Requirement already satisfied: tokenizers<0.19,>=0.14 in /usr/local/lib/python3.10/dist-packages (from transformers==4.39) (0.15.2)\n",
            "Requirement already satisfied: safetensors>=0.4.1 in /usr/local/lib/python3.10/dist-packages (from transformers==4.39) (0.4.3)\n",
            "Requirement already satisfied: tqdm>=4.27 in /usr/local/lib/python3.10/dist-packages (from transformers==4.39) (4.66.4)\n",
            "Requirement already satisfied: fsspec>=2023.5.0 in /usr/local/lib/python3.10/dist-packages (from huggingface-hub<1.0,>=0.19.3->transformers==4.39) (2023.6.0)\n",
            "Requirement already satisfied: typing-extensions>=3.7.4.3 in /usr/local/lib/python3.10/dist-packages (from huggingface-hub<1.0,>=0.19.3->transformers==4.39) (4.12.2)\n",
            "Requirement already satisfied: charset-normalizer<4,>=2 in /usr/local/lib/python3.10/dist-packages (from requests->transformers==4.39) (3.3.2)\n",
            "Requirement already satisfied: idna<4,>=2.5 in /usr/local/lib/python3.10/dist-packages (from requests->transformers==4.39) (3.7)\n",
            "Requirement already satisfied: urllib3<3,>=1.21.1 in /usr/local/lib/python3.10/dist-packages (from requests->transformers==4.39) (2.0.7)\n",
            "Requirement already satisfied: certifi>=2017.4.17 in /usr/local/lib/python3.10/dist-packages (from requests->transformers==4.39) (2024.6.2)\n"
          ]
        }
      ]
    },
    {
      "cell_type": "code",
      "source": [
        "!pip install bitsandbytes"
      ],
      "metadata": {
        "colab": {
          "base_uri": "https://localhost:8080/"
        },
        "id": "RozMbuuF9mN8",
        "outputId": "b76d2648-7e4e-4ffe-e3ce-8452e7dbfcc5"
      },
      "execution_count": 10,
      "outputs": [
        {
          "output_type": "stream",
          "name": "stdout",
          "text": [
            "Requirement already satisfied: bitsandbytes in /usr/local/lib/python3.10/dist-packages (0.43.1)\n",
            "Requirement already satisfied: torch in /usr/local/lib/python3.10/dist-packages (from bitsandbytes) (2.3.0+cu121)\n",
            "Requirement already satisfied: numpy in /usr/local/lib/python3.10/dist-packages (from bitsandbytes) (1.25.2)\n",
            "Requirement already satisfied: filelock in /usr/local/lib/python3.10/dist-packages (from torch->bitsandbytes) (3.15.3)\n",
            "Requirement already satisfied: typing-extensions>=4.8.0 in /usr/local/lib/python3.10/dist-packages (from torch->bitsandbytes) (4.12.2)\n",
            "Requirement already satisfied: sympy in /usr/local/lib/python3.10/dist-packages (from torch->bitsandbytes) (1.12.1)\n",
            "Requirement already satisfied: networkx in /usr/local/lib/python3.10/dist-packages (from torch->bitsandbytes) (3.3)\n",
            "Requirement already satisfied: jinja2 in /usr/local/lib/python3.10/dist-packages (from torch->bitsandbytes) (3.1.4)\n",
            "Requirement already satisfied: fsspec in /usr/local/lib/python3.10/dist-packages (from torch->bitsandbytes) (2023.6.0)\n",
            "Requirement already satisfied: nvidia-cuda-nvrtc-cu12==12.1.105 in /usr/local/lib/python3.10/dist-packages (from torch->bitsandbytes) (12.1.105)\n",
            "Requirement already satisfied: nvidia-cuda-runtime-cu12==12.1.105 in /usr/local/lib/python3.10/dist-packages (from torch->bitsandbytes) (12.1.105)\n",
            "Requirement already satisfied: nvidia-cuda-cupti-cu12==12.1.105 in /usr/local/lib/python3.10/dist-packages (from torch->bitsandbytes) (12.1.105)\n",
            "Requirement already satisfied: nvidia-cudnn-cu12==8.9.2.26 in /usr/local/lib/python3.10/dist-packages (from torch->bitsandbytes) (8.9.2.26)\n",
            "Requirement already satisfied: nvidia-cublas-cu12==12.1.3.1 in /usr/local/lib/python3.10/dist-packages (from torch->bitsandbytes) (12.1.3.1)\n",
            "Requirement already satisfied: nvidia-cufft-cu12==11.0.2.54 in /usr/local/lib/python3.10/dist-packages (from torch->bitsandbytes) (11.0.2.54)\n",
            "Requirement already satisfied: nvidia-curand-cu12==10.3.2.106 in /usr/local/lib/python3.10/dist-packages (from torch->bitsandbytes) (10.3.2.106)\n",
            "Requirement already satisfied: nvidia-cusolver-cu12==11.4.5.107 in /usr/local/lib/python3.10/dist-packages (from torch->bitsandbytes) (11.4.5.107)\n",
            "Requirement already satisfied: nvidia-cusparse-cu12==12.1.0.106 in /usr/local/lib/python3.10/dist-packages (from torch->bitsandbytes) (12.1.0.106)\n",
            "Requirement already satisfied: nvidia-nccl-cu12==2.20.5 in /usr/local/lib/python3.10/dist-packages (from torch->bitsandbytes) (2.20.5)\n",
            "Requirement already satisfied: nvidia-nvtx-cu12==12.1.105 in /usr/local/lib/python3.10/dist-packages (from torch->bitsandbytes) (12.1.105)\n",
            "Requirement already satisfied: triton==2.3.0 in /usr/local/lib/python3.10/dist-packages (from torch->bitsandbytes) (2.3.0)\n",
            "Requirement already satisfied: nvidia-nvjitlink-cu12 in /usr/local/lib/python3.10/dist-packages (from nvidia-cusolver-cu12==11.4.5.107->torch->bitsandbytes) (12.5.40)\n",
            "Requirement already satisfied: MarkupSafe>=2.0 in /usr/local/lib/python3.10/dist-packages (from jinja2->torch->bitsandbytes) (2.1.5)\n",
            "Requirement already satisfied: mpmath<1.4.0,>=1.1.0 in /usr/local/lib/python3.10/dist-packages (from sympy->torch->bitsandbytes) (1.3.0)\n"
          ]
        }
      ]
    },
    {
      "cell_type": "code",
      "source": [
        "import nest_asyncio\n",
        "import os"
      ],
      "metadata": {
        "id": "JkgPP4QTzHEo"
      },
      "execution_count": 11,
      "outputs": []
    },
    {
      "cell_type": "code",
      "source": [
        "nest_asyncio.apply()"
      ],
      "metadata": {
        "id": "44o-7oREzLYL"
      },
      "execution_count": 12,
      "outputs": []
    },
    {
      "cell_type": "code",
      "source": [
        "from google.colab import userdata, drive\n"
      ],
      "metadata": {
        "id": "ExmCy5kyjw3A"
      },
      "execution_count": 13,
      "outputs": []
    },
    {
      "cell_type": "code",
      "source": [
        "#Transformer imports\n",
        "from transformers import BitsAndBytesConfig\n",
        "import transformers"
      ],
      "metadata": {
        "id": "Zy4wLd7f9HkI"
      },
      "execution_count": 14,
      "outputs": []
    },
    {
      "cell_type": "code",
      "source": [
        "#Pytorch import\n",
        "import torch"
      ],
      "metadata": {
        "id": "w9rAiqxY7H1L"
      },
      "execution_count": 15,
      "outputs": []
    },
    {
      "cell_type": "code",
      "source": [
        "#LlamaIndex imports\n",
        "from llama_index.core import SimpleDirectoryReader, Settings, Document\n",
        "\n",
        "from llama_index.core.node_parser import SentenceSplitter, TokenTextSplitter\n",
        "\n",
        "from llama_index.core.ingestion import IngestionPipeline\n",
        "\n",
        "from llama_index.extractors.entity import EntityExtractor #, TitleExtractor\n",
        "\n",
        "from llama_index.llms.huggingface import HuggingFaceLLM\n",
        "\n",
        "from llama_index.core import SummaryIndex, VectorStoreIndex, ServiceContext\n",
        "\n",
        "from llama_index.core.tools import QueryEngineTool\n",
        "\n",
        "from llama_index.core.query_engine import RouterQueryEngine\n",
        "from llama_index.core.selectors import LLMSingleSelector\n",
        "#from llama_index.core.llms import LLMPredictor\n",
        "\n",
        "\n",
        "#from llama_index.llms import HuggingFaceLLM\n",
        "#from llama_index.embeddings import HuggingFaceEmbeddings"
      ],
      "metadata": {
        "id": "LjbhFYhlmVm2",
        "colab": {
          "base_uri": "https://localhost:8080/"
        },
        "outputId": "c29e31e4-3885-4a7d-ba44-37b0ddd00e38"
      },
      "execution_count": 16,
      "outputs": [
        {
          "output_type": "stream",
          "name": "stderr",
          "text": [
            "/usr/local/lib/python3.10/dist-packages/pydantic/_internal/_fields.py:160: UserWarning: Field \"model_id\" has conflict with protected namespace \"model_\".\n",
            "\n",
            "You may be able to resolve this warning by setting `model_config['protected_namespaces'] = ()`.\n",
            "  warnings.warn(\n"
          ]
        }
      ]
    },
    {
      "cell_type": "code",
      "source": [
        "from huggingface_hub import login"
      ],
      "metadata": {
        "id": "yaIAHtyOzGmx"
      },
      "execution_count": 17,
      "outputs": []
    },
    {
      "cell_type": "code",
      "source": [
        "openApiToken = userdata.get('OPENAI_API_KEY')\n",
        "os.environ['OPENAI_API_KEY'] = openApiToken"
      ],
      "metadata": {
        "id": "Uq_EFRtKgMdE"
      },
      "execution_count": 18,
      "outputs": []
    },
    {
      "cell_type": "code",
      "source": [
        "huggingFaceToken = userdata.get('HF_TOKEN_DATAENLIGHT')\n",
        "login(huggingFaceToken)"
      ],
      "metadata": {
        "colab": {
          "base_uri": "https://localhost:8080/"
        },
        "id": "1h_-nmTCjrg4",
        "outputId": "b4202a84-7f83-4eaa-d327-b1e89b6209c2"
      },
      "execution_count": 19,
      "outputs": [
        {
          "output_type": "stream",
          "name": "stdout",
          "text": [
            "The token has not been saved to the git credentials helper. Pass `add_to_git_credential=True` in this function directly or `--add-to-git-credential` if using via `huggingface-cli` if you want to set the git credential as well.\n",
            "Token is valid (permission: read).\n",
            "Your token has been saved to /root/.cache/huggingface/token\n",
            "Login successful\n"
          ]
        }
      ]
    },
    {
      "cell_type": "code",
      "source": [
        "drive.mount('/content/drive')"
      ],
      "metadata": {
        "colab": {
          "base_uri": "https://localhost:8080/"
        },
        "id": "U-dHsSU7kk_X",
        "outputId": "05a9647e-8291-44ad-d399-1dbe6f334d51"
      },
      "execution_count": 20,
      "outputs": [
        {
          "output_type": "stream",
          "name": "stdout",
          "text": [
            "Drive already mounted at /content/drive; to attempt to forcibly remount, call drive.mount(\"/content/drive\", force_remount=True).\n"
          ]
        }
      ]
    },
    {
      "cell_type": "code",
      "source": [
        "defaultTextSplitter = SentenceSplitter(chunk_size=512, chunk_overlap = 256)\n",
        "Settings.text_splitter = defaultTextSplitter"
      ],
      "metadata": {
        "id": "QyZ4FY9EpcW_"
      },
      "execution_count": 21,
      "outputs": []
    },
    {
      "cell_type": "code",
      "source": [
        "#Importing documents\n",
        "pdfFilePath = \"/content/drive/MyDrive/Colab Notebooks/GATECH LLM Seminar/RAG Project/data/Orientation Documents-Spring 2024 Orientation Document.pdf\"\n",
        "pdfFileDirectory = \"/content/drive/MyDrive/Colab Notebooks/GATECH LLM Seminar/RAG Project/data/\"\n",
        "\n",
        "pdfDocLs = SimpleDirectoryReader(pdfFileDirectory).load_data()"
      ],
      "metadata": {
        "id": "ilgeGUkklABs"
      },
      "execution_count": 22,
      "outputs": []
    },
    {
      "cell_type": "code",
      "source": [
        "pdfDocLs[0]"
      ],
      "metadata": {
        "colab": {
          "base_uri": "https://localhost:8080/"
        },
        "id": "CIWocQ_HnGK1",
        "outputId": "4c360980-11d1-4427-8906-319d596a58d9"
      },
      "execution_count": 23,
      "outputs": [
        {
          "output_type": "execute_result",
          "data": {
            "text/plain": [
              "Document(id_='3b062846-297f-4576-a7f9-bfe185290edd', embedding=None, metadata={'page_label': '1', 'file_name': 'Orientation Documents-Spring 2024 Orientation Document.pdf', 'file_path': '/content/drive/MyDrive/Colab Notebooks/GATECH LLM Seminar/RAG Project/data/Orientation Documents-Spring 2024 Orientation Document.pdf', 'file_type': 'application/pdf', 'file_size': 632296, 'creation_date': '2024-06-27', 'last_modified_date': '2024-06-12'}, excluded_embed_metadata_keys=['file_name', 'file_type', 'file_size', 'creation_date', 'last_modified_date', 'last_accessed_date'], excluded_llm_metadata_keys=['file_name', 'file_type', 'file_size', 'creation_date', 'last_modified_date', 'last_accessed_date'], relationships={}, text='Online\\nMaster\\nof\\nScience\\nin\\nComputer\\nScience\\n(OMSCS)\\nSpring\\n2024\\n', mimetype='text/plain', start_char_idx=None, end_char_idx=None, text_template='{metadata_str}\\n\\n{content}', metadata_template='{key}: {value}', metadata_seperator='\\n')"
            ]
          },
          "metadata": {},
          "execution_count": 23
        }
      ]
    },
    {
      "cell_type": "code",
      "source": [
        "docTransformationPipeline = IngestionPipeline(transformations=[])\n",
        "documentNodes = docTransformationPipeline.run(documents = pdfDocLs)"
      ],
      "metadata": {
        "id": "2gcsMER9r67a"
      },
      "execution_count": 24,
      "outputs": []
    },
    {
      "cell_type": "code",
      "source": [
        "documentNodes[8]"
      ],
      "metadata": {
        "colab": {
          "base_uri": "https://localhost:8080/"
        },
        "id": "t2XoL0ZvsfDu",
        "outputId": "cc282c66-c729-4f46-a952-1b1ba6106f05"
      },
      "execution_count": 25,
      "outputs": [
        {
          "output_type": "execute_result",
          "data": {
            "text/plain": [
              "Document(id_='a2a5a8f0-87d4-48ca-b869-c3e42f94e369', embedding=None, metadata={'page_label': '9', 'file_name': 'Orientation Documents-Spring 2024 Orientation Document.pdf', 'file_path': '/content/drive/MyDrive/Colab Notebooks/GATECH LLM Seminar/RAG Project/data/Orientation Documents-Spring 2024 Orientation Document.pdf', 'file_type': 'application/pdf', 'file_size': 632296, 'creation_date': '2024-06-27', 'last_modified_date': '2024-06-12'}, excluded_embed_metadata_keys=['file_name', 'file_type', 'file_size', 'creation_date', 'last_modified_date', 'last_accessed_date'], excluded_llm_metadata_keys=['file_name', 'file_type', 'file_size', 'creation_date', 'last_modified_date', 'last_accessed_date'], relationships={}, text='SECTION\\nI.\\nSYSTEMS\\nYOU\\nWILL\\nBE\\nUSING\\nAND\\nWHY\\nSystem\\nWebsite\\nReason\\nOSCAR\\nhttps://oscar.gatech.edu/\\nUse\\nthis\\nto\\nregister\\nfor\\nclasses,\\npay\\ntuition, \\ncheck\\nfor\\nholds,\\nview\\nfinal\\ngrades,\\netc.\\nCanvas\\nhttps://canvas.gatech.edu/\\nCanvas\\nis\\nwhere\\nyou\\nwill\\ngo\\nfor\\nall\\nof\\nyour \\nassignments\\nand\\nto\\nturn\\nin\\nhomework.\\nYou \\ncan\\nalso\\naccess\\nPiazza,\\nwhich\\nis\\nyour\\nvirtual \\nclassroom\\nfor\\ninteracting\\nwith\\nclassmates, \\nprofessors,\\nTAs,\\nand\\ncourse\\ndevelopers.\\nOutlook\\nhttps://mail.gatech.edu\\nUse\\nthis\\nto\\naccess\\nyour\\nGT\\nemail\\naccount\\nPassport\\nhttps://passport.gatech.edu/\\nPassport\\noffers\\ntools\\nfor\\nGT\\naccount \\npassword\\nchanges,\\nemail\\naliasing,\\nand\\nGT \\nDirectory\\noptions.\\nDegreeWorks\\nhttps://degreeaudit.gatech.edu\\nUse\\nthis\\nto\\ntrack\\nyour\\ndegree\\nprogress\\nbased \\non\\nyour\\ndeclared\\nspecialization\\nSECTION\\nJ.\\nIMPORTANT\\nDATES\\nFOR\\nTHE\\nSPRING\\n2024\\nSEMESTER\\nDate\\n(All\\ntimes\\nrefer\\nto\\nEastern\\nTime)\\nEvent\\nJanuary\\n3\\nat\\n6:00pm\\nET\\nTime\\ntickets\\nfor\\nSpring\\n2024\\nregistration\\nare\\navailable\\nJanuary\\n4\\n–\\n12\\nby\\n4:00pm\\nET\\nRegistration\\nfor\\nSpring\\n2024\\nJanuary\\n8\\nFirst\\nday\\nof\\nclass\\nWeek\\nof\\nJanuary\\n8\\nCourse\\nmaterials\\navailable\\nonline\\nJanuary\\n12\\nby\\n4:00pm\\nET\\nLast\\nday\\nto\\nregister,\\nmake\\nschedule\\nchanges,\\nand/or\\ndrop\\ncourses\\nwithout\\na \\n“W”\\ngrade\\nJanuary\\n15\\nOfficial\\nInstitute\\nHoliday\\n–\\nMartin\\nLuther\\nKing,\\nJr.\\nNational\\nHoliday\\nJanuary\\n16\\nby\\n4:00pm\\nET\\nTuition/fee\\npayment\\ndeadline\\nMarch\\n13\\nby\\n4:00pm\\nET\\nLast\\nday\\nto\\nwithdraw\\nfor\\nthe\\nSpring\\n2024\\nterm\\nwith\\na\\n“W”\\nMarch\\n13\\nGrade\\nsubstitution\\ndeadline\\nMarch\\n18\\n–\\n22\\nSpring\\nBreak\\nApril\\n25\\n–\\nMay\\n2\\nFinal\\nexams\\nMay\\n2\\nEnd\\nof\\nterm\\nMay\\n7\\nafter\\n6:00pm\\nET\\nGrades\\navailable\\n**Please\\nnote\\nthat\\nthis\\nlist\\ndoes\\nnot\\nreflect\\nall\\nof\\nthe\\nacademic-related\\ndates. \\nIn\\norder\\nto\\nview\\nthe\\nInstitute’s\\nfull\\nacademic\\ncalendar,\\nplease\\nvisit\\nthe\\nRegistrar’s\\nwebsite\\nand\\nrefer\\nto\\nyour \\nsyllabus\\nfor\\ncourse-specific\\ndeadlines\\nand\\ndates.**\\nClick\\nhere\\nto\\nreturn\\nto\\nTable\\nof\\nContents\\n8', mimetype='text/plain', start_char_idx=None, end_char_idx=None, text_template='{metadata_str}\\n\\n{content}', metadata_template='{key}: {value}', metadata_seperator='\\n')"
            ]
          },
          "metadata": {},
          "execution_count": 25
        }
      ]
    },
    {
      "cell_type": "code",
      "source": [
        "tokenTextSplitter = TokenTextSplitter(chunk_size=512, chunk_overlap=256)\n",
        "docTransformationPipeline = IngestionPipeline(transformations=[tokenTextSplitter])\n",
        "testDocumentNodes = docTransformationPipeline.run(documents = pdfDocLs)"
      ],
      "metadata": {
        "id": "_A7Y_nQAt7t1"
      },
      "execution_count": 26,
      "outputs": []
    },
    {
      "cell_type": "code",
      "source": [
        "testDocumentNodes[8]"
      ],
      "metadata": {
        "colab": {
          "base_uri": "https://localhost:8080/"
        },
        "id": "j_I06MbCufF8",
        "outputId": "da8d8697-eddb-47ca-922b-df7830ed245e"
      },
      "execution_count": 27,
      "outputs": [
        {
          "output_type": "execute_result",
          "data": {
            "text/plain": [
              "TextNode(id_='72448e59-7df1-4d23-af63-a80150acb701', embedding=None, metadata={'page_label': '3', 'file_name': 'Orientation Documents-Spring 2024 Orientation Document.pdf', 'file_path': '/content/drive/MyDrive/Colab Notebooks/GATECH LLM Seminar/RAG Project/data/Orientation Documents-Spring 2024 Orientation Document.pdf', 'file_type': 'application/pdf', 'file_size': 632296, 'creation_date': '2024-06-27', 'last_modified_date': '2024-06-12'}, excluded_embed_metadata_keys=['file_name', 'file_type', 'file_size', 'creation_date', 'last_modified_date', 'last_accessed_date'], excluded_llm_metadata_keys=['file_name', 'file_type', 'file_size', 'creation_date', 'last_modified_date', 'last_accessed_date'], relationships={<NodeRelationship.SOURCE: '1'>: RelatedNodeInfo(node_id='ccea9de0-47cc-476b-a6b7-55e638c20ffc', node_type=<ObjectType.DOCUMENT: '4'>, metadata={'page_label': '3', 'file_name': 'Orientation Documents-Spring 2024 Orientation Document.pdf', 'file_path': '/content/drive/MyDrive/Colab Notebooks/GATECH LLM Seminar/RAG Project/data/Orientation Documents-Spring 2024 Orientation Document.pdf', 'file_type': 'application/pdf', 'file_size': 632296, 'creation_date': '2024-06-27', 'last_modified_date': '2024-06-12'}, hash='4f978222ad6d0e82963ec8d91425926e66e59af392cec5ec589c94c8a726b422'), <NodeRelationship.PREVIOUS: '2'>: RelatedNodeInfo(node_id='56e0806c-f531-4632-ac8c-849ec73b063b', node_type=<ObjectType.TEXT: '1'>, metadata={'page_label': '3', 'file_name': 'Orientation Documents-Spring 2024 Orientation Document.pdf', 'file_path': '/content/drive/MyDrive/Colab Notebooks/GATECH LLM Seminar/RAG Project/data/Orientation Documents-Spring 2024 Orientation Document.pdf', 'file_type': 'application/pdf', 'file_size': 632296, 'creation_date': '2024-06-27', 'last_modified_date': '2024-06-12'}, hash='24a765663c96f5cf8834c32b6069ed136ef24f315aa72d42431db18c2088736a')}, text='7.\\nStudents\\nmust\\nhave\\na\\nminimum\\noverall\\nGPA\\nof\\n3.0\\nto\\ngraduate. \\n8.\\nA\\nmaximum\\nof\\nsix\\nhours\\nmay\\nbe\\ntaken\\nat\\nthe\\n4000-level\\nand/or\\nwith\\na\\nsubject\\ncode\\nother\\nthan\\nCS\\nor\\nCSE. \\n9.\\nStudents\\nmust\\ncomplete\\nthe\\ndegree\\nin\\nsix\\nyears\\nas\\nper\\nthe\\nInstitute’s\\npolicy\\n.\\nTherefore,\\nif\\nyou\\nmatriculate\\nduring \\nthe\\nSpring\\n2024\\nterm,\\nyou\\nmust\\nfulfill\\nthe\\ndegree\\nrequirements\\nby\\nthe\\nend\\nof\\nthe\\nFall\\n2029\\nterm. \\n10.\\nIf\\nyou\\npreviously\\ncompleted\\ncourses\\nat\\nGeorgia\\nTech,\\nspecifically\\nundergraduate/graduate\\nComputer\\nScience \\n(CS)\\nor\\nother\\nCS-related\\nundergraduate/graduate\\ncourses,\\nyou\\nwill\\nbe\\nresponsible\\nfor\\nresearching\\nwhether\\nor\\nnot \\nthe\\ncourse(s)\\nare\\nconsidered\\nto\\nbe\\n“equivalent”\\nto\\nOMSCS\\ncourses,\\nas\\nthese\\ncredits\\ncannot\\ncount\\ntoward\\nyour \\nOMSCS\\ndegree\\nprogram.\\nPlease\\nvisit\\nour\\nwebsite\\n,\\nand\\nplease\\nrefer\\nto\\nSECTION\\nK.\\nFREQUENTLY\\nASKED \\nQUESTIONS\\n(FAQs)\\nfor\\nmore\\ninformation. \\n11.\\nAdditional\\nprogram\\ninformation\\ncan\\nbe\\nfound\\nonline\\n. \\n12.\\nThe\\nfollowing\\n“\\nAreas\\nof\\nSpecialization\\n”\\nare\\navailable\\nthrough\\nthe\\nOMSCS\\nprogram: \\n●\\nComputational\\nPerception\\nand\\nRobotics \\n●\\nComputing\\nSystems \\n●\\nHuman-Computer\\nInteraction \\n●\\nInteractive\\nIntelligence \\n●\\nMachine\\nLearning\\nClick\\nhere\\nto\\nreturn\\nto\\nTable\\nof\\nContents\\n2', mimetype='text/plain', start_char_idx=2974, end_char_idx=4163, text_template='{metadata_str}\\n\\n{content}', metadata_template='{key}: {value}', metadata_seperator='\\n')"
            ]
          },
          "metadata": {},
          "execution_count": 27
        }
      ]
    },
    {
      "cell_type": "code",
      "source": [
        "#Augmenting metadata with the entities identified in the Node's text (text chunk)\n",
        "appliedExtractorsLs = []\n",
        "\n",
        "appliedExtractorsLs.append(tokenTextSplitter)\n",
        "\n",
        "# Provide the 'labels' argument to EntityExtractor\n",
        "entityExtractor = EntityExtractor(\n",
        "    #model_name = \"tomaarsen/span-marker-bert-base-fewnerd-fine-super\",\n",
        "    model_name = \"tomaarsen/span-marker-mbert-base-multinerd\",\n",
        "    prediction_threshold=0.6,\n",
        "    label_entities = True,  # include the entity label in the metadata (can be erroneous)\n",
        "    device=\"cuda\",  # set to \"cuda\" if you have a GPU,\n",
        "    labels = [\"O\", \"B-PER\", \"I-PER\", \"B-ORG\", \"I-ORG\", \"B-LOC\", \"I-LOC\"] # Labels for the NER model\n",
        ")\n",
        "\n",
        "appliedExtractorsLs.append(entityExtractor)\n",
        "\n",
        "#titleExtractor = TitleExtractor(nodes = 5)"
      ],
      "metadata": {
        "colab": {
          "base_uri": "https://localhost:8080/"
        },
        "id": "OnxJuJACum4r",
        "outputId": "e17a6dc0-9aad-48ba-a28a-7284efcbb1cf"
      },
      "execution_count": 28,
      "outputs": [
        {
          "output_type": "stream",
          "name": "stderr",
          "text": [
            "/usr/local/lib/python3.10/dist-packages/huggingface_hub/file_download.py:1132: FutureWarning: `resume_download` is deprecated and will be removed in version 1.0.0. Downloads always resume when possible. If you want to force a new download, use `force_download=True`.\n",
            "  warnings.warn(\n",
            "/usr/local/lib/python3.10/dist-packages/huggingface_hub/utils/_token.py:89: UserWarning: \n",
            "The secret `HF_TOKEN` does not exist in your Colab secrets.\n",
            "To authenticate with the Hugging Face Hub, create a token in your settings tab (https://huggingface.co/settings/tokens), set it as secret in your Google Colab and restart your session.\n",
            "You will be able to reuse this secret in all of your notebooks.\n",
            "Please note that authentication is recommended but still optional to access public models or datasets.\n",
            "  warnings.warn(\n"
          ]
        }
      ]
    },
    {
      "cell_type": "code",
      "source": [
        "docTransformationPipeline = IngestionPipeline(transformations = appliedExtractorsLs)\n",
        "extMetadataDocumentNodes = await docTransformationPipeline.arun(documents = pdfDocLs)"
      ],
      "metadata": {
        "colab": {
          "base_uri": "https://localhost:8080/",
          "height": 49,
          "referenced_widgets": [
            "44bcf04ee6084bdb96ab7f2dfefc1e2f",
            "06fb89a280864c7bbbfaf3aeb459bcc6",
            "71a529013b9c49738794bb89107d0f8e",
            "6cbe6bb550b0472cbd1f39ca118fa12b",
            "c8654ece4f1144f7afc5b69419d10b8f",
            "d2f25d870f8f40b8884010bc1243c270",
            "a81d6e135dd7459291aecd85ac63aa73",
            "f957901ebf084e95a0c032139b3afc3d",
            "1ad39d771dd84eec8b367da9c67578c5",
            "e3b4551e4ab1492dad2a02107c56bb1f",
            "ab1fd78e85954b5ab947eb2bb79e9a62"
          ]
        },
        "id": "4MGJLTelvRQd",
        "outputId": "33bb778b-2fba-4e35-abdc-4de12b24f845"
      },
      "execution_count": 29,
      "outputs": [
        {
          "output_type": "display_data",
          "data": {
            "text/plain": [
              "Extracting entities:   0%|          | 0/222 [00:00<?, ?it/s]"
            ],
            "application/vnd.jupyter.widget-view+json": {
              "version_major": 2,
              "version_minor": 0,
              "model_id": "44bcf04ee6084bdb96ab7f2dfefc1e2f"
            }
          },
          "metadata": {}
        }
      ]
    },
    {
      "cell_type": "code",
      "source": [
        "for node in extMetadataDocumentNodes:\n",
        "    print(node.metadata)"
      ],
      "metadata": {
        "colab": {
          "base_uri": "https://localhost:8080/"
        },
        "id": "Bv_nuKVC0plS",
        "outputId": "cd5d21d7-2574-4bd7-ab6d-7b7786be47a3"
      },
      "execution_count": 30,
      "outputs": [
        {
          "output_type": "stream",
          "name": "stdout",
          "text": [
            "{'page_label': '1', 'file_name': 'Orientation Documents-Spring 2024 Orientation Document.pdf', 'file_path': '/content/drive/MyDrive/Colab Notebooks/GATECH LLM Seminar/RAG Project/data/Orientation Documents-Spring 2024 Orientation Document.pdf', 'file_type': 'application/pdf', 'file_size': 632296, 'creation_date': '2024-06-27', 'last_modified_date': '2024-06-12'}\n",
            "{'page_label': '2', 'file_name': 'Orientation Documents-Spring 2024 Orientation Document.pdf', 'file_path': '/content/drive/MyDrive/Colab Notebooks/GATECH LLM Seminar/RAG Project/data/Orientation Documents-Spring 2024 Orientation Document.pdf', 'file_type': 'application/pdf', 'file_size': 632296, 'creation_date': '2024-06-27', 'last_modified_date': '2024-06-12', 'organizations': ['College of Computing', 'Georgia Tech']}\n",
            "{'page_label': '2', 'file_name': 'Orientation Documents-Spring 2024 Orientation Document.pdf', 'file_path': '/content/drive/MyDrive/Colab Notebooks/GATECH LLM Seminar/RAG Project/data/Orientation Documents-Spring 2024 Orientation Document.pdf', 'file_type': 'application/pdf', 'file_size': 632296, 'creation_date': '2024-06-27', 'last_modified_date': '2024-06-12', 'organizations': ['Georgia Tech']}\n",
            "{'page_label': '3', 'file_name': 'Orientation Documents-Spring 2024 Orientation Document.pdf', 'file_path': '/content/drive/MyDrive/Colab Notebooks/GATECH LLM Seminar/RAG Project/data/Orientation Documents-Spring 2024 Orientation Document.pdf', 'file_type': 'application/pdf', 'file_size': 632296, 'creation_date': '2024-06-27', 'last_modified_date': '2024-06-12', 'organizations': ['Georgia Tech']}\n",
            "{'page_label': '3', 'file_name': 'Orientation Documents-Spring 2024 Orientation Document.pdf', 'file_path': '/content/drive/MyDrive/Colab Notebooks/GATECH LLM Seminar/RAG Project/data/Orientation Documents-Spring 2024 Orientation Document.pdf', 'file_type': 'application/pdf', 'file_size': 632296, 'creation_date': '2024-06-27', 'last_modified_date': '2024-06-12'}\n",
            "{'page_label': '3', 'file_name': 'Orientation Documents-Spring 2024 Orientation Document.pdf', 'file_path': '/content/drive/MyDrive/Colab Notebooks/GATECH LLM Seminar/RAG Project/data/Orientation Documents-Spring 2024 Orientation Document.pdf', 'file_type': 'application/pdf', 'file_size': 632296, 'creation_date': '2024-06-27', 'last_modified_date': '2024-06-12'}\n",
            "{'page_label': '3', 'file_name': 'Orientation Documents-Spring 2024 Orientation Document.pdf', 'file_path': '/content/drive/MyDrive/Colab Notebooks/GATECH LLM Seminar/RAG Project/data/Orientation Documents-Spring 2024 Orientation Document.pdf', 'file_type': 'application/pdf', 'file_size': 632296, 'creation_date': '2024-06-27', 'last_modified_date': '2024-06-12'}\n",
            "{'page_label': '3', 'file_name': 'Orientation Documents-Spring 2024 Orientation Document.pdf', 'file_path': '/content/drive/MyDrive/Colab Notebooks/GATECH LLM Seminar/RAG Project/data/Orientation Documents-Spring 2024 Orientation Document.pdf', 'file_type': 'application/pdf', 'file_size': 632296, 'creation_date': '2024-06-27', 'last_modified_date': '2024-06-12'}\n",
            "{'page_label': '3', 'file_name': 'Orientation Documents-Spring 2024 Orientation Document.pdf', 'file_path': '/content/drive/MyDrive/Colab Notebooks/GATECH LLM Seminar/RAG Project/data/Orientation Documents-Spring 2024 Orientation Document.pdf', 'file_type': 'application/pdf', 'file_size': 632296, 'creation_date': '2024-06-27', 'last_modified_date': '2024-06-12', 'organizations': ['Georgia Tech']}\n",
            "{'page_label': '4', 'file_name': 'Orientation Documents-Spring 2024 Orientation Document.pdf', 'file_path': '/content/drive/MyDrive/Colab Notebooks/GATECH LLM Seminar/RAG Project/data/Orientation Documents-Spring 2024 Orientation Document.pdf', 'file_type': 'application/pdf', 'file_size': 632296, 'creation_date': '2024-06-27', 'last_modified_date': '2024-06-12', 'organizations': ['Registrar ’ s Office']}\n",
            "{'page_label': '4', 'file_name': 'Orientation Documents-Spring 2024 Orientation Document.pdf', 'file_path': '/content/drive/MyDrive/Colab Notebooks/GATECH LLM Seminar/RAG Project/data/Orientation Documents-Spring 2024 Orientation Document.pdf', 'file_type': 'application/pdf', 'file_size': 632296, 'creation_date': '2024-06-27', 'last_modified_date': '2024-06-12', 'organizations': ['Office of Disability Services', 'Reserve Officers Training Corps']}\n",
            "{'page_label': '4', 'file_name': 'Orientation Documents-Spring 2024 Orientation Document.pdf', 'file_path': '/content/drive/MyDrive/Colab Notebooks/GATECH LLM Seminar/RAG Project/data/Orientation Documents-Spring 2024 Orientation Document.pdf', 'file_type': 'application/pdf', 'file_size': 632296, 'creation_date': '2024-06-27', 'last_modified_date': '2024-06-12', 'organizations': ['Office of Graduate Education']}\n",
            "{'page_label': '4', 'file_name': 'Orientation Documents-Spring 2024 Orientation Document.pdf', 'file_path': '/content/drive/MyDrive/Colab Notebooks/GATECH LLM Seminar/RAG Project/data/Orientation Documents-Spring 2024 Orientation Document.pdf', 'file_type': 'application/pdf', 'file_size': 632296, 'creation_date': '2024-06-27', 'last_modified_date': '2024-06-12', 'organizations': ['Office of Graduate Education']}\n",
            "{'page_label': '4', 'file_name': 'Orientation Documents-Spring 2024 Orientation Document.pdf', 'file_path': '/content/drive/MyDrive/Colab Notebooks/GATECH LLM Seminar/RAG Project/data/Orientation Documents-Spring 2024 Orientation Document.pdf', 'file_type': 'application/pdf', 'file_size': 632296, 'creation_date': '2024-06-27', 'last_modified_date': '2024-06-12'}\n",
            "{'page_label': '4', 'file_name': 'Orientation Documents-Spring 2024 Orientation Document.pdf', 'file_path': '/content/drive/MyDrive/Colab Notebooks/GATECH LLM Seminar/RAG Project/data/Orientation Documents-Spring 2024 Orientation Document.pdf', 'file_type': 'application/pdf', 'file_size': 632296, 'creation_date': '2024-06-27', 'last_modified_date': '2024-06-12'}\n",
            "{'page_label': '5', 'file_name': 'Orientation Documents-Spring 2024 Orientation Document.pdf', 'file_path': '/content/drive/MyDrive/Colab Notebooks/GATECH LLM Seminar/RAG Project/data/Orientation Documents-Spring 2024 Orientation Document.pdf', 'file_type': 'application/pdf', 'file_size': 632296, 'creation_date': '2024-06-27', 'last_modified_date': '2024-06-12'}\n",
            "{'page_label': '5', 'file_name': 'Orientation Documents-Spring 2024 Orientation Document.pdf', 'file_path': '/content/drive/MyDrive/Colab Notebooks/GATECH LLM Seminar/RAG Project/data/Orientation Documents-Spring 2024 Orientation Document.pdf', 'file_type': 'application/pdf', 'file_size': 632296, 'creation_date': '2024-06-27', 'last_modified_date': '2024-06-12', 'instruments': ['Secured Access Login']}\n",
            "{'page_label': '5', 'file_name': 'Orientation Documents-Spring 2024 Orientation Document.pdf', 'file_path': '/content/drive/MyDrive/Colab Notebooks/GATECH LLM Seminar/RAG Project/data/Orientation Documents-Spring 2024 Orientation Document.pdf', 'file_type': 'application/pdf', 'file_size': 632296, 'creation_date': '2024-06-27', 'last_modified_date': '2024-06-12'}\n",
            "{'page_label': '5', 'file_name': 'Orientation Documents-Spring 2024 Orientation Document.pdf', 'file_path': '/content/drive/MyDrive/Colab Notebooks/GATECH LLM Seminar/RAG Project/data/Orientation Documents-Spring 2024 Orientation Document.pdf', 'file_type': 'application/pdf', 'file_size': 632296, 'creation_date': '2024-06-27', 'last_modified_date': '2024-06-12'}\n",
            "{'page_label': '5', 'file_name': 'Orientation Documents-Spring 2024 Orientation Document.pdf', 'file_path': '/content/drive/MyDrive/Colab Notebooks/GATECH LLM Seminar/RAG Project/data/Orientation Documents-Spring 2024 Orientation Document.pdf', 'file_type': 'application/pdf', 'file_size': 632296, 'creation_date': '2024-06-27', 'last_modified_date': '2024-06-12'}\n",
            "{'page_label': '5', 'file_name': 'Orientation Documents-Spring 2024 Orientation Document.pdf', 'file_path': '/content/drive/MyDrive/Colab Notebooks/GATECH LLM Seminar/RAG Project/data/Orientation Documents-Spring 2024 Orientation Document.pdf', 'file_type': 'application/pdf', 'file_size': 632296, 'creation_date': '2024-06-27', 'last_modified_date': '2024-06-12'}\n",
            "{'page_label': '6', 'file_name': 'Orientation Documents-Spring 2024 Orientation Document.pdf', 'file_path': '/content/drive/MyDrive/Colab Notebooks/GATECH LLM Seminar/RAG Project/data/Orientation Documents-Spring 2024 Orientation Document.pdf', 'file_type': 'application/pdf', 'file_size': 632296, 'creation_date': '2024-06-27', 'last_modified_date': '2024-06-12', 'times': ['Fall', 'Spring'], 'organizations': ['Financial Aid']}\n",
            "{'page_label': '6', 'file_name': 'Orientation Documents-Spring 2024 Orientation Document.pdf', 'file_path': '/content/drive/MyDrive/Colab Notebooks/GATECH LLM Seminar/RAG Project/data/Orientation Documents-Spring 2024 Orientation Document.pdf', 'file_type': 'application/pdf', 'file_size': 632296, 'creation_date': '2024-06-27', 'last_modified_date': '2024-06-12', 'organizations': ['Canvas']}\n",
            "{'page_label': '6', 'file_name': 'Orientation Documents-Spring 2024 Orientation Document.pdf', 'file_path': '/content/drive/MyDrive/Colab Notebooks/GATECH LLM Seminar/RAG Project/data/Orientation Documents-Spring 2024 Orientation Document.pdf', 'file_type': 'application/pdf', 'file_size': 632296, 'creation_date': '2024-06-27', 'last_modified_date': '2024-06-12'}\n",
            "{'page_label': '6', 'file_name': 'Orientation Documents-Spring 2024 Orientation Document.pdf', 'file_path': '/content/drive/MyDrive/Colab Notebooks/GATECH LLM Seminar/RAG Project/data/Orientation Documents-Spring 2024 Orientation Document.pdf', 'file_type': 'application/pdf', 'file_size': 632296, 'creation_date': '2024-06-27', 'last_modified_date': '2024-06-12'}\n",
            "{'page_label': '6', 'file_name': 'Orientation Documents-Spring 2024 Orientation Document.pdf', 'file_path': '/content/drive/MyDrive/Colab Notebooks/GATECH LLM Seminar/RAG Project/data/Orientation Documents-Spring 2024 Orientation Document.pdf', 'file_type': 'application/pdf', 'file_size': 632296, 'creation_date': '2024-06-27', 'last_modified_date': '2024-06-12'}\n",
            "{'page_label': '6', 'file_name': 'Orientation Documents-Spring 2024 Orientation Document.pdf', 'file_path': '/content/drive/MyDrive/Colab Notebooks/GATECH LLM Seminar/RAG Project/data/Orientation Documents-Spring 2024 Orientation Document.pdf', 'file_type': 'application/pdf', 'file_size': 632296, 'creation_date': '2024-06-27', 'last_modified_date': '2024-06-12', 'organizations': ['OMSCS Advising']}\n",
            "{'page_label': '6', 'file_name': 'Orientation Documents-Spring 2024 Orientation Document.pdf', 'file_path': '/content/drive/MyDrive/Colab Notebooks/GATECH LLM Seminar/RAG Project/data/Orientation Documents-Spring 2024 Orientation Document.pdf', 'file_type': 'application/pdf', 'file_size': 632296, 'creation_date': '2024-06-27', 'last_modified_date': '2024-06-12'}\n",
            "{'page_label': '6', 'file_name': 'Orientation Documents-Spring 2024 Orientation Document.pdf', 'file_path': '/content/drive/MyDrive/Colab Notebooks/GATECH LLM Seminar/RAG Project/data/Orientation Documents-Spring 2024 Orientation Document.pdf', 'file_type': 'application/pdf', 'file_size': 632296, 'creation_date': '2024-06-27', 'last_modified_date': '2024-06-12', 'organizations': ['Registrar ’ s Office']}\n",
            "{'page_label': '7', 'file_name': 'Orientation Documents-Spring 2024 Orientation Document.pdf', 'file_path': '/content/drive/MyDrive/Colab Notebooks/GATECH LLM Seminar/RAG Project/data/Orientation Documents-Spring 2024 Orientation Document.pdf', 'file_type': 'application/pdf', 'file_size': 632296, 'creation_date': '2024-06-27', 'last_modified_date': '2024-06-12', 'times': ['Fall']}\n",
            "{'page_label': '7', 'file_name': 'Orientation Documents-Spring 2024 Orientation Document.pdf', 'file_path': '/content/drive/MyDrive/Colab Notebooks/GATECH LLM Seminar/RAG Project/data/Orientation Documents-Spring 2024 Orientation Document.pdf', 'file_type': 'application/pdf', 'file_size': 632296, 'creation_date': '2024-06-27', 'last_modified_date': '2024-06-12'}\n",
            "{'page_label': '7', 'file_name': 'Orientation Documents-Spring 2024 Orientation Document.pdf', 'file_path': '/content/drive/MyDrive/Colab Notebooks/GATECH LLM Seminar/RAG Project/data/Orientation Documents-Spring 2024 Orientation Document.pdf', 'file_type': 'application/pdf', 'file_size': 632296, 'creation_date': '2024-06-27', 'last_modified_date': '2024-06-12'}\n",
            "{'page_label': '7', 'file_name': 'Orientation Documents-Spring 2024 Orientation Document.pdf', 'file_path': '/content/drive/MyDrive/Colab Notebooks/GATECH LLM Seminar/RAG Project/data/Orientation Documents-Spring 2024 Orientation Document.pdf', 'file_type': 'application/pdf', 'file_size': 632296, 'creation_date': '2024-06-27', 'last_modified_date': '2024-06-12'}\n",
            "{'page_label': '7', 'file_name': 'Orientation Documents-Spring 2024 Orientation Document.pdf', 'file_path': '/content/drive/MyDrive/Colab Notebooks/GATECH LLM Seminar/RAG Project/data/Orientation Documents-Spring 2024 Orientation Document.pdf', 'file_type': 'application/pdf', 'file_size': 632296, 'creation_date': '2024-06-27', 'last_modified_date': '2024-06-12', 'organizations': ['OMSCS Advising']}\n",
            "{'page_label': '7', 'file_name': 'Orientation Documents-Spring 2024 Orientation Document.pdf', 'file_path': '/content/drive/MyDrive/Colab Notebooks/GATECH LLM Seminar/RAG Project/data/Orientation Documents-Spring 2024 Orientation Document.pdf', 'file_type': 'application/pdf', 'file_size': 632296, 'creation_date': '2024-06-27', 'last_modified_date': '2024-06-12'}\n",
            "{'page_label': '7', 'file_name': 'Orientation Documents-Spring 2024 Orientation Document.pdf', 'file_path': '/content/drive/MyDrive/Colab Notebooks/GATECH LLM Seminar/RAG Project/data/Orientation Documents-Spring 2024 Orientation Document.pdf', 'file_type': 'application/pdf', 'file_size': 632296, 'creation_date': '2024-06-27', 'last_modified_date': '2024-06-12'}\n",
            "{'page_label': '7', 'file_name': 'Orientation Documents-Spring 2024 Orientation Document.pdf', 'file_path': '/content/drive/MyDrive/Colab Notebooks/GATECH LLM Seminar/RAG Project/data/Orientation Documents-Spring 2024 Orientation Document.pdf', 'file_type': 'application/pdf', 'file_size': 632296, 'creation_date': '2024-06-27', 'last_modified_date': '2024-06-12'}\n",
            "{'page_label': '8', 'file_name': 'Orientation Documents-Spring 2024 Orientation Document.pdf', 'file_path': '/content/drive/MyDrive/Colab Notebooks/GATECH LLM Seminar/RAG Project/data/Orientation Documents-Spring 2024 Orientation Document.pdf', 'file_type': 'application/pdf', 'file_size': 632296, 'creation_date': '2024-06-27', 'last_modified_date': '2024-06-12'}\n",
            "{'page_label': '8', 'file_name': 'Orientation Documents-Spring 2024 Orientation Document.pdf', 'file_path': '/content/drive/MyDrive/Colab Notebooks/GATECH LLM Seminar/RAG Project/data/Orientation Documents-Spring 2024 Orientation Document.pdf', 'file_type': 'application/pdf', 'file_size': 632296, 'creation_date': '2024-06-27', 'last_modified_date': '2024-06-12'}\n",
            "{'page_label': '8', 'file_name': 'Orientation Documents-Spring 2024 Orientation Document.pdf', 'file_path': '/content/drive/MyDrive/Colab Notebooks/GATECH LLM Seminar/RAG Project/data/Orientation Documents-Spring 2024 Orientation Document.pdf', 'file_type': 'application/pdf', 'file_size': 632296, 'creation_date': '2024-06-27', 'last_modified_date': '2024-06-12'}\n",
            "{'page_label': '8', 'file_name': 'Orientation Documents-Spring 2024 Orientation Document.pdf', 'file_path': '/content/drive/MyDrive/Colab Notebooks/GATECH LLM Seminar/RAG Project/data/Orientation Documents-Spring 2024 Orientation Document.pdf', 'file_type': 'application/pdf', 'file_size': 632296, 'creation_date': '2024-06-27', 'last_modified_date': '2024-06-12'}\n",
            "{'page_label': '8', 'file_name': 'Orientation Documents-Spring 2024 Orientation Document.pdf', 'file_path': '/content/drive/MyDrive/Colab Notebooks/GATECH LLM Seminar/RAG Project/data/Orientation Documents-Spring 2024 Orientation Document.pdf', 'file_type': 'application/pdf', 'file_size': 632296, 'creation_date': '2024-06-27', 'last_modified_date': '2024-06-12', 'organizations': ['Office of Scholarships and Financial Aid']}\n",
            "{'page_label': '8', 'file_name': 'Orientation Documents-Spring 2024 Orientation Document.pdf', 'file_path': '/content/drive/MyDrive/Colab Notebooks/GATECH LLM Seminar/RAG Project/data/Orientation Documents-Spring 2024 Orientation Document.pdf', 'file_type': 'application/pdf', 'file_size': 632296, 'creation_date': '2024-06-27', 'last_modified_date': '2024-06-12'}\n",
            "{'page_label': '9', 'file_name': 'Orientation Documents-Spring 2024 Orientation Document.pdf', 'file_path': '/content/drive/MyDrive/Colab Notebooks/GATECH LLM Seminar/RAG Project/data/Orientation Documents-Spring 2024 Orientation Document.pdf', 'file_type': 'application/pdf', 'file_size': 632296, 'creation_date': '2024-06-27', 'last_modified_date': '2024-06-12', 'locations': ['Piazza']}\n",
            "{'page_label': '9', 'file_name': 'Orientation Documents-Spring 2024 Orientation Document.pdf', 'file_path': '/content/drive/MyDrive/Colab Notebooks/GATECH LLM Seminar/RAG Project/data/Orientation Documents-Spring 2024 Orientation Document.pdf', 'file_type': 'application/pdf', 'file_size': 632296, 'creation_date': '2024-06-27', 'last_modified_date': '2024-06-12', 'times': ['Eastern Time']}\n",
            "{'page_label': '9', 'file_name': 'Orientation Documents-Spring 2024 Orientation Document.pdf', 'file_path': '/content/drive/MyDrive/Colab Notebooks/GATECH LLM Seminar/RAG Project/data/Orientation Documents-Spring 2024 Orientation Document.pdf', 'file_type': 'application/pdf', 'file_size': 632296, 'creation_date': '2024-06-27', 'last_modified_date': '2024-06-12', 'times': ['Spring Break']}\n",
            "{'page_label': '10', 'file_name': 'Orientation Documents-Spring 2024 Orientation Document.pdf', 'file_path': '/content/drive/MyDrive/Colab Notebooks/GATECH LLM Seminar/RAG Project/data/Orientation Documents-Spring 2024 Orientation Document.pdf', 'file_type': 'application/pdf', 'file_size': 632296, 'creation_date': '2024-06-27', 'last_modified_date': '2024-06-12', 'organizations': ['Office of Graduate Education Georgia Institute of Technology', 'Office of Graduate Education']}\n",
            "{'page_label': '10', 'file_name': 'Orientation Documents-Spring 2024 Orientation Document.pdf', 'file_path': '/content/drive/MyDrive/Colab Notebooks/GATECH LLM Seminar/RAG Project/data/Orientation Documents-Spring 2024 Orientation Document.pdf', 'file_type': 'application/pdf', 'file_size': 632296, 'creation_date': '2024-06-27', 'last_modified_date': '2024-06-12'}\n",
            "{'page_label': '10', 'file_name': 'Orientation Documents-Spring 2024 Orientation Document.pdf', 'file_path': '/content/drive/MyDrive/Colab Notebooks/GATECH LLM Seminar/RAG Project/data/Orientation Documents-Spring 2024 Orientation Document.pdf', 'file_type': 'application/pdf', 'file_size': 632296, 'creation_date': '2024-06-27', 'last_modified_date': '2024-06-12', 'organizations': ['Georgia Tech']}\n",
            "{'page_label': '10', 'file_name': 'Orientation Documents-Spring 2024 Orientation Document.pdf', 'file_path': '/content/drive/MyDrive/Colab Notebooks/GATECH LLM Seminar/RAG Project/data/Orientation Documents-Spring 2024 Orientation Document.pdf', 'file_type': 'application/pdf', 'file_size': 632296, 'creation_date': '2024-06-27', 'last_modified_date': '2024-06-12'}\n",
            "{'page_label': '10', 'file_name': 'Orientation Documents-Spring 2024 Orientation Document.pdf', 'file_path': '/content/drive/MyDrive/Colab Notebooks/GATECH LLM Seminar/RAG Project/data/Orientation Documents-Spring 2024 Orientation Document.pdf', 'file_type': 'application/pdf', 'file_size': 632296, 'creation_date': '2024-06-27', 'last_modified_date': '2024-06-12', 'organizations': ['Georgia Tech']}\n",
            "{'page_label': '11', 'file_name': 'Orientation Documents-Spring 2024 Orientation Document.pdf', 'file_path': '/content/drive/MyDrive/Colab Notebooks/GATECH LLM Seminar/RAG Project/data/Orientation Documents-Spring 2024 Orientation Document.pdf', 'file_type': 'application/pdf', 'file_size': 632296, 'creation_date': '2024-06-27', 'last_modified_date': '2024-06-12', 'organizations': ['OMSCS Advising', 'Georgia Tech']}\n",
            "{'page_label': '11', 'file_name': 'Orientation Documents-Spring 2024 Orientation Document.pdf', 'file_path': '/content/drive/MyDrive/Colab Notebooks/GATECH LLM Seminar/RAG Project/data/Orientation Documents-Spring 2024 Orientation Document.pdf', 'file_type': 'application/pdf', 'file_size': 632296, 'creation_date': '2024-06-27', 'last_modified_date': '2024-06-12'}\n",
            "{'page_label': '11', 'file_name': 'Orientation Documents-Spring 2024 Orientation Document.pdf', 'file_path': '/content/drive/MyDrive/Colab Notebooks/GATECH LLM Seminar/RAG Project/data/Orientation Documents-Spring 2024 Orientation Document.pdf', 'file_type': 'application/pdf', 'file_size': 632296, 'creation_date': '2024-06-27', 'last_modified_date': '2024-06-12'}\n",
            "{'page_label': '11', 'file_name': 'Orientation Documents-Spring 2024 Orientation Document.pdf', 'file_path': '/content/drive/MyDrive/Colab Notebooks/GATECH LLM Seminar/RAG Project/data/Orientation Documents-Spring 2024 Orientation Document.pdf', 'file_type': 'application/pdf', 'file_size': 632296, 'creation_date': '2024-06-27', 'last_modified_date': '2024-06-12', 'organizations': ['Office of Information Technology']}\n",
            "{'page_label': '11', 'file_name': 'Orientation Documents-Spring 2024 Orientation Document.pdf', 'file_path': '/content/drive/MyDrive/Colab Notebooks/GATECH LLM Seminar/RAG Project/data/Orientation Documents-Spring 2024 Orientation Document.pdf', 'file_type': 'application/pdf', 'file_size': 632296, 'creation_date': '2024-06-27', 'last_modified_date': '2024-06-12', 'organizations': ['Dean of Students', 'Office of Disability Services']}\n",
            "{'page_label': '11', 'file_name': 'Orientation Documents-Spring 2024 Orientation Document.pdf', 'file_path': '/content/drive/MyDrive/Colab Notebooks/GATECH LLM Seminar/RAG Project/data/Orientation Documents-Spring 2024 Orientation Document.pdf', 'file_type': 'application/pdf', 'file_size': 632296, 'creation_date': '2024-06-27', 'last_modified_date': '2024-06-12', 'organizations': ['Georgia Tech BuzzCard']}\n",
            "{'page_label': '11', 'file_name': 'Orientation Documents-Spring 2024 Orientation Document.pdf', 'file_path': '/content/drive/MyDrive/Colab Notebooks/GATECH LLM Seminar/RAG Project/data/Orientation Documents-Spring 2024 Orientation Document.pdf', 'file_type': 'application/pdf', 'file_size': 632296, 'creation_date': '2024-06-27', 'last_modified_date': '2024-06-12', 'organizations': ['Registrar ’ s Office', 'Office of Graduate Education', 'Georgia Tech']}\n",
            "{'page_label': '11', 'file_name': 'Orientation Documents-Spring 2024 Orientation Document.pdf', 'file_path': '/content/drive/MyDrive/Colab Notebooks/GATECH LLM Seminar/RAG Project/data/Orientation Documents-Spring 2024 Orientation Document.pdf', 'file_type': 'application/pdf', 'file_size': 632296, 'creation_date': '2024-06-27', 'last_modified_date': '2024-06-12', 'organizations': ['Dean of Students', 'Georgia Tech']}\n",
            "{'page_label': '12', 'file_name': 'Orientation Documents-Spring 2024 Orientation Document.pdf', 'file_path': '/content/drive/MyDrive/Colab Notebooks/GATECH LLM Seminar/RAG Project/data/Orientation Documents-Spring 2024 Orientation Document.pdf', 'file_type': 'application/pdf', 'file_size': 632296, 'creation_date': '2024-06-27', 'last_modified_date': '2024-06-12', 'organizations': ['JED Foundation']}\n",
            "{'page_label': '12', 'file_name': 'Orientation Documents-Spring 2024 Orientation Document.pdf', 'file_path': '/content/drive/MyDrive/Colab Notebooks/GATECH LLM Seminar/RAG Project/data/Orientation Documents-Spring 2024 Orientation Document.pdf', 'file_type': 'application/pdf', 'file_size': 632296, 'creation_date': '2024-06-27', 'last_modified_date': '2024-06-12'}\n",
            "{'page_label': '12', 'file_name': 'Orientation Documents-Spring 2024 Orientation Document.pdf', 'file_path': '/content/drive/MyDrive/Colab Notebooks/GATECH LLM Seminar/RAG Project/data/Orientation Documents-Spring 2024 Orientation Document.pdf', 'file_type': 'application/pdf', 'file_size': 632296, 'creation_date': '2024-06-27', 'last_modified_date': '2024-06-12'}\n",
            "{'page_label': '12', 'file_name': 'Orientation Documents-Spring 2024 Orientation Document.pdf', 'file_path': '/content/drive/MyDrive/Colab Notebooks/GATECH LLM Seminar/RAG Project/data/Orientation Documents-Spring 2024 Orientation Document.pdf', 'file_type': 'application/pdf', 'file_size': 632296, 'creation_date': '2024-06-27', 'last_modified_date': '2024-06-12', 'persons': ['Alex Duncan']}\n",
            "{'page_label': '12', 'file_name': 'Orientation Documents-Spring 2024 Orientation Document.pdf', 'file_path': '/content/drive/MyDrive/Colab Notebooks/GATECH LLM Seminar/RAG Project/data/Orientation Documents-Spring 2024 Orientation Document.pdf', 'file_type': 'application/pdf', 'file_size': 632296, 'creation_date': '2024-06-27', 'last_modified_date': '2024-06-12', 'media': ['Google Chrome']}\n",
            "{'page_label': '12', 'file_name': 'Orientation Documents-Spring 2024 Orientation Document.pdf', 'file_path': '/content/drive/MyDrive/Colab Notebooks/GATECH LLM Seminar/RAG Project/data/Orientation Documents-Spring 2024 Orientation Document.pdf', 'file_type': 'application/pdf', 'file_size': 632296, 'creation_date': '2024-06-27', 'last_modified_date': '2024-06-12', 'instruments': ['Google Chrome'], 'organizations': ['Office of Information Technology', 'Technology Services Organization']}\n",
            "{'page_label': '13', 'file_name': 'Orientation Documents-Spring 2024 Orientation Document.pdf', 'file_path': '/content/drive/MyDrive/Colab Notebooks/GATECH LLM Seminar/RAG Project/data/Orientation Documents-Spring 2024 Orientation Document.pdf', 'file_type': 'application/pdf', 'file_size': 632296, 'creation_date': '2024-06-27', 'last_modified_date': '2024-06-12', 'organizations': ['Graduate Internship Program', 'Office of Outreach , Enrollment , and Community']}\n",
            "{'page_label': '13', 'file_name': 'Orientation Documents-Spring 2024 Orientation Document.pdf', 'file_path': '/content/drive/MyDrive/Colab Notebooks/GATECH LLM Seminar/RAG Project/data/Orientation Documents-Spring 2024 Orientation Document.pdf', 'file_type': 'application/pdf', 'file_size': 632296, 'creation_date': '2024-06-27', 'last_modified_date': '2024-06-12', 'organizations': ['College of Computing', 'Office of Outreach , Enrollment , and Community']}\n",
            "{'page_label': '13', 'file_name': 'Orientation Documents-Spring 2024 Orientation Document.pdf', 'file_path': '/content/drive/MyDrive/Colab Notebooks/GATECH LLM Seminar/RAG Project/data/Orientation Documents-Spring 2024 Orientation Document.pdf', 'file_type': 'application/pdf', 'file_size': 632296, 'creation_date': '2024-06-27', 'last_modified_date': '2024-06-12', 'persons': ['Troy Peace'], 'organizations': ['Career Center', 'Career Center is CareerBuzz']}\n",
            "{'page_label': '13', 'file_name': 'Orientation Documents-Spring 2024 Orientation Document.pdf', 'file_path': '/content/drive/MyDrive/Colab Notebooks/GATECH LLM Seminar/RAG Project/data/Orientation Documents-Spring 2024 Orientation Document.pdf', 'file_type': 'application/pdf', 'file_size': 632296, 'creation_date': '2024-06-27', 'last_modified_date': '2024-06-12', 'organizations': ['Career Center', 'Georgia Tech Career Center', 'College of Computing', 'Georgia Tech']}\n",
            "{'page_label': '13', 'file_name': 'Orientation Documents-Spring 2024 Orientation Document.pdf', 'file_path': '/content/drive/MyDrive/Colab Notebooks/GATECH LLM Seminar/RAG Project/data/Orientation Documents-Spring 2024 Orientation Document.pdf', 'file_type': 'application/pdf', 'file_size': 632296, 'creation_date': '2024-06-27', 'last_modified_date': '2024-06-12', 'organizations': ['Vertically Integrated Projects']}\n",
            "{'page_label': '13', 'file_name': 'Orientation Documents-Spring 2024 Orientation Document.pdf', 'file_path': '/content/drive/MyDrive/Colab Notebooks/GATECH LLM Seminar/RAG Project/data/Orientation Documents-Spring 2024 Orientation Document.pdf', 'file_type': 'application/pdf', 'file_size': 632296, 'creation_date': '2024-06-27', 'last_modified_date': '2024-06-12', 'organizations': ['Georgia Tech']}\n",
            "{'page_label': '14', 'file_name': 'Orientation Documents-Spring 2024 Orientation Document.pdf', 'file_path': '/content/drive/MyDrive/Colab Notebooks/GATECH LLM Seminar/RAG Project/data/Orientation Documents-Spring 2024 Orientation Document.pdf', 'file_type': 'application/pdf', 'file_size': 632296, 'creation_date': '2024-06-27', 'last_modified_date': '2024-06-12', 'organizations': ['Georgia Tech']}\n",
            "{'page_label': '14', 'file_name': 'Orientation Documents-Spring 2024 Orientation Document.pdf', 'file_path': '/content/drive/MyDrive/Colab Notebooks/GATECH LLM Seminar/RAG Project/data/Orientation Documents-Spring 2024 Orientation Document.pdf', 'file_type': 'application/pdf', 'file_size': 632296, 'creation_date': '2024-06-27', 'last_modified_date': '2024-06-12', 'organizations': ['Office of Student Integrity']}\n",
            "{'page_label': '14', 'file_name': 'Orientation Documents-Spring 2024 Orientation Document.pdf', 'file_path': '/content/drive/MyDrive/Colab Notebooks/GATECH LLM Seminar/RAG Project/data/Orientation Documents-Spring 2024 Orientation Document.pdf', 'file_type': 'application/pdf', 'file_size': 632296, 'creation_date': '2024-06-27', 'last_modified_date': '2024-06-12'}\n",
            "{'page_label': '14', 'file_name': 'Orientation Documents-Spring 2024 Orientation Document.pdf', 'file_path': '/content/drive/MyDrive/Colab Notebooks/GATECH LLM Seminar/RAG Project/data/Orientation Documents-Spring 2024 Orientation Document.pdf', 'file_type': 'application/pdf', 'file_size': 632296, 'creation_date': '2024-06-27', 'last_modified_date': '2024-06-12'}\n",
            "{'page_label': '14', 'file_name': 'Orientation Documents-Spring 2024 Orientation Document.pdf', 'file_path': '/content/drive/MyDrive/Colab Notebooks/GATECH LLM Seminar/RAG Project/data/Orientation Documents-Spring 2024 Orientation Document.pdf', 'file_type': 'application/pdf', 'file_size': 632296, 'creation_date': '2024-06-27', 'last_modified_date': '2024-06-12', 'organizations': ['Office of Graduate Education']}\n",
            "{'page_label': '14', 'file_name': 'Orientation Documents-Spring 2024 Orientation Document.pdf', 'file_path': '/content/drive/MyDrive/Colab Notebooks/GATECH LLM Seminar/RAG Project/data/Orientation Documents-Spring 2024 Orientation Document.pdf', 'file_type': 'application/pdf', 'file_size': 632296, 'creation_date': '2024-06-27', 'last_modified_date': '2024-06-12'}\n",
            "{'page_label': '15', 'file_name': 'Orientation Documents-Spring 2024 Orientation Document.pdf', 'file_path': '/content/drive/MyDrive/Colab Notebooks/GATECH LLM Seminar/RAG Project/data/Orientation Documents-Spring 2024 Orientation Document.pdf', 'file_type': 'application/pdf', 'file_size': 632296, 'creation_date': '2024-06-27', 'last_modified_date': '2024-06-12'}\n",
            "{'page_label': '15', 'file_name': 'Orientation Documents-Spring 2024 Orientation Document.pdf', 'file_path': '/content/drive/MyDrive/Colab Notebooks/GATECH LLM Seminar/RAG Project/data/Orientation Documents-Spring 2024 Orientation Document.pdf', 'file_type': 'application/pdf', 'file_size': 632296, 'creation_date': '2024-06-27', 'last_modified_date': '2024-06-12'}\n",
            "{'page_label': '15', 'file_name': 'Orientation Documents-Spring 2024 Orientation Document.pdf', 'file_path': '/content/drive/MyDrive/Colab Notebooks/GATECH LLM Seminar/RAG Project/data/Orientation Documents-Spring 2024 Orientation Document.pdf', 'file_type': 'application/pdf', 'file_size': 632296, 'creation_date': '2024-06-27', 'last_modified_date': '2024-06-12'}\n",
            "{'page_label': '15', 'file_name': 'Orientation Documents-Spring 2024 Orientation Document.pdf', 'file_path': '/content/drive/MyDrive/Colab Notebooks/GATECH LLM Seminar/RAG Project/data/Orientation Documents-Spring 2024 Orientation Document.pdf', 'file_type': 'application/pdf', 'file_size': 632296, 'creation_date': '2024-06-27', 'last_modified_date': '2024-06-12', 'organizations': ['College of Computing', 'Office of Graduate Education']}\n",
            "{'page_label': '15', 'file_name': 'Orientation Documents-Spring 2024 Orientation Document.pdf', 'file_path': '/content/drive/MyDrive/Colab Notebooks/GATECH LLM Seminar/RAG Project/data/Orientation Documents-Spring 2024 Orientation Document.pdf', 'file_type': 'application/pdf', 'file_size': 632296, 'creation_date': '2024-06-27', 'last_modified_date': '2024-06-12', 'organizations': ['Office of Graduate Education']}\n",
            "{'page_label': '15', 'file_name': 'Orientation Documents-Spring 2024 Orientation Document.pdf', 'file_path': '/content/drive/MyDrive/Colab Notebooks/GATECH LLM Seminar/RAG Project/data/Orientation Documents-Spring 2024 Orientation Document.pdf', 'file_type': 'application/pdf', 'file_size': 632296, 'creation_date': '2024-06-27', 'last_modified_date': '2024-06-12', 'organizations': ['College of Computing', 'Office of Graduate Education']}\n",
            "{'page_label': '15', 'file_name': 'Orientation Documents-Spring 2024 Orientation Document.pdf', 'file_path': '/content/drive/MyDrive/Colab Notebooks/GATECH LLM Seminar/RAG Project/data/Orientation Documents-Spring 2024 Orientation Document.pdf', 'file_type': 'application/pdf', 'file_size': 632296, 'creation_date': '2024-06-27', 'last_modified_date': '2024-06-12', 'organizations': ['College of Computing', 'Office of Graduate Education']}\n",
            "{'page_label': '15', 'file_name': 'Orientation Documents-Spring 2024 Orientation Document.pdf', 'file_path': '/content/drive/MyDrive/Colab Notebooks/GATECH LLM Seminar/RAG Project/data/Orientation Documents-Spring 2024 Orientation Document.pdf', 'file_type': 'application/pdf', 'file_size': 632296, 'creation_date': '2024-06-27', 'last_modified_date': '2024-06-12'}\n",
            "{'page_label': '16', 'file_name': 'Orientation Documents-Spring 2024 Orientation Document.pdf', 'file_path': '/content/drive/MyDrive/Colab Notebooks/GATECH LLM Seminar/RAG Project/data/Orientation Documents-Spring 2024 Orientation Document.pdf', 'file_type': 'application/pdf', 'file_size': 632296, 'creation_date': '2024-06-27', 'last_modified_date': '2024-06-12'}\n",
            "{'page_label': '16', 'file_name': 'Orientation Documents-Spring 2024 Orientation Document.pdf', 'file_path': '/content/drive/MyDrive/Colab Notebooks/GATECH LLM Seminar/RAG Project/data/Orientation Documents-Spring 2024 Orientation Document.pdf', 'file_type': 'application/pdf', 'file_size': 632296, 'creation_date': '2024-06-27', 'last_modified_date': '2024-06-12'}\n",
            "{'page_label': '16', 'file_name': 'Orientation Documents-Spring 2024 Orientation Document.pdf', 'file_path': '/content/drive/MyDrive/Colab Notebooks/GATECH LLM Seminar/RAG Project/data/Orientation Documents-Spring 2024 Orientation Document.pdf', 'file_type': 'application/pdf', 'file_size': 632296, 'creation_date': '2024-06-27', 'last_modified_date': '2024-06-12'}\n",
            "{'page_label': '16', 'file_name': 'Orientation Documents-Spring 2024 Orientation Document.pdf', 'file_path': '/content/drive/MyDrive/Colab Notebooks/GATECH LLM Seminar/RAG Project/data/Orientation Documents-Spring 2024 Orientation Document.pdf', 'file_type': 'application/pdf', 'file_size': 632296, 'creation_date': '2024-06-27', 'last_modified_date': '2024-06-12'}\n",
            "{'page_label': '16', 'file_name': 'Orientation Documents-Spring 2024 Orientation Document.pdf', 'file_path': '/content/drive/MyDrive/Colab Notebooks/GATECH LLM Seminar/RAG Project/data/Orientation Documents-Spring 2024 Orientation Document.pdf', 'file_type': 'application/pdf', 'file_size': 632296, 'creation_date': '2024-06-27', 'last_modified_date': '2024-06-12'}\n",
            "{'page_label': '16', 'file_name': 'Orientation Documents-Spring 2024 Orientation Document.pdf', 'file_path': '/content/drive/MyDrive/Colab Notebooks/GATECH LLM Seminar/RAG Project/data/Orientation Documents-Spring 2024 Orientation Document.pdf', 'file_type': 'application/pdf', 'file_size': 632296, 'creation_date': '2024-06-27', 'last_modified_date': '2024-06-12'}\n",
            "{'page_label': '17', 'file_name': 'Orientation Documents-Spring 2024 Orientation Document.pdf', 'file_path': '/content/drive/MyDrive/Colab Notebooks/GATECH LLM Seminar/RAG Project/data/Orientation Documents-Spring 2024 Orientation Document.pdf', 'file_type': 'application/pdf', 'file_size': 632296, 'creation_date': '2024-06-27', 'last_modified_date': '2024-06-12'}\n",
            "{'page_label': '17', 'file_name': 'Orientation Documents-Spring 2024 Orientation Document.pdf', 'file_path': '/content/drive/MyDrive/Colab Notebooks/GATECH LLM Seminar/RAG Project/data/Orientation Documents-Spring 2024 Orientation Document.pdf', 'file_type': 'application/pdf', 'file_size': 632296, 'creation_date': '2024-06-27', 'last_modified_date': '2024-06-12'}\n",
            "{'page_label': '17', 'file_name': 'Orientation Documents-Spring 2024 Orientation Document.pdf', 'file_path': '/content/drive/MyDrive/Colab Notebooks/GATECH LLM Seminar/RAG Project/data/Orientation Documents-Spring 2024 Orientation Document.pdf', 'file_type': 'application/pdf', 'file_size': 632296, 'creation_date': '2024-06-27', 'last_modified_date': '2024-06-12', 'organizations': ['Georgia Tech ’ s Veteran ’ s Services', 'Department of Veteran Affairs']}\n",
            "{'page_label': '17', 'file_name': 'Orientation Documents-Spring 2024 Orientation Document.pdf', 'file_path': '/content/drive/MyDrive/Colab Notebooks/GATECH LLM Seminar/RAG Project/data/Orientation Documents-Spring 2024 Orientation Document.pdf', 'file_type': 'application/pdf', 'file_size': 632296, 'creation_date': '2024-06-27', 'last_modified_date': '2024-06-12', 'organizations': [\"Veteran's Services\"]}\n",
            "{'page_label': '17', 'file_name': 'Orientation Documents-Spring 2024 Orientation Document.pdf', 'file_path': '/content/drive/MyDrive/Colab Notebooks/GATECH LLM Seminar/RAG Project/data/Orientation Documents-Spring 2024 Orientation Document.pdf', 'file_type': 'application/pdf', 'file_size': 632296, 'creation_date': '2024-06-27', 'last_modified_date': '2024-06-12', 'organizations': ['Computing Systems']}\n",
            "{'page_label': '17', 'file_name': 'Orientation Documents-Spring 2024 Orientation Document.pdf', 'file_path': '/content/drive/MyDrive/Colab Notebooks/GATECH LLM Seminar/RAG Project/data/Orientation Documents-Spring 2024 Orientation Document.pdf', 'file_type': 'application/pdf', 'file_size': 632296, 'creation_date': '2024-06-27', 'last_modified_date': '2024-06-12'}\n",
            "{'page_label': '17', 'file_name': 'Orientation Documents-Spring 2024 Orientation Document.pdf', 'file_path': '/content/drive/MyDrive/Colab Notebooks/GATECH LLM Seminar/RAG Project/data/Orientation Documents-Spring 2024 Orientation Document.pdf', 'file_type': 'application/pdf', 'file_size': 632296, 'creation_date': '2024-06-27', 'last_modified_date': '2024-06-12', 'organizations': ['Graduate Curriculum Committee', 'Institute Graduate Curriculum Committee']}\n",
            "{'page_label': '18', 'file_name': 'Orientation Documents-Spring 2024 Orientation Document.pdf', 'file_path': '/content/drive/MyDrive/Colab Notebooks/GATECH LLM Seminar/RAG Project/data/Orientation Documents-Spring 2024 Orientation Document.pdf', 'file_type': 'application/pdf', 'file_size': 632296, 'creation_date': '2024-06-27', 'last_modified_date': '2024-06-12'}\n",
            "{'page_label': '18', 'file_name': 'Orientation Documents-Spring 2024 Orientation Document.pdf', 'file_path': '/content/drive/MyDrive/Colab Notebooks/GATECH LLM Seminar/RAG Project/data/Orientation Documents-Spring 2024 Orientation Document.pdf', 'file_type': 'application/pdf', 'file_size': 632296, 'creation_date': '2024-06-27', 'last_modified_date': '2024-06-12', 'organizations': ['Satisfactory Academic Progress']}\n",
            "{'page_label': '18', 'file_name': 'Orientation Documents-Spring 2024 Orientation Document.pdf', 'file_path': '/content/drive/MyDrive/Colab Notebooks/GATECH LLM Seminar/RAG Project/data/Orientation Documents-Spring 2024 Orientation Document.pdf', 'file_type': 'application/pdf', 'file_size': 632296, 'creation_date': '2024-06-27', 'last_modified_date': '2024-06-12'}\n",
            "{'page_label': '18', 'file_name': 'Orientation Documents-Spring 2024 Orientation Document.pdf', 'file_path': '/content/drive/MyDrive/Colab Notebooks/GATECH LLM Seminar/RAG Project/data/Orientation Documents-Spring 2024 Orientation Document.pdf', 'file_type': 'application/pdf', 'file_size': 632296, 'creation_date': '2024-06-27', 'last_modified_date': '2024-06-12'}\n",
            "{'page_label': '18', 'file_name': 'Orientation Documents-Spring 2024 Orientation Document.pdf', 'file_path': '/content/drive/MyDrive/Colab Notebooks/GATECH LLM Seminar/RAG Project/data/Orientation Documents-Spring 2024 Orientation Document.pdf', 'file_type': 'application/pdf', 'file_size': 632296, 'creation_date': '2024-06-27', 'last_modified_date': '2024-06-12'}\n",
            "{'page_label': '18', 'file_name': 'Orientation Documents-Spring 2024 Orientation Document.pdf', 'file_path': '/content/drive/MyDrive/Colab Notebooks/GATECH LLM Seminar/RAG Project/data/Orientation Documents-Spring 2024 Orientation Document.pdf', 'file_type': 'application/pdf', 'file_size': 632296, 'creation_date': '2024-06-27', 'last_modified_date': '2024-06-12'}\n",
            "{'page_label': '19', 'file_name': 'Orientation Documents-Spring 2024 Orientation Document.pdf', 'file_path': '/content/drive/MyDrive/Colab Notebooks/GATECH LLM Seminar/RAG Project/data/Orientation Documents-Spring 2024 Orientation Document.pdf', 'file_type': 'application/pdf', 'file_size': 632296, 'creation_date': '2024-06-27', 'last_modified_date': '2024-06-12', 'media': ['Taking Time Off']}\n",
            "{'page_label': '19', 'file_name': 'Orientation Documents-Spring 2024 Orientation Document.pdf', 'file_path': '/content/drive/MyDrive/Colab Notebooks/GATECH LLM Seminar/RAG Project/data/Orientation Documents-Spring 2024 Orientation Document.pdf', 'file_type': 'application/pdf', 'file_size': 632296, 'creation_date': '2024-06-27', 'last_modified_date': '2024-06-12', 'organizations': ['OMS Analytics']}\n",
            "{'page_label': '19', 'file_name': 'Orientation Documents-Spring 2024 Orientation Document.pdf', 'file_path': '/content/drive/MyDrive/Colab Notebooks/GATECH LLM Seminar/RAG Project/data/Orientation Documents-Spring 2024 Orientation Document.pdf', 'file_type': 'application/pdf', 'file_size': 632296, 'creation_date': '2024-06-27', 'last_modified_date': '2024-06-12', 'organizations': ['OMS Analytics']}\n",
            "{'page_label': '19', 'file_name': 'Orientation Documents-Spring 2024 Orientation Document.pdf', 'file_path': '/content/drive/MyDrive/Colab Notebooks/GATECH LLM Seminar/RAG Project/data/Orientation Documents-Spring 2024 Orientation Document.pdf', 'file_type': 'application/pdf', 'file_size': 632296, 'creation_date': '2024-06-27', 'last_modified_date': '2024-06-12'}\n",
            "{'page_label': '19', 'file_name': 'Orientation Documents-Spring 2024 Orientation Document.pdf', 'file_path': '/content/drive/MyDrive/Colab Notebooks/GATECH LLM Seminar/RAG Project/data/Orientation Documents-Spring 2024 Orientation Document.pdf', 'file_type': 'application/pdf', 'file_size': 632296, 'creation_date': '2024-06-27', 'last_modified_date': '2024-06-12', 'media': ['Python', 'C', 'Java']}\n",
            "{'page_label': '19', 'file_name': 'Orientation Documents-Spring 2024 Orientation Document.pdf', 'file_path': '/content/drive/MyDrive/Colab Notebooks/GATECH LLM Seminar/RAG Project/data/Orientation Documents-Spring 2024 Orientation Document.pdf', 'file_type': 'application/pdf', 'file_size': 632296, 'creation_date': '2024-06-27', 'last_modified_date': '2024-06-12', 'organizations': ['OMSCS Advising']}\n",
            "{'page_label': '20', 'file_name': 'Orientation Documents-Spring 2024 Orientation Document.pdf', 'file_path': '/content/drive/MyDrive/Colab Notebooks/GATECH LLM Seminar/RAG Project/data/Orientation Documents-Spring 2024 Orientation Document.pdf', 'file_type': 'application/pdf', 'file_size': 632296, 'creation_date': '2024-06-27', 'last_modified_date': '2024-06-12'}\n",
            "{'page_label': '20', 'file_name': 'Orientation Documents-Spring 2024 Orientation Document.pdf', 'file_path': '/content/drive/MyDrive/Colab Notebooks/GATECH LLM Seminar/RAG Project/data/Orientation Documents-Spring 2024 Orientation Document.pdf', 'file_type': 'application/pdf', 'file_size': 632296, 'creation_date': '2024-06-27', 'last_modified_date': '2024-06-12'}\n",
            "{'page_label': '20', 'file_name': 'Orientation Documents-Spring 2024 Orientation Document.pdf', 'file_path': '/content/drive/MyDrive/Colab Notebooks/GATECH LLM Seminar/RAG Project/data/Orientation Documents-Spring 2024 Orientation Document.pdf', 'file_type': 'application/pdf', 'file_size': 632296, 'creation_date': '2024-06-27', 'last_modified_date': '2024-06-12'}\n",
            "{'page_label': '20', 'file_name': 'Orientation Documents-Spring 2024 Orientation Document.pdf', 'file_path': '/content/drive/MyDrive/Colab Notebooks/GATECH LLM Seminar/RAG Project/data/Orientation Documents-Spring 2024 Orientation Document.pdf', 'file_type': 'application/pdf', 'file_size': 632296, 'creation_date': '2024-06-27', 'last_modified_date': '2024-06-12'}\n",
            "{'page_label': '20', 'file_name': 'Orientation Documents-Spring 2024 Orientation Document.pdf', 'file_path': '/content/drive/MyDrive/Colab Notebooks/GATECH LLM Seminar/RAG Project/data/Orientation Documents-Spring 2024 Orientation Document.pdf', 'file_type': 'application/pdf', 'file_size': 632296, 'creation_date': '2024-06-27', 'last_modified_date': '2024-06-12'}\n",
            "{'page_label': '20', 'file_name': 'Orientation Documents-Spring 2024 Orientation Document.pdf', 'file_path': '/content/drive/MyDrive/Colab Notebooks/GATECH LLM Seminar/RAG Project/data/Orientation Documents-Spring 2024 Orientation Document.pdf', 'file_type': 'application/pdf', 'file_size': 632296, 'creation_date': '2024-06-27', 'last_modified_date': '2024-06-12'}\n",
            "{'page_label': '20', 'file_name': 'Orientation Documents-Spring 2024 Orientation Document.pdf', 'file_path': '/content/drive/MyDrive/Colab Notebooks/GATECH LLM Seminar/RAG Project/data/Orientation Documents-Spring 2024 Orientation Document.pdf', 'file_type': 'application/pdf', 'file_size': 632296, 'creation_date': '2024-06-27', 'last_modified_date': '2024-06-12'}\n",
            "{'page_label': '21', 'file_name': 'Orientation Documents-Spring 2024 Orientation Document.pdf', 'file_path': '/content/drive/MyDrive/Colab Notebooks/GATECH LLM Seminar/RAG Project/data/Orientation Documents-Spring 2024 Orientation Document.pdf', 'file_type': 'application/pdf', 'file_size': 632296, 'creation_date': '2024-06-27', 'last_modified_date': '2024-06-12', 'organizations': ['Georgia Tech']}\n",
            "{'page_label': '21', 'file_name': 'Orientation Documents-Spring 2024 Orientation Document.pdf', 'file_path': '/content/drive/MyDrive/Colab Notebooks/GATECH LLM Seminar/RAG Project/data/Orientation Documents-Spring 2024 Orientation Document.pdf', 'file_type': 'application/pdf', 'file_size': 632296, 'creation_date': '2024-06-27', 'last_modified_date': '2024-06-12', 'organizations': ['Georgia Tech']}\n",
            "{'page_label': '21', 'file_name': 'Orientation Documents-Spring 2024 Orientation Document.pdf', 'file_path': '/content/drive/MyDrive/Colab Notebooks/GATECH LLM Seminar/RAG Project/data/Orientation Documents-Spring 2024 Orientation Document.pdf', 'file_type': 'application/pdf', 'file_size': 632296, 'creation_date': '2024-06-27', 'last_modified_date': '2024-06-12', 'organizations': ['Georgia Tech']}\n",
            "{'page_label': '21', 'file_name': 'Orientation Documents-Spring 2024 Orientation Document.pdf', 'file_path': '/content/drive/MyDrive/Colab Notebooks/GATECH LLM Seminar/RAG Project/data/Orientation Documents-Spring 2024 Orientation Document.pdf', 'file_type': 'application/pdf', 'file_size': 632296, 'creation_date': '2024-06-27', 'last_modified_date': '2024-06-12'}\n",
            "{'page_label': '21', 'file_name': 'Orientation Documents-Spring 2024 Orientation Document.pdf', 'file_path': '/content/drive/MyDrive/Colab Notebooks/GATECH LLM Seminar/RAG Project/data/Orientation Documents-Spring 2024 Orientation Document.pdf', 'file_type': 'application/pdf', 'file_size': 632296, 'creation_date': '2024-06-27', 'last_modified_date': '2024-06-12'}\n",
            "{'page_label': '22', 'file_name': 'Orientation Documents-Spring 2024 Orientation Document.pdf', 'file_path': '/content/drive/MyDrive/Colab Notebooks/GATECH LLM Seminar/RAG Project/data/Orientation Documents-Spring 2024 Orientation Document.pdf', 'file_type': 'application/pdf', 'file_size': 632296, 'creation_date': '2024-06-27', 'last_modified_date': '2024-06-12'}\n",
            "{'page_label': '22', 'file_name': 'Orientation Documents-Spring 2024 Orientation Document.pdf', 'file_path': '/content/drive/MyDrive/Colab Notebooks/GATECH LLM Seminar/RAG Project/data/Orientation Documents-Spring 2024 Orientation Document.pdf', 'file_type': 'application/pdf', 'file_size': 632296, 'creation_date': '2024-06-27', 'last_modified_date': '2024-06-12'}\n",
            "{'page_label': '23', 'file_name': 'Orientation Documents-Spring 2024 Orientation Document.pdf', 'file_path': '/content/drive/MyDrive/Colab Notebooks/GATECH LLM Seminar/RAG Project/data/Orientation Documents-Spring 2024 Orientation Document.pdf', 'file_type': 'application/pdf', 'file_size': 632296, 'creation_date': '2024-06-27', 'last_modified_date': '2024-06-12'}\n",
            "{'page_label': '23', 'file_name': 'Orientation Documents-Spring 2024 Orientation Document.pdf', 'file_path': '/content/drive/MyDrive/Colab Notebooks/GATECH LLM Seminar/RAG Project/data/Orientation Documents-Spring 2024 Orientation Document.pdf', 'file_type': 'application/pdf', 'file_size': 632296, 'creation_date': '2024-06-27', 'last_modified_date': '2024-06-12'}\n",
            "{'page_label': '24', 'file_name': 'Orientation Documents-Spring 2024 Orientation Document.pdf', 'file_path': '/content/drive/MyDrive/Colab Notebooks/GATECH LLM Seminar/RAG Project/data/Orientation Documents-Spring 2024 Orientation Document.pdf', 'file_type': 'application/pdf', 'file_size': 632296, 'creation_date': '2024-06-27', 'last_modified_date': '2024-06-12'}\n",
            "{'page_label': '24', 'file_name': 'Orientation Documents-Spring 2024 Orientation Document.pdf', 'file_path': '/content/drive/MyDrive/Colab Notebooks/GATECH LLM Seminar/RAG Project/data/Orientation Documents-Spring 2024 Orientation Document.pdf', 'file_type': 'application/pdf', 'file_size': 632296, 'creation_date': '2024-06-27', 'last_modified_date': '2024-06-12'}\n",
            "{'page_label': '24', 'file_name': 'Orientation Documents-Spring 2024 Orientation Document.pdf', 'file_path': '/content/drive/MyDrive/Colab Notebooks/GATECH LLM Seminar/RAG Project/data/Orientation Documents-Spring 2024 Orientation Document.pdf', 'file_type': 'application/pdf', 'file_size': 632296, 'creation_date': '2024-06-27', 'last_modified_date': '2024-06-12'}\n",
            "{'page_label': '24', 'file_name': 'Orientation Documents-Spring 2024 Orientation Document.pdf', 'file_path': '/content/drive/MyDrive/Colab Notebooks/GATECH LLM Seminar/RAG Project/data/Orientation Documents-Spring 2024 Orientation Document.pdf', 'file_type': 'application/pdf', 'file_size': 632296, 'creation_date': '2024-06-27', 'last_modified_date': '2024-06-12'}\n",
            "{'page_label': '24', 'file_name': 'Orientation Documents-Spring 2024 Orientation Document.pdf', 'file_path': '/content/drive/MyDrive/Colab Notebooks/GATECH LLM Seminar/RAG Project/data/Orientation Documents-Spring 2024 Orientation Document.pdf', 'file_type': 'application/pdf', 'file_size': 632296, 'creation_date': '2024-06-27', 'last_modified_date': '2024-06-12', 'organizations': ['Registrar ’ s Office']}\n",
            "{'page_label': '25', 'file_name': 'Orientation Documents-Spring 2024 Orientation Document.pdf', 'file_path': '/content/drive/MyDrive/Colab Notebooks/GATECH LLM Seminar/RAG Project/data/Orientation Documents-Spring 2024 Orientation Document.pdf', 'file_type': 'application/pdf', 'file_size': 632296, 'creation_date': '2024-06-27', 'last_modified_date': '2024-06-12'}\n",
            "{'page_label': '25', 'file_name': 'Orientation Documents-Spring 2024 Orientation Document.pdf', 'file_path': '/content/drive/MyDrive/Colab Notebooks/GATECH LLM Seminar/RAG Project/data/Orientation Documents-Spring 2024 Orientation Document.pdf', 'file_type': 'application/pdf', 'file_size': 632296, 'creation_date': '2024-06-27', 'last_modified_date': '2024-06-12', 'organizations': ['Georgia Tech']}\n",
            "{'page_label': '25', 'file_name': 'Orientation Documents-Spring 2024 Orientation Document.pdf', 'file_path': '/content/drive/MyDrive/Colab Notebooks/GATECH LLM Seminar/RAG Project/data/Orientation Documents-Spring 2024 Orientation Document.pdf', 'file_type': 'application/pdf', 'file_size': 632296, 'creation_date': '2024-06-27', 'last_modified_date': '2024-06-12', 'organizations': ['Georgia Tech']}\n",
            "{'page_label': '25', 'file_name': 'Orientation Documents-Spring 2024 Orientation Document.pdf', 'file_path': '/content/drive/MyDrive/Colab Notebooks/GATECH LLM Seminar/RAG Project/data/Orientation Documents-Spring 2024 Orientation Document.pdf', 'file_type': 'application/pdf', 'file_size': 632296, 'creation_date': '2024-06-27', 'last_modified_date': '2024-06-12', 'organizations': ['Graduate Institute Curriculum Committee', 'Georgia Tech']}\n",
            "{'page_label': '25', 'file_name': 'Orientation Documents-Spring 2024 Orientation Document.pdf', 'file_path': '/content/drive/MyDrive/Colab Notebooks/GATECH LLM Seminar/RAG Project/data/Orientation Documents-Spring 2024 Orientation Document.pdf', 'file_type': 'application/pdf', 'file_size': 632296, 'creation_date': '2024-06-27', 'last_modified_date': '2024-06-12'}\n",
            "{'page_label': '26', 'file_name': 'Orientation Documents-Spring 2024 Orientation Document.pdf', 'file_path': '/content/drive/MyDrive/Colab Notebooks/GATECH LLM Seminar/RAG Project/data/Orientation Documents-Spring 2024 Orientation Document.pdf', 'file_type': 'application/pdf', 'file_size': 632296, 'creation_date': '2024-06-27', 'last_modified_date': '2024-06-12'}\n",
            "{'page_label': '26', 'file_name': 'Orientation Documents-Spring 2024 Orientation Document.pdf', 'file_path': '/content/drive/MyDrive/Colab Notebooks/GATECH LLM Seminar/RAG Project/data/Orientation Documents-Spring 2024 Orientation Document.pdf', 'file_type': 'application/pdf', 'file_size': 632296, 'creation_date': '2024-06-27', 'last_modified_date': '2024-06-12'}\n",
            "{'page_label': '26', 'file_name': 'Orientation Documents-Spring 2024 Orientation Document.pdf', 'file_path': '/content/drive/MyDrive/Colab Notebooks/GATECH LLM Seminar/RAG Project/data/Orientation Documents-Spring 2024 Orientation Document.pdf', 'file_type': 'application/pdf', 'file_size': 632296, 'creation_date': '2024-06-27', 'last_modified_date': '2024-06-12'}\n",
            "{'page_label': '26', 'file_name': 'Orientation Documents-Spring 2024 Orientation Document.pdf', 'file_path': '/content/drive/MyDrive/Colab Notebooks/GATECH LLM Seminar/RAG Project/data/Orientation Documents-Spring 2024 Orientation Document.pdf', 'file_type': 'application/pdf', 'file_size': 632296, 'creation_date': '2024-06-27', 'last_modified_date': '2024-06-12'}\n",
            "{'page_label': '26', 'file_name': 'Orientation Documents-Spring 2024 Orientation Document.pdf', 'file_path': '/content/drive/MyDrive/Colab Notebooks/GATECH LLM Seminar/RAG Project/data/Orientation Documents-Spring 2024 Orientation Document.pdf', 'file_type': 'application/pdf', 'file_size': 632296, 'creation_date': '2024-06-27', 'last_modified_date': '2024-06-12'}\n",
            "{'page_label': '26', 'file_name': 'Orientation Documents-Spring 2024 Orientation Document.pdf', 'file_path': '/content/drive/MyDrive/Colab Notebooks/GATECH LLM Seminar/RAG Project/data/Orientation Documents-Spring 2024 Orientation Document.pdf', 'file_type': 'application/pdf', 'file_size': 632296, 'creation_date': '2024-06-27', 'last_modified_date': '2024-06-12'}\n",
            "{'page_label': '27', 'file_name': 'Orientation Documents-Spring 2024 Orientation Document.pdf', 'file_path': '/content/drive/MyDrive/Colab Notebooks/GATECH LLM Seminar/RAG Project/data/Orientation Documents-Spring 2024 Orientation Document.pdf', 'file_type': 'application/pdf', 'file_size': 632296, 'creation_date': '2024-06-27', 'last_modified_date': '2024-06-12'}\n",
            "{'page_label': '27', 'file_name': 'Orientation Documents-Spring 2024 Orientation Document.pdf', 'file_path': '/content/drive/MyDrive/Colab Notebooks/GATECH LLM Seminar/RAG Project/data/Orientation Documents-Spring 2024 Orientation Document.pdf', 'file_type': 'application/pdf', 'file_size': 632296, 'creation_date': '2024-06-27', 'last_modified_date': '2024-06-12', 'locations': ['Atlanta']}\n",
            "{'page_label': '27', 'file_name': 'Orientation Documents-Spring 2024 Orientation Document.pdf', 'file_path': '/content/drive/MyDrive/Colab Notebooks/GATECH LLM Seminar/RAG Project/data/Orientation Documents-Spring 2024 Orientation Document.pdf', 'file_type': 'application/pdf', 'file_size': 632296, 'creation_date': '2024-06-27', 'last_modified_date': '2024-06-12'}\n",
            "{'page_label': '27', 'file_name': 'Orientation Documents-Spring 2024 Orientation Document.pdf', 'file_path': '/content/drive/MyDrive/Colab Notebooks/GATECH LLM Seminar/RAG Project/data/Orientation Documents-Spring 2024 Orientation Document.pdf', 'file_type': 'application/pdf', 'file_size': 632296, 'creation_date': '2024-06-27', 'last_modified_date': '2024-06-12', 'organizations': ['Financial Aid']}\n",
            "{'page_label': '27', 'file_name': 'Orientation Documents-Spring 2024 Orientation Document.pdf', 'file_path': '/content/drive/MyDrive/Colab Notebooks/GATECH LLM Seminar/RAG Project/data/Orientation Documents-Spring 2024 Orientation Document.pdf', 'file_type': 'application/pdf', 'file_size': 632296, 'creation_date': '2024-06-27', 'last_modified_date': '2024-06-12'}\n",
            "{'page_label': '27', 'file_name': 'Orientation Documents-Spring 2024 Orientation Document.pdf', 'file_path': '/content/drive/MyDrive/Colab Notebooks/GATECH LLM Seminar/RAG Project/data/Orientation Documents-Spring 2024 Orientation Document.pdf', 'file_type': 'application/pdf', 'file_size': 632296, 'creation_date': '2024-06-27', 'last_modified_date': '2024-06-12'}\n",
            "{'page_label': '27', 'file_name': 'Orientation Documents-Spring 2024 Orientation Document.pdf', 'file_path': '/content/drive/MyDrive/Colab Notebooks/GATECH LLM Seminar/RAG Project/data/Orientation Documents-Spring 2024 Orientation Document.pdf', 'file_type': 'application/pdf', 'file_size': 632296, 'creation_date': '2024-06-27', 'last_modified_date': '2024-06-12'}\n",
            "{'page_label': '28', 'file_name': 'Orientation Documents-Spring 2024 Orientation Document.pdf', 'file_path': '/content/drive/MyDrive/Colab Notebooks/GATECH LLM Seminar/RAG Project/data/Orientation Documents-Spring 2024 Orientation Document.pdf', 'file_type': 'application/pdf', 'file_size': 632296, 'creation_date': '2024-06-27', 'last_modified_date': '2024-06-12'}\n",
            "{'page_label': '28', 'file_name': 'Orientation Documents-Spring 2024 Orientation Document.pdf', 'file_path': '/content/drive/MyDrive/Colab Notebooks/GATECH LLM Seminar/RAG Project/data/Orientation Documents-Spring 2024 Orientation Document.pdf', 'file_type': 'application/pdf', 'file_size': 632296, 'creation_date': '2024-06-27', 'last_modified_date': '2024-06-12'}\n",
            "{'page_label': '28', 'file_name': 'Orientation Documents-Spring 2024 Orientation Document.pdf', 'file_path': '/content/drive/MyDrive/Colab Notebooks/GATECH LLM Seminar/RAG Project/data/Orientation Documents-Spring 2024 Orientation Document.pdf', 'file_type': 'application/pdf', 'file_size': 632296, 'creation_date': '2024-06-27', 'last_modified_date': '2024-06-12', 'organizations': [\"Institute's Acceptable Use Policy\"]}\n",
            "{'page_label': '28', 'file_name': 'Orientation Documents-Spring 2024 Orientation Document.pdf', 'file_path': '/content/drive/MyDrive/Colab Notebooks/GATECH LLM Seminar/RAG Project/data/Orientation Documents-Spring 2024 Orientation Document.pdf', 'file_type': 'application/pdf', 'file_size': 632296, 'creation_date': '2024-06-27', 'last_modified_date': '2024-06-12', 'organizations': ['Protection of IT Resources']}\n",
            "{'page_label': '28', 'file_name': 'Orientation Documents-Spring 2024 Orientation Document.pdf', 'file_path': '/content/drive/MyDrive/Colab Notebooks/GATECH LLM Seminar/RAG Project/data/Orientation Documents-Spring 2024 Orientation Document.pdf', 'file_type': 'application/pdf', 'file_size': 632296, 'creation_date': '2024-06-27', 'last_modified_date': '2024-06-12', 'organizations': ['Dean of Students']}\n",
            "{'page_label': '28', 'file_name': 'Orientation Documents-Spring 2024 Orientation Document.pdf', 'file_path': '/content/drive/MyDrive/Colab Notebooks/GATECH LLM Seminar/RAG Project/data/Orientation Documents-Spring 2024 Orientation Document.pdf', 'file_type': 'application/pdf', 'file_size': 632296, 'creation_date': '2024-06-27', 'last_modified_date': '2024-06-12'}\n",
            "{'page_label': '28', 'file_name': 'Orientation Documents-Spring 2024 Orientation Document.pdf', 'file_path': '/content/drive/MyDrive/Colab Notebooks/GATECH LLM Seminar/RAG Project/data/Orientation Documents-Spring 2024 Orientation Document.pdf', 'file_type': 'application/pdf', 'file_size': 632296, 'creation_date': '2024-06-27', 'last_modified_date': '2024-06-12'}\n",
            "{'page_label': '28', 'file_name': 'Orientation Documents-Spring 2024 Orientation Document.pdf', 'file_path': '/content/drive/MyDrive/Colab Notebooks/GATECH LLM Seminar/RAG Project/data/Orientation Documents-Spring 2024 Orientation Document.pdf', 'file_type': 'application/pdf', 'file_size': 632296, 'creation_date': '2024-06-27', 'last_modified_date': '2024-06-12', 'organizations': ['OMSCS Advising']}\n",
            "{'page_label': '29', 'file_name': 'Orientation Documents-Spring 2024 Orientation Document.pdf', 'file_path': '/content/drive/MyDrive/Colab Notebooks/GATECH LLM Seminar/RAG Project/data/Orientation Documents-Spring 2024 Orientation Document.pdf', 'file_type': 'application/pdf', 'file_size': 632296, 'creation_date': '2024-06-27', 'last_modified_date': '2024-06-12', 'organizations': ['OMS Analytics']}\n",
            "{'page_label': '29', 'file_name': 'Orientation Documents-Spring 2024 Orientation Document.pdf', 'file_path': '/content/drive/MyDrive/Colab Notebooks/GATECH LLM Seminar/RAG Project/data/Orientation Documents-Spring 2024 Orientation Document.pdf', 'file_type': 'application/pdf', 'file_size': 632296, 'creation_date': '2024-06-27', 'last_modified_date': '2024-06-12'}\n",
            "{'page_label': '29', 'file_name': 'Orientation Documents-Spring 2024 Orientation Document.pdf', 'file_path': '/content/drive/MyDrive/Colab Notebooks/GATECH LLM Seminar/RAG Project/data/Orientation Documents-Spring 2024 Orientation Document.pdf', 'file_type': 'application/pdf', 'file_size': 632296, 'creation_date': '2024-06-27', 'last_modified_date': '2024-06-12'}\n",
            "{'page_label': '29', 'file_name': 'Orientation Documents-Spring 2024 Orientation Document.pdf', 'file_path': '/content/drive/MyDrive/Colab Notebooks/GATECH LLM Seminar/RAG Project/data/Orientation Documents-Spring 2024 Orientation Document.pdf', 'file_type': 'application/pdf', 'file_size': 632296, 'creation_date': '2024-06-27', 'last_modified_date': '2024-06-12', 'organizations': ['Canvas']}\n",
            "{'page_label': '29', 'file_name': 'Orientation Documents-Spring 2024 Orientation Document.pdf', 'file_path': '/content/drive/MyDrive/Colab Notebooks/GATECH LLM Seminar/RAG Project/data/Orientation Documents-Spring 2024 Orientation Document.pdf', 'file_type': 'application/pdf', 'file_size': 632296, 'creation_date': '2024-06-27', 'last_modified_date': '2024-06-12'}\n",
            "{'page_label': '29', 'file_name': 'Orientation Documents-Spring 2024 Orientation Document.pdf', 'file_path': '/content/drive/MyDrive/Colab Notebooks/GATECH LLM Seminar/RAG Project/data/Orientation Documents-Spring 2024 Orientation Document.pdf', 'file_type': 'application/pdf', 'file_size': 632296, 'creation_date': '2024-06-27', 'last_modified_date': '2024-06-12'}\n",
            "{'page_label': '30', 'file_name': 'Orientation Documents-Spring 2024 Orientation Document.pdf', 'file_path': '/content/drive/MyDrive/Colab Notebooks/GATECH LLM Seminar/RAG Project/data/Orientation Documents-Spring 2024 Orientation Document.pdf', 'file_type': 'application/pdf', 'file_size': 632296, 'creation_date': '2024-06-27', 'last_modified_date': '2024-06-12', 'organizations': ['Canvas']}\n",
            "{'page_label': '30', 'file_name': 'Orientation Documents-Spring 2024 Orientation Document.pdf', 'file_path': '/content/drive/MyDrive/Colab Notebooks/GATECH LLM Seminar/RAG Project/data/Orientation Documents-Spring 2024 Orientation Document.pdf', 'file_type': 'application/pdf', 'file_size': 632296, 'creation_date': '2024-06-27', 'last_modified_date': '2024-06-12', 'organizations': ['Canvas']}\n",
            "{'page_label': '30', 'file_name': 'Orientation Documents-Spring 2024 Orientation Document.pdf', 'file_path': '/content/drive/MyDrive/Colab Notebooks/GATECH LLM Seminar/RAG Project/data/Orientation Documents-Spring 2024 Orientation Document.pdf', 'file_type': 'application/pdf', 'file_size': 632296, 'creation_date': '2024-06-27', 'last_modified_date': '2024-06-12', 'organizations': ['Canvas', 'Banner']}\n",
            "{'page_label': '30', 'file_name': 'Orientation Documents-Spring 2024 Orientation Document.pdf', 'file_path': '/content/drive/MyDrive/Colab Notebooks/GATECH LLM Seminar/RAG Project/data/Orientation Documents-Spring 2024 Orientation Document.pdf', 'file_type': 'application/pdf', 'file_size': 632296, 'creation_date': '2024-06-27', 'last_modified_date': '2024-06-12'}\n",
            "{'page_label': '30', 'file_name': 'Orientation Documents-Spring 2024 Orientation Document.pdf', 'file_path': '/content/drive/MyDrive/Colab Notebooks/GATECH LLM Seminar/RAG Project/data/Orientation Documents-Spring 2024 Orientation Document.pdf', 'file_type': 'application/pdf', 'file_size': 632296, 'creation_date': '2024-06-27', 'last_modified_date': '2024-06-12', 'organizations': ['Georgia Tech']}\n",
            "{'page_label': '30', 'file_name': 'Orientation Documents-Spring 2024 Orientation Document.pdf', 'file_path': '/content/drive/MyDrive/Colab Notebooks/GATECH LLM Seminar/RAG Project/data/Orientation Documents-Spring 2024 Orientation Document.pdf', 'file_type': 'application/pdf', 'file_size': 632296, 'creation_date': '2024-06-27', 'last_modified_date': '2024-06-12', 'organizations': ['Georgia Tech']}\n",
            "{'page_label': '30', 'file_name': 'Orientation Documents-Spring 2024 Orientation Document.pdf', 'file_path': '/content/drive/MyDrive/Colab Notebooks/GATECH LLM Seminar/RAG Project/data/Orientation Documents-Spring 2024 Orientation Document.pdf', 'file_type': 'application/pdf', 'file_size': 632296, 'creation_date': '2024-06-27', 'last_modified_date': '2024-06-12', 'organizations': ['Office of Student Integrity']}\n",
            "{'page_label': '31', 'file_name': 'Orientation Documents-Spring 2024 Orientation Document.pdf', 'file_path': '/content/drive/MyDrive/Colab Notebooks/GATECH LLM Seminar/RAG Project/data/Orientation Documents-Spring 2024 Orientation Document.pdf', 'file_type': 'application/pdf', 'file_size': 632296, 'creation_date': '2024-06-27', 'last_modified_date': '2024-06-12', 'organizations': ['Registrar ’ s Office', 'Office of Student Integrity', 'Canvas']}\n",
            "{'page_label': '31', 'file_name': 'Orientation Documents-Spring 2024 Orientation Document.pdf', 'file_path': '/content/drive/MyDrive/Colab Notebooks/GATECH LLM Seminar/RAG Project/data/Orientation Documents-Spring 2024 Orientation Document.pdf', 'file_type': 'application/pdf', 'file_size': 632296, 'creation_date': '2024-06-27', 'last_modified_date': '2024-06-12', 'organizations': ['Bursar ’ s Office', 'Office of Scholarships and Financial Aid']}\n",
            "{'page_label': '31', 'file_name': 'Orientation Documents-Spring 2024 Orientation Document.pdf', 'file_path': '/content/drive/MyDrive/Colab Notebooks/GATECH LLM Seminar/RAG Project/data/Orientation Documents-Spring 2024 Orientation Document.pdf', 'file_type': 'application/pdf', 'file_size': 632296, 'creation_date': '2024-06-27', 'last_modified_date': '2024-06-12', 'media': ['GT Payment Plan']}\n",
            "{'page_label': '31', 'file_name': 'Orientation Documents-Spring 2024 Orientation Document.pdf', 'file_path': '/content/drive/MyDrive/Colab Notebooks/GATECH LLM Seminar/RAG Project/data/Orientation Documents-Spring 2024 Orientation Document.pdf', 'file_type': 'application/pdf', 'file_size': 632296, 'creation_date': '2024-06-27', 'last_modified_date': '2024-06-12', 'times': ['Fee Payment Deadline'], 'organizations': ['Bursar ’ s Office']}\n",
            "{'page_label': '31', 'file_name': 'Orientation Documents-Spring 2024 Orientation Document.pdf', 'file_path': '/content/drive/MyDrive/Colab Notebooks/GATECH LLM Seminar/RAG Project/data/Orientation Documents-Spring 2024 Orientation Document.pdf', 'file_type': 'application/pdf', 'file_size': 632296, 'creation_date': '2024-06-27', 'last_modified_date': '2024-06-12', 'organizations': ['Bursar ’ s Office']}\n",
            "{'page_label': '32', 'file_name': 'Orientation Documents-Spring 2024 Orientation Document.pdf', 'file_path': '/content/drive/MyDrive/Colab Notebooks/GATECH LLM Seminar/RAG Project/data/Orientation Documents-Spring 2024 Orientation Document.pdf', 'file_type': 'application/pdf', 'file_size': 632296, 'creation_date': '2024-06-27', 'last_modified_date': '2024-06-12'}\n",
            "{'page_label': '32', 'file_name': 'Orientation Documents-Spring 2024 Orientation Document.pdf', 'file_path': '/content/drive/MyDrive/Colab Notebooks/GATECH LLM Seminar/RAG Project/data/Orientation Documents-Spring 2024 Orientation Document.pdf', 'file_type': 'application/pdf', 'file_size': 632296, 'creation_date': '2024-06-27', 'last_modified_date': '2024-06-12', 'organizations': ['Bursar ’ s Office', 'Office of Scholarships and Financial Aid']}\n",
            "{'page_label': '32', 'file_name': 'Orientation Documents-Spring 2024 Orientation Document.pdf', 'file_path': '/content/drive/MyDrive/Colab Notebooks/GATECH LLM Seminar/RAG Project/data/Orientation Documents-Spring 2024 Orientation Document.pdf', 'file_type': 'application/pdf', 'file_size': 632296, 'creation_date': '2024-06-27', 'last_modified_date': '2024-06-12'}\n",
            "{'page_label': '32', 'file_name': 'Orientation Documents-Spring 2024 Orientation Document.pdf', 'file_path': '/content/drive/MyDrive/Colab Notebooks/GATECH LLM Seminar/RAG Project/data/Orientation Documents-Spring 2024 Orientation Document.pdf', 'file_type': 'application/pdf', 'file_size': 632296, 'creation_date': '2024-06-27', 'last_modified_date': '2024-06-12'}\n",
            "{'page_label': '32', 'file_name': 'Orientation Documents-Spring 2024 Orientation Document.pdf', 'file_path': '/content/drive/MyDrive/Colab Notebooks/GATECH LLM Seminar/RAG Project/data/Orientation Documents-Spring 2024 Orientation Document.pdf', 'file_type': 'application/pdf', 'file_size': 632296, 'creation_date': '2024-06-27', 'last_modified_date': '2024-06-12', 'organizations': ['Registrar ’ s Office']}\n",
            "{'page_label': '33', 'file_name': 'Orientation Documents-Spring 2024 Orientation Document.pdf', 'file_path': '/content/drive/MyDrive/Colab Notebooks/GATECH LLM Seminar/RAG Project/data/Orientation Documents-Spring 2024 Orientation Document.pdf', 'file_type': 'application/pdf', 'file_size': 632296, 'creation_date': '2024-06-27', 'last_modified_date': '2024-06-12'}\n",
            "{'page_label': '33', 'file_name': 'Orientation Documents-Spring 2024 Orientation Document.pdf', 'file_path': '/content/drive/MyDrive/Colab Notebooks/GATECH LLM Seminar/RAG Project/data/Orientation Documents-Spring 2024 Orientation Document.pdf', 'file_type': 'application/pdf', 'file_size': 632296, 'creation_date': '2024-06-27', 'last_modified_date': '2024-06-12'}\n",
            "{'page_label': '33', 'file_name': 'Orientation Documents-Spring 2024 Orientation Document.pdf', 'file_path': '/content/drive/MyDrive/Colab Notebooks/GATECH LLM Seminar/RAG Project/data/Orientation Documents-Spring 2024 Orientation Document.pdf', 'file_type': 'application/pdf', 'file_size': 632296, 'creation_date': '2024-06-27', 'last_modified_date': '2024-06-12'}\n",
            "{'page_label': '33', 'file_name': 'Orientation Documents-Spring 2024 Orientation Document.pdf', 'file_path': '/content/drive/MyDrive/Colab Notebooks/GATECH LLM Seminar/RAG Project/data/Orientation Documents-Spring 2024 Orientation Document.pdf', 'file_type': 'application/pdf', 'file_size': 632296, 'creation_date': '2024-06-27', 'last_modified_date': '2024-06-12'}\n",
            "{'page_label': '33', 'file_name': 'Orientation Documents-Spring 2024 Orientation Document.pdf', 'file_path': '/content/drive/MyDrive/Colab Notebooks/GATECH LLM Seminar/RAG Project/data/Orientation Documents-Spring 2024 Orientation Document.pdf', 'file_type': 'application/pdf', 'file_size': 632296, 'creation_date': '2024-06-27', 'last_modified_date': '2024-06-12'}\n",
            "{'page_label': '33', 'file_name': 'Orientation Documents-Spring 2024 Orientation Document.pdf', 'file_path': '/content/drive/MyDrive/Colab Notebooks/GATECH LLM Seminar/RAG Project/data/Orientation Documents-Spring 2024 Orientation Document.pdf', 'file_type': 'application/pdf', 'file_size': 632296, 'creation_date': '2024-06-27', 'last_modified_date': '2024-06-12'}\n",
            "{'page_label': '33', 'file_name': 'Orientation Documents-Spring 2024 Orientation Document.pdf', 'file_path': '/content/drive/MyDrive/Colab Notebooks/GATECH LLM Seminar/RAG Project/data/Orientation Documents-Spring 2024 Orientation Document.pdf', 'file_type': 'application/pdf', 'file_size': 632296, 'creation_date': '2024-06-27', 'last_modified_date': '2024-06-12', 'organizations': ['Registrar ’ s Office']}\n",
            "{'page_label': '34', 'file_name': 'Orientation Documents-Spring 2024 Orientation Document.pdf', 'file_path': '/content/drive/MyDrive/Colab Notebooks/GATECH LLM Seminar/RAG Project/data/Orientation Documents-Spring 2024 Orientation Document.pdf', 'file_type': 'application/pdf', 'file_size': 632296, 'creation_date': '2024-06-27', 'last_modified_date': '2024-06-12', 'organizations': ['Registrar ’ s Office']}\n",
            "{'page_label': '34', 'file_name': 'Orientation Documents-Spring 2024 Orientation Document.pdf', 'file_path': '/content/drive/MyDrive/Colab Notebooks/GATECH LLM Seminar/RAG Project/data/Orientation Documents-Spring 2024 Orientation Document.pdf', 'file_type': 'application/pdf', 'file_size': 632296, 'creation_date': '2024-06-27', 'last_modified_date': '2024-06-12', 'organizations': ['Office of the Dean of Students', 'Georgia Tech']}\n",
            "{'page_label': '34', 'file_name': 'Orientation Documents-Spring 2024 Orientation Document.pdf', 'file_path': '/content/drive/MyDrive/Colab Notebooks/GATECH LLM Seminar/RAG Project/data/Orientation Documents-Spring 2024 Orientation Document.pdf', 'file_type': 'application/pdf', 'file_size': 632296, 'creation_date': '2024-06-27', 'last_modified_date': '2024-06-12', 'organizations': ['Office of International Education and Financial Aid', 'Office of the Dean of Students']}\n",
            "{'page_label': '34', 'file_name': 'Orientation Documents-Spring 2024 Orientation Document.pdf', 'file_path': '/content/drive/MyDrive/Colab Notebooks/GATECH LLM Seminar/RAG Project/data/Orientation Documents-Spring 2024 Orientation Document.pdf', 'file_type': 'application/pdf', 'file_size': 632296, 'creation_date': '2024-06-27', 'last_modified_date': '2024-06-12', 'organizations': ['Georgia Tech']}\n",
            "{'page_label': '34', 'file_name': 'Orientation Documents-Spring 2024 Orientation Document.pdf', 'file_path': '/content/drive/MyDrive/Colab Notebooks/GATECH LLM Seminar/RAG Project/data/Orientation Documents-Spring 2024 Orientation Document.pdf', 'file_type': 'application/pdf', 'file_size': 632296, 'creation_date': '2024-06-27', 'last_modified_date': '2024-06-12', 'times': ['Leave of Absence'], 'organizations': ['Registrar ’ s Office']}\n",
            "{'page_label': '34', 'file_name': 'Orientation Documents-Spring 2024 Orientation Document.pdf', 'file_path': '/content/drive/MyDrive/Colab Notebooks/GATECH LLM Seminar/RAG Project/data/Orientation Documents-Spring 2024 Orientation Document.pdf', 'file_type': 'application/pdf', 'file_size': 632296, 'creation_date': '2024-06-27', 'last_modified_date': '2024-06-12', 'times': ['Leave of Absence']}\n",
            "{'page_label': '35', 'file_name': 'Orientation Documents-Spring 2024 Orientation Document.pdf', 'file_path': '/content/drive/MyDrive/Colab Notebooks/GATECH LLM Seminar/RAG Project/data/Orientation Documents-Spring 2024 Orientation Document.pdf', 'file_type': 'application/pdf', 'file_size': 632296, 'creation_date': '2024-06-27', 'last_modified_date': '2024-06-12'}\n",
            "{'page_label': '35', 'file_name': 'Orientation Documents-Spring 2024 Orientation Document.pdf', 'file_path': '/content/drive/MyDrive/Colab Notebooks/GATECH LLM Seminar/RAG Project/data/Orientation Documents-Spring 2024 Orientation Document.pdf', 'file_type': 'application/pdf', 'file_size': 632296, 'creation_date': '2024-06-27', 'last_modified_date': '2024-06-12'}\n",
            "{'page_label': '35', 'file_name': 'Orientation Documents-Spring 2024 Orientation Document.pdf', 'file_path': '/content/drive/MyDrive/Colab Notebooks/GATECH LLM Seminar/RAG Project/data/Orientation Documents-Spring 2024 Orientation Document.pdf', 'file_type': 'application/pdf', 'file_size': 632296, 'creation_date': '2024-06-27', 'last_modified_date': '2024-06-12'}\n",
            "{'page_label': '35', 'file_name': 'Orientation Documents-Spring 2024 Orientation Document.pdf', 'file_path': '/content/drive/MyDrive/Colab Notebooks/GATECH LLM Seminar/RAG Project/data/Orientation Documents-Spring 2024 Orientation Document.pdf', 'file_type': 'application/pdf', 'file_size': 632296, 'creation_date': '2024-06-27', 'last_modified_date': '2024-06-12'}\n",
            "{'page_label': '35', 'file_name': 'Orientation Documents-Spring 2024 Orientation Document.pdf', 'file_path': '/content/drive/MyDrive/Colab Notebooks/GATECH LLM Seminar/RAG Project/data/Orientation Documents-Spring 2024 Orientation Document.pdf', 'file_type': 'application/pdf', 'file_size': 632296, 'creation_date': '2024-06-27', 'last_modified_date': '2024-06-12', 'organizations': ['Commencement Office']}\n",
            "{'page_label': '35', 'file_name': 'Orientation Documents-Spring 2024 Orientation Document.pdf', 'file_path': '/content/drive/MyDrive/Colab Notebooks/GATECH LLM Seminar/RAG Project/data/Orientation Documents-Spring 2024 Orientation Document.pdf', 'file_type': 'application/pdf', 'file_size': 632296, 'creation_date': '2024-06-27', 'last_modified_date': '2024-06-12'}\n",
            "{'page_label': '35', 'file_name': 'Orientation Documents-Spring 2024 Orientation Document.pdf', 'file_path': '/content/drive/MyDrive/Colab Notebooks/GATECH LLM Seminar/RAG Project/data/Orientation Documents-Spring 2024 Orientation Document.pdf', 'file_type': 'application/pdf', 'file_size': 632296, 'creation_date': '2024-06-27', 'last_modified_date': '2024-06-12'}\n",
            "{'page_label': '36', 'file_name': 'Orientation Documents-Spring 2024 Orientation Document.pdf', 'file_path': '/content/drive/MyDrive/Colab Notebooks/GATECH LLM Seminar/RAG Project/data/Orientation Documents-Spring 2024 Orientation Document.pdf', 'file_type': 'application/pdf', 'file_size': 632296, 'creation_date': '2024-06-27', 'last_modified_date': '2024-06-12', 'organizations': ['Commencement Office']}\n",
            "{'page_label': '36', 'file_name': 'Orientation Documents-Spring 2024 Orientation Document.pdf', 'file_path': '/content/drive/MyDrive/Colab Notebooks/GATECH LLM Seminar/RAG Project/data/Orientation Documents-Spring 2024 Orientation Document.pdf', 'file_type': 'application/pdf', 'file_size': 632296, 'creation_date': '2024-06-27', 'last_modified_date': '2024-06-12', 'organizations': ['Commencement Office']}\n",
            "{'page_label': '36', 'file_name': 'Orientation Documents-Spring 2024 Orientation Document.pdf', 'file_path': '/content/drive/MyDrive/Colab Notebooks/GATECH LLM Seminar/RAG Project/data/Orientation Documents-Spring 2024 Orientation Document.pdf', 'file_type': 'application/pdf', 'file_size': 632296, 'creation_date': '2024-06-27', 'last_modified_date': '2024-06-12'}\n",
            "{'page_label': '36', 'file_name': 'Orientation Documents-Spring 2024 Orientation Document.pdf', 'file_path': '/content/drive/MyDrive/Colab Notebooks/GATECH LLM Seminar/RAG Project/data/Orientation Documents-Spring 2024 Orientation Document.pdf', 'file_type': 'application/pdf', 'file_size': 632296, 'creation_date': '2024-06-27', 'last_modified_date': '2024-06-12'}\n",
            "{'page_label': '36', 'file_name': 'Orientation Documents-Spring 2024 Orientation Document.pdf', 'file_path': '/content/drive/MyDrive/Colab Notebooks/GATECH LLM Seminar/RAG Project/data/Orientation Documents-Spring 2024 Orientation Document.pdf', 'file_type': 'application/pdf', 'file_size': 632296, 'creation_date': '2024-06-27', 'last_modified_date': '2024-06-12'}\n",
            "{'page_label': '36', 'file_name': 'Orientation Documents-Spring 2024 Orientation Document.pdf', 'file_path': '/content/drive/MyDrive/Colab Notebooks/GATECH LLM Seminar/RAG Project/data/Orientation Documents-Spring 2024 Orientation Document.pdf', 'file_type': 'application/pdf', 'file_size': 632296, 'creation_date': '2024-06-27', 'last_modified_date': '2024-06-12', 'organizations': ['Georgia Tech']}\n",
            "{'page_label': '36', 'file_name': 'Orientation Documents-Spring 2024 Orientation Document.pdf', 'file_path': '/content/drive/MyDrive/Colab Notebooks/GATECH LLM Seminar/RAG Project/data/Orientation Documents-Spring 2024 Orientation Document.pdf', 'file_type': 'application/pdf', 'file_size': 632296, 'creation_date': '2024-06-27', 'last_modified_date': '2024-06-12', 'organizations': ['Registrar ’ s Office']}\n",
            "{'page_label': '36', 'file_name': 'Orientation Documents-Spring 2024 Orientation Document.pdf', 'file_path': '/content/drive/MyDrive/Colab Notebooks/GATECH LLM Seminar/RAG Project/data/Orientation Documents-Spring 2024 Orientation Document.pdf', 'file_type': 'application/pdf', 'file_size': 632296, 'creation_date': '2024-06-27', 'last_modified_date': '2024-06-12', 'locations': ['Georgia']}\n",
            "{'page_label': '37', 'file_name': 'Orientation Documents-Spring 2024 Orientation Document.pdf', 'file_path': '/content/drive/MyDrive/Colab Notebooks/GATECH LLM Seminar/RAG Project/data/Orientation Documents-Spring 2024 Orientation Document.pdf', 'file_type': 'application/pdf', 'file_size': 632296, 'creation_date': '2024-06-27', 'last_modified_date': '2024-06-12'}\n",
            "{'page_label': '37', 'file_name': 'Orientation Documents-Spring 2024 Orientation Document.pdf', 'file_path': '/content/drive/MyDrive/Colab Notebooks/GATECH LLM Seminar/RAG Project/data/Orientation Documents-Spring 2024 Orientation Document.pdf', 'file_type': 'application/pdf', 'file_size': 632296, 'creation_date': '2024-06-27', 'last_modified_date': '2024-06-12', 'locations': ['U.S.'], 'organizations': ['Georgia Tech']}\n",
            "{'page_label': '38', 'file_name': 'Orientation Documents-Spring 2024 Orientation Document.pdf', 'file_path': '/content/drive/MyDrive/Colab Notebooks/GATECH LLM Seminar/RAG Project/data/Orientation Documents-Spring 2024 Orientation Document.pdf', 'file_type': 'application/pdf', 'file_size': 632296, 'creation_date': '2024-06-27', 'last_modified_date': '2024-06-12'}\n",
            "{'page_label': '38', 'file_name': 'Orientation Documents-Spring 2024 Orientation Document.pdf', 'file_path': '/content/drive/MyDrive/Colab Notebooks/GATECH LLM Seminar/RAG Project/data/Orientation Documents-Spring 2024 Orientation Document.pdf', 'file_type': 'application/pdf', 'file_size': 632296, 'creation_date': '2024-06-27', 'last_modified_date': '2024-06-12', 'organizations': ['Bursar ’ s Office', 'College of Computing Career Development']}\n",
            "{'page_label': '38', 'file_name': 'Orientation Documents-Spring 2024 Orientation Document.pdf', 'file_path': '/content/drive/MyDrive/Colab Notebooks/GATECH LLM Seminar/RAG Project/data/Orientation Documents-Spring 2024 Orientation Document.pdf', 'file_type': 'application/pdf', 'file_size': 632296, 'creation_date': '2024-06-27', 'last_modified_date': '2024-06-12', 'organizations': ['Georgia Tech Athletics']}\n",
            "{'page_label': '38', 'file_name': 'Orientation Documents-Spring 2024 Orientation Document.pdf', 'file_path': '/content/drive/MyDrive/Colab Notebooks/GATECH LLM Seminar/RAG Project/data/Orientation Documents-Spring 2024 Orientation Document.pdf', 'file_type': 'application/pdf', 'file_size': 632296, 'creation_date': '2024-06-27', 'last_modified_date': '2024-06-12', 'organizations': ['Georgia Tech Career Center', 'Office of Disability Services']}\n",
            "{'page_label': '39', 'file_name': 'Orientation Documents-Spring 2024 Orientation Document.pdf', 'file_path': '/content/drive/MyDrive/Colab Notebooks/GATECH LLM Seminar/RAG Project/data/Orientation Documents-Spring 2024 Orientation Document.pdf', 'file_type': 'application/pdf', 'file_size': 632296, 'creation_date': '2024-06-27', 'last_modified_date': '2024-06-12', 'organizations': ['Office of International Education', 'Office of Information Technology', 'Office of Scholarships and Financial Aid']}\n",
            "{'page_label': '39', 'file_name': 'Orientation Documents-Spring 2024 Orientation Document.pdf', 'file_path': '/content/drive/MyDrive/Colab Notebooks/GATECH LLM Seminar/RAG Project/data/Orientation Documents-Spring 2024 Orientation Document.pdf', 'file_type': 'application/pdf', 'file_size': 632296, 'creation_date': '2024-06-27', 'last_modified_date': '2024-06-12', 'organizations': ['Registrar ’ s Office', 'OMSCS Help Desk', 'Office of Student Integrity']}\n",
            "{'page_label': '40', 'file_name': 'Orientation Documents-Spring 2024 Orientation Document.pdf', 'file_path': '/content/drive/MyDrive/Colab Notebooks/GATECH LLM Seminar/RAG Project/data/Orientation Documents-Spring 2024 Orientation Document.pdf', 'file_type': 'application/pdf', 'file_size': 632296, 'creation_date': '2024-06-27', 'last_modified_date': '2024-06-12'}\n",
            "{'page_label': '40', 'file_name': 'Orientation Documents-Spring 2024 Orientation Document.pdf', 'file_path': '/content/drive/MyDrive/Colab Notebooks/GATECH LLM Seminar/RAG Project/data/Orientation Documents-Spring 2024 Orientation Document.pdf', 'file_type': 'application/pdf', 'file_size': 632296, 'creation_date': '2024-06-27', 'last_modified_date': '2024-06-12'}\n",
            "{'page_label': '40', 'file_name': 'Orientation Documents-Spring 2024 Orientation Document.pdf', 'file_path': '/content/drive/MyDrive/Colab Notebooks/GATECH LLM Seminar/RAG Project/data/Orientation Documents-Spring 2024 Orientation Document.pdf', 'file_type': 'application/pdf', 'file_size': 632296, 'creation_date': '2024-06-27', 'last_modified_date': '2024-06-12'}\n",
            "{'page_label': '40', 'file_name': 'Orientation Documents-Spring 2024 Orientation Document.pdf', 'file_path': '/content/drive/MyDrive/Colab Notebooks/GATECH LLM Seminar/RAG Project/data/Orientation Documents-Spring 2024 Orientation Document.pdf', 'file_type': 'application/pdf', 'file_size': 632296, 'creation_date': '2024-06-27', 'last_modified_date': '2024-06-12'}\n",
            "{'page_label': '40', 'file_name': 'Orientation Documents-Spring 2024 Orientation Document.pdf', 'file_path': '/content/drive/MyDrive/Colab Notebooks/GATECH LLM Seminar/RAG Project/data/Orientation Documents-Spring 2024 Orientation Document.pdf', 'file_type': 'application/pdf', 'file_size': 632296, 'creation_date': '2024-06-27', 'last_modified_date': '2024-06-12'}\n",
            "{'page_label': '40', 'file_name': 'Orientation Documents-Spring 2024 Orientation Document.pdf', 'file_path': '/content/drive/MyDrive/Colab Notebooks/GATECH LLM Seminar/RAG Project/data/Orientation Documents-Spring 2024 Orientation Document.pdf', 'file_type': 'application/pdf', 'file_size': 632296, 'creation_date': '2024-06-27', 'last_modified_date': '2024-06-12', 'organizations': ['Georgia Tech']}\n"
          ]
        }
      ]
    },
    {
      "cell_type": "markdown",
      "source": [
        "LLM Setup - Llama3-7B-INSTRUCT"
      ],
      "metadata": {
        "id": "sPiTCe4n_sLt"
      }
    },
    {
      "cell_type": "markdown",
      "source": [],
      "metadata": {
        "id": "Ov6VwzQV_r1X"
      }
    },
    {
      "cell_type": "code",
      "source": [
        "modelName = \"meta-llama/Meta-Llama-3-8B-Instruct\"\n",
        "#modelName = \"meta-llama/Meta-Llama-3-8B\""
      ],
      "metadata": {
        "id": "xSahCDWD2RNM"
      },
      "execution_count": 31,
      "outputs": []
    },
    {
      "cell_type": "code",
      "source": [
        "#Instatntiating LLAMA3 LLM\n",
        "from transformers import AutoTokenizer\n",
        "\n",
        "llama3Tokenizer = AutoTokenizer.from_pretrained(modelName)\n",
        "\n",
        "stopping_ids = [\n",
        "    llama3Tokenizer.eos_token_id,\n",
        "    llama3Tokenizer.convert_tokens_to_ids(\"<|eot_id|>\"),\n",
        "]"
      ],
      "metadata": {
        "colab": {
          "base_uri": "https://localhost:8080/"
        },
        "id": "bmHUMQ7u0piM",
        "outputId": "b62ec6c0-dab9-4390-b3cd-1c7551a06a6d"
      },
      "execution_count": 32,
      "outputs": [
        {
          "output_type": "stream",
          "name": "stderr",
          "text": [
            "Special tokens have been added in the vocabulary, make sure the associated word embeddings are fine-tuned or trained.\n"
          ]
        }
      ]
    },
    {
      "cell_type": "code",
      "source": [
        "llmParamTemperature = 0.2\n",
        "llmParamTopP = 0.9"
      ],
      "metadata": {
        "id": "YBOzWLy6-IVd"
      },
      "execution_count": 33,
      "outputs": []
    },
    {
      "cell_type": "code",
      "source": [
        "from transformers import BitsAndBytesConfig"
      ],
      "metadata": {
        "id": "2Qk7kWBj9YBM"
      },
      "execution_count": 34,
      "outputs": []
    },
    {
      "cell_type": "code",
      "source": [
        "# generate_kwargs parameters are taken from https://huggingface.co/meta-llama/Meta-Llama-3-8B-Instruct\n",
        "\n",
        "#LQUANTIZATION TO BE ELABORATED LATER\n",
        "# Optional quantization setup to 4bit\n",
        "# import torch\n",
        "#\n",
        "\n",
        "#Quantization setup applied to achieve reasonable latency\n",
        "\n",
        "quantization_config = BitsAndBytesConfig(\n",
        "     load_in_4bit=True,\n",
        "     bnb_4bit_compute_dtype=torch.float16,\n",
        "     bnb_4bit_quant_type=\"nf4\",\n",
        "     bnb_4bit_use_double_quant=True,\n",
        ")\n",
        "\n",
        "llmModel = HuggingFaceLLM(\n",
        "    model_name = modelName,\n",
        "    #model_type = \"llama\",\n",
        "    model_kwargs={\n",
        "        #\"token\": huggingFaceToken,\n",
        "        \"torch_dtype\": torch.bfloat16,  # comment this line and uncomment below to use 4bit\n",
        "        \"quantization_config\": quantization_config\n",
        "    },\n",
        "    generate_kwargs={\n",
        "        \"do_sample\": True,\n",
        "        \"temperature\": llmParamTemperature,\n",
        "        #\"max_new_tokens\": 1024,\n",
        "        #\"top_p\": llmParamTopP,\n",
        "    },\n",
        "    tokenizer_name = modelName,\n",
        "    #tokenizer_kwargs={\"token\": huggingFaceToken},\n",
        "    stopping_ids=stopping_ids,\n",
        ")"
      ],
      "metadata": {
        "colab": {
          "base_uri": "https://localhost:8080/",
          "height": 67,
          "referenced_widgets": [
            "dac79ee6b0894c598da5a8f59959a697",
            "6b1ec839da8243da8f1550eb3fdb8654",
            "a1dd3d2088f14bc99b0803b678af24b5",
            "36ff77749a584cfba298f19b39e0d677",
            "eeee0260a75b4809be71cc08c6dd24c1",
            "dbedb42df0d74f3483b8c30145a9b592",
            "70e9a558aafc4217bf2de884f82cf0d1",
            "7274af6f16684b859a1cd38c10d8e381",
            "a6ac079e39544623827669bd80ef6f5d",
            "4edb22ae799d42ce9f7143f7c1f7f49e",
            "71dbdf2ce791402da6b874d65467501d"
          ]
        },
        "id": "PEewXJQB0pgG",
        "outputId": "14380de4-e8d7-475a-8dce-ab869ec15b47"
      },
      "execution_count": 35,
      "outputs": [
        {
          "output_type": "display_data",
          "data": {
            "text/plain": [
              "Loading checkpoint shards:   0%|          | 0/4 [00:00<?, ?it/s]"
            ],
            "application/vnd.jupyter.widget-view+json": {
              "version_major": 2,
              "version_minor": 0,
              "model_id": "dac79ee6b0894c598da5a8f59959a697"
            }
          },
          "metadata": {}
        },
        {
          "output_type": "stream",
          "name": "stderr",
          "text": [
            "Special tokens have been added in the vocabulary, make sure the associated word embeddings are fine-tuned or trained.\n"
          ]
        }
      ]
    },
    {
      "cell_type": "code",
      "source": [
        "from llama_index.embeddings.huggingface import HuggingFaceEmbedding\n",
        "\n",
        "text_embedding_model = \"thenlper/gte-base\"\n",
        "embed_model = HuggingFaceEmbedding(model_name = text_embedding_model)\n",
        "\n",
        "ragServiceContext = ServiceContext.from_defaults(\n",
        "                                      llm = llmModel,\n",
        "                                      embed_model = embed_model,\n",
        "                                    )"
      ],
      "metadata": {
        "colab": {
          "base_uri": "https://localhost:8080/"
        },
        "id": "yKUvmIFAjT_r",
        "outputId": "5dd6ca12-8bae-4fbf-ee2f-dc0ff00c5f84"
      },
      "execution_count": 36,
      "outputs": [
        {
          "output_type": "stream",
          "name": "stderr",
          "text": [
            "<ipython-input-36-8eb5450c6a0e>:6: DeprecationWarning: Call to deprecated class method from_defaults. (ServiceContext is deprecated, please use `llama_index.settings.Settings` instead.) -- Deprecated since version 0.10.0.\n",
            "  ragServiceContext = ServiceContext.from_defaults(\n"
          ]
        }
      ]
    },
    {
      "cell_type": "markdown",
      "source": [
        "LLM Prompting"
      ],
      "metadata": {
        "id": "l8LvV7KS_1FD"
      }
    },
    {
      "cell_type": "code",
      "source": [
        "sampleResponse = llmModel.complete([\"Describe biotechnology\"])\n",
        "\n",
        "print(sampleResponse)"
      ],
      "metadata": {
        "colab": {
          "base_uri": "https://localhost:8080/"
        },
        "id": "cOWtYIt80pan",
        "outputId": "310641f1-cb68-4d0a-c3b8-49b00330b161"
      },
      "execution_count": 37,
      "outputs": [
        {
          "output_type": "stream",
          "name": "stderr",
          "text": [
            "Setting `pad_token_id` to `eos_token_id`:128001 for open-end generation.\n"
          ]
        },
        {
          "output_type": "stream",
          "name": "stdout",
          "text": [
            " Biotechnology is the use of biological systems, organisms, or biological processes to create or modify products, processes, or living organisms. It involves the use of biological tools, such as enzymes, microorganisms, and genes, to develop new products, treatments, and technologies. Biotechnology has a wide range of applications, including:\n",
            "\n",
            "1. Medicine: Biotechnology is used to develop new medicines, vaccines, and treatments for diseases.\n",
            "2. Agriculture: Biotechnology is used to develop genetically modified crops, improve crop yields, and reduce the use of pesticides and herbicides.\n",
            "3. Environmental: Biotechnology is used to clean up pollution, restore ecosystems, and develop sustainable technologies.\n",
            "4. Industrial: Biotechnology is used to develop new products, such as biofuels, bioplastics, and biochemicals.\n",
            "5. Food: Biotechnology is used to develop new food products, such as genetically modified organisms (GMOs), and improve food safety and quality.\n",
            "\n",
            "Biotechnology involves the use of various techniques, such as:\n",
            "\n",
            "1. Genetic engineering: The manipulation of genes to introduce new traits or characteristics into an organism.\n",
            "2. Gene therapy: The use of genes to treat or prevent diseases.\n",
            "3. Bioprocessing: The use of microorganisms or enzymes to produce chemicals, fuels\n"
          ]
        }
      ]
    },
    {
      "cell_type": "markdown",
      "source": [
        "#Constructing Summary and Detailed Vector Query Engine Tools for Orientation Document"
      ],
      "metadata": {
        "id": "-IaGIgT9d_ov"
      }
    },
    {
      "cell_type": "code",
      "source": [
        "orientationSummaryIndex = SummaryIndex(extMetadataDocumentNodes, service_context = ragServiceContext)\n",
        "orientationVectorIndex = VectorStoreIndex(extMetadataDocumentNodes, service_context = ragServiceContext)"
      ],
      "metadata": {
        "id": "5IdIULle0pSL"
      },
      "execution_count": 39,
      "outputs": []
    },
    {
      "cell_type": "code",
      "source": [
        "orientationSummaryQueryEngine = orientationSummaryIndex.as_query_engine(\n",
        "    response_mode=\"tree_summarize\",\n",
        "    use_async=True,\n",
        ")\n",
        "\n",
        "orientationVectorQueryEngine = orientationVectorIndex.as_query_engine(use_async=True)"
      ],
      "metadata": {
        "id": "oPEJ6M9C0pPt"
      },
      "execution_count": 40,
      "outputs": []
    },
    {
      "cell_type": "code",
      "source": [
        "from llama_index.core.tools import QueryEngineTool"
      ],
      "metadata": {
        "id": "S4ioRM0RjnE_"
      },
      "execution_count": 41,
      "outputs": []
    },
    {
      "cell_type": "code",
      "source": [
        "orientationSummaryTool = QueryEngineTool.from_defaults(\n",
        "    query_engine = orientationSummaryQueryEngine,\n",
        "    description=(\n",
        "        \"Tool useful for summarization of OMCS orientation document or general questions wide in scope concerning OMCS orientation\"\n",
        "    ),\n",
        ")\n",
        "\n",
        "orientationVectorTool = QueryEngineTool.from_defaults(\n",
        "    query_engine = orientationVectorQueryEngine,\n",
        "    description=(\n",
        "        \"Tool useful for retrieving specific context from OMCS orientation document\"\n",
        "    ),\n",
        ")"
      ],
      "metadata": {
        "id": "KUIZnPtm0pNU"
      },
      "execution_count": 42,
      "outputs": []
    },
    {
      "cell_type": "markdown",
      "source": [
        "Defining Router Query Engine"
      ],
      "metadata": {
        "id": "vqbxJ0ASkkb7"
      }
    },
    {
      "cell_type": "code",
      "source": [
        "from llama_index.core.query_engine.router_query_engine import RouterQueryEngine\n",
        "from llama_index.core.selectors import LLMSingleSelector"
      ],
      "metadata": {
        "id": "_bB1p9dLkpLg"
      },
      "execution_count": 43,
      "outputs": []
    },
    {
      "cell_type": "code",
      "source": [
        "#Router Engine with OpenAI\n",
        "routerQueryEngine = RouterQueryEngine(\n",
        "                      selector=LLMSingleSelector.from_defaults(),\n",
        "                      query_engine_tools=[\n",
        "                              orientationSummaryTool,\n",
        "                              orientationVectorTool,\n",
        "                            ],\n",
        "                      service_context = ragServiceContext,\n",
        "                      verbose=True\n",
        "                    )"
      ],
      "metadata": {
        "id": "IOGceVG-ki-5"
      },
      "execution_count": 44,
      "outputs": []
    },
    {
      "cell_type": "code",
      "source": [
        "response = routerQueryEngine.query(\"What is the summary of the OMCS orientation document?\")\n",
        "print(str(response))"
      ],
      "metadata": {
        "id": "BjQluYPf0pIR",
        "colab": {
          "base_uri": "https://localhost:8080/"
        },
        "outputId": "b810dc90-a26d-4308-dbee-a91fdf009b86"
      },
      "execution_count": 45,
      "outputs": [
        {
          "output_type": "stream",
          "name": "stdout",
          "text": [
            "\u001b[1;3;38;5;200mSelecting query engine 0: The tool useful for summarization of OMCS orientation document or general questions wide in scope concerning OMCS orientation would be the most relevant choice for summarizing the OMCS orientation document..\n",
            "\u001b[0m"
          ]
        },
        {
          "output_type": "stream",
          "name": "stderr",
          "text": [
            "Setting `pad_token_id` to `eos_token_id`:128001 for open-end generation.\n",
            "Setting `pad_token_id` to `eos_token_id`:128001 for open-end generation.\n",
            "Setting `pad_token_id` to `eos_token_id`:128001 for open-end generation.\n",
            "Setting `pad_token_id` to `eos_token_id`:128001 for open-end generation.\n",
            "Setting `pad_token_id` to `eos_token_id`:128001 for open-end generation.\n",
            "Setting `pad_token_id` to `eos_token_id`:128001 for open-end generation.\n",
            "Setting `pad_token_id` to `eos_token_id`:128001 for open-end generation.\n",
            "Setting `pad_token_id` to `eos_token_id`:128001 for open-end generation.\n",
            "Setting `pad_token_id` to `eos_token_id`:128001 for open-end generation.\n",
            "Setting `pad_token_id` to `eos_token_id`:128001 for open-end generation.\n",
            "Setting `pad_token_id` to `eos_token_id`:128001 for open-end generation.\n",
            "Setting `pad_token_id` to `eos_token_id`:128001 for open-end generation.\n",
            "Setting `pad_token_id` to `eos_token_id`:128001 for open-end generation.\n",
            "Setting `pad_token_id` to `eos_token_id`:128001 for open-end generation.\n",
            "Setting `pad_token_id` to `eos_token_id`:128001 for open-end generation.\n",
            "Setting `pad_token_id` to `eos_token_id`:128001 for open-end generation.\n",
            "Setting `pad_token_id` to `eos_token_id`:128001 for open-end generation.\n",
            "Setting `pad_token_id` to `eos_token_id`:128001 for open-end generation.\n",
            "Setting `pad_token_id` to `eos_token_id`:128001 for open-end generation.\n",
            "Setting `pad_token_id` to `eos_token_id`:128001 for open-end generation.\n",
            "Setting `pad_token_id` to `eos_token_id`:128001 for open-end generation.\n",
            "Setting `pad_token_id` to `eos_token_id`:128001 for open-end generation.\n",
            "Setting `pad_token_id` to `eos_token_id`:128001 for open-end generation.\n",
            "Setting `pad_token_id` to `eos_token_id`:128001 for open-end generation.\n",
            "Setting `pad_token_id` to `eos_token_id`:128001 for open-end generation.\n",
            "Setting `pad_token_id` to `eos_token_id`:128001 for open-end generation.\n",
            "Setting `pad_token_id` to `eos_token_id`:128001 for open-end generation.\n",
            "Setting `pad_token_id` to `eos_token_id`:128001 for open-end generation.\n",
            "Setting `pad_token_id` to `eos_token_id`:128001 for open-end generation.\n",
            "Setting `pad_token_id` to `eos_token_id`:128001 for open-end generation.\n",
            "Setting `pad_token_id` to `eos_token_id`:128001 for open-end generation.\n",
            "Setting `pad_token_id` to `eos_token_id`:128001 for open-end generation.\n",
            "Setting `pad_token_id` to `eos_token_id`:128001 for open-end generation.\n",
            "Setting `pad_token_id` to `eos_token_id`:128001 for open-end generation.\n",
            "Setting `pad_token_id` to `eos_token_id`:128001 for open-end generation.\n",
            "Setting `pad_token_id` to `eos_token_id`:128001 for open-end generation.\n"
          ]
        },
        {
          "output_type": "stream",
          "name": "stdout",
          "text": [
            " The OMCS orientation document is a comprehensive guide that provides students with information on various aspects of the Online Master of Science in Computer Science (OMSCS) program at Georgia Tech, including academic policies, registration, and student records. It covers topics such as course offerings, grade/GPA requirements, and policies related to course repetition, grade substitution, and academic standing. The document also explains the process of withdrawing from a course or semester, the impact of withdrawing on academic standing, and the importance of resolving incomplete grades. Additionally, it provides information on the waitlist process, course registration, and other relevant details for students. The document aims to inform and guide students through the program, ensuring a smooth and successful experience. Overall, the OMCS orientation document is a comprehensive guide that provides students with the information they need to succeed in the OMSCS program.\n"
          ]
        }
      ]
    },
    {
      "cell_type": "code",
      "source": [],
      "metadata": {
        "id": "9usHWrr70o7y"
      },
      "execution_count": null,
      "outputs": []
    },
    {
      "cell_type": "code",
      "source": [],
      "metadata": {
        "id": "86wGgPB30o3T"
      },
      "execution_count": null,
      "outputs": []
    },
    {
      "cell_type": "code",
      "source": [],
      "metadata": {
        "id": "-HaVW1RZ0o0f"
      },
      "execution_count": null,
      "outputs": []
    },
    {
      "cell_type": "code",
      "source": [],
      "metadata": {
        "id": "HT2BkZAu0ouj"
      },
      "execution_count": null,
      "outputs": []
    },
    {
      "cell_type": "code",
      "source": [],
      "metadata": {
        "id": "1nHsI6R30ore"
      },
      "execution_count": null,
      "outputs": []
    },
    {
      "cell_type": "code",
      "source": [
        "from span_marker import SpanMarkerModel\n",
        "\n",
        "model = SpanMarkerModel.from_pretrained(\"tomaarsen/span-marker-bert-base-fewnerd-fine-super\")\n",
        "model.cuda()"
      ],
      "metadata": {
        "id": "b3awNPZh5fr7"
      },
      "execution_count": null,
      "outputs": []
    },
    {
      "cell_type": "markdown",
      "source": [],
      "metadata": {
        "id": "CENgni2eybGt"
      }
    },
    {
      "cell_type": "code",
      "source": [
        "for node in documentNodes[1:]:\n",
        "  print(len(node.text))\n",
        "  nodeEntities = model.predict(\"Amelia Earhart flew her single engine Lockheed Vega 5B across the Atlantic to Paris.\", )\n",
        "  print(nodeEntities)"
      ],
      "metadata": {
        "id": "Q_6_5jA_J5Ut"
      },
      "execution_count": null,
      "outputs": []
    },
    {
      "cell_type": "code",
      "source": [
        "for node in documentNodes[1:]:\n",
        "  print(len(node.text))\n",
        "  # Tokenize the input text\n",
        "  inputs = model.tokenizer(\n",
        "      \"Amelia Earhart flew her single engine Lockheed Vega 5B across the Atlantic to Paris.\",\n",
        "      #return_tensors=\"pt\"\n",
        "  )\n",
        "  # Move inputs to the same device as the model\n",
        "  inputs = {key: value.to(model.device) for key, value in inputs.items()}\n",
        "  # Predict entities\n",
        "  nodeEntities = model.predict(**inputs)\n",
        "  print(nodeEntities)"
      ],
      "metadata": {
        "id": "7mGfyEQSMLJg"
      },
      "execution_count": null,
      "outputs": []
    }
  ]
}