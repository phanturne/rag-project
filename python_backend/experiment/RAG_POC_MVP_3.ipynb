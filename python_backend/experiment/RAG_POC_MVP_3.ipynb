{
 "cells": [
  {
   "cell_type": "markdown",
   "id": "7a4c2dc0-1231-4120-a7d2-777c814ae45e",
   "metadata": {
    "id": "7a4c2dc0-1231-4120-a7d2-777c814ae45e"
   },
   "source": [
    "# RAG POC "
   ]
  },
  {
   "cell_type": "markdown",
   "id": "88f97ae7",
   "metadata": {},
   "source": [
    "I combined part of Dexter's and my (Eng Meng's) notebook and optimized certain parts and added in table reading to round out this MVP"
   ]
  },
  {
   "cell_type": "code",
   "execution_count": 1,
   "id": "e53fb90b-3f13-4366-9989-eca00d5a61cc",
   "metadata": {
    "id": "e53fb90b-3f13-4366-9989-eca00d5a61cc"
   },
   "outputs": [],
   "source": [
    "# Import libraries\n",
    "# Standard libraries for reading pdf\n",
    "import PyPDF2 as pypdf\n",
    "import PyPDF2\n",
    "import re\n",
    "import requests\n",
    "import io\n",
    "from io import BytesIO\n",
    "import concurrent.futures\n",
    "from itertools import groupby\n",
    "import random\n",
    "import string\n",
    "\n",
    "# Use open parse for reading the tables\n",
    "import openparse\n",
    "from bs4 import BeautifulSoup\n",
    "\n",
    "# Llama libraries for RAG\n",
    "from llama_index.core import (\n",
    "    Document,\n",
    "    Prompt,\n",
    "    VectorStoreIndex,\n",
    "    \n",
    ")\n",
    "from llama_index.core.schema import TextNode, NodeRelationship, RelatedNodeInfo\n",
    "from llama_index.embeddings.huggingface import HuggingFaceEmbedding\n",
    "from llama_index.llms.llama_cpp import LlamaCPP\n",
    "\n",
    "# For the responses\n",
    "from llama_index.core.callbacks import (\n",
    "    CallbackManager,\n",
    "    LlamaDebugHandler,\n",
    "    CBEventType,\n",
    ")\n",
    "from llama_index.core import ServiceContext\n",
    "from llama_index.core.text_splitter import SentenceSplitter\n",
    "from llama_index.core.response_synthesizers import (\n",
    "    ResponseMode,\n",
    "    get_response_synthesizer,\n",
    ")"
   ]
  },
  {
   "cell_type": "markdown",
   "id": "cf9cfe91",
   "metadata": {},
   "source": [
    "## 1. Extract and Parse Information"
   ]
  },
  {
   "cell_type": "code",
   "execution_count": 2,
   "id": "0a116f84",
   "metadata": {},
   "outputs": [],
   "source": [
    "# EM's method\n",
    "def extract_text_from_page(pdf_reader, pdf_name, index):\n",
    "    text = pdf_reader.pages[index].extract_text()\n",
    "    if text:\n",
    "        text = text.replace('\\n', ' ')\n",
    "    return {'title': f\"{pdf_name} page {index + 1}\", 'content': text}\n",
    "\n",
    "def prepare_docs(pdf_docs):\n",
    "    docs = []\n",
    "    doc_dict = {}\n",
    "\n",
    "    for pdf in pdf_docs:\n",
    "        if isinstance(pdf, BytesIO):\n",
    "            pdf_name = \"in_memory_pdf\"\n",
    "        else:\n",
    "            pdf_name = pdf\n",
    "\n",
    "        pdf_reader = PyPDF2.PdfReader(pdf)\n",
    "        with concurrent.futures.ThreadPoolExecutor() as executor:\n",
    "            results = list(executor.map(lambda idx: extract_text_from_page(pdf_reader, pdf_name, idx), range(len(pdf_reader.pages))))\n",
    "        \n",
    "        docs.extend(results)\n",
    "        \n",
    "    for doc in docs:\n",
    "        title = doc[\"title\"]\n",
    "        content = doc[\"content\"]\n",
    "        doc_dict[title] = content\n",
    "\n",
    "    print(\"Content and metadata are extracted from the documents\")\n",
    "    return doc_dict\n",
    "\n",
    "def get_text_chunks(content, metadata):\n",
    "    text_splitter = RecursiveCharacterTextSplitter.from_tiktoken_encoder(\n",
    "        chunk_size=512,\n",
    "        chunk_overlap=256,\n",
    "    )\n",
    "    split_docs = text_splitter.create_documents(content, metadatas=metadata)\n",
    "    print(f\"Documents are split into {len(split_docs)} passages\")\n",
    "    return split_docs"
   ]
  },
  {
   "cell_type": "code",
   "execution_count": 3,
   "id": "abf0b313",
   "metadata": {},
   "outputs": [
    {
     "name": "stdout",
     "output_type": "stream",
     "text": [
      "Content and metadata are extracted from the documents\n",
      "CPU times: total: 1.42 s\n",
      "Wall time: 6.31 s\n"
     ]
    }
   ],
   "source": [
    "%%time\n",
    "pdf_docs = ['Orientation_Spring24.pdf']\n",
    "doc_dicts = prepare_docs(pdf_docs)"
   ]
  },
  {
   "cell_type": "code",
   "execution_count": 4,
   "id": "2e00f719",
   "metadata": {},
   "outputs": [],
   "source": [
    "textNode = []\n",
    "for key, value in doc_dicts.items():\n",
    "    txtNode = TextNode(text=value, metadata={\"pages\": key})\n",
    "    textNode.append(txtNode)"
   ]
  },
  {
   "cell_type": "code",
   "execution_count": 5,
   "id": "4688c1d3",
   "metadata": {},
   "outputs": [],
   "source": [
    "# Dexters method\n",
    "# Function to extract content between two given section titles\n",
    "def extract_all_sections(text):\n",
    "    # Define the section headers\n",
    "    headers = [\n",
    "        \"SECTION A. ACADEMIC POLICIES\",\n",
    "        \"SECTION B. FOUNDATIONAL COURSE REQUIREMENT\",\n",
    "        \"SECTION C. DEGREE REQUIREMENTS\",\n",
    "        \"SECTION D. REGISTRATION TIME TICKETS\",\n",
    "        \"SECTION E. REGISTRATION HOLDS\",\n",
    "        \"SECTION F. REGISTER FOR CLASSES\",\n",
    "        \"SECTION G. WAITLISTING FOR A CLOSED COURSE\",\n",
    "        \"SECTION H. DROPPING/WITHDRAWING FROM A COURSE(S)\",\n",
    "        \"SECTION I. SYSTEMS YOU WILL BE USING AND WHY\",\n",
    "        \"SECTION J. IMPORTANT DATES\",\n",
    "        \"SECTION K. FREQUENTLY ASKED QUESTIONS (FAQs)\",\n",
    "        \"SECTION L. GEORGIA TECH DIRECTORY INFORMATION\",\n",
    "        \"SECTION M. GET CONNECTED!\",\n",
    "        \"SECTION N. OMSCS ADVISING CONTACT INFORMATION\"\n",
    "    ]\n",
    "    # Create a dictionary to store the extracted sections\n",
    "    sections = {}\n",
    "    # Loop through each header and find the text between current and next header\n",
    "    for i in range(len(headers)):\n",
    "        current_header = headers[i]\n",
    "        # Check if it's the last header\n",
    "        if (i+1) < len(headers):\n",
    "            next_header = headers[i+1]\n",
    "        else:\n",
    "            next_header = None\n",
    "        # Find all occurences of current header (match for possible multiple spaces between words)\n",
    "        current_header_pattern = re.sub(r'\\\\ ', r'\\\\s+', re.escape(current_header)) + '\\\\s+'\n",
    "        current_indexes = [m.start()+1 for m in re.finditer(current_header_pattern, text, re.IGNORECASE)]\n",
    "        # Find the latest possible occurence since each header appears multiple times, including in the content page\n",
    "        for i in range(1, len(current_indexes)):\n",
    "            last_occurrence_index = current_indexes[-i]\n",
    "            if next_header:\n",
    "                # Find all occurences of next header (match for possible multiple spaces between words)\n",
    "                next_header_pattern = re.sub(r'\\\\ ', r'\\\\s+', re.escape(next_header)) + '\\\\s+'\n",
    "                next_header_match = re.search(next_header_pattern, text[last_occurrence_index:])\n",
    "                next_header_index = next_header_match.start() + last_occurrence_index if next_header_match else -1\n",
    "            else:\n",
    "                next_header_index = len(text)\n",
    "            if (last_occurrence_index + len(current_header)) < next_header_index:\n",
    "                break\n",
    "        # Extract section text without leading or trailing whitespaces\n",
    "        section_text = text[last_occurrence_index + len(current_header):next_header_index].strip()\n",
    "        # Store in the format of <header>: <section text>\n",
    "        sections[current_header] = current_header + \": \" + section_text\n",
    "    return sections\n",
    "\n",
    "# Function to read PDF content from PDF file\n",
    "def read_pdf(file_path):\n",
    "    # HTTP request to retrieve document\n",
    "    headers = {\"User-Agent\": \"Mozilla/5.0 (X11; Windows; Windows x86_64) AppleWebKit/537.36 (KHTML, like Gecko) Chrome/103.0.5060.114 Safari/537.36\"}\n",
    "    r = requests.get(\n",
    "        url=file_path,\n",
    "        headers=headers\n",
    "    )\n",
    "    # Use PyPDF to read document\n",
    "    document = io.BytesIO(r.content)\n",
    "    reader = pypdf.PdfReader(document)\n",
    "    # Multi page document\n",
    "    num_pages = len(reader.pages)\n",
    "    pdf_content = \"\"\n",
    "    for i in range(num_pages):\n",
    "        # Extract each page\n",
    "        page = reader.pages[i]\n",
    "        content = page.extract_text()\n",
    "        # Format document new lines to single spaces\n",
    "        content = content.replace(\"\\n\", \" \")\n",
    "        # Remove footer (page number and instruction)\n",
    "        content = re.sub(r\"\\d+$\", \"\", content)\n",
    "        content = content.replace(\"Click here to return to Table of Contents\", \"\")\n",
    "        # Ensure no leading or trailing white spaces\n",
    "        content = content.strip()\n",
    "        # Append content with new line delimiter for each page\n",
    "        pdf_content += content\n",
    "        pdf_content += \"\\n\"\n",
    "    return pdf_content\n",
    "\n",
    "# Function to test reading of orientation document file\n",
    "def read_orientation_file(url):\n",
    "    pdf_text = read_pdf(url)\n",
    "    # Extract all sections\n",
    "    sections_content = extract_all_sections(pdf_text)\n",
    "    # Print the extracted content for each section\n",
    "    for section, content in sections_content.items():\n",
    "        print(f\"{content}\\n\")\n",
    "    return sections_content"
   ]
  },
  {
   "cell_type": "code",
   "execution_count": 6,
   "id": "106b3a55",
   "metadata": {},
   "outputs": [
    {
     "name": "stdout",
     "output_type": "stream",
     "text": [
      "SECTION A. ACADEMIC POLICIES: As a Georgia Tech student, you are responsible for knowing these academic policies and information:  ● Academic Catalog  ● Academic Honor Code  ● Student/Faculty Expectations  ● Expectations of Advisors and Advisees\n",
      "\n",
      "SECTION B. FOUNDATIONAL COURSE REQUIREMENT: 1. You have one calendar year from the time you matriculate to complete the foundational course requirement.  2. If this is your first term as a new admit, you have Spring 2024, Summer 2024, and Fall 2024 to complete the  foundational course requirement.  3. The foundational course requirement is a minimum grade of “B” in two foundational courses.  4. The foundational courses are those with an asterisk (*) listed on the “ Current Courses ” page under the Program  Information tab on the OMSCS website.  5. If at any point during the first three consecutive terms after you matriculate you make less than a “B” in a  foundational course, that term still counts as part of your one-year time frame to complete the requirement.  ○ For example, if you earn a “C” or below during your first semester (Spring 2024), you still would have two  semesters (Summer 2024 and Fall 2024) to fulfill the requirement, as long as you have not been  academically dismissed (please see Section K. FREQUENTLY ASKED QUESTIONS (FAQs) for  information regarding academic standing).  ○ To clarify further, you do not need to fulfill the foundational requirement with the first two courses you  attempt/enroll in as part of the OMSCS program — you simply need to fulfill the requirement within the  one-year time frame (again, as long as you abide by the Institute’s guidelines for academic standing).  6. If at any point during the first three consecutive terms after you matriculate you withdraw from a foundational  course, that term still counts as part of your one-year time frame to complete this requirement.  7. For new Spring 2024 students who matriculate this semester, you will be restricted to enrolling only in  foundational courses until you have satisfied the foundational course requirement.\n",
      "\n",
      "SECTION C. DEGREE REQUIREMENTS: Please take time to view the current MSCS degree requirements here . The OMSCS program has the same DEGREE  REQUIREMENTS as the on-campus MSCS program but offers fewer areas of specialization and fewer courses. 1. Students must complete 30 credit hours (10 total courses) for the degree.  2. Students must declare one specialization. 15-18 hours comprise the “Area of Specialization”.  3. The remaining 12-15 hours comprise “free” electives. The electives are any OMSCS course not used in the “Area  of Specialization”. Please note #8 below regarding the limit of 4000-level and/or non-CS/CSE courses.  4. OMSCS students should expect to complete the “Course” option.  5. Students must earn at least a “B” in all courses in their chosen “Area of Specialization”.  6. Students must earn at least a “C” in all courses counting toward their “free” elective requirement.  7. Students must have a minimum overall GPA of 3.0 to graduate.  8. A maximum of six hours may be taken at the 4000-level and/or with a subject code other than CS or CSE.  9. Students must complete the degree in six years as per the Institute’s policy . Therefore, if you matriculate during  the Spring 2024 term, you must fulfill the degree requirements by the end of the Fall 2029 term.  10. If you previously completed courses at Georgia Tech, specifically undergraduate/graduate Computer Science  (CS) or other CS-related undergraduate/graduate courses, you will be responsible for researching whether or not  the course(s) are considered to be “equivalent” to OMSCS courses, as these credits cannot count toward your  OMSCS degree program. Please visit our website , and please refer to SECTION K. FREQUENTLY ASKED  QUESTIONS (FAQs) for more information.  11. Additional program information can be found online .  12. The following “ Areas of Specialization ” are available through the OMSCS program:  ● Computational Perception and Robotics  ● Computing Systems  ● Human-Computer Interaction  ● Interactive Intelligence  ● Machine Learning\n",
      "\n",
      "SECTION D. REGISTRATION TIME TICKETS: Your time ticket will tell you the specific date and time you are allowed to begin registering for classes .  ● You will be able to view your time ticket on January 3 at 6:00pm ET. To check your time ticket assignment, please follow the directions on the Registrar’s website:  https://registrar.gatech.edu/registration/time-tickets . Please note that time tickets are issued by the Registrar’s Office and are assigned based on earned hours. Also, please keep in mind that graduate students typically are the last student population to register, as undergraduate  students and students who are part of a group that gets priority registration (Presidential Fellows, Office of Disability  Services, members of the Reserve Officers Training Corps (ROTC), military veterans currently utilizing G.I. Bill benefits,  etc.) register before graduate students. Therefore, it is not uncommon for OMSCS students’ time tickets to begin  several days after the registration period opens.\n",
      "\n",
      "SECTION E. REGISTRATION HOLDS: 1. Once your account is activated, you must check to see if you have any holds that might prevent registration.  Instructions on how to view holds are available online. 2. If you have a hold on your account, you MUST clear it before you can register for classes. You must contact the  department who placed the hold, as the department who placed the hold is the only department who can  remove the hold. ● If you have a Graduate Admissions HOLD: The Office of Graduate Education is missing documentation  (probably your final official transcript). If you have any questions regarding these documents, please contact  the Office of Graduate Education by visiting their website or calling 404.894.1610. ➢ To mail your documents to the Office of Graduate Education, see SECTION K. FREQUENTLY ASKED  QUESTIONS (FAQs) for their mailing address. If your institution releases official transcripts electronically,  please send them to transcripts@grad.gatech.edu . ➢ Please note: If you are a new student starting Spring 2024, you will NOT have a missing document hold  placed on your account for transcripts until after registration has ended.  o However, you will want to ensure that you submit all required official  transcripts/documents to avoid future holds, especially since those holds could prevent  your ability to withdraw from a course in the Spring 2024 semester. ● If you have a Lawful Presence HOLD: Only the documents listed here can be used to clear this hold. For  questions, please send an email to grad.ask@grad.gatech.edu . ● If you have an Immunization HOLD: Please send an email to immunizations@health.gatech.edu to request  a hold removal. As a distance learner, you do not need to complete the immunization requirements. ● If you have a Financial Agreement HOLD: A Financial Agreement hold will be placed on all students’ accounts. This hold will prevent registration; however, you can clear the hold immediately in OSCAR and do not need to wait until your time ticket becomes active. On the Registration menu, select “Financial  Responsibility Agreement”, read the agreement, enter your initials, and then click “Submit”. Successful  completion of this task clears the hold from your account and will allow you to continue with registration. For  questions, please contact the Bursar’s Office at omsbursar.ask@gatech.edu . ● If you have a Registrar Location HOLD: You should be able to clear this hold several days prior to your  active time ticket in OSCAR. On the Registration menu, select “Term Study Location Identification”, select  your location from the pull-down menu, and then click “Submit”. Successful completion of this task clears the  hold from your account and will allow you to continue with registration.\n",
      "\n",
      "SECTION F. REGISTER FOR CLASSES: ● Remember that all times and deadlines are based on the Eastern time zone.  ● Registration dates can be found on the Academic Calendar on the Registrar’s website.  ● Registration begins on January 4 and ends on January 12 at 4:00pm ET.  ● Please check your time ticket to see the exact day and time you can begin registering.  ● You will NOT be able to add/drop classes AFTER 4:00pm ET on Friday, January 12. To prepare for registration: 1. First, be sure your status is “Student” and NOT “Applicant”. You may not activate your GT account until that  changes, and it will change about a week before registration begins . ** Please do not contact our office prior  to the week before registration regarding this, as advisors are unable to change statuses.** To check your status:  ● Log into OSCAR using your GT credentials via the Secured Access Login.  ● Select Student Services & Financial Aid.  ● Select Registration.  ● Select Prepare for Registration.  ● Select the Spring 2024 term.  ● Click SUBMIT. 2. Activate your GT email account here. 3. The Institute, as well as the department, will use this email address as your official contact. You are required to  keep it active, and you are expected to read your email DAILY as per the Institute’s policy . This is true  even if you are sitting out a semester. PLEASE NOTE: The Registrar’s Office is responsible for updating all admitted students’ access in our system,  which will prompt OIT to create your GT email account closer to the start of the semester. Once this has been  done, it is our understanding that you should receive a message from OIT to your personal email account about  how to set up your GT email account. If you are having issues with activating your GT email account, please  contact OIT for assistance. Unfortunately, TSO will not be able to assist with this. 4. Two-factor authentication is required for all GT students. Please follow the directions online to set up Duo.  Failing to set up Duo will result in being locked out of your account. 5. The courses that are available for Spring 2024 can be found by performing a search in OSCAR . 6. Most OMSCS courses will have a section of “O” (example: O01, O02, O03, etc.). 7. Registration is first come, first served, so you will want to register as soon as your time ticket opens. 8. You can narrow your search in the Schedule of Classes by designating the Campus to “Online”. Please keep in  mind that there are multiple course subjects offered in the OMSCS program; therefore, be sure to do a search on  “CS” (Computer Science), “CSE” (Computational Science and Engineering), “ECE” (Electrical and Computer  Engineering), “INTA” (International Affairs), “ISYE” (Industrial and Systems Engineering), “MGT” (Management),  and “PUBP” (Public Policy) for a full listing of the online courses offered. Some of these courses will be offered with the OMS Analytics or the OMS Cybersecurity programs, so  please be mindful when selecting courses that you are choosing the section that is designated for  OMSCS students. Some sections are restricted to OMS Analytics students and are designated with the  “OAN” section. Other sections are restricted to OMS Cybersecurity students and are designated with the  “OCY” section. If an OMS Analytics or OMS Cybersecurity course has a section created for OMSCS  students, it will have a section of “O” followed by a two-digit number (example: O01, O02, O03, etc.). *** Please remember that per the program rules :  \"A maximum of six hours may be taken at the 4000-level and/or with a subject code other than CS or CSE.” ***\n",
      "9. For detailed registration information and instructions, please visit the Registrar’s website . 10. We strongly recommend that new students start with only one class.  ● During the Fall and Spring semesters, all students can enroll in a maximum of seven hours.  ● During the Summer semester, all students can enroll in a maximum of five hours.  ● Please note that Financial Aid and other programs may have specific credit hour requirements, so be sure  to follow up with their office directly for more information if you plan on applying. 11. After completing your registration, we strongly recommend confirming your enrolled course(s), as well as  confirming your wait list position(s) if you have added yourself to any wait lists. Please visit the Registrar’s  website for step-by-step instructions on how to register for courses, which includes how to confirm that your  registration attempt was successful, as well as how to view your wait list position. 12. Course materials will be available through Canvas sometime during the first week of classes. Canvas should be  the first place you check once you have registered for a course. Unfortunately, we do not have control over  when course materials will be available, nor do we have any additional information as to exactly when course  materials will be available.  ● If you register for a course during the first week that classes begin, please note that it can take up to 24  hours before you can access your course materials. If after this period of time you still cannot access  your course materials, please contact canvas@gatech.edu for Canvas access. 13. If you try to register for a course and receive an error message, please refer to the Registrar’s website for an  explanation of what the message means.  ● If you receive the “OPEN - # WAITLISTED” error message, this means that you are trying to register for a  course(s) that does not have any open seats. It may appear as though the course has seats available;  however, the open seats are reserved for students on the wait list.  ● If you receive the “COHORT RESTRICTION” error message, this is because you are attempting to enroll  in a non-foundational course but have not yet satisfied the foundational requirement. No exceptions will  be made as far as overriding this error message unless you actually have satisfied the requirement.  ● If you receive the “CAMPUS RESTRICTION” or “MAJOR RESTRICTION” error message, this is because  you are attempting to enroll in a course that is not part of the OMSCS program. As a reminder, most  OMSCS courses will have a section of “O” (example: O01, O02, O03, etc.). Courses with the “OAN”  section are for OMS Analytics students only, and courses with the “OCY” section are for OMS  Cybersecurity students only – OMSCS students are NOT permitted to enroll in these sections. If A Course is CLOSED…  ● Once the registration cap has been reached for a course, the course is full. In order to request a seat in a closed  course, you must follow the instructions in SECTION G. WAITLISTING FOR A CLOSED COURSE. We DO NOT  accept requests for overrides.  ● Please note that OMSCS Advising cannot register students for courses and/or add students to wait lists.  Students must follow the procedures that have been outlined in this orientation document.  ● Please DO NOT email professors to seek permission to enroll in and/or wait list for their course(s), as professors  have no control over this. Again, students must follow the procedures that have been outlined in this orientation  document.\n",
      "\n",
      "SECTION G. WAITLISTING FOR A CLOSED COURSE: Being waitlisted for a course is not the same as being registered for/enrolled in a course. Waitlisting allows students to  add to a wait list for a course that is closed. Once students have waitlisted for a course section, they will receive a  notification email if they are the next student on the wait list and a seat becomes available in that section. Waitlisted  students are notified on a “first come, first served” basis. Things to know about waitlisting:  ● To add yourself to a wait list, you must choose “Add by CRN”. You cannot add yourself to the wait list by using  “Look Up Classes”.  ● Please follow all the instructions from the Registrar’s webpage on Instructions for Waitlisting .  ● Check your wait list number (see the instructions below) to confirm that you are actually on the wait list.  ● Waitlist notifications begin going out at a time predetermined by the Registrar’s Office during each registration  period. Please be sure you are checking your GT email account on a daily basis so that you do not miss a wait  list notification, if you receive one.\n",
      "● Students only have 12 hours to register for the course once the notification has been sent.  o This time frame is implemented by the Institute, and OMSCS Advising cannot extend the time frame or  make accommodations if you miss the 12-hour window.  ● For the Fall and Spring semesters: your total number of enrolled + waitlisted hours should never be more  than seven hours (two courses and one seminar).  ● If the wait list is full/closed when you are attempting to add yourself, please check back later. Students remove  themselves from wait lists, and seats may be added to courses (which removes students from the wait list), so  there is a strong chance that a spot will become available at a later time.  ● Once you have added yourself to a wait list, there are two different reasons why you might be issued a wait list  notification:  (1) we have added seats to a course or (2) someone else drops the course and releases the seat.  We  can   control when  we  add seats, but we  cannot  control when someone else drops.  If you receive a wait list  notification at midnight, it is because someone dropped the course at that time, and we cannot control that.  ● Once you receive the wait list notification, you must add by CRN.  Add by look up  does  NOT  work for waitlisted  courses. Please follow the step-by-step instructions included in the wait list notification email, and be sure to  check that you successfully registered for the course after following the instructions.  ● If you have your GT email forwarded to your personal email account, please be sure to check your GT  account directly and often, as we have heard of many times when a wait list notification was not delivered  or was routed to a spam folder.  ● If you miss your wait list window, you will be dropped from the wait list, and the next person on the list will receive  permission to enroll. Again, we have  no   control over this.  If you miss your wait list notification window, your only  option is to add yourself back to the wait list (if possible) and hope for the best. Your new position will be at the  end of the list, so be sure to keep an eye on your email in case you receive another wait list notification. As a  reminder, OMSCS Advising cannot add students to wait lists or enroll students in classes.  ● If you are trying to wait list and receive an error message, please visit the Registrar’s website for an explanation of  what the message means.  o If you receive the error message “OPEN - # WAITLISTED” , this message means that you are trying to  register for a course(s) that does not have any open seats. It may appear as though the course has seats  available; however, the open seats are reserved for students on the wait list. Checking your wait list number:  Please visit the Registrar’s website for step-by-step instructions on how to view your wait list position. Please note the following:  ● OMSCS Advising cannot register students for courses and/or add students to wait lists. Students must follow the  procedures that have been outlined in this orientation document.  ● Please DO NOT email professors to seek permission to enroll in and/or wait list for their course(s), as professors  have no control over this. Again, students must follow the procedures that have been outlined in this orientation  document. “Free for all” registration period:  On the last day of Phase II registration, all of the wait lists are cleared, and students are able to enroll in any open course without needing to go through the wait list first. This is referred to as the “free for all” registration period. Information will be sent to students regarding this once we approach that timeframe.\n",
      "\n",
      "SECTION H. DROPPING/WITHDRAWING FROM A COURSE(S): When a student drops a course, this action can only be done during periods of registration. For Spring 2024 registration,  the last day to drop a course is Friday, January 12 by 4:00pm ET . If a student drops a course, the course will not be  reflected on the student’s transcript. It will appear as if the student never registered for the course, according to the  transcript, so it will NOT count as a record of enrollment. If a student withdraws from a course (this is done after Spring 2024 registration has ended and before the semester’s withdrawal deadline), this action will result in a “W” on the student’s transcript. If a student withdraws from a course (or courses) and receives a “W” on the transcript, this counts as a record of enrollment for that specific term. For step-by-step instructions on how to drop/withdraw from a course(s), please visit the Registrar’s website . We strongly recommend that students check that they dropped/withdrew from the course. Please do NOT email our office asking for confirmation of your drop/withdrawal, as you will be directed to this document and/or the Registrar’s website.\n",
      "The Spring 2024 withdrawal deadline is Wednesday, March 13 at 4:00pm ET. ● If you withdraw from the only course you are enrolled in (or ALL the courses you are enrolled in for the Fall/Spring term), this is called a “withdrawal from school”. You are eligible for a partial refund. Please refer to this schedule . ● If you are enrolled in more than one course, and you want to withdraw from only one of them, you will NOT be eligible to receive any refund. A “withdrawal from school” does NOT mean you are dropped from the OMSCS program. It simply means that you are withdrawing from all of your courses for the term. Please note the following: ● For questions regarding tuition, payments, fees, refunds, etc., please contact the Bursar’s Office directly at 404.894.4618 or by email at omsbursar.ask@gatech.edu . You may also visit their website . ● If you withdraw from the Spring 2024 term completely before 4:00pm ET on March 13, you may be eligible to  receive a refund based on the Institute’s refund schedule, available online . Click on the “Refunds” tab, and you  will see links for “Refunds” and “Refund Calendars”, both of which contain important information.  ● You will receive NO refund if you are enrolled for more than one class and withdraw from only one  course. You only are eligible for a partial refund if you completely withdraw from school (withdraw from ALL of  your courses for the current semester).  ● If you withdraw from school in the Spring 2024 semester, you still can register for a Summer 2024 course. However, if you sit out three or more consecutive semesters, you will have to apply for readmission . Please note that the summer semester counts toward the three consecutive semesters. ● As per Georgia Tech policy : “With the exception of part-time graduate students, any student who withdraws during a term and wishes to return the following term must complete a Petition to the Faculty Form only.” Therefore, since OMSCS students are part-time graduate students, you do NOT need to submit a \"Petition to the Faculty” form if you withdraw. ● If you withdraw from a course, you will receive a “W”. A “W” is visible on your transcript, but it has no impact on your GPA. If you retake a course from which you previously have withdrawn, the “W” from your first attempt and the new grade will appear on your transcript. ● Students must make \"satisfactory academic progress\" in order to continue to enroll in the OMSCS program. If you are withdrawing semester after semester, you may be at risk for being academically dismissed (though you should be warned of this ahead of time). ○ Please refer to the “Degree Requirements” section of SECTION K. FREQUENTLY ASKED QUESTIONS (FAQs) below for important and detailed information regarding the Satisfactory Academic Progress policy. ● If you received financial aid, please contact the Office of Scholarships and Financial Aid with any questions on how withdrawing may affect your loan. ○ Please note that Financial Aid and other programs may have specific credit hour requirements, so be sure to follow up with their office directly for more information. ● OMSCS Advising cannot drop or withdraw students from their course(s). ● Once Spring 2024 registration has ended, there will be a small window of time in which you will NOT be able to withdraw. If during this time frame you decide that you wish to withdraw, you can do so in OSCAR once the \"withdraw\" option is available (which is typically 1-3 days after the fee payment deadline). ● If you do not pay your tuition/fees in full by the fee payment deadline, you will be subject to class cancellation and holds. If your schedule is canceled, you will be notified by email. Appeals can be submitted by visiting the Bursar’s website . If you are reinstated into classes, a reinstatement fee of $200.00 will apply, and the account balance must be paid immediately to avoid re-cancellation. ○ Please note: Reinstatement does not guarantee that faculty will allow students to make up any work missed. It is the student’s responsibility to confirm ahead of being reinstated what accommodations, if any, will be permitted during the time frame in which the student was not enrolled due to non-payment.\n",
      "\n",
      "SECTION I. SYSTEMS YOU WILL BE USING AND WHY: System Website Reason OSCAR https://oscar.gatech.edu/ Use this to register for classes, pay tuition,  check for holds, view final grades, etc. Canvas https://canvas.gatech.edu/ Canvas is where you will go for all of your  assignments and to turn in homework. You  can also access Piazza, which is your virtual  classroom for interacting with classmates,  professors, TAs, and course developers. Outlook https://mail.gatech.edu Use this to access your GT email account Passport https://passport.gatech.edu/ Passport offers tools for GT account  password changes, email aliasing, and GT  Directory options. DegreeWorks https://degreeaudit.gatech.edu Use this to track your degree progress based  on your declared specialization\n",
      "\n",
      "SECTION J. IMPORTANT DATES: FOR THE SPRING 2024 SEMESTER Date (All times refer to Eastern Time) Event January 3 at 6:00pm ET Time tickets for Spring 2024 registration are available January 4 – 12 by 4:00pm ET Registration for Spring 2024 January 8 First day of class Week of January 8 Course materials available online January 12 by 4:00pm ET Last day to register, make schedule changes, and/or drop courses without a  “W” grade January 15 Official Institute Holiday – Martin Luther King, Jr. National Holiday January 16 by 4:00pm ET Tuition/fee payment deadline March 13 by 4:00pm ET Last day to withdraw for the Spring 2024 term with a “W” March 13 Grade substitution deadline March 18 – 22 Spring Break April 25 – May 2 Final exams May 2 End of term May 7 after 6:00pm ET Grades available **Please note that this list does not reflect all of the academic-related dates.  In order to view the Institute’s full academic calendar, please visit the Registrar’s website and refer to your  syllabus for course-specific deadlines and dates.**\n",
      "\n",
      "SECTION K. FREQUENTLY ASKED QUESTIONS (FAQs): New Student Onboarding/GT Email Account 1. Where do I send my official transcript(s) and other official documents?  Send your final official transcript(s) and other official documents to the Office of Graduate Education at:  Office of Graduate Education  Georgia Institute of Technology  631 Cherry Street, Room 301  Atlanta, GA 30332-0321  Phone: 404.894.1610  Email: transcripts@grad.gatech.edu 2. What happens if I do not submit my official transcript(s) and any other required official documents? If you are a new student starting Spring 2024, you will NOT have a missing document hold placed on your  account for transcripts until after registration has ended. However, you will want to ensure that you submit all required official transcripts/documents as soon as possible to  avoid future holds, especially since those holds could prevent your ability to withdraw from a course in your first  semester, as well as your ability to register/withdraw from future semesters. 3. Is there an orientation for the OMSCS program? Since this is an online program, we do not have a formal or in-person orientation for OMSCS students through the OMSCS Advising office. However, we encourage you to access general onboarding information online . Next, we encourage you to watch our OMSCS Orientation video playlist . Finally, a wiki was created for new and existing students in the OMSCS program, but please note that since OMSCS Advising did not contribute to this document, we cannot guarantee that all of the information is up-to-date and fully accurate. 4. What are the expectations regarding my GT email account? The Institute, as well as the department, will use your Georgia Tech email address as your official contact. You are required to keep it active, and you are expected to read your email DAILY as per the Institute’s policy . This is true even if you are not enrolled that particular semester. *** Also, even if you have arranged for your GT email to be forwarded to your personal account, we encourage you to check your GT email account directly and often, as we have heard from students on multiple occasions that their forwarding service did not always work properly. No exceptions will be made simply because you missed an email that was sent by our department and/or the Institute. *** Please pay special attention to any messages sent from omscs-official@cc.gatech.edu , as important announcements typically are sent from this account. Since this account is the official mailing list for all OMSCS students, please do NOT reply or send messages to this account, as this could result in all OMSCS students receiving your message. All OMSCS students are required to be subscribed to this email list, and only Georgia Tech email accounts can be added. While it is not required, we also encourage students to subscribe to the omscs-announce@cc.gatech.edu account  for non-academic events and announcements. You may do this by visiting this webpage . Finally, students will be added automatically to the OMSCS Student Center in Canvas, and they will receive the  OMSCS Weekly Digest ( omscs-digest@lists.gatech.edu ). 5. How can I access my GT email account? Please visit this website for information on how to access your GT email account. We recommend bookmarking https://mail.gatech.edu so that you can access your GT email account quickly.\n",
      "6. For what purpose will I use my GT email account? Please contact all Georgia Tech offices and employees (including OMSCS Advising and your instructors) from your Georgia Tech email account ending in @gatech.edu. Please do not communicate using your personal email account. If you do, you will be asked to resubmit your request from your GT email account. This is necessary as a security step, as we cannot verify the legitimacy of personal email accounts. In that same regard, OMSCS Advising will only communicate with you through your GT email account. Also, please keep in mind that registration information, including wait list notifications, will be sent to your GT email account. As stated previously, even if you have arranged for your GT email to be forwarded to your personal account, we encourage you to check your GT email account directly, as we have heard from students on multiple occasions that their forwarding service did not always work properly. No exceptions will be made simply because you missed an email that was sent by our department and/or the Institute, including wait list notifications. 7. When will newly-admitted students be added to the official OMSCS mailing list? For newly-admitted OMSCS students, OMSCS Advising will send important information to the email account you listed on your application until you are added to the official OMSCS mailing list ( omscs-official@cc.gatech.edu ). This typically will not take place until after Phase II registration has ended. Please note that you may receive messages twice as we are updating the omscs-official@cc.gatech.edu mailing list. Your patience with this process is greatly appreciated. 8. Who do I contact if I have questions about or issues with my GT email account and/or OSCAR, including my account being deactivated, if I get locked out of my account, or if I want to set up email forwarding? Please contact the Office of Information Technology (OIT) for assistance with accessing your GT accounts. 9. Do I need to set up Two-Factor Authentication/Duo? Two-factor authentication is required for all GT students. Please follow the directions online to set up Duo. Failing to set up Duo will result in being locked out of your account. For assistance, please contact OIT . Institute Services & Course-Related Resources 1. I have a documented disability. How do I find out what resources are available to me?  Please contact the Office of Disability Services, which is a division of the Dean of Students office. The website is:  http://disabilityservices.gatech.edu . 2. Am I eligible to obtain a BuzzCard (student ID) if I am an OMSCS student?  Yes, this is possible for online students. Please visit this webpage for more information regarding this process.  Students also can obtain their BuzzCard in person when visiting Georgia Tech's campus. For more information,  including the location of the Georgia Tech BuzzCard office, please visit their website . 3. What is my nine-digit gtID number (90XXXXXXX) used for, and where can I find it?  This nine-digit number was included in your admission letter. You also can visit this webpage for assistance. You  will need to include this nine-digit number every time you contact our office so that we can access your student  record, but please be sure to replace the first two digits with “xx” for security purposes. Your gtID number should  generally only be shared with your advisors and instructors, as well as other relevant Georgia Tech offices (such  as the Registrar’s Office, the Office of Graduate Education, etc.). Otherwise, it is meant to be private. 4. What if I have a personal or family emergency and need an extension on an assignment or exam, or I need  to withdraw from a class or from school after the deadline due to an extenuating circumstance?  The worst thing you can do is not tell anyone! Your first point of contact should be your TA and/or professor if  something has come up with work, family, etc. If your TA and/or professor would like you to go through the Dean  of Students office, their website is: https://studentlife.gatech.edu/ . Specifically, we encourage you to visit  https://studentlife.gatech.edu/request-assistance . 5. What mental health resources are available to me as an online graduate student at Georgia Tech?  Your mental health is important, and we want all OMSCS students to access local resources wherever they live,  as well as utilize the online information available to the full GT community. The Georgia Tech Dean of Students\n",
      "Office can assist with academic and other concerns. A source for excellent online mental health and well-being  information can be found at https://gtwellnesshub.com/ . Additionally, please note the following resources:  ● JED Foundation  ● Trevor Lifeline (supports LGBTQIA youth): 866-488-7386  ● Crisis Chat Line (a 24/7 text-based crisis service)  ● National Suicide Prevention Lifeline: 988  ● GT students can access self-help resources, including apps and podcasts, online . Please note that  students must have a valid @gatech.edu email address. 6. I am interested in becoming a TA. Is this possible?  Each semester, an email is sent to the omscs-official@cc.gatech.edu account notifying students of how to apply to  become a TA for a future semester. Please be sure to monitor your email for this information. 7. What if I have an issue with/complaint about an assignment/exam or my instructor/TA?  Unfortunately, OMSCS Advising cannot get involved in the classroom management of OMSCS courses. If you  need to request an extension due to health, family, or other unforeseen issues, please consult your class’ syllabus  for directions and/or contact the Dean of Students office using the Request Assistance form, available on their  website . If you have a dispute with your grade, you should first contact your instructor. As per the academic catalog , any  final grade dispute must be resolved by the end of your next enrolled term. Any student with a grade dispute that  cannot be resolved after contacting the instructor should open a ticket at oms-advising@cc.gatech.edu with the  subject line \"Grade Dispute – Your Name\". Please send this message from your GT email account and attach  any correspondence with the instructor that you have had regarding the issue when you open that ticket. If you would like to share feedback about a class that is not specifically related to your grade, please contact the  Associate Director for Student Experience, Alex Duncan ( alex.duncan@gatech.edu ). 8. What if I have an issue with/complaint against a fellow student in the program?  Student behavior while enrolled in the OMSCS program is governed by the Georgia Tech Student Code of  Conduct . This policy applies to all official interaction on program platforms and also to a certain extent where  students interact with each other in program-oriented communities that are not officially administered by the  Institute. If you believe a violation of the Student Code of Conduct has occurred, you may seek assistance from  the Dean of Students office by clicking “Request Assistance” on their website . 9. What are the technical requirements for the OMSCS program? Please visit this webpage to learn more about the minimum technical requirements for the OMSCS program. Please note that individual courses may have additional requirements, but the ones listed on the webpage are common across all OMSCS courses. Also, please note that courses with proctored exams may require you to use Google Chrome to take the exam. 10. Will my accounts be disabled if I travel to a different country while enrolled in OMSCS courses? We are not sure if there is a way to prevent this from happening, but we strongly recommend that you contact the Technology Services Organization (TSO) for assistance if you encounter this. You also may need to contact the Office of Information Technology (OIT) . 11. How can I determine if there is a system outage, as well as stay informed of scheduled downtime for network maintenance? Please visit https://support.cc.gatech.edu/alerts to stay up-to-date about system outages and scheduled maintenance that occurs within the College of Computing. This webpage also links to other helpful resources available on OIT’s website, including https://status.gatech.edu/ . 12. Are OMSCS students eligible to earn credit for internships? The Graduate Internship Program is often used by graduate students as a means to maintain full-time student status while interning throughout the year. Since OMSCS students can only be enrolled as part-time students,\n",
      "there is no added benefit to enrolling in the Graduate Internship Program. OMSCS students are welcome to pursue internship experiences should their schedules allow for it. 13. What career resources are available to me as an OMSCS student? OMSCS students can receive career support from multiple sources. First, OMSCS students have access to career services specifically for assistance with job searching, interviewing, networking, career planning, and professional development. Please visit https://omscs.gatech.edu/career to learn more. If you sign up for the omscs-announce mailing list, you will receive regular communications from the Office of Outreach, Enrollment, and Community (OEC) for the College of Computing, including opportunities to participate in professional development workshops and webinars. Also, please be sure to check out our job platform, Handshake (you will be required to log in using your GT credentials). Here, OMSCS students can see current industry job and internship opportunities, register and attend College of Computing events, network with students across the nation, and request appointments with a Career Advisor. Newly-matriculated students may not be able to access Handshake until a couple of weeks after the semester begins. Career coaching can be provided by reaching out to the Educational Outreach Manager, Troy Peace ( tpeace@cc.gatech.edu ). We also recommend that you contact your undergraduate and/or former graduate school for alumni services. Finally, OMSCS students have access to services for graduate students offered by the Career Center at Georgia Tech . The Career Center offers workshops on many of the topics listed above, a job board that lists internships and full-time jobs, and career fairs. The platform that is used within the Career Center is CareerBuzz , where you can explore all of the services and events that are offered by the Career Center. All OMSCS students are granted access to the platform once they formally enroll in classes. 14. Can OMSCS students participate in the on-campus and virtual Georgia Tech career fairs? OMSCS students are eligible to participate in the on-campus and virtual College of Computing career fairs and the Georgia Tech Career Center. Please note that BuzzCards are required for the on-campus career fairs. 15. How do I find out more information about the Vertically Integrated Projects (VIP) program? OMSCS students who are interested in participating in the Vertically Integrated Projects (VIP) program should contact that department directly. Their contact information can be found on their website . If you receive approval from their program to participate, please keep the following in mind: ● The courses can only be counted toward your MSCS degree as “free” elective credit. You may not count these courses to fulfill any specialization requirements. ● Since the course in which you would enroll has the “VIP” prefix, this will count toward the six-hour maximum of non-CS/CSE and/or 4000-level courses that MSCS students can apply toward their degree. ● The credit you earn for the VIP program does not count as a foundational course for the OMSCS program. Therefore, you are still required to fulfill your foundational requirement by your designated deadline, if you have not done so already. ● If you have any additional questions regarding the VIP program, please contact their office directly, as the OMSCS advisors are unable to provide specific information regarding that program or its requirements. 16. Is the OMSCS program accredited? Georgia Tech’s undergraduate programs are ABET (Accreditation Board for Engineering and Technology) accredited. Georgia Tech’s graduate programs are regionally accredited by the Southern Association of Colleges and Schools Commission on Colleges (SACS) . 17. How can I obtain an enrollment verification? Please visit this webpage for more information on how to request an enrollment verification, and please contact the Registrar’s Office directly with any questions.\n",
      "18. How do I get support for the various systems I will use as an OMSCS student? During your coursework in the OMSCS program, you will interact with a number of different third-party vendors who supply specific functions. You may encounter issues that only the third-party support staff can resolve. In the event that you encounter technological issues with a third-party vendor, please pursue support using the channel lists below. Please note that any interaction you have with the support staff of a third-party vendor is considered part of your conduct as a Georgia Tech student and is thus subject to rules regarding Student Conduct . Any abusive language, misrepresentation of your identity, or other instances of misconduct may be referred to the Office of Student Integrity for investigation and possible sanctions. ● Canvas ○ For student support with Canvas, log into Canvas, then click the question mark icon at the bottom left. Then, either call the Canvas Support Hotline or Chat with Canvas Support for students. ○ If you are unable to log into Canvas, contact canvas@gatech.edu . ● Honorlock ○ If you have difficulty with Honorlock, open Honorlock in Canvas, then click the “Need help?” button in the top right or the chat icon in the bottom right to chat with Honorlock support. ● Piazza ○ If you have difficulty with Piazza, visit support.piazza.com . ● Gradescope ○ If you have difficulty with Gradescope, log in, click “Account” in the bottom left, and click “Help”. Deferring Admission 1. If I am not able to attend during the term I was admitted, what are my options?  It may be possible to defer your admission if you do not matriculate into the OMSCS program. Applications are  good for one year from the term for which you applied originally. For example, if you originally applied for the  Spring 2024 term, and you did not enroll in any classes/matriculate, it may be possible to request a deferral for the  Fall 2024 OR Spring 2025 term. If you want to matriculate after Spring 2025, you would need to reapply to the  OMSCS program. Please note that deferral requests can be processed only for the fall and spring semesters. Also, per the new Office of Graduate Education policy , an admitted applicant may only defer their  admission one time during the one-year timeframe that an application is valid. In order to request to defer your admission, please send an email to oms-advising@cc.gatech.edu from the  personal email address listed on your application. In the subject line, please include the phrase “Deferral  Request”, your full name, and your nine-digit gtID number (90XXXXXXX), replacing the first two digits with “xx”.  In your email, please include your original application term and the term to which you would like to defer your  admission. ○ If you would like to defer to the Fall 2024 semester, please send your deferral request after February 1, 2024  but before May 1, 2024.  ○ If you would like to defer to the Spring 2025 semester, please send your deferral request after September 1,  2024 but before October 1, 2024. ** It is best to submit your deferral request earlier rather than later during the designated time frame to  allow enough time for processing both within the College of Computing and the Office of Graduate  Education.** For students who are required to complete an English proficiency exam, please note that those scores are only  valid for two years from the date taken. For more information regarding English proficiency scores, please visit  the Office of Graduate Education’s website .\n",
      "2. What does it mean to matriculate into the OMSCS program?  When students register for a course(s) during their first semester in the program and remain enrolled after the  Phase II registration period has ended, they will have a record of enrollment for the semester and will be  considered a matriculated (current) student. This is true even if a student later decides to withdraw from a course  by the semester’s deadline, as the “W” on the transcript will still count as a record of enrollment for the semester. Students are not considered matriculated (current) students if they register for a course(s) during their first  semester in the program but then drop their schedule before the Phase II registration period has ended. 3. How do I know if I need to submit a deferral request?  Please note the following when determining whether a deferral request needs to be submitted: ● If a student registers and remains enrolled after Phase II registration has ended, they are considered a  matriculated (current) OMSCS student and do not need to request to defer their admission, even if they  withdraw from a course in their first semester.  ● If a student registers but drops their schedule before Phase II registration has ended, they are not  considered a matriculated (current) OMSCS student and must submit a request to defer their admission  within the designated time frame, as long as they meet the eligibility requirements. Please review the  previous FAQs for more details.  ○ Note: If your schedule is cancelled for nonpayment, you will NOT have a record of enrollment for  the semester. Therefore, if this is your first semester in the OMSCS program, you will need to  defer your admission, if you are eligible to do so. 4. If I am planning to defer my admission, what do I need to do?  If you are planning to defer your admission, there is nothing you need to do except not register for courses that  term. You simply will need to follow up with our office to request a deferral during the time frame noted above. As  a reminder, it is best to submit your deferral request earlier rather than later during the designated time frame to  allow enough time for processing both within the College of Computing and the Office of Graduate Education. Please keep in mind that registering for and later withdrawing from a course (which results in a “W” on your  transcript) means you are no longer eligible to defer your admission, as you are considered a matriculated  (current) student. 5. How many times am I permitted to defer my admission?  As per the new Office of Graduate Education policy , an admitted applicant may only defer their admission one  time during the one-year timeframe that an application is valid. To clarify further, if your original application term is Spring 2024, you can defer to Fall 2024 or to Spring 2025 –  you may not defer to Fall 2024 and then later request to defer to Spring 2025. If you deferred to Fall 2024 or  Spring 2025 and did not matriculate, you would be required to submit a new application and be offered admission  again to be permitted to matriculate as an OMSCS student. 6. Why do I need to submit my deferral request after registration has ended and the semester has started?  Due to the number of admitted students the College of Computing and the Office of Graduate Education are  supporting at the start of the semester during Phase II registration, deferral requests are not processed until after  the registration period has ended and the semester has started. Additionally, there have been times when  admitted students request for their admission to be deferred, and then their circumstances change, and they  decide that they do want to enroll for their original admit term. Therefore, the College of Computing and the Office  of Graduate Education do not start processing deferral requests until the time frames noted above. 7. I am scheduled to matriculate this semester, but I cannot enroll for the course I want because the course  is full. Can I defer my admission to the next term so that I can enroll in the specific course I want?  If you are considering deferring your admission only because you cannot enroll in the specific course(s) you wish  to take, we strongly do not recommend pursuing the deferral, as you will be in the same situation the next term  since new students do not register until Phase II. 8. If I defer my admission, when does my one-year time frame start for my foundational requirement?  If you do not matriculate, and you defer your admission to a future term, then your foundational requirement time  frame would start with your new matriculation term. For example, if you were admitted for Spring 2024 but did not  matriculate until Fall 2024, you would have the Fall 2024, Spring 2025, and Summer 2025 terms to fulfill the\n",
      "foundational requirement. However, please remember that if you matriculate into the program, your foundational requirement time frame  would begin, even if you withdraw from a course that term (since a “W” counts as a record of enrollment). For  example, if you matriculated into the program as of Spring 2024 and later withdrew, that term (Spring 2024) still  would count toward your foundational requirement time frame. 9. I deferred my admission (or I am planning to defer my admission) and received a message indicating that  my accounts are being inactivated. Can they remain active even though I am not a currently-enrolled  student since I plan to enroll in a future term?  If you are not enrolled and are not classified as a student who is eligible to enroll, your student-related services  will be discontinued. It is our understanding that OIT will not extend these student-related services until you are  eligible to enroll. For example, if you were admitted for Spring 2024 but deferred your admission to Fall 2024, you  would not have access to your accounts during the Spring 2024 semester but would regain access as the Fall  2024 semester approached. 10. I submitted a deferral request, but now I am being informed that I will be losing access to my GT  accounts, including email. How will you communicate with me?  As noted previously, if you are not enrolled and are not classified as a student who is eligible to enroll, your  student-related services will be discontinued. Therefore, we will communicate with you using the personal email  account you listed on your application. Additionally, you may submit your deferral request from this personal  email account – your request does not need to be submitted from your GT email account. 11. Why am I still receiving registration-related emails if I am deferring my admission?  Since deferral requests are not processed until after the semester starts, you most likely will continue to receive  registration-related emails as an admitted student for the term. If you wish to be removed from that semester’s  new-student mailing list, please send a message to oms-advising@cc.gatech.edu . Please include your full name  and your nine-digit gtID number (90XXXXXXX), replacing the first two digits with “xx”. Degree Requirements 1. What are the degree requirements for the OMSCS program? The OMSCS degree requires 30 hours (10 courses). Students must declare one specialization, which, depending on the specialization, is 15-18 hours (5-6 courses). The remaining 12-15 hours (4-5 courses) are “free” electives and can be any courses offered through the OMSCS program. You can review the degree requirements online . The requirements for each specialization can be found online as well. Please note that courses listed in bold have been produced for the OMSCS program. To be able to continue in the program after the first 12 months from your date of matriculation, you must complete the foundational requirement of two foundational courses with a grade of “B” or better. You may choose a foundational course that counts towards any area of your degree, whether a specialization requirement or a \"free\" elective. The courses that constitute “foundational courses” are designated with an asterisk (*) on the current courses page of our website. 2. By when do I need to declare my specialization, and how can I do so? Can I change my specialization once I declare it? We strongly recommend that you declare your specialization after your first two semesters in the program or as soon as you have an idea as to which specialization you plan to pursue. Your specialization needs to be declared by the time you apply to graduate. Please note that you are not “locked in” once you declare your specialization. You may change your specialization any time that does not conflict with an active period of registration. To declare your specialization, please follow these instructions: ● Go to https://oscar.gatech.edu/ . ● Sign in using your GT credentials via the “Secure Access Login” link.\n",
      "● Click on the “Students” tab. ● Scroll down and select “Change Your Concentration”. Listed on this screen will be your current program of study, effective for a future term. Beside each program of study is a button that allows you to select the program for which you would like to add, update, or remove a specialization/concentration. ● Once selected, click the “Select Program” button to proceed. ● The next screen will list the program of study that was selected from the previous screen with an additional line labeled, “Major Concentration”. Next to this will be a drop-down box that will list all the concentrations (specializations) that are available for that specific program of study and term. Select your desired concentration (specialization) and click “Submit Changes”. ● To remove a concentration (specialization) that previously has been attached to the program of study, select “None” from the drop-down list and click “Submit Changes”. ● The next screen will show a confirmation of the changes that were made. ● Click “Done”, and you will return to the main screen displaying your current program of study. ● Once you arrive back at the main screen, review the changes you have made and ensure you have added/removed/modified the appropriate concentration (specialization) for all current and future terms. ** Please note that if you are receiving GI Bill benefits, the Department of Veteran Affairs (DVA) regulates that only degree-applicable courses for your major are allowed to be certified for tuition and fee funding. This particular student population is permitted no more than two semesters to declare a specialization. By declaring your specialization, this will allow Georgia Tech’s Veteran’s Services office to certify your courses each semester. Please contact the Veteran's Services office directly with any questions you may have regarding this requirement. Their contact information can be found on their website . 3. Can I declare more than one specialization? No – students may declare only one specialization. However, you may take courses beyond your specialization as “free” electives. 4. Can I use extra specialization core courses as specialization electives (and vice versa)? For the most part, if students take extra specialization core courses and/or extra specialization elective courses beyond what is required in their specialization, the extra course(s) can be used only towards the \"free\" electives. In other words, specialization core courses cannot be used towards the specialization elective requirements and vice versa (specialization elective courses cannot be used towards the specialization core requirements). The only exception is for students pursuing the Computing Systems specialization. Please visit the specialization’s webpage for more information regarding what can be accepted. 5. Am I allowed to make substitutions within the OMSCS degree requirements?  The official College policy is that substitutions for specialization coursework are made only when necessary when  specialization courses are not available. Since all five of the specializations offered through the OMSCS program  can be completed without substitutions, no substitutions will be approved . 6. Am I allowed to audit a course or take it on the pass/fail grading basis?  Students are permitted to earn only a letter grade in all OMSCS courses. Students may not audit an OMSCS  course or take it on the pass/fail grading basis. The only exception is the CS 8001 one-hour seminars. As a reminder, these seminars are graded on the pass/fail  grading basis and will NOT count toward your graduation requirements. 7. How long do I have to complete the program and earn my degree?  Students must complete the OMSCS degree in six years as per the Institute’s policy . 8. What happens if I need more than six years to complete the program?  Any coursework that is older than six years needs to be approved by the Graduate Curriculum Committee (GCC)  and the Institute Graduate Curriculum Committee (IGCC) in order to be applied to your degree. If you will be  exceeding the six-year time frame, please be sure to contact oms-advising@cc.gatech.edu the semester before\n",
      "you plan to graduate so that you can work with your advisor on obtaining approval to use the older coursework.  Please be sure to send your message from your GT email account and to include your full name and your  nine-digit gtID number (90XXXXXXX), replacing the first two digits with “xx”. 9. Can I count non-CS/CSE courses and/or previously-completed undergraduate-level courses toward my  MSCS degree?  As per the program rules , a maximum of six hours may be taken at the 4000-level and/or with a subject code  other than CS or CSE. If you have any questions, especially regarding previously-completed undergraduate-level  courses, please contact your advisor by sending a message from your GT email account to  oms-advising@cc.gatech.edu . Please be sure to include your nine-digit gtID number (90XXXXXXX), replacing  the first two digits with “xx”. 10. What are the rules regarding the Satisfactory Academic Progress policy?  Please visit https://catalog.gatech.edu/rules/6/ for information regarding the Satisfactory Academic Progress  policy. Foundational Requirement 1. My admission letter states: “ All incoming students are admitted conditionally. To continue in the  program after the first 12 months from your date of matriculation, you must complete the foundational  coursework requirement of 2 courses in the program with a grade of B or better.” Will I be notified when I  am fully admitted into the OMSCS program?  As stated previously, to be able to continue in the program after the first 12 months from your date of  matriculation, you must complete a foundational coursework requirement of two foundational courses with a grade  of “B” or better. The courses that constitute “foundational courses” are designated with an asterisk (*) on this  webpage . We do not send notifications for students who have completed their foundational requirement. If you would like to  verify that you have completed your foundational requirement, please refer to the link above to determine if the  courses you have completed successfully are considered to be foundational courses. 2. Do my foundational courses have to be a part of my intended/declared specialization?  No — you may choose a foundational course that counts towards any area of your degree, whether a  specialization requirement or a \"free\" elective. 3. Can I register for non-foundational courses for a future term if I am on track to finish the foundational  requirement by the end of this term (either I am enrolled in two foundational courses, or I am enrolled in  my second foundational course)?  If you are enrolled in two foundational courses or your second foundational course, you would not be eligible to  enroll in any non-foundational courses until you successfully completed the two foundational course(s) with a \"B\"  or better. To clarify, during Phase I registration, you would be restricted to enrolling only in foundational courses. If you  successfully completed the requirement by the end of the current term, the restriction would be lifted shortly after  grades had been posted, and you would have an opportunity to make adjustments to your future schedule during  Phase II. 4. What happens if I do not meet my foundational requirement by my designated deadline?  As of now, students have not been dismissed from the OMSCS program simply for not fulfilling the foundational  requirement. Students will need to continue enrolling in foundational courses until they have satisfied this  requirement. Our office sends an email each semester for students whose foundational requirement deadline has  passed, so please refer to these messages for any updated information regarding this policy. Course/Program Planning 1. Which semesters are OMSCS courses offered? OMSCS courses are offered during the spring, summer, and fall semesters. However, the summer offerings are much more limited due to the condensed time frame of the semester. Students are not required to enroll in each term consecutively, but please make note of the readmission policy if you plan not to enroll during a specific\n",
      "semester(s) (please see the “Taking Time Off” section in the FAQs for more information). 2. For the summer semester, are OMSCS courses offered as part of the “Early Short Summer” or “Late Short Summer” schedule? All OMSCS summer courses are “Full Summer” courses. Our program does not offer any “Early Short Summer” or “Late Short Summer” courses. 3. Are there plans to add more courses and/or specializations to the OMSCS program? At this time, all of the courses/specializations that will be offered with the OMSCS program are listed on our website . The advisors unfortunately do not have any additional information other than the information that is posted on our website. 4. Can I take on-campus and/or Distance Learning (DL) courses as an OMSCS student?  Unfortunately, OMSCS students are not eligible to enroll in on-campus or DL courses, as they are considered to  be a different campus and have different tuition rates/fees. Likewise, on-campus or DL students are not eligible to  enroll in OMSCS courses. 5. Can I enroll in courses offered through the OMS Analytics and/or OMS Cybersecurity programs as an  OMSCS student?  Sections for OMSCS students have been created for a select number of OMS Analytics and OMS Cybersecurity  courses. If a section of an OMS Analytics or OMS Cybersecurity course has been created for OMSCS students, it  will have a section of “O” followed by a two-digit number (example: O01, O02, O03, etc.). As a reminder, courses  designated with the “OAN” section are reserved for OMS Analytics students, and courses designated with the  “OCY” section are reserved for OMS Cybersecurity students. Therefore, please be sure you are selecting the  correct section if you wish to enroll in the course. *** Please remember that per the program rules :  \"A maximum of six hours may be taken at the 4000-level and/or with a subject code other than CS or CSE.” *** If you have questions about the OMS Analytics program or courses offered through that program, please visit their  website . For the OMS Cybersecurity program and courses offered through that program, please visit their  website for more information. 6. Are there prerequisites for the OMSCS program and/or courses? There are no official/enforced prerequisites for the OMSCS courses beyond those required for admission into the program, so students can take these courses in essentially any order. There are certain recommendations as to what material/information you should be familiar with prior to taking a course (available in the course descriptions online ), but there are no official prerequisites for the OMSCS courses. In general we expect students who enter the program to be very comfortable working with multiple programming languages such as C, Java, and Python (there is no provision within the program to make up any deficiencies) and to have taken several more advanced topics, such as Advanced OS, Networking, Theory, and/or Algorithms. More information about this can be found on our website . If a student needs to take refresher courses before enrolling in OMSCS courses, it is up to the student to find out how and where to take these kinds of courses, as OMSCS Advising cannot provide advisement for that. Again, please refer to our website for more information. 7. After reading the course descriptions, it appears I am only prepared to take “X” course(s). What happens if I am not able to enroll in that specific course(s)? Since there are no official prerequisites for our courses (beyond those required for admission into the program), there is an expectation that students should be prepared for essentially most, if not all, of the OMSCS courses. Therefore, please do not contact OMSCS Advising requesting to be enrolled in a specific course based on your qualifications, especially since the advisors are unable to add students to courses and/or wait lists.\n",
      "8. Can my advisor help me plan out all of my courses in advance? Unfortunately, advisors cannot register students for courses, nor can we add students to wait lists. Therefore, we cannot guarantee that students will be able to take specific courses during specific semesters, so planning out the exact ten courses you wish to take (and the semester you wish to take them) most likely is not possible, as students should plan to be flexible in taking courses whenever they are available. As a reminder, there are no official/enforced prerequisites for the OMSCS courses (beyond those required for admission into the program), so students can take these classes in essentially any order. There are certain recommendations as to what material/information you should be familiar with prior to taking a course, but there are no official prerequisites for the OMSCS courses. For course-specific prerequisite information, please read the course descriptions online . Please refer to the FAQ below (#10) for more information on how to plan for future courses using DegreeWorks. 9. Do I need to take courses in the order they are listed on the specialization webpages? No, as mentioned previously, students can take OMSCS courses in essentially any order. Students are not required to take their specialization courses (or any courses) in a specific order. 10. How can I check my degree progress and/or plan for future courses? To check your degree progress and/or plan for future courses, we encourage you to use DegreeWorks . If you have declared your specialization, DegreeWorks should tell you what requirements, if any, you are missing. It also should allow you to plan for future courses using the “what if” feature. If you have not yet declared your specialization, all of your courses should be listed in the \"Fallthrough Section\", as they will not be allocated until you declare your specialization. Please note that specializations cannot be declared during active periods of registration. As a reminder, please be sure to review the degree requirements and the specialization requirements . Alternatively, you can print a degree worksheet for your specialization and fill it in so that you can see what requirements, if any, are remaining. You may access the degree worksheets online . 11. There have been some curriculum changes (new course numbers, recently-approved specialization courses, etc.), and my DegreeWorks is not listing these courses in the correct areas of my degree audit. When will this be adjusted? If changes are made to the curriculum or a new course number is assigned after you have matriculated, DegreeWorks will not make the necessary adjustments automatically – the OMSCS advisors have to make exceptions in DegreeWorks manually. This typically is not done until students have petitioned to graduate, though you are welcome to contact our office at oms-advising@cc.gatech.edu , and we would be happy to make the change ahead of time, as long as you already successfully completed the course(s). Please note that we will not be able to make changes to courses that are still in progress, as we need to ensure that the minimum grade is earned before making the change in DegreeWorks. 12. Why are my non-CS/CSE courses not being applied to my degree requirements in DegreeWorks?  Since these courses are outside of the CS/CSE curriculum, your OMSCS advisor will need to manually apply any  non-CS/CSE coursework to your record in DegreeWorks. This typically is not done until students have petitioned  to graduate, though you are welcome to contact our office at oms-advising@cc.gatech.edu , and we would be  happy to make the change ahead of time, as long as you already successfully completed the course(s). Please  note that we will not be able to make changes to courses that are still in progress, as we need to ensure that the  minimum grade is earned before making the change in DegreeWorks. 13. When will the course schedules for each term be available? The course schedules for each term are released shortly before the Phase I registration period for each term. Please refer to the academic calendar for term-specific dates. 14. I completed my bachelor’s degree in Computer Science at Georgia Tech. Can I double-count any of my courses toward my OMSCS degree? Students completing both a bachelor’s and master’s in the same discipline (Computer Science) at Georgia Tech might be able to use up to six credit hours of graduate-level coursework in the major discipline for both degrees.\n",
      "To qualify for this option, students must complete the undergraduate degree with a cumulative GPA of 3.5 or higher and complete the master’s degree within a two-year period from the award date of the bachelor’s degree. Please visit this website for more information. If you feel you qualify for this option, please send a message from your GT email account to oms-advising@cc.gatech.edu and include your full name and nine-digit gtID number. Your advisor will be able to assist you and confirm your eligibility. 15. I earned another master’s degree at Georgia Tech prior to matriculating in the OMSCS program. Can I double-count any of my courses toward my OMSCS degree? Students who have earned another master’s degree at Georgia Tech might be eligible to double-count up to six hours of previously-earned credit toward their OMSCS degree. Please visit this website for more information regarding this policy. If you feel you qualify for this, please send a message from your GT email account to oms-advising@cc.gatech.edu and include your full name and nine-digit gtID number. Your advisor will be able to assist you and confirm your eligibility. 16. I took courses and/or earned another degree (undergraduate and/or graduate) from Georgia Tech – are there restrictions as to which OMSCS courses I can enroll in and count toward my OMSCS degree? If you previously completed courses at Georgia Tech, specifically undergraduate and/or graduate Computer  Science (CS) or other CS-related undergraduate and/or graduate courses, you will be responsible for researching  whether the course(s) are considered to be “equivalent” to OMSCS courses, as these credits typically cannot  count toward your OMSCS degree if they were used toward another earned degree. Please refer to this website  for more information. Additionally, we have provided you with some of the equivalencies (please see the table  below), but we strongly recommend that you contact OMSCS Advising , as things can change and/or be updated  at any time. OMSCS Course Georgia Tech Equivalent Course CS 6035 CS 4235* *If you took CS 4235 prior to Spring 2011, you will be allowed to earn credit for both courses. If you took CS 4235 after Spring 2011, you will not be able to enroll in CS 6035. CS 6150 N/A CS 6200 (formerly CS 8803-O02) N/A CS 6210 CS 6420 and CS 4210 CS 6211 (formerly CS 8803-O0A & O0B) N/A CS 6238 N/A CS 6250 CS 4251 (if taken Fall 2018 or later) and CS 6380 CS 6260 ECE 6280 CS 6262 N/A CS 6263 (formerly CS 8803-O07) ECE 8813 Cyber -Physical Systems Security CS 6264 (formerly CS 8803-O11) N/A CS 6265 N/A CS 6290 ECE 4100, ECE 6100, and CS 4290\n",
      "CS 6291 (formerly CS 8803-O04) N/A CS 6300 CS 6144 and CS 8803 Advanced Software Engineering CS 6310 N/A CS 6340 N/A CS 6400 CS 6450 CS 6440 N/A CS 6457 CS 4455 CS 6460 CS 6397 and CS 4660 CS 6475 CS 4475 CS 6476 CS 4476 and CS 4495 CS 6505 (replaced by CS 6515) CS 6500 and CS 4540 CS 6515 (formerly CS 8803 GA) CS 4540, CSE 6140, and CS 6505 CS 6601 N/A CS 6603 (formerly CS 8803-O10) CS 4803 Big Data and Society – Misuse, Abuse, and Algorithms & CS 8803  AIS CS 6675 CS 4675 CS 6747 ECE 4147 and ECE 6747 CS 6750 PSYC 6750 CS 6795 ISYE 6795 and PSYC 6795 CS 7210 CS 7431 CS 7280 CS 8803 Network Science CS 7470 CS 4605 CS 7632 CS 4731, LCC 4731, and LMC 4731 CS 7637 CS 4635 CS 7638 (formerly CS 8803-O01) N/A CS 7639 (formerly CS 8803-O09) N/A CS 7641 CS 4640, CS 4641, CSE 6740, CSE 7641, and ISYE 6740 CS 7642 (formerly CS 8803-O03) N/A\n",
      "CS 7643 CS 4644, CS 4803 Deep Learning , and CS 8803 Deep Learning CS 7646 CS 4646 and CS 4803 Machine Learning for Trading CS 7650 CS 4650 CS 8803-O08 (Compilers – Theory & Practice) N/A CS 8803-O13 (Quantum Computing) CS 4803 IQC CS 8803-O15 (Introduction to Computer Law) CS 4010 CS 8803-O16 (Digital Health Equity) CS 4803 DHE CS 8803-O17 (Global Entrepreneurship) CS 4803 GEI CSE 8803-O22 (Security Incident Response) PUBP 8803 Security Incident Response CSE 6220 CX 4220 CSE 6242 CX 4242 CSE 6250 (formerly CSE 8803-O01) CX 4803 BDS and CSE 8803 BDS CSE 6742 CS 4343, INTA 4742, INTA 4803 Modeling, Sim, & Mil Gaming , and INTA 6742 ECE 8843 (Side-Channels & Their Role in Cybersecurity) N/A INTA 6450 N/A ISYE 6402 N/A ISYE 6420 N/A ISYE 6501 N/A ISYE 6644 N/A ISYE 6669 N/A ISYE 8803 (Topics on High-Dimensional Data Analytics) N/A MGT 6311 N/A PUBP 6725 CS 4725, CS 6725, MGT 4725, MGT 6725, and PUBP 4725 17. What is the difference between when two courses are cross-listed and when they are considered to be equivalent? Equivalent courses are courses that are listed as equivalent in Banner. They may not necessarily be taught together (such as the Atlanta campus courses CS 4460 and CS 6730). Cross-listed courses are courses that are\n",
      "taught together and are usually equivalents as well (such as CS 4641 and CS 7641). 18. Are there any courses that students cannot count toward their MSCS degree? MSCS students are not permitted to count credit for 1) CSE 6010 Computational Problem Solving for Scientists and Engineers ; 2) CSE 6040 Computing for Data Analysis: Methods and Tools ; 3) CS 4001 Computing, Society and Professionalism ; or 4) CS 4002 Robots and Society toward their MSCS degree. Additionally, the CS 8001 one-hour seminars will NOT count toward your graduation requirements. If you have concerns about other courses, please be sure to contact your OMSCS advisor from your GT email account at oms-advising@cc.gatech.edu . Please include your full name and your nine-digit gtID number (90XXXXXXX), replacing the first two digits with “xx”. Grades/GPA Requirement 1. Is it possible to repeat a course, and what are the consequences of doing so?  According to the academic catalog , “Students may not repeat courses on a letter-grade basis in which the grade  of ‘B’ or higher has been earned previously.” In other cases of a repeated course, we will consider the newest grade for purposes of completing a requirement  (specialization and/or foundational course); however, you can never have the initial grade replaced or removed  from your GPA, unless you are eligible to pursue the grade substitution policy as noted below. Please also note that if you retake a course, it can be used to satisfy only one requirement, as one course cannot  be used to satisfy more than one requirement. If you withdraw from a course, “W”s are visible on your transcript, but they have no impact on your GPA. If you  retake a course from which you previously have withdrawn, the “W” from your first attempt and the new grade  from that class both will appear on your transcript. 2. What are the grade/GPA requirements to remain active in the program? Please visit http://www.catalog.gatech.edu/rules/6/ and https://registrar.gatech.edu/info/academic-standing and review this information carefully. Please note that your academic standing is based on your cumulative GPA and/or your term GPA. For MS students, the minimum GPA to remain in good academic standing is 2.7. However, please note that you must earn a cumulative GPA of 3.0 or higher in order to meet the graduation requirements. For information on how to calculate your GPA, please refer to the Registrar’s website . 3. Does the grade substitution policy apply to graduate students? A grade substitution policy has been approved for graduate students. Please visit https://catalog.gatech.edu/rules/5/ and https://registrar.gatech.edu/info/applying-for-graduate-grade-substitution for information regarding eligibility. 4. How do OMSCS students apply for a graduate grade substitution? The grade substitution form is available on the Registrar’s Office’s website and must be completed via DocuSign by the established deadline. Please be sure to use your advisor’s direct email address ( NOT oms-advising@cc.gatech.edu ) when submitting this form. 5. When does the graduate grade substitution policy take effect? The new policy takes effect starting with the Summer 2022 semester under the 2022-2023 academic catalog. 6. Is the graduate grade substitution policy retroactive? No, the policy is not retroactive. The “C”, “D”, or “F” grade to be substituted must have been earned in a course taken during or after the Summer 2022 semester. The new policy does NOT apply to courses taken prior to Summer 2022.\n",
      "7. Is academic standing impacted/recalculated retroactively once the graduate grade substitution has been applied to a student’s record? Yes, a student’s academic standing would update once the grade substitution had been applied. For example, if a student’s first attempt was during the Summer 2022 semester, and an unsatisfactory grade was earned, and then the course was repeated successfully in Fall 2022, then the academic standing for Summer 2022 would be updated (since the original grade would be excluded from the cumulative GPA) and would be built upon once the grade substitution had been applied. 8. Will the grade substitution be visible on a transcript? Yes, the student’s transcript would show the original grade with a comment of “Excluded grade substitution”. 9. Is there a minimum grade that a student must earn to be approved for a grade substitution? Students do not have to earn a minimum grade to request a grade substitution. For example, a student could earn a “D”, repeat the course and earn a “C”, and apply for a grade substitution. 10. If students with undergraduate degrees from Georgia Tech have previously been approved for undergraduate grade substitutions, would they be permitted to apply for one at the graduate level? Yes, the grade substitution policy “resets” at the graduate level. 11. Does the graduate grade substitution policy impact BSMS students in any specific way? No, both the undergraduate and graduate grade substitution policies can be applied to BSMS students. When they are BS students, they will follow the undergraduate grade substitution policy. When they matriculate into the graduate level, they will then follow the graduate grade substitution policy. 12. If undergraduate Georgia Tech students enroll in graduate-level GT courses, which grade substitution policy would be in effect (undergraduate or graduate)? The grade substitution policies are based on a student’s level (undergraduate or graduate), not the course level. For example, if undergraduate students complete graduate-level courses, they will follow the undergraduate grade substitution policy. 13. Are exceptions to the graduate grade substitution policy possible? The grade substitution policy (including, but not limited to, course eligibility, number of courses, time limits, and deadlines) is not subject to exceptions. 14. Can the graduate grade substitution policy be petitioned to the Graduate Institute Curriculum Committee? The graduate grade substitution policy may NOT be petitioned to the Graduate Institute Curriculum Committee. 15. Are OMSCS students required to opt into the graduate grade substitution policy in order to graduate? No, OMSCS students are NOT required to opt into the graduate grade substitution policy if they do not wish to do so. OMSCS students are eligible for graduation if they are meeting all MSCS degree requirements, even without opting into the graduate grade substitution policy . 16. If I earn a “D” in a course, can it count toward my OMSCS degree? Courses in which a student earns less than a “C” cannot be counted toward the OMSCS degree. Please note that these grades still will be factored into your overall cumulative GPA and cannot be removed from your record, unless you opt into the graduate grade substitution policy. 17. If I do not earn the required grade in a course, or if I withdraw from a course, am I required to repeat the course in a later semester? If the course is required for your specialization, and there are no other course options within that specific area of your specialization that you can take instead (since substitutions are not permitted), then you must retake the course and earn the required \"B\" or better for specialization/foundational courses. However, if there are other course options available within that specific area for your specialization, then you may choose to enroll in a\n",
      "different course to satisfy the requirement. If the course would count as a “free” elective, you have the option of retaking it to earn the required “C” or better for “free” electives, or you may choose to enroll in a different course to satisfy your “free” elective requirement. 18. Is there a limit to how many times I can withdraw from and/or repeat a course? There is no specific limit to how many times a student may take and later withdraw from and/or repeat a specific course. However, please keep in mind the degree requirements outlined in this document and the academic catalog , including the satisfactory academic progress requirements, the six-year requirement, and the graduate grade substitution policy. 19. How is my academic standing impacted if I withdraw from or do not enroll in a semester? It is our understanding that if you withdraw from or do not enroll in a semester, and you do not have any new grades that would change your status, then your academic standing from the previous semester would carry over. Therefore, if you were on academic warning or academic probation after your last enrolled term, then this status would carry over to the next term as long as you did not have any new grades to change your academic standing. There is an exception to this, as it relates to making satisfactory academic progress in the program. As noted above, if you are withdrawing semester after semester without successfully completing a course, your academic standing in the program could be impacted. 20. If I am on academic warning or academic probation, am I allowed to withdraw from a course/semester? As long as you do not have a hold on your account, you should be able to withdraw from a course/semester, even if you are on academic warning or academic probation. As stated previously, if you were to withdraw from the semester, and you did not have any new grades that would change your status, then your academic standing from the previous semester would carry over. Therefore, if you were on academic warning or academic probation after your last enrolled term, and you did not have any new grades that would change your status, then your academic standing would carry over to the next term. There is an exception to this, as it relates to making satisfactory academic progress in the program. As noted above, if you are withdrawing semester after semester without successfully completing a course, your academic standing in the program could be impacted. 21. By when do I need to resolve an “I” grade? Detailed information regarding an “I” grade can be found in the following sections of the academic catalog: ● Section C, Point 7 ● Section A ● Section B, Point 1 To confirm: \" When a grade of ‘I’ (‘Incomplete') is assigned in a course, the ‘I' grade must be removed and the grade change reported by the end of the student's next academic term in residence or, if the student has not been enrolled, by the end of the academic term one calendar year from the date the incomplete was assigned. Failing to remove the ‘I' in the allotted time will result in the grade of ‘I' being changed to the grade of ‘F'. To remove the ‘I' grade, the student should consult with the instructor as soon as possible after the academic term is over and complete whatever remaining coursework is outlined by the instructor. Repeating the course for credit does not remove the grade of ‘ I’. \" 22. Is it possible to “start over” or “erase” my previous academic history? Unfortunately, this is not possible. Your previous academic history always will be a part of your student record, even if you take time off and seek readmission into the program at a later time.\n",
      "23. If I take extra OMSCS courses, can I designate which courses will count toward my “degree” GPA rather than my cumulative GPA? The OMSCS program does not have a separate “degree GPA” and simply uses your cumulative GPA. The only exception to this is for students who continue taking courses after they have graduated from the OMSCS program. For the purposes of your resume, whatever your GPA was when your degree was awarded would be your MS GPA. Registration-Related Information 1. What is the difference between Phase I and Phase II registration?  Current/returning students will register during Phase I and will have another opportunity to make changes to their  schedules during Phase II. Newly-admitted students will register during Phase II only. For the summer term,  there is only one registration phase, with an “unofficial” Phase II period taking place shortly before the start of the  semester. Visit the academic calendar for term-specific dates. 2. Are the published times/deadlines updated based on my local time zone if I do not live in Atlanta?  No — all of the Institute times/deadlines you see are listed in the Eastern time zone. They will not update  automatically to reflect your local time zone. Therefore, you will need to be mindful of time-sensitive  activities/deadlines such as when time tickets open, the expiration of a wait list notification, the end of a  registration period, the semester’s withdrawal deadline, etc. For any class-specific deadline, please be sure to  work with your instructor and/or TA(s). 3. What is the maximum number of courses I can register for each term?  The OMSCS program is a part-time program only – no exceptions will be made to allow for full-time enrollment.  Students can register for a maximum of seven hours during the fall and spring semesters, and students are  limited to enrolling in five hours during the summer semester. Please note that Financial Aid and other programs  may have specific credit hour requirements, so be sure to follow up with their office(s) directly for more  information. 4. What if a course I want to register for is CLOSED?  Once the registration cap has been reached for a course, the course is full. In order to request a seat in a closed  course, you must follow the instructions in SECTION G. WAITLISTING FOR A CLOSED COURSE. The OMSCS  program does not accept override requests. Please note that OMSCS Advising cannot register students for  classes, nor can we add students to wait lists. 5. What if the wait list for a course I want to register for is CLOSED?  If the wait list is full/closed when you are attempting to add yourself, please check back later. Students remove  themselves from wait lists, and seats are added to courses (which removes students from the wait list), so there is  a strong chance that a spot will become available at a later time. 6. Why is there a limit on the number of seats for each course if this is an online program?  While we do not have physical space constraints, there are other factors that have to be taken into consideration  for an online program this size. One example is that in order to maintain the integrity and academic rigor of the  program, we have to hire an adequate number of TAs per a specific number of enrolled students. This is why we  limit the number of waitlisted courses for each student so that we have a realistic idea of the demand for each  course and can hire TAs accordingly (whenever possible). Additionally, some courses are unable to scale above  a certain maximum while still providing an effective learning experience for students. 7. Can OMSCS Advising tell me which courses are open currently?  Students can access up-to-date enrollment and wait list totals by performing a class search in OSCAR. You can  perform a course look-up in OSCAR once you have logged in using your GT credentials — the full courses have a  “C” in the first column, and the open courses have a checkbox that can be selected in order to enroll. 8. What are the chances of enrolling in a class if I am waitlisted or if the class is closed?  We strive to give students an opportunity to register for a variety of courses. The number of available seats is  determined primarily by the number of TAs available for each course. Unfortunately, advisors cannot predict  if/when a course may have more seats added or if a wait list will be expanded. Also, we cannot guarantee  students will be able to enroll in specific courses. Our best advice is to continue monitoring the courses you are  interested in taking and/or the wait lists. Towards the end of Phase II, the wait lists will be removed, and you may\n",
      "have another opportunity to register for your desired course(s). More information regarding this will be  forthcoming. Alternatively, you may review the degree requirements and try to find another course. 9. Why am I receiving an error message if I can see available seats when attempting to register?  If there are seats available in the course, but the course has a wait list, you will receive an error message when  attempting to register. This is because the seats that are available are reserved for the students on the wait list.  Therefore, students cannot bypass the wait list and enroll in a course – they must add themselves to the wait list,  if there are spaces available. 10. How long should I expect to wait before I receive a wait list notification?  There is no specific amount of time as to when students will receive a wait list notification, as we unfortunately  cannot guarantee that everyone on every wait list will get into the course. As stated previously, some courses are  unable to scale above a certain maximum while still providing an effective learning experience for students.  Please note that the advisors are unable to determine/predict which courses will have more seats added.  Therefore, please be sure to monitor your email account carefully and frequently, including your spam folder, in  case you receive a wait list notification. 11. Can I use a computer program or script when trying to register for courses?  As explained on the Registrar’s website , “Students are required to abide by the Institute's Acceptable Use Policy  when using Georgia Tech's computer resources, including the registration system. As such, no student may use  any unauthorized computer program or script to register for classes or attempt to circumvent the registration  system in any way. No student should repeatedly attempt to register for a closed section of a course by hand in  an attempt to \"brute force\" into the next available seat. To do so is a violation, as ‘faculty, staff, and students are  expected to behave in an ethical and professional manner when using IT resources.’ This also violates the  section ‘Protection of IT Resources’ by ‘knowingly installing or running...disruptive software’ which results in  depriving other students an opportunity to register. Information regarding any student who violates this policy will  be forwarded to the Dean of Students for disciplinary action.” 12. Why is my wait list position increasing instead of decreasing?  Each semester, we prioritize the degree candidates on wait lists if they need a specific specialization course (not  “free” elective) to graduate by the end of the term. Therefore, your wait list position could change due to degree  candidates receiving priority. We hope that students will understand this, as we will do the same for you once you  are in your final term and are preparing to graduate. 13. Why is my waitlisted course showing as “0” credits in OSCAR?  Since a waitlisted course does not count as enrolled hours, your waitlisted course will display as “0” units until you  are registered officially (though please remember that being on a wait list does not guarantee that you will be  permitted to enroll in that course for the term). 14. If I am registered for the maximum number of hours permitted, and I receive a wait list notification, will I  be able to drop one of my other courses in order to add the waitlisted course, or will the system skip me  and notify the next person on the wait list?  The system will not skip you because you are enrolled in the maximum number of hours permitted. You will have  the same 12-hour window to respond to the wait list notification and make any necessary changes to your  schedule in order to enroll in the waitlisted course if desired. 15. I missed my wait list notification. What should I do now?  Unfortunately, the only thing you can do is add yourself back to the wait list and hope for the best or select  another course. The OMSCS program must abide by the Institute’s policies and procedures, and this includes the  fact that wait list notifications can be sent at any time (even overnight and/or on weekends) and that students  have 12 hours to respond to the notification. The wait list process is not controlled by OMSCS Advising, so we  are unable to make any changes or exceptions regarding this process. 16. I received a “Campus Restriction” or “Major Restriction” error message when trying to add a course.  What does this mean?  If you receive the “Campus Restriction” or “Major Restriction” error message, this is because you are attempting  to enroll in a course that is not part of the OMSCS program. As a reminder, most OMSCS courses will have a  section of “O” followed by a two-digit number (example: O01, O02, O03, etc.). Please note that courses with the “OAN” section are for OMS Analytics students only, and courses with\n",
      "the “OCY” section are for OMS Cybersecurity students only – OMSCS students are NOT permitted to  enroll in these sections. If a section of an OMS Analytics or OMS Cybersecurity course has been created for OMSCS students, it will have  a section of “O” followed by a two-digit number (as mentioned previously). Therefore, please be sure you are  selecting the correct section if you wish to enroll in the course. *** Please remember that per the program rules :  \"A maximum of six hours may be taken at the 4000-level and/or with a subject code other than CS or CSE.” *** 17. What is the difference between “L” and “ALP” in the “BAS” column in OSCAR?  When searching for courses in OSCAR, the “BAS” column tells you the grade modes accepted for a particular  course. OMSCS courses have the “L” grading basis, which stands for “Letter Grade”, as students may not audit  an OMSCS course or take it on the “Pass/Fail” grading basis. The one exception are the CS 8001 seminars, as those are graded on the “Pass/Fail” grading basis. As a  reminder, these will NOT count toward your graduation requirements. You might notice that other courses, such as those offered through the OMS Analytics and OMS Cybersecurity  programs, have the “ALP” grading basis, which stands for “Audit”, “Letter Grade”, and “Pass/Fail”. As a reminder,  courses with the “OAN” section are for OMS Analytics students only, and courses with the “OCY” section are for  OMS Cybersecurity students only – OMSCS students are NOT permitted to enroll in these sections. If a section  of an OMS Analytics or OMS Cybersecurity course has been created for OMSCS students, it will have a section  of “O” followed by a two-digit number as described above. Again, please be sure you are selecting the correct  section if you wish to enroll in the course. *** Please remember that per the program rules :  \"A maximum of six hours may be taken at the 4000-level and/or with a subject code other than CS or CSE.” *** 18. What happens if I am not able to register for my course until the first week of classes? Professors have access in Canvas to see when students were added to their course. It is our understanding that students will not be penalized for assignments that were due before the student was registered for the course. However, please be sure to confirm this with your professor(s) and/or TAs, and please contact them for any other specific questions you may have regarding their course and/or assignments. 19. What happens if I am not registered by the time Phase II registration has ended? Unfortunately, students cannot be added to a course(s) once Phase II registration has ended. Therefore, if you plan to be enrolled in that specific term, you may need to enroll in a backup course prior to the end of the active registration period if your first-choice course is not available. 20. If I am still on the wait list toward the end of the Phase II registration period, will my wait list position carry over to the next semester’s registration period? On the last day of Phase II registration, all of the wait lists are cleared, and students are able to enroll in any open course without needing to go through the wait list first. Therefore, wait lists will not carry over to the next semester’s registration period. 21. If there are seats available once Phase II registration has ended, can I be added to the course? Students cannot be added to a course(s) once Phase II registration has ended, even if there are seats available. 22. I successfully registered for a course. What should I do next? Once you have successfully registered for a course, you should log into Canvas to see if you have access to the course materials. Please see the next FAQ in case you do not see your course materials once you are registered for the course.\n",
      "23. Classes have started, and I cannot access my course materials and/or Canvas has not been set up for my course. Is this normal? As stated previously, course materials will be available sometime during the first week of classes. Unfortunately,  we do not have control over when course materials will be available, nor do we have any additional information as  to exactly when course materials will be available. Please note that some professors do not start their classes  until later in the week, so you may not be able to view any course materials even if the semester technically has  started already. If you register for a course during the first week that classes begin, please note that it can take up to 24 hours  before you can access your course materials. If after this period of time you still cannot access your course  materials, please contact canvas@gatech.edu for Canvas access. 24. I successfully registered for a course, but Canvas is showing a different course prefix than what is displayed in OSCAR. How do I know if I registered for the correct section? Instructors have the ability to edit the “display title” for a course in Canvas. Therefore, when crosslisted sections  of different courses are being taught together, students may encounter times where the course prefix in Canvas is  different than the one listed in OSCAR. For registration/degree-completion purposes, we will rely on your course  registration according to Banner, not Canvas. 25. Can I be switched to another course once the registration period has ended? No – unfortunately, even if there are seats available, you cannot be switched to another course once the  registration period has ended. If you no longer wish to be enrolled in the course, you will need to withdraw before  the semester’s withdrawal deadline. 26. What is the difference between dropping and withdrawing from a course?  When a student drops a course, this action can only be done during active periods of registration (either in Phase  I and/or Phase II). If a student drops a course, the course will not be reflected on their transcript. It will appear as  if the student never registered for the course, according to their transcript. This means that the student will not  have a record of enrollment for the term. If a student withdraws from a course (this is done after Phase II registration has ended and before the  semester’s withdrawal deadline), this action will result in a “W” on the student’s transcript. If a student withdraws  from a course (or courses) and receives a “W” on the transcript, this counts as a record of enrollment for that  specific term. 27. If I withdraw from a course and change my mind, can I be re-added to the course? No – unfortunately, students cannot be re-added to a course once they have withdrawn. Please keep this in mind as you are deciding whether or not you wish to withdraw from the course (before the withdrawal deadline). 28. If I withdraw from a course/semester, do I need to submit a Petition to the Faculty form to enroll the next semester? No – as per Georgia Tech’s readmission policy , “With the exception of part-time graduate students, any student who withdraws during a term and wishes to return the following term must complete a Petition to the Faculty Form only.” Therefore, since OMSCS students are part-time graduate students, you do not need to submit a \"Petition to the Faculty” form if you withdraw. Please keep in mind the Satisfactory Academic Progress policy as noted above when considering withdrawing from the semester. 29. If I have an open OSI investigation for a course, or if I was found “responsible” at the conclusion of an OSI investigation for a course, am I permitted to withdraw or submit a Petition to the Faculty for a late withdrawal? Per the Registrar’s website : “If there is an alleged academic integrity violation pending, the student may not drop the course. The status of the alleged violation is defined as ‘pending’ when an incident has been submitted to the Office of Student Integrity and has generated an electronic ‘suspected academic misconduct’ notice that has been sent to the student. If the student is found responsible for any prohibited academic conduct, she/he will not be\n",
      "allowed to drop the course.” Additionally: “If the student is found responsible for any prohibited academic conduct in a class, she/he will also not be allowed to withdraw from the term.” Finally, a course is not eligible for grade substitution if the student was found responsible for any academic misconduct in that course, regardless of how many times it is repeated. Please contact the Registrar’s Office and the Office of Student Integrity if you have any questions regarding this. 30. Will I retain access to my course materials in Canvas after completing a course? This is at the discretion of the course instructor. We recommend that students check with the course’s teaching team during the semester in which you are enrolled so that you can plan accordingly. Payments & Financial Information 1. How do I apply for Financial Aid?  Please review the Office of Scholarships and Financial Aid’s website for more information and contact their office  with any questions. Please note that Financial Aid and other programs may have specific credit hour requirements, so be sure to  follow up with their office(s) directly for more information regarding eligibility. 2. How do I pay for classes? (Note – You do NOT pay for classes until you register for them.)  Please refer to the Bursar’s website and click on “Student Pay” located at the top right of the webpage. Methods  of payment accepted by the Bursar’s Office are cash, check, money order, wire transfers, webchecks, and credit  cards (online only). Please note: there is a third-party service fee when paying by credit card. OMSCS students  are ineligible for the GT Payment Plan. 3. What is the amount I need to pay?  Please refer to the Bursar’s website and view the costs by term by reviewing the information under the “Tuition  and Fees” menu. 4. What is the deadline to pay my fees?  Please refer to the Bursar’s website for the Fee Payment Deadline for the specific term. If fees are not paid by  the Fee Payment Deadline, class cancellation may occur, and a late fee may be assessed. 5. What is the process to be reinstated if my schedule is cancelled by the Bursar’s Office due to  nonpayment?  If your schedule is cancelled for nonpayment, you will be notified by email. Appeals can be submitted by visiting  the Bursar’s website . If you are reinstated into classes, a reinstatement fee of $200.00 will apply, and the account  balance must be paid immediately to avoid re-cancellation. For questions regarding the fee payment deadline or reinstatement process, please contact the Bursar’s Office  directly ( omsbursar.ask@gatech.edu ). Please note: Reinstatement does not guarantee that faculty will allow students to make up any work missed. It is the student’s responsibility to confirm ahead of being reinstated what accommodations, if any, will be permitted during the time frame in which the student was not enrolled due to non-payment. 6. Will I have a record of enrollment if my schedule is cancelled by the Bursar’s Office due to nonpayment?  If your schedule is cancelled for nonpayment, you will NOT have a record of enrollment for the semester.  Therefore, please note the following:  ● If this is your first semester in the OMSCS program, you will need to defer your admission, if you are  eligible to do so. Please refer to the “Deferring Admission” section of this document for more information  regarding this.  ● If this is not your first semester in the OMSCS program, you will need to make note of whether this will be\n",
      "your third consecutively-skipped semester. If you will have three or more consecutively-skipped  semesters, you will need to seek readmission in order to enroll in a future semester. Please refer to the  “Taking Time Off” section of this document for more information regarding this. 7. Why was I charged for health insurance?  If you believe you have been erroneously charged for health insurance, please contact  grad.ask@grad.gatech.edu for assistance. Note that you may be asked to complete a waiver application form . 8. Who should I contact if I have questions regarding financial aid, tuition/fees, my financial student  account, or other financial-related questions, such as deferring my previous student loans, tuition  reimbursements for my employer, tax documents that need to be completed by the Institute, etc.?  Please contact the Office of Scholarships and Financial Aid and/or the Bursar’s Office for assistance. 9. Who should I contact for information regarding my 1098-T?  Please contact the Bursar’s Office for more information regarding your 1098-T. 10. Who should I contact if I have questions regarding refunds and/or refund eligibility?  Please contact the Bursar’s Office for more information regarding refunds. Keep in mind that you will receive NO  refund if you are enrolled for more than one class and withdraw from only one course. You only are eligible for a  partial refund if you completely withdraw from school (withdraw from ALL of your courses for the current term). Taking Time Off 1. Can I take a semester off?  OMSCS students may take up to two consecutive semesters off at any time after they have matriculated into the  OMSCS program. However, if you take three or more consecutive semesters off, you must apply for readmission.  Please note that the summer term counts as one of the consecutive semesters, even though students are not  required to enroll in the summer term. Unfortunately, there is no guarantee you will be readmitted. For more  information, please review the Registrar's Readmission Policy . To clarify, if a student enrolls in a course and withdraws (which would result in a “W” on the student’s transcript),  this counts as a record of enrollment for that semester and does not count as sitting out for the semester.  Therefore, the student would need to sit out the next three consecutive semesters before needing to apply for  readmission. If a student drops a course, this does not count as a record of enrollment, and this would be  considered as sitting out a semester. Please see the FAQ section entitled “ Registration-Related Information ” for a detailed explanation of the  difference between dropping and withdrawing from a course. Please note: If you are a newly-admitted student and are not planning to attend your first semester, you will need  to submit a request to defer your admission. Please refer to the “ Deferring Admission ” section of the FAQ for  more information about how and when to submit this request. 2. What is the process once students seek readmission? Students must complete the step-by-step instructions on the Registrar’s readmission website . After they have successfully submitted their readmission application (by following the step-by-step instructions), the information is sent to the Registrar’s Office where initial processing is completed. They then submit your readmission packet to our office, and we process everything on our end. If you have been academically dismissed, we will prepare and send you the graduate readmission contract. Once we receive the signed copy from you, or if you do not require the readmission contract, we will submit everything to the Executive Director or Director of OMSCS Advising for review. After they have made their recommendation as to whether or not your readmission application should be approved, we will submit everything to the Registrar’s Office for a final decision and processing. You will be notified by their office once a final decision has been made. Please note that there are different deadlines when you are seeking readmission as a student who has been academically dismissed versus a student who has taken three or more consecutive semesters off.\n",
      "3. What is the difference between readmitting versus reapplying to the OMSCS program? Readmission is for current OMSCS students who matriculated into the program and then took time off (either voluntarily or as a result of being academically dismissed). Students are considered to have matriculated if they registered in at least one course and earned a grade, even if the grade was a withdrawal (“W”). Reapplying (or submitting a full new application to the OMSCS program) is for admitted students who did not matriculate and are already outside of their one-year deferral timeframe. For example, if your original application term is Spring 2024, you would need to reapply to the program if you wish to matriculate after Spring 2025. To summarize: ● Current OMSCS students who have been academically dismissed and/or who have taken three or more consecutive semesters off must seek readmission. ● Admitted students who have not yet matriculated into the OMSCS program must reapply if they are past the one-year deferral time frame from their original application term. 4. If I am readmitted, will my previously-earned credits still count? Yes — your eligible, previously-earned credits will count toward your OMSCS degree if you are approved for readmission (subject to the six-year program completion rule ). To clarify, it is not possible to “start over” or “erase” your previous academic history, as that always will be a part of your student record. 5. What if I need to seek readmission but have not fulfilled my foundational requirement as of yet? We will address your foundational requirement as part of the readmission application process, so there is nothing additional that you need to do regarding this when seeking readmission. 6. Is there anything I need to do if I wish to take a semester off? If you wish to take a semester off, you simply should not enroll in a course for that term. If you are registered for a future term, please be sure to drop your course(s) once you have an active time ticket so that you are not charged tuition/fees. You do not need to notify your advisor or complete/submit any forms. Please keep the readmission policy in mind, as you will need to seek readmission if you skip three or more consecutive semesters (including the summer semester). Also, please remember that Summer registration and Fall Phase I registration may take place at the same time, unless noted otherwise. If you are planning to skip the summer semester but will enroll for the fall, you should plan to register for the fall semester during Phase I. If you miss the Phase I registration period, you will have another chance to enroll during Phase II (though course availability most likely will be more limited). 7. Can I work as a TA during a semester that I am not enrolled in a course? OMSCS students can work as a TA during a semester in which they are not enrolled, only if they do not need to seek readmission . If they are in their third consecutively-skipped semester and will need to seek readmission to enroll in a future semester, then they are not eligible to be a TA. 8. What if I need to take an extended amount of time off from school due to an extenuating circumstance (such as required military service, maternity/paternity leave, scheduled surgery, etc.)? Students may be eligible for an approved Leave of Absence. Please review Section C of the academic catalog for more information. If you have any questions regarding the Leave of Absence policy, please be sure to contact the Registrar’s Office directly. Please note the following regarding the Leave of Absence policy: ● The Leave of Absence cannot be approved retroactively. ● An approved Leave of Absence would be effective in a future term. Students on an approved Leave of Absence would not have to apply for readmission and would be able to retain their email accounts during the approved absence. Prior to returning, the student would have to notify the Registrar’s Office so that their record could be reactivated for re-entry.\n",
      "● The Leave of Absence would cover eligible students for at least three and no more than seven semesters (including summer). If the seventh semester is a spring term, students may opt to return in either the summer or fall term. ● Students on an approved Leave of Absence may not attend class or access other campus services. ● The form to request an approved Leave of Absence is on the Registrar’s Office’s website . ○ Please be sure to use your advisor’s direct email address ( NOT oms-advising@cc.gatech.edu ) when submitting this form via DocuSign. ● The Leave of Absence may be used more than once but for no more than seven total semesters during the student’s enrollment at Georgia Tech. ● Students who have been placed on academic drop, suspended, or expelled for disciplinary reasons may not participate. ● Students must clear up any other issues such as registration holds or providing any requested documentation prior to re-entry. The approved Leave of Absence does not override other considerations or restrictions on enrollment. ● Students should apply for a Leave of Absence as soon as possible. Applications for a Leave of Absence will require review and signatures by the Office of the Dean of Students and the student’s major academic advisor. Other signature approvals, such as the Office of International Education and Financial Aid, also may need to be obtained. ○ Students should bear in mind the time limits in determining the anticipated date of return. ○ As a reminder, readmission is required when three or more consecutive terms have been missed (the summer term counts as one of the consecutive semesters, even though students are not required to enroll in the summer term). However, once students have made the decision that they will have to or need to be out for three or more consecutive terms, and the students wish to return to Georgia Tech without being readmitted, the application for a Leave of Absence should be filed with the Registrar’s Office. ○ The clock begins when the student does not enroll for a third consecutive term. The Leave of Absence would have to be in effect for the third consecutive missed term to avoid readmission. ● Students must file a Return from Leave of Absence form to return. If the leave exceeds the seven-semester time frame, the student must apply for readmission. The form is available on the Registrar’s Office’s website under the “Forms” menu. ● As stated previously, the Leave of Absence, if approved, would be effective in a future term. It will not be approved to be effective in the term in which the application is made. It in no way supplants or replaces any other policy. If a student needs to withdraw from classes within a given term, they should follow the standard withdrawal process, and if a Leave of Absence is needed or desired, it would be effective for a future term(s) only as approved. ● Applications for a Leave of Absence are due by: ○ Fall – July 1 ○ Spring – December 1 ○ Summer – April 1 Graduation 1. When do students need to apply for graduation?  Students will need to apply for graduation in the semester preceding the semester they plan to graduate. For  example, students who will be graduating by the end of the Spring 2024 term were asked to apply for graduation  during the Fall 2023 term. OMSCS Advising will send email notifications with step-by-step instructions on how  and when to apply for graduation. Please note that our departmental deadline is earlier than the posted Institute deadline for students’ benefit. If the  advisors do not have time to process/audit students’ graduation application materials before the registration  period ends for the anticipated graduation term, we cannot ensure that students will meet their degree  requirements by the end of that term. 2. What is the process once I apply for graduation?  After you submit your Online Application for Graduation (OAG) and completed Program of Study (POS) form, your\n",
      "advisor will conduct several audits on your record to ensure you are on track to graduate by the end of the term:  ● The first audit is completed prior to the start of Phase II registration for your graduation term. The  purpose of this audit is to ensure you are enrolled in the course(s) you need to fulfill your degree  requirements.  ● The second audit is completed after Phase II registration has ended to ensure that you remained  registered in the appropriate course(s).  ● The third audit is completed after the semester’s withdrawal deadline to ensure you did not withdraw from  a course(s) you need to graduate.  ● The final audit is completed after grades have been released for the semester so that we can confirm that  you successfully met all of your degree requirements. 3. When registering for my final semester, what happens if I am waitlisted for a course(s) that I need to  graduate, or the wait list for the course(s) I need to graduate is full?  As we have done in previous semesters, we will ensure that official degree candidates (students who have  submitted the OAG and a completed POS form to their advisor by the departmental deadline) are registered for  the specialization course(s) that they need to graduate. As we are conducting our first audit, we make note of any  degree candidates who are waitlisted for or not yet waitlisted for a specific specialization course(s) that they need.  As we get closer to the Phase II registration period, we will bump these students to the top of the wait list(s).  There may be an exception to this process for specific courses, such as CS 6515, but our office will send detailed  instructions regarding this, if applicable. Please note that we only do this for specialization courses, not “free” electives. As with any waitlisted course, please be sure to monitor your account carefully and frequently to ensure that you  do not miss a wait list notification, if you receive one. If you are not yet on the wait list, be sure to monitor the  course, add yourself to the wait list as soon as a space becomes available, and notify your advisor once you are  on the wait list if you need to be prioritized as an official degree candidate. 4. What resources should I consult as a degree candidate?  Please visit the Registrar’s “Degree Candidate” website for helpful information. There are additional links  available on the Commencement website that may be of interest to you, including information regarding the  commencement ceremony. The Commencement Office’s contact information can be found online if you have any  questions. 5. Am I invited to participate in the commencement ceremony?  OMSCS students are invited to participate in the commencement ceremonies. Please note that commencement  ceremonies only take place in the spring and fall terms. If you are a summer graduate, you would be invited to  attend the fall commencement ceremony. For more information regarding commencement ceremonies, please  visit the Commencement website . 6. How long after commencement will I receive my diploma?  Diplomas are printed by an outside company, and it typically takes eight to twelve weeks after the commencement  ceremony for the diplomas to be printed and mailed. 7. Who should I contact if I need to update my diploma address or if I have other questions regarding my  diploma?  Please send a message from your GT email account to diplomas@registrar.gatech.edu for assistance with  updating your diploma address or if you have any other questions regarding your diploma. 8. I have applied to graduate by the end of the semester, and I need a document to prove this. Are there any  documents that the Institute can provide to show that I am approaching my graduation date?  As per the Registrar’s website , “[s]tudents who have petitioned for a degree for the term may request a letter  stating that they have a ‘pending’ degree and that the degree will be awarded when all requirements for the  degree are completed. This option is not available for students who have already been awarded a degree.  Students who wish to have verification of an awarded degree should request a Degree Verification instead.”  Please visit the website linked above for more information on how to request this letter. 9. If I am not sure that I will meet the degree requirements by the end of the term, am I still permitted to  attend the commencement ceremony?  Since grades are not finalized until after the commencement ceremony, there have been times when students\n",
      "have attended the commencement ceremony but unfortunately did not earn the grade(s) they needed. In this  case, the student would need to enroll in a future term in order to fulfill the degree requirements. Therefore, if you are a degree candidate and have followed the steps on the Commencement Office’s website to  attend the ceremony, you should be eligible to attend, even if you are not sure you will obtain the grade(s) you  need. Please feel free to contact the Commencement Office directly if you have additional questions regarding  this. As a reminder, the Commencement Office’s contact information can be found online . 10. When will I know that I completed my degree requirements and will graduate from the OMSCS program?  Grades typically are released on the Tuesday after the commencement ceremony. Our office performs the final  degree audit once grades have been posted so that degrees can be conferred by the Thursday of that same  week. Therefore, as explained previously, it unfortunately is possible for students to attend the commencement  ceremony and later discover that they did not earn the grade(s) they needed to fulfill the degree requirements.  We will notify students if this is the case, but fortunately this does not happen often. 11. What happens if I apply to graduate and do not meet the degree requirements by the end of that term?  If you did not meet the degree requirements by the end of the term for which you applied to graduate, your  graduation application would be inactivated. To clarify, these are the most common reasons why your graduation  application would need to be inactivated:  ● You did not register for the courses you needed to fulfill your degree requirements by the end of the term.  ● You withdrew from a course(s) you needed to fulfill your degree requirements by the end of the term.  ● You did not earn the grade(s) you needed to fulfill your degree requirements.  ● You did not earn the overall cumulative 3.0 GPA requirement. Once your graduation application was inactivated, you would need to re-apply for graduation and submit updated  graduation materials as instructed by OMSCS Advising for your new anticipated graduation term. 12. What happens if I pass my courses and fulfill my course/specialization requirements, but my cumulative  GPA is below 3.0?  Even if you complete your courses and ultimately fulfill your course/specialization requirements for the MSCS  degree, you cannot graduate from the OMSCS program if your cumulative GPA is not 3.0 or higher. Therefore,  you would be required to take additional courses beyond the required 30 hours in order to increase your GPA and  meet the minimum requirement of a 3.0. Please be sure to contact your advisor directly for further guidance,  especially if you are considering repeating a course, as students cannot repeat courses in which the grade of “B”  or higher has been earned previously. 13. Is it possible to graduate with honors/distinctions from the OMSCS program?  Graduating with distinction/honors is not available at the graduate level at Georgia Tech. Please visit  https://registrar.gatech.edu/info/degree-candidate-faq#about-honors for more information. 14. Can I continue taking OMSCS courses after I graduate from the program?  It is possible for students to continue taking courses after they have graduated. In the semester you are  graduating, you should tell your academic advisor ( after your graduating term’s withdrawal deadline) that you wish  to become a special/non-degree student in the next (or in a future) term. Term-specific information regarding the  exact timeline and deadline to submit the required form should be available after that term’s withdrawal deadline. To confirm, special/non-degree requests are not processed until after degrees have been awarded by the  Registrar’s Office at the end of the term, as the advisors do not want to request the status change in the  unfortunate event that a student did not fulfill the degree requirements that term as planned. Please keep in mind the following regarding the special/non-degree student status:  ● You will continue paying OMSCS tuition and fees.  ● You will have a later registration time ticket than most degree-seeking students.  ● The same rule applies in that if special/non-degree students do not enroll for three consecutive terms  (including the summer term), they have to apply for readmission.  ● The special/non-degree status will last until you apply for another program at Georgia Tech.  ● There is no overall limit on how many courses you can take as a special/non-degree student.  ● You would earn credits in the sense that if you wanted to transfer them to another institution, you could.  However, at Georgia Tech, the credits would not count for anything.  ● Courses taken as a special/non-degree student will alter your GPA because the GPA does not start over\n",
      "with a new class standing. However, for the purposes of your resume, whatever your GPA was when  your degree was awarded will be your MS GPA.  ● Courses taken as a special/non-degree student will appear on your transcript and become a part of your  student record (this is not optional). 15. Can I continue being a TA after I graduate from the program?  This is possible, but it is more complicated than taking courses after graduating. You would have to be hired as a  part-time instructor. The hiring takes more time, and you have to consent to a background check. Therefore, you  should be absolutely sure that you really want to continue being a TA before you apply. Also, please note that international students who are not living in the U.S. most likely cannot be hired as TAs, as  the Institute has to be able to verify your identity and conduct a background check, and you have to have a Social  Security number to do this. International students who are not living in the U.S. may not work as TAs for free.  Unless we hire them as a TA, there is no way of holding them accountable for their work as a TA. 16. What technology-related services will I retain as a graduate of Georgia Tech?  Please visit https://gatech.service-now.com/home?id=kb_article_view&sysparm_article=KB0027556 and  https://gatech.service-now.com/home?id=kb_article_view&sysparm_article=KB0027561 for information on what  will happen to your GT accounts once you have graduated from the OMSCS program. If you have any questions  regarding this, please contact OIT directly. Their contact information can be found on their website . 17. How can I request a degree verification from the Institute?  Please visit the Registrar’s website for information on how to request a degree verification.\n",
      "\n",
      "SECTION L. GEORGIA TECH DIRECTORY INFORMATION: DEPARTMENT & WEBSITE CONTACT INFORMATION REASON(S) TO CONTACT Bursar’s Office  https://www.bursar.gatech.edu/ Phone: (404) 894-4618  Email: omsbursar.ask@gatech.edu Questions about tuition/fees,  payments, refunds, 1098-T forms, etc. BuzzCard Center  https://www.buzzcard.gatech.edu/ Phone: (404) 894-2899  Email: Please complete the  webform available online at  https://www.buzzcard.gatech.edu/con  tact/ . Questions regarding your BuzzCard Campus Recreation Center (CRC)  https://crc.gatech.edu/home Phone: (404) 385-7529  Email: Please complete the  webform available online at  https://crc.gatech.edu/contact . Access to the CRC and other related  resources (* OMSCS students do not pay the fee  to cover these services/resources, so  arrangements may need to be made  through the Bursar’s Office to become  eligible. ) College of Computing Career  Development  https://omscs.gatech.edu/career Schedule an Appointment:  https://gatech.joinhandshake.com/log  in Questions regarding on-campus and  virtual career fairs, in addition to help  with job searching, interviewing,  networking, career planning, and  professional development Commencement Office  https://commencement.gatech.edu/ Phone: (404) 385-2638  Email: events@gatech.edu Information regarding the  Commencement ceremonies Dean of Students Office  https://studentlife.gatech.edu/ Phone: (404) 894-6367  Email:  studentlife@studentlife.gatech.edu Student-support services, especially  when students are facing extenuating  circumstances Georgia Tech Athletics  https://ramblinwreck.com/ Phone: (404) 894-5447 or  888.TECH.TIX (Ticket Office)  Email: tickets@athletics.gatech.edu Information regarding Georgia Tech  athletic events (* OMSCS students do not pay the  athletic fee, so arrangements may  need to be made through the Bursar’s  Office if you would like to purchase  tickets. ) Georgia Tech Career Center  https://career.gatech.edu/ Graduate Student Website:  https://career.gatech.edu/ms-phd-care  er-resources-2/ Phone: 404-894-3320  Email: careercenter@gatech.edu This is the central career services  office that serves all students at the  Institute. They offer services that  allow students to explore careers, to  prepare for the job market, and to  connect with employers. Students  can utilize their workshops, career  fairs, and a job and internship board. Office of Disability Services  https://disabilityservices.gatech.edu/ Phone: (404) 894-2563  Email: dsinfo@gatech.edu Disability services for students  needing support, resources, and/or  accommodations Office of Graduate Education  https://grad.gatech.edu/ Phone: ( 404) 894-1610  Email: Admissions-required documents such  as undergraduate/graduate\n",
      "grad.ask@grad.gatech.edu transcripts, English proficiency  scores, clearing the lawful presence  requirement, etc. Office of Information Technology  https://www.oit.gatech.edu/ Phone: (404) 385-5555  Email: Please visit  https://www.oit.gatech.edu/contact-us  to open a ticket with their office. Questions regarding technical support  for Institute-related services Office of International Education  https://www.oie.gatech.edu/ Phone: (404) 894-7475  Email: info@oie.gatech.edu International student services and  resources Office of Scholarships and Financial  Aid https://finaid.gatech.edu/ Phone: (404) 894-2000  Email: Please complete the  webform available online at  https://finaid.gatech.edu/contacting-o  ur-office . Questions regarding FAFSA, financial  aid eligibility, financial aid  disbursement, etc. Office of Student Integrity  https://osi.gatech.edu/ Phone: ( 404) 894-2566  Email: osi@mail.gatech.edu Academic integrity issues or concerns OMSCS Help Desk https://pe.gatech.edu/contact-omscs Assistance for prospective students  regarding general program  information, admissions, and  application-related questions Registrar’s Office  https://registrar.gatech.edu/ Phone: (404) 894-4150  Email: oms@registrar.gatech.edu Transcripts, enrollment verifications,  updating personal information, etc. STAMPS Health Services  https://health.gatech.edu/ Phone: (404) 894-1420  Email: Please visit the website to  complete a web form. Student health insurance,  immunizations, healthcare-related  services, etc. Technology Services Organization  https://support.cc.gatech.edu/ Phone: (404) 894-7065  Email: helpdesk@cc.gatech.edu Questions regarding technical support  or departmental-related services Veteran’s Services  https://registrar.gatech.edu/veterans-s  ervices/ Phone: (404) 894-4150 Email: veterans@registrar.gatech.edu Serves as a liaison between GT  veteran students and the Department  of Veteran Affairs regarding  VA-related educational benefits\n",
      "\n",
      "SECTION M. GET CONNECTED!: You are encouraged to connect through social media: ➢ Facebook (OMSCS Official) ➢ Twitter (OMSCS Official) ➢ OMSCS reddit  o This is not an official OMSCS page; however, it is monitored by OMSCS employees periodically. It is run  by students, for students, and is a great way to connect with your classmates across the globe. ➢ OMSCS MeWe  o As with the reddit community, this is not an official OMSCS page. It again is run by students and is  another great way to connect with your classmates.\n",
      "\n",
      "SECTION N. OMSCS ADVISING CONTACT INFORMATION: ● For all OMSCS Advising questions, please send an email from your GT email account to  oms-advising@cc.gatech.edu . Please be sure to include your full name and nine-digit gtID number  (90XXXXXXX), replacing the first two digits with “xx”. Once you send an email to this address, you will receive an  automated response that will include a ticket number – this number is assigned to your inquiry directly and is  confirmation that we have received your message.  ○ Once we respond to your message, you will receive two emails: one with our response and the other  stating that your ticket has been resolved. You should receive our response first; however, if you receive  the “resolved ticket” message first, please be patient, as the response email should arrive soon. Please  check to ensure it did not go to another folder (like spam) before emailing us to say that you did not  receive a response.  ○ If you have further questions after we answer your email, you MUST create a new ticket by sending a new  (separate) message from your GT email account to oms-advising@cc.gatech.edu . If you reply to our  response, you most likely will not receive a reply because these are not directed back to the  oms-advising@cc.gatech.edu account.  ○ If you are instructed to contact your advisor directly, please do so in a separate email and include the  ticket number in your message. Do not forward the email to your advisor, as these messages are not  always routed to the advisor’s inbox, so you may not receive a reply.  ○ When you send a message to oms-advising@cc.gatech.edu , please do not copy other  people/departments on the message – OMSCS Advising will direct you to another department if  necessary. Likewise, please do not copy the oms-advising@cc.gatech.edu account on your messages to  other people/departments.  ○ Please allow 24-48 business hours as a standard response time. During certain times of the year, such  as registration and the end of the term, the response time may increase. We greatly appreciate your  patience and understanding.  ● Please do NOT reply or send messages to the omscs-official@cc.gatech.edu account, as this could result in all  OMSCS students receiving your message. As a reminder, please pay special attention to any messages sent  from omscs-official@cc.gatech.edu , as important announcements typically are sent from this account.  ● While it is not required, we also encourage students to subscribe to the omscs-announce@cc.gatech.edu account  for non-academic events and announcements by completing this webform . Again, welcome to Georgia Tech and the OMSCS program! We look forward to working with you. Sincerely, OMSCS Advising  College of Computing  Georgia Institute of Technology  oms-advising@cc.gatech.edu\n",
      "\n"
     ]
    }
   ],
   "source": [
    "# Read the 2024 PDF file\n",
    "url = \"https://omscs.gatech.edu/sites/default/files/documents/2024/Orientation%20Documents-Spring%202024%20Orientation%20Document.pdf\"\n",
    "file_2024 = read_orientation_file(url)\n",
    "\n",
    "file = file_2024\n",
    "text_embedding_model = \"thenlper/gte-base\"\n",
    "\n",
    "textNode = []\n",
    "for key, value in file.items():\n",
    "    txtNode = TextNode(text=value, metadata={\"section\": key})\n",
    "    textNode.append(txtNode)"
   ]
  },
  {
   "cell_type": "markdown",
   "id": "c07f1764",
   "metadata": {},
   "source": [
    "## Tables"
   ]
  },
  {
   "cell_type": "code",
   "execution_count": 7,
   "id": "7d898c8a",
   "metadata": {},
   "outputs": [],
   "source": [
    "# Lets extract the tables as well\n",
    "# pymupdf works better than unitable and is faster in our case!\n",
    "pdf_docs = 'Orientation_Spring24.pdf'\n",
    "parser = openparse.DocumentParser(table_args={\n",
    "    \"parsing_algorithm\": \"pymupdf\",\n",
    "})\n",
    "parsed_table = parser.parse(pdf_docs)"
   ]
  },
  {
   "cell_type": "code",
   "execution_count": 8,
   "id": "d3198718",
   "metadata": {},
   "outputs": [],
   "source": [
    "# For individual tables in a single page we are fine\n",
    "# However when the tables stretch to other pages, we need to do some creative shizzles\n",
    "# Get consecutive tables\n",
    "# Make sure its (text,table),(table),... \n",
    "consecutive_tables_list = []\n",
    "for i in range(len(parsed_table.nodes)):\n",
    "    if \"table\" in parsed_table.nodes[i].variant and \"table\" in parsed_table.nodes[i + 1].variant and not \"text\" in parsed_table.nodes[i + 1].variant:\n",
    "        # Grab the consecutive blocks and work on there\n",
    "        consecutive_tables_list.append(i)\n",
    "        consecutive_tables_list.append(i+1)\n",
    "        \n",
    "consecutive_list = list(set(consecutive_tables_list))\n",
    "\n",
    "\n",
    "consecutive_groups = []\n",
    "for k, g in groupby(enumerate(consecutive_list), lambda ix : ix[0] - ix[1]):\n",
    "    consecutive_groups.append(list(map(lambda x: x[1], g)))\n",
    "\n",
    "# Create dictionary\n",
    "consecutive_dict = {index + 1: group for index, group in enumerate(consecutive_groups)}"
   ]
  },
  {
   "cell_type": "code",
   "execution_count": 9,
   "id": "1e9ef642",
   "metadata": {},
   "outputs": [],
   "source": [
    "def extract_table(html):\n",
    "    soup = BeautifulSoup(html, 'html.parser')\n",
    "    table = soup.find('table')\n",
    "    return table\n",
    "\n",
    "def extract_rows(table):\n",
    "    rows = table.find_all('tr')\n",
    "    return rows\n",
    "\n",
    "def remove_duplicate_header_rows(html):\n",
    "    soup = BeautifulSoup(html, 'html.parser')\n",
    "    table = soup.find('table')\n",
    "    if not table:\n",
    "        return html\n",
    "    \n",
    "    # Create a list of all rows in the table\n",
    "    rows = table.find_all('tr')\n",
    "    rows_to_remove = []\n",
    "\n",
    "    # Iterate through the rows starting from the second row\n",
    "    for i in range(1, len(rows) - 1):\n",
    "        current_row = rows[i]\n",
    "        next_row = rows[i + 1]\n",
    "        \n",
    "        # Check if the current row and the next row match the pattern\n",
    "        if current_row.find_all('th') and next_row.find_all('td'):\n",
    "            current_th_texts = [th.get_text(strip=True) for th in current_row.find_all('th')]\n",
    "            next_td_texts = [td.get_text(strip=True) for td in next_row.find_all('td')]\n",
    "            \n",
    "            if current_th_texts == next_td_texts:\n",
    "                rows_to_remove.append(current_row)\n",
    "\n",
    "    # Remove the identified rows\n",
    "    for row in rows_to_remove:\n",
    "        row.decompose()\n",
    "\n",
    "    return str(soup)\n",
    "\n",
    "def combine_tables(html_dict):\n",
    "    combined_html_dict = {}\n",
    "    \n",
    "    # Iterate over each key-value pair in the dictionary\n",
    "    for key, indices in html_dict.items():\n",
    "        # Initialize an empty combined table for the current key\n",
    "        combined_table = BeautifulSoup('<table border=\"1\"></table>', 'html.parser').table\n",
    "        # Iterate over each index in the list\n",
    "        for idx in indices:\n",
    "            # Extract HTML content for the index\n",
    "            html_content = parsed_table.nodes[idx].elements[-1].text\n",
    "            # Extract table from HTML\n",
    "            table = extract_table(html_content)\n",
    "            if table:\n",
    "                # Extract rows from the table\n",
    "                rows = extract_rows(table)\n",
    "                # Combine rows into the combined table\n",
    "                for row in rows:\n",
    "                    combined_table.append(row)\n",
    "        # For the combined table we need to parse the headers properly\n",
    "        # the llm is sensitive to the headers misalignment and stuff\n",
    "        cleaned_html = remove_duplicate_header_rows(str(combined_table))\n",
    "        # Store the combined HTML content for the current key\n",
    "        combined_html_dict[key] = str(cleaned_html)\n",
    "        #combined_html_dict[key] = str(combined_table)\n",
    "    \n",
    "    return combined_html_dict"
   ]
  },
  {
   "cell_type": "code",
   "execution_count": 10,
   "id": "0b8e50ed",
   "metadata": {},
   "outputs": [],
   "source": [
    "combined_html_dict = combine_tables(consecutive_dict)"
   ]
  },
  {
   "cell_type": "code",
   "execution_count": 11,
   "id": "cfc3ef06",
   "metadata": {},
   "outputs": [],
   "source": [
    "def generate_random_id():\n",
    "    return ''.join(random.choices(string.ascii_letters + string.digits, k=10))\n",
    "\n",
    "def create_text_nodes(combined_html_dict):\n",
    "    text_nodes = []\n",
    "    for key, html_content in combined_html_dict.items():\n",
    "        random_id = generate_random_id()\n",
    "        text_nodes.append(TextNode(text=html_content, id_=random_id))\n",
    "    return text_nodes"
   ]
  },
  {
   "cell_type": "code",
   "execution_count": 12,
   "id": "12b0ccfd",
   "metadata": {},
   "outputs": [],
   "source": [
    "table_nodes = create_text_nodes(combined_html_dict)"
   ]
  },
  {
   "cell_type": "code",
   "execution_count": 14,
   "id": "1a989d94",
   "metadata": {},
   "outputs": [],
   "source": [
    "# Combine as a list for the different types of nodes\n",
    "allNodes = textNode + table_nodes"
   ]
  },
  {
   "cell_type": "markdown",
   "id": "20ded5da",
   "metadata": {},
   "source": [
    "## Load Index and Run the model"
   ]
  },
  {
   "cell_type": "code",
   "execution_count": 15,
   "id": "5233bd01",
   "metadata": {},
   "outputs": [
    {
     "name": "stderr",
     "output_type": "stream",
     "text": [
      "C:\\Users\\UGGTech\\anaconda3\\envs\\RAG_Env\\lib\\site-packages\\huggingface_hub\\file_download.py:1132: FutureWarning: `resume_download` is deprecated and will be removed in version 1.0.0. Downloads always resume when possible. If you want to force a new download, use `force_download=True`.\n",
      "  warnings.warn(\n",
      "llama_model_loader: loaded meta data with 24 key-value pairs and 291 tensors from ggml-model-Q4_K_M.gguf (version GGUF V3 (latest))\n",
      "llama_model_loader: Dumping metadata keys/values. Note: KV overrides do not apply in this output.\n",
      "llama_model_loader: - kv   0:                       general.architecture str              = llama\n",
      "llama_model_loader: - kv   1:                               general.name str              = model\n",
      "llama_model_loader: - kv   2:                           llama.vocab_size u32              = 128256\n",
      "llama_model_loader: - kv   3:                       llama.context_length u32              = 8192\n",
      "llama_model_loader: - kv   4:                     llama.embedding_length u32              = 4096\n",
      "llama_model_loader: - kv   5:                          llama.block_count u32              = 32\n",
      "llama_model_loader: - kv   6:                  llama.feed_forward_length u32              = 14336\n",
      "llama_model_loader: - kv   7:                 llama.rope.dimension_count u32              = 128\n",
      "llama_model_loader: - kv   8:                 llama.attention.head_count u32              = 32\n",
      "llama_model_loader: - kv   9:              llama.attention.head_count_kv u32              = 8\n",
      "llama_model_loader: - kv  10:     llama.attention.layer_norm_rms_epsilon f32              = 0.000010\n",
      "llama_model_loader: - kv  11:                       llama.rope.freq_base f32              = 500000.000000\n",
      "llama_model_loader: - kv  12:                          general.file_type u32              = 15\n",
      "llama_model_loader: - kv  13:                       tokenizer.ggml.model str              = gpt2\n",
      "llama_model_loader: - kv  14:                      tokenizer.ggml.tokens arr[str,128256]  = [\"!\", \"\\\"\", \"#\", \"$\", \"%\", \"&\", \"'\", ...\n",
      "llama_model_loader: - kv  15:                      tokenizer.ggml.scores arr[f32,128256]  = [0.000000, 0.000000, 0.000000, 0.0000...\n",
      "llama_model_loader: - kv  16:                  tokenizer.ggml.token_type arr[i32,128256]  = [1, 1, 1, 1, 1, 1, 1, 1, 1, 1, 1, 1, ...\n",
      "llama_model_loader: - kv  17:                      tokenizer.ggml.merges arr[str,280147]  = [\"Ġ Ġ\", \"Ġ ĠĠĠ\", \"ĠĠ ĠĠ\", \"...\n",
      "llama_model_loader: - kv  18:                tokenizer.ggml.bos_token_id u32              = 128000\n",
      "llama_model_loader: - kv  19:                tokenizer.ggml.eos_token_id u32              = 128001\n",
      "llama_model_loader: - kv  20:            tokenizer.ggml.unknown_token_id u32              = 128002\n",
      "llama_model_loader: - kv  21:            tokenizer.ggml.padding_token_id u32              = 0\n",
      "llama_model_loader: - kv  22:                    tokenizer.chat_template str              = {% set loop_messages = messages %}{% ...\n",
      "llama_model_loader: - kv  23:               general.quantization_version u32              = 2\n",
      "llama_model_loader: - type  f32:   65 tensors\n",
      "llama_model_loader: - type q4_K:  193 tensors\n",
      "llama_model_loader: - type q6_K:   33 tensors\n",
      "llm_load_vocab: missing pre-tokenizer type, using: 'default'\n",
      "llm_load_vocab:                                             \n",
      "llm_load_vocab: ************************************        \n",
      "llm_load_vocab: GENERATION QUALITY WILL BE DEGRADED!        \n",
      "llm_load_vocab: CONSIDER REGENERATING THE MODEL             \n",
      "llm_load_vocab: ************************************        \n",
      "llm_load_vocab:                                             \n",
      "llm_load_vocab: special tokens definition check successful ( 256/128256 ).\n",
      "llm_load_print_meta: format           = GGUF V3 (latest)\n",
      "llm_load_print_meta: arch             = llama\n",
      "llm_load_print_meta: vocab type       = BPE\n",
      "llm_load_print_meta: n_vocab          = 128256\n",
      "llm_load_print_meta: n_merges         = 280147\n",
      "llm_load_print_meta: n_ctx_train      = 8192\n",
      "llm_load_print_meta: n_embd           = 4096\n",
      "llm_load_print_meta: n_head           = 32\n",
      "llm_load_print_meta: n_head_kv        = 8\n",
      "llm_load_print_meta: n_layer          = 32\n",
      "llm_load_print_meta: n_rot            = 128\n",
      "llm_load_print_meta: n_embd_head_k    = 128\n",
      "llm_load_print_meta: n_embd_head_v    = 128\n",
      "llm_load_print_meta: n_gqa            = 4\n",
      "llm_load_print_meta: n_embd_k_gqa     = 1024\n",
      "llm_load_print_meta: n_embd_v_gqa     = 1024\n",
      "llm_load_print_meta: f_norm_eps       = 0.0e+00\n",
      "llm_load_print_meta: f_norm_rms_eps   = 1.0e-05\n",
      "llm_load_print_meta: f_clamp_kqv      = 0.0e+00\n",
      "llm_load_print_meta: f_max_alibi_bias = 0.0e+00\n",
      "llm_load_print_meta: f_logit_scale    = 0.0e+00\n",
      "llm_load_print_meta: n_ff             = 14336\n",
      "llm_load_print_meta: n_expert         = 0\n",
      "llm_load_print_meta: n_expert_used    = 0\n",
      "llm_load_print_meta: causal attn      = 1\n",
      "llm_load_print_meta: pooling type     = 0\n",
      "llm_load_print_meta: rope type        = 0\n",
      "llm_load_print_meta: rope scaling     = linear\n",
      "llm_load_print_meta: freq_base_train  = 500000.0\n",
      "llm_load_print_meta: freq_scale_train = 1\n",
      "llm_load_print_meta: n_yarn_orig_ctx  = 8192\n",
      "llm_load_print_meta: rope_finetuned   = unknown\n",
      "llm_load_print_meta: ssm_d_conv       = 0\n",
      "llm_load_print_meta: ssm_d_inner      = 0\n",
      "llm_load_print_meta: ssm_d_state      = 0\n",
      "llm_load_print_meta: ssm_dt_rank      = 0\n",
      "llm_load_print_meta: model type       = 8B\n",
      "llm_load_print_meta: model ftype      = Q4_K - Medium\n",
      "llm_load_print_meta: model params     = 8.03 B\n",
      "llm_load_print_meta: model size       = 4.58 GiB (4.89 BPW) \n",
      "llm_load_print_meta: general.name     = model\n",
      "llm_load_print_meta: BOS token        = 128000 '<|begin_of_text|>'\n",
      "llm_load_print_meta: EOS token        = 128001 '<|end_of_text|>'\n",
      "llm_load_print_meta: UNK token        = 128002 '<unk>'\n",
      "llm_load_print_meta: PAD token        = 0 '!'\n",
      "llm_load_print_meta: LF token         = 128 'Ä'\n",
      "llm_load_print_meta: EOT token        = 128009 '<|eot_id|>'\n",
      "llm_load_tensors: ggml ctx size =    0.15 MiB\n",
      "llm_load_tensors:        CPU buffer size =  4685.30 MiB\n",
      "........................................................................................\n",
      "llama_new_context_with_model: n_ctx      = 4096\n",
      "llama_new_context_with_model: n_batch    = 512\n",
      "llama_new_context_with_model: n_ubatch   = 512\n",
      "llama_new_context_with_model: flash_attn = 0\n",
      "llama_new_context_with_model: freq_base  = 500000.0\n",
      "llama_new_context_with_model: freq_scale = 1\n",
      "llama_kv_cache_init:        CPU KV buffer size =   512.00 MiB\n",
      "llama_new_context_with_model: KV self size  =  512.00 MiB, K (f16):  256.00 MiB, V (f16):  256.00 MiB\n",
      "llama_new_context_with_model:        CPU  output buffer size =     0.49 MiB\n",
      "llama_new_context_with_model:        CPU compute buffer size =   296.01 MiB\n",
      "llama_new_context_with_model: graph nodes  = 1030\n",
      "llama_new_context_with_model: graph splits = 1\n",
      "AVX = 1 | AVX_VNNI = 0 | AVX2 = 1 | AVX512 = 1 | AVX512_VBMI = 0 | AVX512_VNNI = 0 | AVX512_BF16 = 0 | FMA = 1 | NEON = 0 | ARM_FMA = 0 | F16C = 1 | FP16_VA = 0 | WASM_SIMD = 0 | BLAS = 0 | SSE3 = 1 | SSSE3 = 1 | VSX = 0 | MATMUL_INT8 = 0 | LLAMAFILE = 1 | \n",
      "Model metadata: {'general.name': 'model', 'general.architecture': 'llama', 'llama.block_count': '32', 'llama.vocab_size': '128256', 'llama.context_length': '8192', 'llama.rope.dimension_count': '128', 'llama.embedding_length': '4096', 'llama.feed_forward_length': '14336', 'llama.attention.head_count': '32', 'tokenizer.ggml.eos_token_id': '128001', 'general.file_type': '15', 'llama.attention.head_count_kv': '8', 'llama.attention.layer_norm_rms_epsilon': '0.000010', 'llama.rope.freq_base': '500000.000000', 'tokenizer.ggml.model': 'gpt2', 'general.quantization_version': '2', 'tokenizer.ggml.bos_token_id': '128000', 'tokenizer.ggml.unknown_token_id': '128002', 'tokenizer.ggml.padding_token_id': '0', 'tokenizer.chat_template': \"{% set loop_messages = messages %}{% for message in loop_messages %}{% set content = '<|start_header_id|>' + message['role'] + '<|end_header_id|>\\n\\n'+ message['content'] | trim + '<|eot_id|>' %}{% if loop.index0 == 0 %}{% set content = bos_token + content %}{% endif %}{{ content }}{% endfor %}{{ '<|start_header_id|>assistant<|end_header_id|>\\n\\n' }}\"}\n",
      "Available chat formats from metadata: chat_template.default\n",
      "Using gguf chat template: {% set loop_messages = messages %}{% for message in loop_messages %}{% set content = '<|start_header_id|>' + message['role'] + '<|end_header_id|>\n",
      "\n",
      "'+ message['content'] | trim + '<|eot_id|>' %}{% if loop.index0 == 0 %}{% set content = bos_token + content %}{% endif %}{{ content }}{% endfor %}{{ '<|start_header_id|>assistant<|end_header_id|>\n",
      "\n",
      "' }}\n",
      "Using chat eos_token: <|end_of_text|>\n",
      "Using chat bos_token: <|begin_of_text|>\n"
     ]
    }
   ],
   "source": [
    "text_embedding_model = \"thenlper/gte-base\"\n",
    "# Instantiate LLM and embedding model\n",
    "embed_model = HuggingFaceEmbedding(model_name=text_embedding_model)\n",
    "#model = 'llama-2-7b-chat.Q4_K_M.gguf'\n",
    "model = 'ggml-model-Q4_K_M.gguf'\n",
    "\n",
    "llm = LlamaCPP(model_path=model, temperature=0, max_new_tokens=256, context_window=4096, verbose=True)"
   ]
  },
  {
   "cell_type": "code",
   "execution_count": 16,
   "id": "0b761ac2",
   "metadata": {},
   "outputs": [
    {
     "name": "stderr",
     "output_type": "stream",
     "text": [
      "C:\\Users\\UGGTech\\AppData\\Local\\Temp\\ipykernel_55764\\3092009722.py:7: DeprecationWarning: Call to deprecated class method from_defaults. (ServiceContext is deprecated, please use `llama_index.settings.Settings` instead.) -- Deprecated since version 0.10.0.\n",
      "  service_context = ServiceContext.from_defaults(\n"
     ]
    }
   ],
   "source": [
    "llama_debug = LlamaDebugHandler(print_trace_on_end=True)\n",
    "callback_manager = CallbackManager([llama_debug])\n",
    "text_splitter = SentenceSplitter(\n",
    "    chunk_size=512,\n",
    "    chunk_overlap=256\n",
    ")\n",
    "service_context = ServiceContext.from_defaults(\n",
    "    callback_manager=callback_manager,\n",
    "    llm=llm,\n",
    "    embed_model=embed_model,\n",
    "    text_splitter=text_splitter,\n",
    ")"
   ]
  },
  {
   "cell_type": "code",
   "execution_count": 17,
   "id": "bfdc2af7",
   "metadata": {},
   "outputs": [
    {
     "name": "stdout",
     "output_type": "stream",
     "text": [
      "**********\n",
      "Trace: index_construction\n",
      "**********\n"
     ]
    }
   ],
   "source": [
    "index = VectorStoreIndex(\n",
    "    allNodes,\n",
    "    service_context=service_context,\n",
    "    embed_model=embed_model,\n",
    "    llm=llm\n",
    ")"
   ]
  },
  {
   "cell_type": "markdown",
   "id": "53bcef6c",
   "metadata": {},
   "source": [
    "## Queries"
   ]
  },
  {
   "cell_type": "code",
   "execution_count": 18,
   "id": "cfd23cf9",
   "metadata": {},
   "outputs": [
    {
     "name": "stdout",
     "output_type": "stream",
     "text": [
      "CPU times: total: 93.8 ms\n",
      "Wall time: 148 ms\n"
     ]
    }
   ],
   "source": [
    "%%time\n",
    "# Query engine with streaming response and top 1 document filter for efficiency\n",
    "response_synthesizer = get_response_synthesizer(\n",
    "    response_mode=ResponseMode.COMPACT,\n",
    "    service_context=service_context,\n",
    "    streaming=True\n",
    ")\n",
    "query_engine = index.as_query_engine(\n",
    "    response_synthesizer=response_synthesizer,\n",
    "    similarity_top_k=1,\n",
    "    streaming=True\n",
    ")"
   ]
  },
  {
   "cell_type": "code",
   "execution_count": 19,
   "id": "58c9620b",
   "metadata": {},
   "outputs": [
    {
     "name": "stdout",
     "output_type": "stream",
     "text": [
      " ECE 4100, ECE 6100, and CS 4290."
     ]
    },
    {
     "name": "stderr",
     "output_type": "stream",
     "text": [
      "\n",
      "llama_print_timings:        load time =   48012.75 ms\n",
      "llama_print_timings:      sample time =      20.46 ms /    19 runs   (    1.08 ms per token,   928.60 tokens per second)\n",
      "llama_print_timings: prompt eval time =  208184.13 ms /  1994 tokens (  104.41 ms per token,     9.58 tokens per second)\n",
      "llama_print_timings:        eval time =    5381.96 ms /    18 runs   (  299.00 ms per token,     3.34 tokens per second)\n",
      "llama_print_timings:       total time =  213716.59 ms /  2012 tokens\n"
     ]
    },
    {
     "name": "stdout",
     "output_type": "stream",
     "text": [
      "CPU times: total: 23min 45s\n",
      "Wall time: 3min 33s\n"
     ]
    }
   ],
   "source": [
    "%%time\n",
    "response = query_engine.query(\"What georgia tech courses are equivalent to the OMSCS course CS 6290?\")\n",
    "response.print_response_stream()"
   ]
  },
  {
   "cell_type": "code",
   "execution_count": 20,
   "id": "03df3186",
   "metadata": {},
   "outputs": [
    {
     "name": "stderr",
     "output_type": "stream",
     "text": [
      "Llama.generate: prefix-match hit\n"
     ]
    },
    {
     "name": "stdout",
     "output_type": "stream",
     "text": [
      " CS 4650 is equivalent to the OMSCS course CS 7650 at Georgia Tech."
     ]
    },
    {
     "name": "stderr",
     "output_type": "stream",
     "text": [
      "\n",
      "llama_print_timings:        load time =   48012.75 ms\n",
      "llama_print_timings:      sample time =      20.46 ms /    21 runs   (    0.97 ms per token,  1026.24 tokens per second)\n",
      "llama_print_timings: prompt eval time =    2013.37 ms /     7 tokens (  287.62 ms per token,     3.48 tokens per second)\n",
      "llama_print_timings:        eval time =    5817.14 ms /    20 runs   (  290.86 ms per token,     3.44 tokens per second)\n",
      "llama_print_timings:       total time =    7941.25 ms /    27 tokens\n"
     ]
    },
    {
     "name": "stdout",
     "output_type": "stream",
     "text": [
      "CPU times: total: 21.6 s\n",
      "Wall time: 8.14 s\n"
     ]
    }
   ],
   "source": [
    "%%time\n",
    "response = query_engine.query(\"What georgia tech courses are equivalent to the OMSCS course CS 7650?\")\n",
    "response.print_response_stream()"
   ]
  },
  {
   "cell_type": "code",
   "execution_count": 21,
   "id": "b2c1b4b6",
   "metadata": {},
   "outputs": [
    {
     "name": "stderr",
     "output_type": "stream",
     "text": [
      "Llama.generate: prefix-match hit\n"
     ]
    },
    {
     "name": "stdout",
     "output_type": "stream",
     "text": [
      " CS 4646 and CS 4803 Machine Learning for Trading."
     ]
    },
    {
     "name": "stderr",
     "output_type": "stream",
     "text": [
      "\n",
      "llama_print_timings:        load time =   48012.75 ms\n",
      "llama_print_timings:      sample time =      15.28 ms /    15 runs   (    1.02 ms per token,   982.00 tokens per second)\n",
      "llama_print_timings: prompt eval time =    1011.04 ms /     7 tokens (  144.43 ms per token,     6.92 tokens per second)\n",
      "llama_print_timings:        eval time =    3882.34 ms /    14 runs   (  277.31 ms per token,     3.61 tokens per second)\n",
      "llama_print_timings:       total time =    4965.73 ms /    21 tokens\n"
     ]
    },
    {
     "name": "stdout",
     "output_type": "stream",
     "text": [
      "CPU times: total: 13 s\n",
      "Wall time: 5.06 s\n"
     ]
    }
   ],
   "source": [
    "%%time \n",
    "response = query_engine.query(\"What georgia tech courses are equivalent to the OMSCS course CS 7646?\")\n",
    "response.print_response_stream()"
   ]
  },
  {
   "cell_type": "code",
   "execution_count": 22,
   "id": "2b02e98c",
   "metadata": {},
   "outputs": [
    {
     "name": "stderr",
     "output_type": "stream",
     "text": [
      "Llama.generate: prefix-match hit\n"
     ]
    },
    {
     "name": "stdout",
     "output_type": "stream",
     "text": [
      "8 January 2024."
     ]
    },
    {
     "name": "stderr",
     "output_type": "stream",
     "text": [
      "\n",
      "llama_print_timings:        load time =   48012.75 ms\n",
      "llama_print_timings:      sample time =       6.67 ms /     7 runs   (    0.95 ms per token,  1048.69 tokens per second)\n",
      "llama_print_timings: prompt eval time =   32546.56 ms /   320 tokens (  101.71 ms per token,     9.83 tokens per second)\n",
      "llama_print_timings:        eval time =    1489.25 ms /     6 runs   (  248.21 ms per token,     4.03 tokens per second)\n",
      "llama_print_timings:       total time =   34069.26 ms /   326 tokens\n"
     ]
    },
    {
     "name": "stdout",
     "output_type": "stream",
     "text": [
      "CPU times: total: 3min 54s\n",
      "Wall time: 34.2 s\n"
     ]
    }
   ],
   "source": [
    "%%time\n",
    "response = query_engine.query(\"When does the first day of class of spring semester 2024 start?\")\n",
    "response.print_response_stream()"
   ]
  },
  {
   "cell_type": "code",
   "execution_count": 23,
   "id": "1ce9ad25",
   "metadata": {},
   "outputs": [
    {
     "name": "stderr",
     "output_type": "stream",
     "text": [
      "Llama.generate: prefix-match hit\n"
     ]
    },
    {
     "name": "stdout",
     "output_type": "stream",
     "text": [
      "1. Yes, there is an orientation for OMSCS students.\n",
      "2. The email address to contact for all OMSCS Advising questions is oms-advising@cc.gatech.edu.\n",
      "3. When sending emails, include your full name and nine-digit GTID number (90XXXXXXX), replacing the first two digits with “xx”.\n",
      "4. After sending an email, you will receive an automated response with a ticket number confirming that your message has been received.\n",
      "5. You should receive two emails: one with the response from OMSCS Advising and another stating that your ticket has been resolved.\n",
      "6. If you have further questions after receiving a response, create a new ticket by sending a separate email to oms-advising@cc.gatech.edu.\n",
      "7. Do not copy other people/departments on the message – OMSCS Advising will direct you to another department if necessary.\n",
      "8. Please allow 24-48 business hours as a standard response time, and during certain times of the year, such as registration and the end of the term, the response time may increase.\n",
      "9. Do not reply or send messages to the omscs-official@cc.gatech.edu account, as this could result in all"
     ]
    },
    {
     "name": "stderr",
     "output_type": "stream",
     "text": [
      "\n",
      "llama_print_timings:        load time =   48012.75 ms\n",
      "llama_print_timings:      sample time =     250.29 ms /   256 runs   (    0.98 ms per token,  1022.81 tokens per second)\n",
      "llama_print_timings: prompt eval time =   84605.16 ms /   717 tokens (  118.00 ms per token,     8.47 tokens per second)\n",
      "llama_print_timings:        eval time =   68649.11 ms /   255 runs   (  269.21 ms per token,     3.71 tokens per second)\n",
      "llama_print_timings:       total time =  154676.02 ms /   972 tokens\n"
     ]
    },
    {
     "name": "stdout",
     "output_type": "stream",
     "text": [
      "CPU times: total: 10min 23s\n",
      "Wall time: 2min 34s\n"
     ]
    }
   ],
   "source": [
    "%%time\n",
    "response = query_engine.query(\"Is there orientation for OMSCS?\")\n",
    "response.print_response_stream()"
   ]
  },
  {
   "cell_type": "code",
   "execution_count": 24,
   "id": "588e608d",
   "metadata": {},
   "outputs": [
    {
     "name": "stdout",
     "output_type": "stream",
     "text": [
      "CPU times: total: 0 ns\n",
      "Wall time: 0 ns\n"
     ]
    },
    {
     "name": "stderr",
     "output_type": "stream",
     "text": [
      "Llama.generate: prefix-match hit\n"
     ]
    },
    {
     "name": "stdout",
     "output_type": "stream",
     "text": [
      " The grades will be available on May 7 after 6:00pm ET for Spring 2024."
     ]
    },
    {
     "name": "stderr",
     "output_type": "stream",
     "text": [
      "\n",
      "llama_print_timings:        load time =   48012.75 ms\n",
      "llama_print_timings:      sample time =      22.60 ms /    23 runs   (    0.98 ms per token,  1017.61 tokens per second)\n",
      "llama_print_timings: prompt eval time =   33768.46 ms /   314 tokens (  107.54 ms per token,     9.30 tokens per second)\n",
      "llama_print_timings:        eval time =    5645.79 ms /    22 runs   (  256.63 ms per token,     3.90 tokens per second)\n",
      "llama_print_timings:       total time =   39537.27 ms /   336 tokens\n"
     ]
    }
   ],
   "source": [
    "%time\n",
    "response = query_engine.query(\"When will the grades be available for spring 2024?\")\n",
    "response.print_response_stream()"
   ]
  },
  {
   "cell_type": "code",
   "execution_count": 25,
   "id": "3ad24658",
   "metadata": {},
   "outputs": [
    {
     "name": "stderr",
     "output_type": "stream",
     "text": [
      "Llama.generate: prefix-match hit\n"
     ]
    },
    {
     "name": "stdout",
     "output_type": "stream",
     "text": [
      " ECE 4100, ECE 6100, and CS 4290."
     ]
    },
    {
     "name": "stderr",
     "output_type": "stream",
     "text": [
      "\n",
      "llama_print_timings:        load time =   48012.75 ms\n",
      "llama_print_timings:      sample time =      25.77 ms /    19 runs   (    1.36 ms per token,   737.32 tokens per second)\n",
      "llama_print_timings: prompt eval time =  235710.94 ms /  1984 tokens (  118.81 ms per token,     8.42 tokens per second)\n",
      "llama_print_timings:        eval time =    6590.25 ms /    18 runs   (  366.13 ms per token,     2.73 tokens per second)\n",
      "llama_print_timings:       total time =  242454.08 ms /  2002 tokens\n"
     ]
    },
    {
     "name": "stdout",
     "output_type": "stream",
     "text": [
      "CPU times: total: 26min 50s\n",
      "Wall time: 4min 2s\n"
     ]
    }
   ],
   "source": [
    "%%time\n",
    "response = query_engine.query(\"What georgia tech courses are equivalent to the OMSCS course CS 6290?\")\n",
    "response.print_response_stream()"
   ]
  },
  {
   "cell_type": "code",
   "execution_count": 26,
   "id": "a656d0f2",
   "metadata": {},
   "outputs": [
    {
     "name": "stderr",
     "output_type": "stream",
     "text": [
      "Llama.generate: prefix-match hit\n"
     ]
    },
    {
     "name": "stdout",
     "output_type": "stream",
     "text": [
      "7 hours."
     ]
    },
    {
     "name": "stderr",
     "output_type": "stream",
     "text": [
      "\n",
      "llama_print_timings:        load time =   48012.75 ms\n",
      "llama_print_timings:      sample time =       4.25 ms /     4 runs   (    1.06 ms per token,   940.51 tokens per second)\n",
      "llama_print_timings: prompt eval time =  198262.28 ms /  1711 tokens (  115.88 ms per token,     8.63 tokens per second)\n",
      "llama_print_timings:        eval time =     876.52 ms /     3 runs   (  292.17 ms per token,     3.42 tokens per second)\n",
      "llama_print_timings:       total time =  199163.72 ms /  1714 tokens\n"
     ]
    },
    {
     "name": "stdout",
     "output_type": "stream",
     "text": [
      "CPU times: total: 22min 43s\n",
      "Wall time: 3min 19s\n"
     ]
    }
   ],
   "source": [
    "%%time\n",
    "response = query_engine.query(\"During the spring semester what is the maximum number of hours i can enroll for?\")\n",
    "response.print_response_stream()"
   ]
  },
  {
   "cell_type": "code",
   "execution_count": 27,
   "id": "eb87e7a2",
   "metadata": {},
   "outputs": [
    {
     "name": "stderr",
     "output_type": "stream",
     "text": [
      "Llama.generate: prefix-match hit\n"
     ]
    },
    {
     "name": "stdout",
     "output_type": "stream",
     "text": [
      " CS 6144 and CS 8803 Advanced Software Engineering."
     ]
    },
    {
     "name": "stderr",
     "output_type": "stream",
     "text": [
      "\n",
      "llama_print_timings:        load time =   48012.75 ms\n",
      "llama_print_timings:      sample time =      23.78 ms /    14 runs   (    1.70 ms per token,   588.83 tokens per second)\n",
      "llama_print_timings: prompt eval time =  250989.41 ms /  1984 tokens (  126.51 ms per token,     7.90 tokens per second)\n",
      "llama_print_timings:        eval time =    6911.48 ms /    13 runs   (  531.65 ms per token,     1.88 tokens per second)\n",
      "llama_print_timings:       total time =  258081.85 ms /  1997 tokens\n"
     ]
    },
    {
     "name": "stdout",
     "output_type": "stream",
     "text": [
      "CPU times: total: 27min 27s\n",
      "Wall time: 4min 18s\n"
     ]
    }
   ],
   "source": [
    "%%time\n",
    "response = query_engine.query(\"What georgia tech courses are equivalent to the OMSCS course CS 6300?\")\n",
    "response.print_response_stream()"
   ]
  },
  {
   "cell_type": "code",
   "execution_count": 28,
   "id": "ab5383b7",
   "metadata": {},
   "outputs": [
    {
     "name": "stderr",
     "output_type": "stream",
     "text": [
      "Llama.generate: prefix-match hit\n"
     ]
    },
    {
     "name": "stdout",
     "output_type": "stream",
     "text": [
      "12 hours. \n",
      "Note: The maximum number of hours that a student can enroll for is typically determined by their academic program or department. In this case, it is not specified what the maximum enrollment limit is for OMSCS students at Georgia Tech. However, most universities have a general policy that allows undergraduate students to take up to 18 credit hours per semester and graduate students to take up to 12 credit hours per semester. It's always best to check with your academic advisor or department for specific policies regarding maximum enrollment limits."
     ]
    },
    {
     "name": "stderr",
     "output_type": "stream",
     "text": [
      "\n",
      "llama_print_timings:        load time =   48012.75 ms\n",
      "llama_print_timings:      sample time =     136.79 ms /   107 runs   (    1.28 ms per token,   782.22 tokens per second)\n",
      "llama_print_timings: prompt eval time =   38835.73 ms /   259 tokens (  149.94 ms per token,     6.67 tokens per second)\n",
      "llama_print_timings:        eval time =   41129.91 ms /   106 runs   (  388.02 ms per token,     2.58 tokens per second)\n",
      "llama_print_timings:       total time =   80971.61 ms /   365 tokens\n"
     ]
    },
    {
     "name": "stdout",
     "output_type": "stream",
     "text": [
      "CPU times: total: 4min 21s\n",
      "Wall time: 1min 21s\n"
     ]
    }
   ],
   "source": [
    "%%time\n",
    "response = query_engine.query(\"How many hours can I enroll for in Spring?\")\n",
    "response.print_response_stream()"
   ]
  },
  {
   "cell_type": "code",
   "execution_count": 29,
   "id": "6f44a142",
   "metadata": {},
   "outputs": [
    {
     "name": "stderr",
     "output_type": "stream",
     "text": [
      "Llama.generate: prefix-match hit\n"
     ]
    },
    {
     "name": "stdout",
     "output_type": "stream",
     "text": [
      " If you drop a course, this action can only be done during periods of registration. For Spring 2024 registration, the last day to drop a course is Friday, January 12 by 4:00pm ET. If a student drops a course, the course will not be reflected on the student’s transcript. It will appear as if the student never registered for the course, according to the transcript, so it will NOT count as a record of enrollment. If a student withdraws from a course (this is done after Spring 2024 registration has ended and before the semester’s withdrawal deadline), this action will result in a “W” on the student’s transcript. If a student withdraws from a course (or courses) and receives a “W” on the transcript, this counts as a record of enrollment for that specific term. For step-by-step instructions on how to drop/withdraw from a course(s), please visit the Registrar’"
     ]
    },
    {
     "name": "stderr",
     "output_type": "stream",
     "text": [
      "\n",
      "llama_print_timings:        load time =   48012.75 ms\n",
      "llama_print_timings:      sample time =     215.88 ms /   192 runs   (    1.12 ms per token,   889.37 tokens per second)\n",
      "llama_print_timings: prompt eval time =  164541.47 ms /  1291 tokens (  127.45 ms per token,     7.85 tokens per second)\n",
      "llama_print_timings:        eval time =   68650.21 ms /   191 runs   (  359.43 ms per token,     2.78 tokens per second)\n",
      "llama_print_timings:       total time =  234712.93 ms /  1482 tokens\n"
     ]
    },
    {
     "name": "stdout",
     "output_type": "stream",
     "text": [
      "CPU times: total: 18min 30s\n",
      "Wall time: 3min 55s\n"
     ]
    }
   ],
   "source": [
    "%%time\n",
    "response = query_engine.query(\"What happens if i drop before the withdrawal deadline?\")\n",
    "response.print_response_stream()"
   ]
  },
  {
   "cell_type": "code",
   "execution_count": 30,
   "id": "3fe4ac66",
   "metadata": {},
   "outputs": [
    {
     "name": "stderr",
     "output_type": "stream",
     "text": [
      "Llama.generate: prefix-match hit\n"
     ]
    },
    {
     "name": "stdout",
     "output_type": "stream",
     "text": [
      " Registration for Spring 2024 begins on January 4 and ends on January 12 at 4:00pm ET. Please check your time ticket to see the exact day and time you can begin registering. Remember that all times and deadlines are based on the Eastern time zone, and registration is first come, first served, so you will want to register as soon as your time ticket opens."
     ]
    },
    {
     "name": "stderr",
     "output_type": "stream",
     "text": [
      "\n",
      "llama_print_timings:        load time =   48012.75 ms\n",
      "llama_print_timings:      sample time =      76.65 ms /    80 runs   (    0.96 ms per token,  1043.66 tokens per second)\n",
      "llama_print_timings: prompt eval time =  205788.10 ms /  1703 tokens (  120.84 ms per token,     8.28 tokens per second)\n",
      "llama_print_timings:        eval time =   22790.43 ms /    79 runs   (  288.49 ms per token,     3.47 tokens per second)\n",
      "llama_print_timings:       total time =  228986.96 ms /  1782 tokens\n"
     ]
    },
    {
     "name": "stdout",
     "output_type": "stream",
     "text": [
      "CPU times: total: 23min 28s\n",
      "Wall time: 3min 49s\n"
     ]
    }
   ],
   "source": [
    "%%time\n",
    "response = query_engine.query(\"When can i register for spring semester 2024?\")\n",
    "response.print_response_stream()"
   ]
  },
  {
   "cell_type": "code",
   "execution_count": 31,
   "id": "a18f0ede",
   "metadata": {},
   "outputs": [
    {
     "name": "stderr",
     "output_type": "stream",
     "text": [
      "Llama.generate: prefix-match hit\n"
     ]
    },
    {
     "name": "stdout",
     "output_type": "stream",
     "text": [
      "1-2 courses per semester is recommended for new admits to ensure they can focus on their foundational course requirements without overloading themselves with too much coursework at once. It's important to remember that you have one calendar year from the time you matriculate to complete the foundational course requirement, so taking a manageable number of courses each term will help you stay on track and meet this deadline. Additionally, if you are starting out in Spring 2024, you will be restricted to enrolling only in foundational courses until you have satisfied the foundational course requirement. This means that it's best to focus on completing these two courses within your first three consecutive terms after matriculating."
     ]
    },
    {
     "name": "stderr",
     "output_type": "stream",
     "text": [
      "\n",
      "llama_print_timings:        load time =   48012.75 ms\n",
      "llama_print_timings:      sample time =     136.20 ms /   135 runs   (    1.01 ms per token,   991.18 tokens per second)\n",
      "llama_print_timings: prompt eval time =   44952.14 ms /   479 tokens (   93.85 ms per token,    10.66 tokens per second)\n",
      "llama_print_timings:        eval time =   37870.45 ms /   134 runs   (  282.62 ms per token,     3.54 tokens per second)\n",
      "llama_print_timings:       total time =   83572.20 ms /   613 tokens\n"
     ]
    },
    {
     "name": "stdout",
     "output_type": "stream",
     "text": [
      "CPU times: total: 5min 52s\n",
      "Wall time: 1min 23s\n"
     ]
    }
   ],
   "source": [
    "%%time\n",
    "response = query_engine.query(\"How many courses should i take in a semester if i am starting out?\")\n",
    "response.print_response_stream()"
   ]
  },
  {
   "cell_type": "code",
   "execution_count": 32,
   "id": "baa7f2da",
   "metadata": {},
   "outputs": [
    {
     "name": "stderr",
     "output_type": "stream",
     "text": [
      "Llama.generate: prefix-match hit\n"
     ]
    },
    {
     "name": "stdout",
     "output_type": "stream",
     "text": [
      " As an OMSCS student, you can choose from the following areas of specialization:\n",
      "1. Computational Perception and Robotics\n",
      "2. Computing Systems\n",
      "3. Human-Computer Interaction\n",
      "4. Interactive Intelligence\n",
      "5. Machine Learning"
     ]
    },
    {
     "name": "stderr",
     "output_type": "stream",
     "text": [
      "\n",
      "llama_print_timings:        load time =   48012.75 ms\n",
      "llama_print_timings:      sample time =      46.19 ms /    46 runs   (    1.00 ms per token,   995.95 tokens per second)\n",
      "llama_print_timings: prompt eval time =   54782.16 ms /   562 tokens (   97.48 ms per token,    10.26 tokens per second)\n",
      "llama_print_timings:        eval time =   12392.93 ms /    45 runs   (  275.40 ms per token,     3.63 tokens per second)\n",
      "llama_print_timings:       total time =   67428.73 ms /   607 tokens\n"
     ]
    },
    {
     "name": "stdout",
     "output_type": "stream",
     "text": [
      "CPU times: total: 6min 21s\n",
      "Wall time: 1min 7s\n"
     ]
    }
   ],
   "source": [
    "%%time\n",
    "response = query_engine.query(\"Can you tell me what degree specializations can i pick as an OMSCS student?\")\n",
    "response.print_response_stream()"
   ]
  },
  {
   "cell_type": "code",
   "execution_count": 33,
   "id": "2db0246b",
   "metadata": {},
   "outputs": [
    {
     "name": "stderr",
     "output_type": "stream",
     "text": [
      "Llama.generate: prefix-match hit\n"
     ]
    },
    {
     "name": "stdout",
     "output_type": "stream",
     "text": [
      "1. Stay organized and manage your time effectively.\n",
      "2. Actively participate in class discussions and engage with course materials.\n",
      "3. Utilize resources such as the OMSCS Advising team for support and guidance.\n",
      "4. Connect with other students through online communities or social media groups.\n",
      "5. Set realistic goals and milestones to track your progress throughout the program.\n",
      "6. Take advantage of opportunities for networking, professional development, and career advancement.\n",
      "7. Stay motivated and maintain a positive attitude throughout the program.\n",
      "8. Seek help when needed from instructors, advisors, or peers.\n",
      "9. Continuously learn and adapt to new technologies and industry trends.\n",
      "10. Celebrate your achievements along the way and enjoy the learning journey!"
     ]
    },
    {
     "name": "stderr",
     "output_type": "stream",
     "text": [
      "\n",
      "llama_print_timings:        load time =   48012.75 ms\n",
      "llama_print_timings:      sample time =     147.40 ms /   145 runs   (    1.02 ms per token,   983.72 tokens per second)\n",
      "llama_print_timings: prompt eval time =   76265.57 ms /   723 tokens (  105.48 ms per token,     9.48 tokens per second)\n",
      "llama_print_timings:        eval time =   41608.78 ms /   144 runs   (  288.95 ms per token,     3.46 tokens per second)\n",
      "llama_print_timings:       total time =  118950.00 ms /   867 tokens\n"
     ]
    },
    {
     "name": "stdout",
     "output_type": "stream",
     "text": [
      "CPU times: total: 9min 27s\n",
      "Wall time: 1min 59s\n"
     ]
    }
   ],
   "source": [
    "%%time\n",
    "response = query_engine.query(\"What advice can you give me to best succeed in OMSCS?\")\n",
    "response.print_response_stream()"
   ]
  },
  {
   "cell_type": "code",
   "execution_count": 34,
   "id": "f19c6e8f",
   "metadata": {},
   "outputs": [
    {
     "name": "stderr",
     "output_type": "stream",
     "text": [
      "Llama.generate: prefix-match hit\n"
     ]
    },
    {
     "name": "stdout",
     "output_type": "stream",
     "text": [
      " If you do not pay your tuition/fees in full by the fee payment deadline, you will be subject to class cancellation and holds. If your schedule is canceled, you will be notified by email. Appeals can be submitted by visiting the Bursar’s website . If you are reinstated into classes, a reinstatement fee of $200.00 will apply, and the account balance must be paid immediately to avoid re-cancellation. Please note: Reinstatement does not guarantee that faculty will allow students to make up any work missed. It is the student’s responsibility to confirm ahead of being reinstated what accommodations, if any, will be permitted during the time frame in which the student was not enrolled due to non-payment. If you withdraw from a course, you will receive a “W”. A “W” is visible on your transcript, but it has no impact on your GPA. If you retake a course from which you previously have withdrawn, the “W” from your first attempt and the new grade will appear on your transcript. Therefore, if you do not pay for the semester, you may receive a W in your transcript depending on whether or not you withdraw from the course(s)."
     ]
    },
    {
     "name": "stderr",
     "output_type": "stream",
     "text": [
      "\n",
      "llama_print_timings:        load time =   48012.75 ms\n",
      "llama_print_timings:      sample time =     257.36 ms /   244 runs   (    1.05 ms per token,   948.10 tokens per second)\n",
      "llama_print_timings: prompt eval time =  142378.55 ms /  1301 tokens (  109.44 ms per token,     9.14 tokens per second)\n",
      "llama_print_timings:        eval time =   73336.63 ms /   243 runs   (  301.80 ms per token,     3.31 tokens per second)\n",
      "llama_print_timings:       total time =  217235.33 ms /  1544 tokens\n"
     ]
    },
    {
     "name": "stdout",
     "output_type": "stream",
     "text": [
      "CPU times: total: 17min 42s\n",
      "Wall time: 3min 37s\n"
     ]
    }
   ],
   "source": [
    "%%time\n",
    "response = query_engine.query(\"What happens if I did not pay for the semester, will i get a W in my transcript?\")\n",
    "response.print_response_stream()"
   ]
  },
  {
   "cell_type": "code",
   "execution_count": 35,
   "id": "49a75f99",
   "metadata": {},
   "outputs": [
    {
     "name": "stderr",
     "output_type": "stream",
     "text": [
      "Llama.generate: prefix-match hit\n"
     ]
    },
    {
     "name": "stdout",
     "output_type": "stream",
     "text": [
      " The document is based on Eastern Time (ET)."
     ]
    },
    {
     "name": "stderr",
     "output_type": "stream",
     "text": [
      "\n",
      "llama_print_timings:        load time =   48012.75 ms\n",
      "llama_print_timings:      sample time =      11.45 ms /    11 runs   (    1.04 ms per token,   960.78 tokens per second)\n",
      "llama_print_timings: prompt eval time =   28151.62 ms /   255 tokens (  110.40 ms per token,     9.06 tokens per second)\n",
      "llama_print_timings:        eval time =    2850.83 ms /    10 runs   (  285.08 ms per token,     3.51 tokens per second)\n",
      "llama_print_timings:       total time =   31098.13 ms /   265 tokens\n"
     ]
    },
    {
     "name": "stdout",
     "output_type": "stream",
     "text": [
      "CPU times: total: 3min 5s\n",
      "Wall time: 31.2 s\n"
     ]
    }
   ],
   "source": [
    "%%time\n",
    "response = query_engine.query(\"What time zone is this document based on?\")\n",
    "response.print_response_stream()"
   ]
  },
  {
   "cell_type": "code",
   "execution_count": 36,
   "id": "fbfb2a35",
   "metadata": {},
   "outputs": [
    {
     "name": "stderr",
     "output_type": "stream",
     "text": [
      "Llama.generate: prefix-match hit\n"
     ]
    },
    {
     "name": "stdout",
     "output_type": "stream",
     "text": [
      "0 and 1 refer to the grading scale used by Georgia Tech for their online Master of Science in Computer Science (OMSCS) program. In this grading system, a grade of \"0\" represents a failing grade, while a grade of \"1\" represents a passing grade. This grading system is unique to OMSCS and may differ from other programs or institutions that use different grading scales. It's important for students to understand the grading scale used in their program as it can impact their academic progress and overall performance."
     ]
    },
    {
     "name": "stderr",
     "output_type": "stream",
     "text": [
      "\n",
      "llama_print_timings:        load time =   48012.75 ms\n",
      "llama_print_timings:      sample time =     110.80 ms /   106 runs   (    1.05 ms per token,   956.65 tokens per second)\n",
      "llama_print_timings: prompt eval time =  150256.14 ms /  1291 tokens (  116.39 ms per token,     8.59 tokens per second)\n",
      "llama_print_timings:        eval time =   34262.15 ms /   105 runs   (  326.31 ms per token,     3.06 tokens per second)\n",
      "llama_print_timings:       total time =  185178.96 ms /  1396 tokens\n"
     ]
    },
    {
     "name": "stdout",
     "output_type": "stream",
     "text": [
      "CPU times: total: 17min 14s\n",
      "Wall time: 3min 5s\n"
     ]
    }
   ],
   "source": [
    "%%time\n",
    "response = query_engine.query(\"What does O and 1 mean in courses?\")\n",
    "response.print_response_stream()"
   ]
  },
  {
   "cell_type": "code",
   "execution_count": 37,
   "id": "5ee94e29",
   "metadata": {},
   "outputs": [
    {
     "name": "stderr",
     "output_type": "stream",
     "text": [
      "Llama.generate: prefix-match hit\n"
     ]
    },
    {
     "name": "stdout",
     "output_type": "stream",
     "text": [
      " If you do not pay your tuition/fees in full by the fee payment deadline, you will be subject to class cancellation and holds. If your schedule is canceled, you will be notified by email. Appeals can be submitted by visiting the Bursar’s website . If you are reinstated into classes, a reinstatement fee of $200.00 will apply, and the account balance must be paid immediately to avoid re-cancellation. Please note: Reinstatement does not guarantee that faculty will allow students to make up any work missed. It is the student’s responsibility to confirm ahead of being reinstated what accommodations, if any, will be permitted during the time frame in which the student was not enrolled due to non-payment."
     ]
    },
    {
     "name": "stderr",
     "output_type": "stream",
     "text": [
      "\n",
      "llama_print_timings:        load time =   48012.75 ms\n",
      "llama_print_timings:      sample time =     160.29 ms /   148 runs   (    1.08 ms per token,   923.31 tokens per second)\n",
      "llama_print_timings: prompt eval time =    2140.54 ms /    10 tokens (  214.05 ms per token,     4.67 tokens per second)\n",
      "llama_print_timings:        eval time =   52589.60 ms /   147 runs   (  357.75 ms per token,     2.80 tokens per second)\n",
      "llama_print_timings:       total time =   55726.54 ms /   157 tokens\n"
     ]
    },
    {
     "name": "stdout",
     "output_type": "stream",
     "text": [
      "CPU times: total: 55.7 s\n",
      "Wall time: 55.9 s\n"
     ]
    }
   ],
   "source": [
    "%%time\n",
    "response = query_engine.query(\"Why is my class cancelled?\")\n",
    "response.print_response_stream()"
   ]
  },
  {
   "cell_type": "code",
   "execution_count": 38,
   "id": "2f90eec9",
   "metadata": {},
   "outputs": [
    {
     "name": "stderr",
     "output_type": "stream",
     "text": [
      "Llama.generate: prefix-match hit\n"
     ]
    },
    {
     "name": "stdout",
     "output_type": "stream",
     "text": [
      "1. You can connect with other students through social media platforms such as Facebook (OMSCS Official), Twitter (OMSCS Official), OMSCS reddit, and OMSCS MeWe. These platforms are not official OMSCS pages but are monitored by OMSCS employees periodically. They are run by students for students and provide a great way to connect with classmates from around the world. 2. Engage in discussions on these platforms, share your experiences, ask questions, and offer help when needed. This will help you build relationships with other students and create a supportive learning community."
     ]
    },
    {
     "name": "stderr",
     "output_type": "stream",
     "text": [
      "\n",
      "llama_print_timings:        load time =   48012.75 ms\n",
      "llama_print_timings:      sample time =     119.96 ms /   121 runs   (    0.99 ms per token,  1008.69 tokens per second)\n",
      "llama_print_timings: prompt eval time =   19781.58 ms /   173 tokens (  114.34 ms per token,     8.75 tokens per second)\n",
      "llama_print_timings:        eval time =   34679.69 ms /   120 runs   (  289.00 ms per token,     3.46 tokens per second)\n",
      "llama_print_timings:       total time =   55275.96 ms /   293 tokens\n"
     ]
    },
    {
     "name": "stdout",
     "output_type": "stream",
     "text": [
      "CPU times: total: 2min 38s\n",
      "Wall time: 55.4 s\n"
     ]
    }
   ],
   "source": [
    "%%time\n",
    "response = query_engine.query(\"How can I connect with other students?\")\n",
    "response.print_response_stream()"
   ]
  },
  {
   "cell_type": "code",
   "execution_count": 39,
   "id": "d6f107a8",
   "metadata": {},
   "outputs": [
    {
     "name": "stderr",
     "output_type": "stream",
     "text": [
      "Llama.generate: prefix-match hit\n"
     ]
    },
    {
     "name": "stdout",
     "output_type": "stream",
     "text": [
      " Based on the provided context information, there is no mention of taking classes after graduating from the OMSCS program. The information focuses on the degree requirements for students currently enrolled in the program. Therefore, it is not possible to determine if you can take classes after graduating based solely on this context information. It would be best to refer to Georgia Tech's official policies or contact their admissions office for more detailed information regarding post-graduation course enrollment."
     ]
    },
    {
     "name": "stderr",
     "output_type": "stream",
     "text": [
      "\n",
      "llama_print_timings:        load time =   48012.75 ms\n",
      "llama_print_timings:      sample time =      99.68 ms /    90 runs   (    1.11 ms per token,   902.92 tokens per second)\n",
      "llama_print_timings: prompt eval time =   69044.60 ms /   559 tokens (  123.51 ms per token,     8.10 tokens per second)\n",
      "llama_print_timings:        eval time =   29117.93 ms /    89 runs   (  327.17 ms per token,     3.06 tokens per second)\n",
      "llama_print_timings:       total time =   98799.04 ms /   648 tokens\n"
     ]
    },
    {
     "name": "stdout",
     "output_type": "stream",
     "text": [
      "CPU times: total: 7min 35s\n",
      "Wall time: 1min 38s\n"
     ]
    }
   ],
   "source": [
    "%%time\n",
    "response = query_engine.query(\"Can I take classes after I have graduated from the OMSCS program?\")\n",
    "response.print_response_stream()"
   ]
  },
  {
   "cell_type": "code",
   "execution_count": 40,
   "id": "cdaaf994",
   "metadata": {},
   "outputs": [
    {
     "name": "stderr",
     "output_type": "stream",
     "text": [
      "Llama.generate: prefix-match hit\n"
     ]
    },
    {
     "name": "stdout",
     "output_type": "stream",
     "text": [
      "1. Yes, you should check if there are any holds on your account that might prevent registration for the Fall semester.\n",
      "2. If you have a hold on your account, you must clear it before registering for classes. Contact the department who placed the hold as they can remove it.\n",
      "3. Ensure all required official transcripts and documents are submitted to avoid future holds.\n",
      "4. As a distance learner, you do not need to complete immunization requirements.\n",
      "5. Clear any Financial Agreement holds in OSCAR by selecting \"Financial Responsibility Agreement\" on the Registration menu, reading the agreement, entering your initials, and clicking \"Submit\".\n",
      "6. Clear any Registrar Location holds several days prior to your active time ticket in OSCAR by selecting \"Term Study Location Identification\", choosing your location from the pull-down menu, and then clicking \"Submit\"."
     ]
    },
    {
     "name": "stderr",
     "output_type": "stream",
     "text": [
      "\n",
      "llama_print_timings:        load time =   48012.75 ms\n",
      "llama_print_timings:      sample time =     181.10 ms /   167 runs   (    1.08 ms per token,   922.16 tokens per second)\n",
      "llama_print_timings: prompt eval time =   98283.02 ms /   650 tokens (  151.20 ms per token,     6.61 tokens per second)\n",
      "llama_print_timings:        eval time =   55335.81 ms /   166 runs   (  333.35 ms per token,     3.00 tokens per second)\n",
      "llama_print_timings:       total time =  154818.21 ms /   816 tokens\n"
     ]
    },
    {
     "name": "stdout",
     "output_type": "stream",
     "text": [
      "CPU times: total: 10min 7s\n",
      "Wall time: 2min 34s\n"
     ]
    }
   ],
   "source": [
    "%%time\n",
    "response = query_engine.query(\"I am skipping the summer semester, do i need to do any administrative action to enroll for fall semester?\")\n",
    "response.print_response_stream()"
   ]
  },
  {
   "cell_type": "code",
   "execution_count": 41,
   "id": "bdc20bc8",
   "metadata": {},
   "outputs": [
    {
     "name": "stderr",
     "output_type": "stream",
     "text": [
      "Llama.generate: prefix-match hit\n"
     ]
    },
    {
     "name": "stdout",
     "output_type": "stream",
     "text": [
      " No, you will not receive a \"W\" on your transcript if you do not pay for the course. If you do not pay your tuition/fees in full by the fee payment deadline, you will be subject to class cancellation and holds. If your schedule is canceled, you will be notified by email. Appeals can be submitted by visiting the Bursar’s website. If you are reinstated into classes, a reinstatement fee of $200.00 will apply, and the account balance must be paid immediately to avoid re-cancellation. Please note: Reinstatement does not guarantee that faculty will allow students to make up any work missed. It is the student's responsibility to confirm ahead of being reinstated what accommodations, if any, will be permitted during the time frame in which the student was not enrolled due to non-payment."
     ]
    },
    {
     "name": "stderr",
     "output_type": "stream",
     "text": [
      "\n",
      "llama_print_timings:        load time =   48012.75 ms\n",
      "llama_print_timings:      sample time =     178.12 ms /   170 runs   (    1.05 ms per token,   954.44 tokens per second)\n",
      "llama_print_timings: prompt eval time =  172385.00 ms /  1297 tokens (  132.91 ms per token,     7.52 tokens per second)\n",
      "llama_print_timings:        eval time =   50388.85 ms /   169 runs   (  298.16 ms per token,     3.35 tokens per second)\n",
      "llama_print_timings:       total time =  223736.41 ms /  1466 tokens\n"
     ]
    },
    {
     "name": "stdout",
     "output_type": "stream",
     "text": [
      "CPU times: total: 18min 21s\n",
      "Wall time: 3min 43s\n"
     ]
    }
   ],
   "source": [
    "%%time\n",
    "response = query_engine.query(\"Do I get W on my transcript if I do not pay for the course?\")\n",
    "response.print_response_stream()"
   ]
  },
  {
   "cell_type": "code",
   "execution_count": 42,
   "id": "db53901c",
   "metadata": {},
   "outputs": [
    {
     "name": "stderr",
     "output_type": "stream",
     "text": [
      "Llama.generate: prefix-match hit\n"
     ]
    },
    {
     "name": "stdout",
     "output_type": "stream",
     "text": [
      " Based on the provided context information, there is no mention of OMSCS students being able to obtain a BuzzCard. It is recommended to reach out to the official OMSCS channels or contact their support team for more detailed information regarding this matter."
     ]
    },
    {
     "name": "stderr",
     "output_type": "stream",
     "text": [
      "\n",
      "llama_print_timings:        load time =   48012.75 ms\n",
      "llama_print_timings:      sample time =      38.94 ms /    51 runs   (    0.76 ms per token,  1309.64 tokens per second)\n",
      "llama_print_timings: prompt eval time =   22050.40 ms /   175 tokens (  126.00 ms per token,     7.94 tokens per second)\n",
      "llama_print_timings:        eval time =   16120.04 ms /    50 runs   (  322.40 ms per token,     3.10 tokens per second)\n",
      "llama_print_timings:       total time =   38969.81 ms /   225 tokens\n"
     ]
    },
    {
     "name": "stdout",
     "output_type": "stream",
     "text": [
      "CPU times: total: 1min 46s\n",
      "Wall time: 40.2 s\n"
     ]
    }
   ],
   "source": [
    "%%time\n",
    "response = query_engine.query(\"Can OMSCS students get a buzzcard?\")\n",
    "response.print_response_stream()"
   ]
  },
  {
   "cell_type": "code",
   "execution_count": 43,
   "id": "4a10eea2",
   "metadata": {},
   "outputs": [
    {
     "name": "stderr",
     "output_type": "stream",
     "text": [
      "Llama.generate: prefix-match hit\n"
     ]
    },
    {
     "name": "stdout",
     "output_type": "stream",
     "text": [
      " Yes, you are eligible to get a BuzzCard as an OMSCS student. You can obtain your BuzzCard by visiting the BuzzCard office in person or by mail-in order form. For more information on how to obtain a BuzzCard, please visit the following webpage: <https://www.cc.gatech.edu/buzzcard>. Additionally, you may contact the BuzzCard office at buzzcard@cc.gatech.edu for further assistance. Remember to provide your GT ID number when requesting a BuzzCard."
     ]
    },
    {
     "name": "stderr",
     "output_type": "stream",
     "text": [
      "\n",
      "llama_print_timings:        load time =   48012.75 ms\n",
      "llama_print_timings:      sample time =      85.52 ms /   104 runs   (    0.82 ms per token,  1216.10 tokens per second)\n",
      "llama_print_timings: prompt eval time =   59794.28 ms /   725 tokens (   82.47 ms per token,    12.12 tokens per second)\n",
      "llama_print_timings:        eval time =   26521.91 ms /   103 runs   (  257.49 ms per token,     3.88 tokens per second)\n",
      "llama_print_timings:       total time =   87262.78 ms /   828 tokens\n"
     ]
    },
    {
     "name": "stdout",
     "output_type": "stream",
     "text": [
      "CPU times: total: 7min 27s\n",
      "Wall time: 1min 28s\n"
     ]
    }
   ],
   "source": [
    "%%time\n",
    "response = query_engine.query(\"Am i eligible to get buzzcard if i am an OMSCS student?\")\n",
    "response.print_response_stream()"
   ]
  },
  {
   "cell_type": "code",
   "execution_count": 45,
   "id": "2b692719",
   "metadata": {},
   "outputs": [
    {
     "name": "stderr",
     "output_type": "stream",
     "text": [
      "Llama.generate: prefix-match hit\n"
     ]
    },
    {
     "name": "stdout",
     "output_type": "stream",
     "text": [
      "24-48 business hours as a standard response time. During certain times of the year, such as registration and the end of the term, the response time may increase. We greatly appreciate your patience and understanding."
     ]
    },
    {
     "name": "stderr",
     "output_type": "stream",
     "text": [
      "\n",
      "llama_print_timings:        load time =   48012.75 ms\n",
      "llama_print_timings:      sample time =      33.68 ms /    43 runs   (    0.78 ms per token,  1276.61 tokens per second)\n",
      "llama_print_timings: prompt eval time =   72650.54 ms /   722 tokens (  100.62 ms per token,     9.94 tokens per second)\n",
      "llama_print_timings:        eval time =   11525.24 ms /    42 runs   (  274.41 ms per token,     3.64 tokens per second)\n",
      "llama_print_timings:       total time =   84550.13 ms /   764 tokens\n"
     ]
    },
    {
     "name": "stdout",
     "output_type": "stream",
     "text": [
      "CPU times: total: 7min 28s\n",
      "Wall time: 1min 24s\n"
     ]
    }
   ],
   "source": [
    "%%time\n",
    "response = query_engine.query(\"How long do I have to wait for Advising to reply?\")\n",
    "response.print_response_stream()"
   ]
  },
  {
   "cell_type": "code",
   "execution_count": 46,
   "id": "70fca210",
   "metadata": {},
   "outputs": [
    {
     "name": "stderr",
     "output_type": "stream",
     "text": [
      "Llama.generate: prefix-match hit\n"
     ]
    },
    {
     "name": "stdout",
     "output_type": "stream",
     "text": [
      " CS7641 is an introductory course to Artificial Intelligence (AI) that covers topics such as search algorithms, game playing, machine learning, and expert systems. It is not explicitly mentioned if it is recommended as the first course for the OMSCS program. However, since it is an introductory course in AI, it could be a good starting point for students who have little to no background in computer science or AI. It would depend on the student's prior knowledge and experience in these areas. If you are new to CS/AI, then CS7641 might be a suitable first course. However, if you already have some background in CS/AI, it may not be the best starting point as there might be more advanced courses that could better suit your needs. It is always recommended to consult with an academic advisor or review the OMSCS curriculum to determine the most appropriate sequence of courses for your individual situation."
     ]
    },
    {
     "name": "stderr",
     "output_type": "stream",
     "text": [
      "\n",
      "llama_print_timings:        load time =   48012.75 ms\n",
      "llama_print_timings:      sample time =     148.07 ms /   184 runs   (    0.80 ms per token,  1242.69 tokens per second)\n",
      "llama_print_timings: prompt eval time =   62760.12 ms /   561 tokens (  111.87 ms per token,     8.94 tokens per second)\n",
      "llama_print_timings:        eval time =   51502.97 ms /   183 runs   (  281.44 ms per token,     3.55 tokens per second)\n",
      "llama_print_timings:       total time =  116887.07 ms /   744 tokens\n"
     ]
    },
    {
     "name": "stdout",
     "output_type": "stream",
     "text": [
      "CPU times: total: 7min 25s\n",
      "Wall time: 1min 57s\n"
     ]
    }
   ],
   "source": [
    "%%time\n",
    "response = query_engine.query(\"Would you advise on doing cs7641 as a first course in OMSCS?\")\n",
    "response.print_response_stream()"
   ]
  },
  {
   "cell_type": "code",
   "execution_count": 48,
   "id": "ce3b9e35",
   "metadata": {},
   "outputs": [
    {
     "name": "stderr",
     "output_type": "stream",
     "text": [
      "Llama.generate: prefix-match hit\n"
     ]
    },
    {
     "name": "stdout",
     "output_type": "stream",
     "text": [
      "6 hours may be taken at the 4000-level and/or with a subject code other than CS or CSE. Therefore, you can take up to six ISYE courses while still fulfilling the degree requirements for OMSCS."
     ]
    },
    {
     "name": "stderr",
     "output_type": "stream",
     "text": [
      "\n",
      "llama_print_timings:        load time =   48012.75 ms\n",
      "llama_print_timings:      sample time =      35.14 ms /    47 runs   (    0.75 ms per token,  1337.55 tokens per second)\n",
      "llama_print_timings: prompt eval time =    2125.11 ms /    25 tokens (   85.00 ms per token,    11.76 tokens per second)\n",
      "llama_print_timings:        eval time =   12232.70 ms /    46 runs   (  265.93 ms per token,     3.76 tokens per second)\n",
      "llama_print_timings:       total time =   14562.41 ms /    71 tokens\n"
     ]
    },
    {
     "name": "stdout",
     "output_type": "stream",
     "text": [
      "CPU times: total: 30.8 s\n",
      "Wall time: 14.7 s\n"
     ]
    }
   ],
   "source": [
    "%%time\n",
    "response = query_engine.query(\"How many ISYEs courses are we allowed to take if we’re still taking the appropriate amount of CSEs? \")\n",
    "response.print_response_stream()"
   ]
  },
  {
   "cell_type": "code",
   "execution_count": 49,
   "id": "06c6987f",
   "metadata": {},
   "outputs": [
    {
     "name": "stderr",
     "output_type": "stream",
     "text": [
      "Llama.generate: prefix-match hit\n"
     ]
    },
    {
     "name": "stdout",
     "output_type": "stream",
     "text": [
      "3 credit hours per course."
     ]
    },
    {
     "name": "stderr",
     "output_type": "stream",
     "text": [
      "\n",
      "llama_print_timings:        load time =   48012.75 ms\n",
      "llama_print_timings:      sample time =       4.91 ms /     7 runs   (    0.70 ms per token,  1426.82 tokens per second)\n",
      "llama_print_timings: prompt eval time =    1574.55 ms /    15 tokens (  104.97 ms per token,     9.53 tokens per second)\n",
      "llama_print_timings:        eval time =    1497.08 ms /     6 runs   (  249.51 ms per token,     4.01 tokens per second)\n",
      "llama_print_timings:       total time =    3119.02 ms /    21 tokens\n"
     ]
    },
    {
     "name": "stdout",
     "output_type": "stream",
     "text": [
      "CPU times: total: 12.9 s\n",
      "Wall time: 3.22 s\n"
     ]
    }
   ],
   "source": [
    "%%time\n",
    "response = query_engine.query(\"How many course hours does one full course in OMSCS have\")\n",
    "response.print_response_stream()"
   ]
  },
  {
   "cell_type": "code",
   "execution_count": 50,
   "id": "587d476f",
   "metadata": {},
   "outputs": [
    {
     "name": "stderr",
     "output_type": "stream",
     "text": [
      "Llama.generate: prefix-match hit\n"
     ]
    },
    {
     "name": "stdout",
     "output_type": "stream",
     "text": [
      "1. Yes, it is possible to take 3 classes in the first semester.\n",
      "2. However, it is important to note that you must ensure you meet the foundational course requirement within the one-year time frame as outlined in Section B of the context information provided."
     ]
    },
    {
     "name": "stderr",
     "output_type": "stream",
     "text": [
      "\n",
      "llama_print_timings:        load time =   48012.75 ms\n",
      "llama_print_timings:      sample time =      39.59 ms /    54 runs   (    0.73 ms per token,  1364.12 tokens per second)\n",
      "llama_print_timings: prompt eval time =   34682.04 ms /   477 tokens (   72.71 ms per token,    13.75 tokens per second)\n",
      "llama_print_timings:        eval time =   13718.00 ms /    53 runs   (  258.83 ms per token,     3.86 tokens per second)\n",
      "llama_print_timings:       total time =   48865.20 ms /   530 tokens\n"
     ]
    },
    {
     "name": "stdout",
     "output_type": "stream",
     "text": [
      "CPU times: total: 4min 22s\n",
      "Wall time: 49 s\n"
     ]
    }
   ],
   "source": [
    "%%time\n",
    "response = query_engine.query(\"Is it possible to take 3 classes in the first semester?\")\n",
    "response.print_response_stream()"
   ]
  }
 ],
 "metadata": {
  "colab": {
   "provenance": []
  },
  "kernelspec": {
   "display_name": "Python 3 (ipykernel)",
   "language": "python",
   "name": "python3"
  },
  "language_info": {
   "codemirror_mode": {
    "name": "ipython",
    "version": 3
   },
   "file_extension": ".py",
   "mimetype": "text/x-python",
   "name": "python",
   "nbconvert_exporter": "python",
   "pygments_lexer": "ipython3",
   "version": "3.10.14"
  }
 },
 "nbformat": 4,
 "nbformat_minor": 5
}
